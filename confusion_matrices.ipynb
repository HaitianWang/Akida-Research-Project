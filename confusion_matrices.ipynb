{
  "cells": [
    {
      "cell_type": "markdown",
      "metadata": {
        "id": "SKc02-Uouq9e"
      },
      "source": [
        "Run with: sudo docker run --gpus all -it --rm -v $(pwd):/tf/notebooks -p 8888:8888 tensorflow/tensorflow:2.12.0-gpu-jupyter"
      ]
    },
    {
      "cell_type": "code",
      "execution_count": 1,
      "metadata": {
        "id": "cs5vpdauct_-"
      },
      "outputs": [
        {
          "name": "stdout",
          "output_type": "stream",
          "text": [
            " Akida version:  AkidaVersion.v1\n"
          ]
        }
      ],
      "source": [
        "# GB: Adding compatibility check\n",
        "import cnn2snn\n",
        "import akida as ak\n",
        "import os\n",
        "\n",
        "# Change Akida version\n",
        "os.environ[\"CNN2SNN_TARGET_AKIDA_VERSION\"] = \"v1\"\n",
        "\n",
        "# Double-check Avida version\n",
        "print(' Akida version: ', cnn2snn.get_akida_version())\n",
        "\n",
        "# # And HW compatibility?\n",
        "# myDevice = ak.devices()[0]\n",
        "# print(\"Device: \", myDevice.desc)\n",
        "# x = cnn2snn.check_model_compatibility(model=model_keras, device=myDevice)\n",
        "# print(\"Non compatibilities: \", x)"
      ]
    },
    {
      "cell_type": "code",
      "execution_count": 2,
      "metadata": {
        "_cell_guid": "b1076dfc-b9ad-4769-8c92-a6c4dae69d19",
        "_uuid": "8f2839f25d086af736a60e9eeb907d3b93b6e0e5",
        "execution": {
          "iopub.execute_input": "2024-07-14T11:11:26.998277Z",
          "iopub.status.busy": "2024-07-14T11:11:26.997934Z",
          "iopub.status.idle": "2024-07-14T11:11:40.284863Z",
          "shell.execute_reply": "2024-07-14T11:11:40.283826Z",
          "shell.execute_reply.started": "2024-07-14T11:11:26.998249Z"
        },
        "id": "pgCU3bPmwnMX",
        "trusted": true
      },
      "outputs": [],
      "source": [
        "import pandas as pd\n",
        "import numpy as np\n",
        "import tensorflow as tf\n",
        "import os\n",
        "from glob import glob\n",
        "from PIL import Image\n",
        "import shutil\n",
        "from tqdm import tqdm\n",
        "import itertools\n",
        "import matplotlib.pyplot as plt\n",
        "import warnings\n",
        "\n",
        "from IPython.display import clear_output\n",
        "\n",
        "from sklearn.preprocessing import LabelEncoder\n",
        "from sklearn.model_selection import train_test_split\n",
        "from sklearn.metrics import accuracy_score, confusion_matrix, classification_report\n",
        "\n",
        "from keras.utils import to_categorical\n",
        "from tensorflow.keras.models import Sequential, Model\n",
        "from tensorflow.keras.layers import Dense, Dropout, Flatten, BatchNormalization, Conv2D, MaxPooling2D\n",
        "from tensorflow.keras.optimizers import Adam\n",
        "from tensorflow.keras.callbacks import EarlyStopping, ReduceLROnPlateau\n",
        "from tensorflow.keras.utils import plot_model\n",
        "\n",
        "\n",
        "seed = (4,2)"
      ]
    },
    {
      "cell_type": "code",
      "execution_count": 3,
      "metadata": {},
      "outputs": [
        {
          "data": {
            "text/plain": [
              "'c:\\\\Users\\\\Joo_Kai\\\\Documents\\\\GitHub\\\\GENG5551-Akida-Chip'"
            ]
          },
          "execution_count": 3,
          "metadata": {},
          "output_type": "execute_result"
        }
      ],
      "source": [
        "# os.chdir('notebooks/Documents/GitHub/GENG5551-Akida-Chip')\n",
        "os.getcwd()"
      ]
    },
    {
      "cell_type": "code",
      "execution_count": 4,
      "metadata": {
        "execution": {
          "iopub.execute_input": "2024-07-14T11:12:11.369428Z",
          "iopub.status.busy": "2024-07-14T11:12:11.368608Z",
          "iopub.status.idle": "2024-07-14T11:12:11.396462Z",
          "shell.execute_reply": "2024-07-14T11:12:11.395611Z",
          "shell.execute_reply.started": "2024-07-14T11:12:11.369397Z"
        },
        "id": "4BD1p4ziwnMZ",
        "trusted": true
      },
      "outputs": [],
      "source": [
        "df = pd.read_csv('archive/HAM10000_metadata.csv')\n",
        "\n",
        "size = (64, 64)"
      ]
    },
    {
      "cell_type": "code",
      "execution_count": 5,
      "metadata": {
        "execution": {
          "iopub.execute_input": "2024-07-14T11:12:16.333902Z",
          "iopub.status.busy": "2024-07-14T11:12:16.333506Z",
          "iopub.status.idle": "2024-07-14T11:12:19.476161Z",
          "shell.execute_reply": "2024-07-14T11:12:19.475074Z",
          "shell.execute_reply.started": "2024-07-14T11:12:16.333875Z"
        },
        "id": "j4WxlNlgwnMZ",
        "trusted": true
      },
      "outputs": [],
      "source": [
        "base_dir = './archive'\n",
        "imageid_path_dict = {os.path.splitext(os.path.basename(x))[0]: x for x in glob(os.path.join(base_dir, '*', '*.jpg'))}"
      ]
    },
    {
      "cell_type": "code",
      "execution_count": 6,
      "metadata": {
        "execution": {
          "iopub.execute_input": "2024-07-14T11:13:52.431541Z",
          "iopub.status.busy": "2024-07-14T11:13:52.431152Z",
          "iopub.status.idle": "2024-07-14T11:16:49.279922Z",
          "shell.execute_reply": "2024-07-14T11:16:49.279044Z",
          "shell.execute_reply.started": "2024-07-14T11:13:52.431511Z"
        },
        "id": "u69ETG9YwnMZ",
        "trusted": true
      },
      "outputs": [],
      "source": [
        "df['path'] = df['image_id'].map(imageid_path_dict.get)\n",
        "df['image'] = df['path'].map(lambda x: np.asarray(Image.open(x).resize(size)))"
      ]
    },
    {
      "cell_type": "code",
      "execution_count": 7,
      "metadata": {
        "execution": {
          "iopub.execute_input": "2024-07-14T11:16:58.066731Z",
          "iopub.status.busy": "2024-07-14T11:16:58.066105Z",
          "iopub.status.idle": "2024-07-14T11:16:58.072803Z",
          "shell.execute_reply": "2024-07-14T11:16:58.071563Z",
          "shell.execute_reply.started": "2024-07-14T11:16:58.0667Z"
        },
        "id": "Pp4_aBAlwnMa",
        "trusted": true
      },
      "outputs": [],
      "source": [
        "df = df[['dx', 'image']]"
      ]
    },
    {
      "cell_type": "code",
      "execution_count": 8,
      "metadata": {
        "colab": {
          "base_uri": "https://localhost:8080/"
        },
        "execution": {
          "iopub.execute_input": "2024-07-14T11:17:14.972459Z",
          "iopub.status.busy": "2024-07-14T11:17:14.971691Z",
          "iopub.status.idle": "2024-07-14T11:17:14.985513Z",
          "shell.execute_reply": "2024-07-14T11:17:14.984473Z",
          "shell.execute_reply.started": "2024-07-14T11:17:14.972422Z"
        },
        "id": "ADGkiMzpwnMa",
        "outputId": "f7552619-934a-440f-9f46-38396c46a14c",
        "trusted": true
      },
      "outputs": [
        {
          "data": {
            "text/plain": [
              "dx\n",
              "nv       6705\n",
              "mel      1113\n",
              "bkl      1099\n",
              "bcc       514\n",
              "akiec     327\n",
              "vasc      142\n",
              "df        115\n",
              "Name: count, dtype: int64"
            ]
          },
          "execution_count": 8,
          "metadata": {},
          "output_type": "execute_result"
        }
      ],
      "source": [
        "df['dx'].value_counts()"
      ]
    },
    {
      "cell_type": "code",
      "execution_count": 9,
      "metadata": {
        "execution": {
          "iopub.execute_input": "2024-07-14T11:22:20.00322Z",
          "iopub.status.busy": "2024-07-14T11:22:20.002569Z",
          "iopub.status.idle": "2024-07-14T11:22:20.01042Z",
          "shell.execute_reply": "2024-07-14T11:22:20.009454Z",
          "shell.execute_reply.started": "2024-07-14T11:22:20.003182Z"
        },
        "id": "QU1YJ1y4wnMb",
        "trusted": true
      },
      "outputs": [],
      "source": [
        "df_nv = df[df['dx'] == 'nv']\n",
        "df_df = df[df['dx'] == 'df']\n",
        "vasc_df = df[df['dx'] == 'vasc']\n",
        "akiec_df = df[df['dx'] == 'akiec']\n",
        "bcc_df = df[df['dx'] == 'bcc']\n",
        "bkl_df = df[df['dx'] == 'bkl']\n",
        "mel_df = df[df['dx'] == 'mel']"
      ]
    },
    {
      "cell_type": "markdown",
      "metadata": {
        "id": "8FU_K6o1wnMc"
      },
      "source": [
        "# Data Augmentation"
      ]
    },
    {
      "cell_type": "code",
      "execution_count": 10,
      "metadata": {
        "execution": {
          "iopub.execute_input": "2024-07-14T11:22:54.791631Z",
          "iopub.status.busy": "2024-07-14T11:22:54.791236Z",
          "iopub.status.idle": "2024-07-14T11:22:54.796525Z",
          "shell.execute_reply": "2024-07-14T11:22:54.795597Z",
          "shell.execute_reply.started": "2024-07-14T11:22:54.7916Z"
        },
        "id": "ShRsBCaTwnMc",
        "trusted": true
      },
      "outputs": [],
      "source": [
        "def aug_brightness(img_arr):\n",
        "    aug_arr = tf.image.stateless_random_brightness(img_arr, 0.7, seed)\n",
        "    aur_arr = np.array(aug_arr)\n",
        "\n",
        "    return aug_arr"
      ]
    },
    {
      "cell_type": "code",
      "execution_count": 11,
      "metadata": {
        "execution": {
          "iopub.execute_input": "2024-07-14T11:22:57.663568Z",
          "iopub.status.busy": "2024-07-14T11:22:57.662577Z",
          "iopub.status.idle": "2024-07-14T11:22:57.669035Z",
          "shell.execute_reply": "2024-07-14T11:22:57.667993Z",
          "shell.execute_reply.started": "2024-07-14T11:22:57.663511Z"
        },
        "id": "bqkQ6cAJwnMc",
        "trusted": true
      },
      "outputs": [],
      "source": [
        "def aug_contrast(img_arr):\n",
        "    aug_arr = tf.image.stateless_random_contrast(img_arr, 0.2, 0.8, seed)\n",
        "    aur_arr = np.array(aug_arr)\n",
        "\n",
        "    return aug_arr"
      ]
    },
    {
      "cell_type": "code",
      "execution_count": 12,
      "metadata": {
        "execution": {
          "iopub.execute_input": "2024-07-14T11:23:06.947948Z",
          "iopub.status.busy": "2024-07-14T11:23:06.947607Z",
          "iopub.status.idle": "2024-07-14T11:23:06.952879Z",
          "shell.execute_reply": "2024-07-14T11:23:06.951846Z",
          "shell.execute_reply.started": "2024-07-14T11:23:06.947923Z"
        },
        "id": "uo1fjJ4cwnMd",
        "trusted": true
      },
      "outputs": [],
      "source": [
        "def aug_flip_left_right(img_arr):\n",
        "    aug_arr = tf.image.stateless_random_flip_left_right(img_arr, seed).numpy().tolist()\n",
        "    aur_arr = np.array(aug_arr)\n",
        "\n",
        "    return aug_arr"
      ]
    },
    {
      "cell_type": "code",
      "execution_count": 13,
      "metadata": {
        "execution": {
          "iopub.execute_input": "2024-07-14T11:23:10.108111Z",
          "iopub.status.busy": "2024-07-14T11:23:10.107669Z",
          "iopub.status.idle": "2024-07-14T11:23:10.113759Z",
          "shell.execute_reply": "2024-07-14T11:23:10.112872Z",
          "shell.execute_reply.started": "2024-07-14T11:23:10.108077Z"
        },
        "id": "lA4G1cbkwnMd",
        "trusted": true
      },
      "outputs": [],
      "source": [
        "def aug_flip_up_down(img_arr):\n",
        "    aug_arr = tf.image.stateless_random_flip_up_down(img_arr, seed).numpy().tolist()\n",
        "    aur_arr = np.array(aug_arr)\n",
        "\n",
        "    return aug_arr"
      ]
    },
    {
      "cell_type": "code",
      "execution_count": 14,
      "metadata": {
        "execution": {
          "iopub.execute_input": "2024-07-14T11:23:15.624189Z",
          "iopub.status.busy": "2024-07-14T11:23:15.623417Z",
          "iopub.status.idle": "2024-07-14T11:23:15.628921Z",
          "shell.execute_reply": "2024-07-14T11:23:15.627905Z",
          "shell.execute_reply.started": "2024-07-14T11:23:15.624157Z"
        },
        "id": "sfeQSADXwnMd",
        "trusted": true
      },
      "outputs": [],
      "source": [
        "def aug_hue(img_arr):\n",
        "    aug_arr = tf.image.stateless_random_hue(img_arr, 0.5, seed)\n",
        "    aur_arr = np.array(aug_arr)\n",
        "\n",
        "    return aug_arr"
      ]
    },
    {
      "cell_type": "code",
      "execution_count": 15,
      "metadata": {
        "execution": {
          "iopub.execute_input": "2024-07-14T11:23:20.615477Z",
          "iopub.status.busy": "2024-07-14T11:23:20.615145Z",
          "iopub.status.idle": "2024-07-14T11:23:20.62022Z",
          "shell.execute_reply": "2024-07-14T11:23:20.619162Z",
          "shell.execute_reply.started": "2024-07-14T11:23:20.615452Z"
        },
        "id": "HE5PIu81wnMd",
        "trusted": true
      },
      "outputs": [],
      "source": [
        "def aug_saturation(img_arr):\n",
        "    aug_arr = tf.image.stateless_random_saturation(img_arr, 0.1, 1, seed)\n",
        "    aur_arr = np.array(aug_arr)\n",
        "\n",
        "    return aug_arr"
      ]
    },
    {
      "cell_type": "code",
      "execution_count": 16,
      "metadata": {
        "execution": {
          "iopub.execute_input": "2024-07-14T11:23:24.009076Z",
          "iopub.status.busy": "2024-07-14T11:23:24.00836Z",
          "iopub.status.idle": "2024-07-14T11:23:24.013993Z",
          "shell.execute_reply": "2024-07-14T11:23:24.012835Z",
          "shell.execute_reply.started": "2024-07-14T11:23:24.009042Z"
        },
        "id": "CmisvnrpwnMd",
        "trusted": true
      },
      "outputs": [],
      "source": [
        "func_list = [aug_brightness, aug_contrast, aug_flip_left_right, aug_flip_up_down, aug_hue, aug_saturation]"
      ]
    },
    {
      "cell_type": "code",
      "execution_count": 17,
      "metadata": {
        "execution": {
          "iopub.execute_input": "2024-07-14T11:23:28.591816Z",
          "iopub.status.busy": "2024-07-14T11:23:28.591423Z",
          "iopub.status.idle": "2024-07-14T11:23:28.600004Z",
          "shell.execute_reply": "2024-07-14T11:23:28.59892Z",
          "shell.execute_reply.started": "2024-07-14T11:23:28.591787Z"
        },
        "id": "SQn1elL2wnMd",
        "trusted": true
      },
      "outputs": [],
      "source": [
        "def random_augmentation(images, dx, num_of_samples):\n",
        "    new_images = []\n",
        "    all_indices = []\n",
        "    while (len(new_images) < num_of_samples):\n",
        "        indices = np.random.randint(images.shape[0], size=6)\n",
        "        r = list(map(lambda x, y: x(y), func_list, images.iloc[indices]))\n",
        "        r = [np.array(tensor) for tensor in r]\n",
        "        new_images.extend(r)\n",
        "        all_indices.extend(indices)\n",
        "        clear_output(wait=True)\n",
        "        print(str(len(new_images)) + '/' + str(num_of_samples))\n",
        "\n",
        "    new_images = pd.DataFrame({'dx': dx, 'image': new_images})\n",
        "\n",
        "    return all_indices, new_images"
      ]
    },
    {
      "cell_type": "code",
      "execution_count": 18,
      "metadata": {
        "colab": {
          "base_uri": "https://localhost:8080/"
        },
        "execution": {
          "iopub.execute_input": "2024-07-14T11:23:34.265642Z",
          "iopub.status.busy": "2024-07-14T11:23:34.26487Z",
          "iopub.status.idle": "2024-07-14T11:23:38.730441Z",
          "shell.execute_reply": "2024-07-14T11:23:38.729518Z",
          "shell.execute_reply.started": "2024-07-14T11:23:34.265604Z"
        },
        "id": "3bQIfqL_wnMe",
        "outputId": "e3747bda-3e2f-464b-f11e-7e580f5a6452",
        "trusted": true
      },
      "outputs": [
        {
          "name": "stdout",
          "output_type": "stream",
          "text": [
            "702/700\n"
          ]
        }
      ],
      "source": [
        "df_images = df_df['image']\n",
        "df_indices, df_new_images = random_augmentation(df_images, 'df', 700)"
      ]
    },
    {
      "cell_type": "code",
      "execution_count": 19,
      "metadata": {
        "colab": {
          "base_uri": "https://localhost:8080/"
        },
        "execution": {
          "iopub.execute_input": "2024-07-14T11:23:39.994472Z",
          "iopub.status.busy": "2024-07-14T11:23:39.993624Z",
          "iopub.status.idle": "2024-07-14T11:23:44.058564Z",
          "shell.execute_reply": "2024-07-14T11:23:44.057604Z",
          "shell.execute_reply.started": "2024-07-14T11:23:39.994438Z"
        },
        "id": "AiqjRHb5wnMe",
        "outputId": "6bf6ccde-b612-4f91-b304-dc96bcf35c92",
        "trusted": true
      },
      "outputs": [
        {
          "name": "stdout",
          "output_type": "stream",
          "text": [
            "702/700\n"
          ]
        }
      ],
      "source": [
        "vasc_images = vasc_df['image']\n",
        "vasc_indices, vasc_new_images = random_augmentation(vasc_images, 'vasc', 700)"
      ]
    },
    {
      "cell_type": "code",
      "execution_count": 20,
      "metadata": {
        "colab": {
          "base_uri": "https://localhost:8080/"
        },
        "execution": {
          "iopub.execute_input": "2024-07-14T11:23:44.16862Z",
          "iopub.status.busy": "2024-07-14T11:23:44.168273Z",
          "iopub.status.idle": "2024-07-14T11:23:49.388822Z",
          "shell.execute_reply": "2024-07-14T11:23:49.387928Z",
          "shell.execute_reply.started": "2024-07-14T11:23:44.168594Z"
        },
        "id": "fXw-IK42wnMe",
        "outputId": "3f9e3199-01cb-4b85-d639-020d0c7838e1",
        "trusted": true
      },
      "outputs": [
        {
          "name": "stdout",
          "output_type": "stream",
          "text": [
            "1002/1000\n"
          ]
        }
      ],
      "source": [
        "akiec_images = akiec_df['image']\n",
        "akiec_indices, akiec_new_images = random_augmentation(akiec_images, 'akiec', 1000)"
      ]
    },
    {
      "cell_type": "code",
      "execution_count": 21,
      "metadata": {
        "colab": {
          "base_uri": "https://localhost:8080/"
        },
        "execution": {
          "iopub.execute_input": "2024-07-14T11:23:49.391122Z",
          "iopub.status.busy": "2024-07-14T11:23:49.390746Z",
          "iopub.status.idle": "2024-07-14T11:23:55.750791Z",
          "shell.execute_reply": "2024-07-14T11:23:55.749901Z",
          "shell.execute_reply.started": "2024-07-14T11:23:49.391089Z"
        },
        "id": "DnLmtxkHwnMe",
        "outputId": "f7abf7f3-9abb-4874-fe1f-37342ac6426b",
        "trusted": true
      },
      "outputs": [
        {
          "name": "stdout",
          "output_type": "stream",
          "text": [
            "1200/1200\n"
          ]
        }
      ],
      "source": [
        "bcc_images = bcc_df['image']\n",
        "bcc_indices, bcc_new_images = random_augmentation(bcc_images, 'bcc', 1200)"
      ]
    },
    {
      "cell_type": "code",
      "execution_count": 22,
      "metadata": {
        "colab": {
          "base_uri": "https://localhost:8080/"
        },
        "execution": {
          "iopub.execute_input": "2024-07-14T11:23:55.752905Z",
          "iopub.status.busy": "2024-07-14T11:23:55.752516Z",
          "iopub.status.idle": "2024-07-14T11:24:03.563221Z",
          "shell.execute_reply": "2024-07-14T11:24:03.562231Z",
          "shell.execute_reply.started": "2024-07-14T11:23:55.752878Z"
        },
        "id": "ihj_DzmEwnMe",
        "outputId": "fbc5b868-936f-47db-d2b9-f95aa213172a",
        "trusted": true
      },
      "outputs": [
        {
          "name": "stdout",
          "output_type": "stream",
          "text": [
            "1404/1400\n"
          ]
        }
      ],
      "source": [
        "bkl_images = bkl_df['image']\n",
        "bkl_indices, bkl_new_images = random_augmentation(bkl_images, 'bkl', 1400)"
      ]
    },
    {
      "cell_type": "code",
      "execution_count": 23,
      "metadata": {
        "colab": {
          "base_uri": "https://localhost:8080/"
        },
        "execution": {
          "iopub.execute_input": "2024-07-14T11:24:03.565124Z",
          "iopub.status.busy": "2024-07-14T11:24:03.564818Z",
          "iopub.status.idle": "2024-07-14T11:24:10.895651Z",
          "shell.execute_reply": "2024-07-14T11:24:10.894763Z",
          "shell.execute_reply.started": "2024-07-14T11:24:03.5651Z"
        },
        "id": "cfiO_s4bwnMe",
        "outputId": "21e46e67-7c02-4027-b3eb-f0e23057183d",
        "trusted": true
      },
      "outputs": [
        {
          "name": "stdout",
          "output_type": "stream",
          "text": [
            "1404/1400\n"
          ]
        }
      ],
      "source": [
        "mel_images = mel_df['image']\n",
        "mel_indices, mel_new_images = random_augmentation(mel_images, 'mel', 1400)"
      ]
    },
    {
      "cell_type": "code",
      "execution_count": 24,
      "metadata": {
        "execution": {
          "iopub.execute_input": "2024-07-14T11:24:13.777037Z",
          "iopub.status.busy": "2024-07-14T11:24:13.775994Z",
          "iopub.status.idle": "2024-07-14T11:24:13.789323Z",
          "shell.execute_reply": "2024-07-14T11:24:13.788326Z",
          "shell.execute_reply.started": "2024-07-14T11:24:13.776993Z"
        },
        "id": "rzo__t4HwnMe",
        "trusted": true
      },
      "outputs": [],
      "source": [
        "new_images_df = pd.concat([df_new_images, vasc_new_images, akiec_new_images, bcc_new_images, bkl_new_images, mel_new_images], axis=0).reset_index(drop=True)\n",
        "aug_df = pd.concat([df, new_images_df], axis=0).reset_index(drop=True)\n",
        "aug_df = aug_df.sample(frac=1).reset_index(drop=True)"
      ]
    },
    {
      "cell_type": "code",
      "execution_count": 25,
      "metadata": {
        "colab": {
          "base_uri": "https://localhost:8080/",
          "height": 269
        },
        "execution": {
          "iopub.execute_input": "2024-07-14T11:24:17.664334Z",
          "iopub.status.busy": "2024-07-14T11:24:17.663681Z",
          "iopub.status.idle": "2024-07-14T11:24:17.678019Z",
          "shell.execute_reply": "2024-07-14T11:24:17.677044Z",
          "shell.execute_reply.started": "2024-07-14T11:24:17.664305Z"
        },
        "id": "KVQ9XD6MwnMe",
        "outputId": "2097c3e9-701c-45ec-9019-f744eccf0bcd",
        "trusted": true
      },
      "outputs": [
        {
          "data": {
            "text/html": [
              "<div>\n",
              "<style scoped>\n",
              "    .dataframe tbody tr th:only-of-type {\n",
              "        vertical-align: middle;\n",
              "    }\n",
              "\n",
              "    .dataframe tbody tr th {\n",
              "        vertical-align: top;\n",
              "    }\n",
              "\n",
              "    .dataframe thead th {\n",
              "        text-align: right;\n",
              "    }\n",
              "</style>\n",
              "<table border=\"1\" class=\"dataframe\">\n",
              "  <thead>\n",
              "    <tr style=\"text-align: right;\">\n",
              "      <th></th>\n",
              "      <th>dx</th>\n",
              "      <th>count</th>\n",
              "    </tr>\n",
              "  </thead>\n",
              "  <tbody>\n",
              "    <tr>\n",
              "      <th>0</th>\n",
              "      <td>nv</td>\n",
              "      <td>6705</td>\n",
              "    </tr>\n",
              "    <tr>\n",
              "      <th>1</th>\n",
              "      <td>mel</td>\n",
              "      <td>2517</td>\n",
              "    </tr>\n",
              "    <tr>\n",
              "      <th>2</th>\n",
              "      <td>bkl</td>\n",
              "      <td>2503</td>\n",
              "    </tr>\n",
              "    <tr>\n",
              "      <th>3</th>\n",
              "      <td>bcc</td>\n",
              "      <td>1714</td>\n",
              "    </tr>\n",
              "    <tr>\n",
              "      <th>4</th>\n",
              "      <td>akiec</td>\n",
              "      <td>1329</td>\n",
              "    </tr>\n",
              "    <tr>\n",
              "      <th>5</th>\n",
              "      <td>vasc</td>\n",
              "      <td>844</td>\n",
              "    </tr>\n",
              "    <tr>\n",
              "      <th>6</th>\n",
              "      <td>df</td>\n",
              "      <td>817</td>\n",
              "    </tr>\n",
              "  </tbody>\n",
              "</table>\n",
              "</div>"
            ],
            "text/plain": [
              "      dx  count\n",
              "0     nv   6705\n",
              "1    mel   2517\n",
              "2    bkl   2503\n",
              "3    bcc   1714\n",
              "4  akiec   1329\n",
              "5   vasc    844\n",
              "6     df    817"
            ]
          },
          "execution_count": 25,
          "metadata": {},
          "output_type": "execute_result"
        }
      ],
      "source": [
        "pd.DataFrame(aug_df['dx'].value_counts()).reset_index()"
      ]
    },
    {
      "cell_type": "code",
      "execution_count": 26,
      "metadata": {
        "execution": {
          "iopub.execute_input": "2024-07-14T11:24:37.036415Z",
          "iopub.status.busy": "2024-07-14T11:24:37.035464Z",
          "iopub.status.idle": "2024-07-14T11:24:37.046503Z",
          "shell.execute_reply": "2024-07-14T11:24:37.045537Z",
          "shell.execute_reply.started": "2024-07-14T11:24:37.036379Z"
        },
        "id": "Ll14Wp7xwnMi",
        "trusted": true
      },
      "outputs": [],
      "source": [
        "labelEncoder = LabelEncoder()\n",
        "aug_df['label'] = labelEncoder.fit_transform(aug_df['dx'])"
      ]
    },
    {
      "cell_type": "code",
      "execution_count": 27,
      "metadata": {
        "execution": {
          "iopub.execute_input": "2024-07-14T11:24:58.891659Z",
          "iopub.status.busy": "2024-07-14T11:24:58.890486Z",
          "iopub.status.idle": "2024-07-14T11:24:59.866064Z",
          "shell.execute_reply": "2024-07-14T11:24:59.865084Z",
          "shell.execute_reply.started": "2024-07-14T11:24:58.891577Z"
        },
        "id": "nX2yciQMwnMj",
        "trusted": true
      },
      "outputs": [],
      "source": [
        "x = np.asarray(aug_df['image'].to_list())\n",
        "y = to_categorical(aug_df['label'], num_classes=7)\n",
        "\n",
        "x_train, x_test, y_train, y_test = train_test_split(x, y, test_size=.20, random_state=42, shuffle=True)"
      ]
    },
    {
      "cell_type": "code",
      "execution_count": 28,
      "metadata": {
        "colab": {
          "base_uri": "https://localhost:8080/"
        },
        "execution": {
          "iopub.execute_input": "2024-07-14T11:25:47.99311Z",
          "iopub.status.busy": "2024-07-14T11:25:47.992116Z",
          "iopub.status.idle": "2024-07-14T11:25:48.005626Z",
          "shell.execute_reply": "2024-07-14T11:25:48.004593Z",
          "shell.execute_reply.started": "2024-07-14T11:25:47.993067Z"
        },
        "id": "JVYfTEIownMj",
        "outputId": "ded4c6fe-4c20-447a-b3d8-1be3f9998adf",
        "trusted": true
      },
      "outputs": [
        {
          "name": "stdout",
          "output_type": "stream",
          "text": [
            "Training Set Class Distribution:\n",
            "0    1067\n",
            "1    1368\n",
            "2    2010\n",
            "3     648\n",
            "4    2040\n",
            "5    5348\n",
            "6     662\n",
            "Name: count, dtype: int64\n",
            "\n",
            "Testing Set Class Distribution:\n",
            "0     262\n",
            "1     346\n",
            "2     493\n",
            "3     169\n",
            "4     477\n",
            "5    1357\n",
            "6     182\n",
            "Name: count, dtype: int64\n"
          ]
        }
      ],
      "source": [
        "y_train_labels = np.argmax(y_train, axis=1)\n",
        "y_test_labels = np.argmax(y_test, axis=1)\n",
        "\n",
        "# Count the occurrences of each class in training and testing sets\n",
        "train_counts = pd.Series(y_train_labels).value_counts().sort_index()\n",
        "test_counts = pd.Series(y_test_labels).value_counts().sort_index()\n",
        "\n",
        "# Display the counts\n",
        "print(\"Training Set Class Distribution:\")\n",
        "print(train_counts)\n",
        "\n",
        "print(\"\\nTesting Set Class Distribution:\")\n",
        "print(test_counts)"
      ]
    },
    {
      "cell_type": "markdown",
      "metadata": {
        "id": "EsV9Z5d8wnMj"
      },
      "source": [
        "**SMOTE TECHNIQUE**"
      ]
    },
    {
      "cell_type": "code",
      "execution_count": 29,
      "metadata": {
        "execution": {
          "iopub.execute_input": "2024-07-14T11:27:36.592168Z",
          "iopub.status.busy": "2024-07-14T11:27:36.591757Z",
          "iopub.status.idle": "2024-07-14T11:27:36.824725Z",
          "shell.execute_reply": "2024-07-14T11:27:36.823896Z",
          "shell.execute_reply.started": "2024-07-14T11:27:36.59213Z"
        },
        "id": "-55aNUFGwnMj",
        "trusted": true
      },
      "outputs": [],
      "source": [
        "import numpy as np\n",
        "from sklearn.model_selection import train_test_split\n",
        "from imblearn.over_sampling import SMOTE"
      ]
    },
    {
      "cell_type": "code",
      "execution_count": 30,
      "metadata": {
        "execution": {
          "iopub.execute_input": "2024-07-14T11:27:39.987939Z",
          "iopub.status.busy": "2024-07-14T11:27:39.986795Z",
          "iopub.status.idle": "2024-07-14T11:27:40.569153Z",
          "shell.execute_reply": "2024-07-14T11:27:40.5682Z",
          "shell.execute_reply.started": "2024-07-14T11:27:39.987907Z"
        },
        "id": "l4jdqlbdwnMj",
        "trusted": true
      },
      "outputs": [],
      "source": [
        "# Assuming x_train, y_train, x_test, y_test are already defined\n",
        "x_train = np.array(x_train)\n",
        "y_train = np.array(y_train)\n",
        "x_test = np.array(x_test)\n",
        "y_test = np.array(y_test)\n"
      ]
    },
    {
      "cell_type": "code",
      "execution_count": 31,
      "metadata": {
        "execution": {
          "iopub.execute_input": "2024-07-14T11:28:04.784888Z",
          "iopub.status.busy": "2024-07-14T11:28:04.78422Z",
          "iopub.status.idle": "2024-07-14T11:28:04.789407Z",
          "shell.execute_reply": "2024-07-14T11:28:04.788328Z",
          "shell.execute_reply.started": "2024-07-14T11:28:04.784854Z"
        },
        "id": "-Dwk8bZewnMj",
        "trusted": true
      },
      "outputs": [],
      "source": [
        "x_train_reshaped = x_train.reshape(x_train.shape[0], -1)\n"
      ]
    },
    {
      "cell_type": "code",
      "execution_count": 32,
      "metadata": {
        "execution": {
          "iopub.execute_input": "2024-07-14T11:28:19.250769Z",
          "iopub.status.busy": "2024-07-14T11:28:19.250115Z",
          "iopub.status.idle": "2024-07-14T11:28:30.587157Z",
          "shell.execute_reply": "2024-07-14T11:28:30.586313Z",
          "shell.execute_reply.started": "2024-07-14T11:28:19.250737Z"
        },
        "id": "gGL2mRUpwnMj",
        "trusted": true
      },
      "outputs": [],
      "source": [
        "smote = SMOTE()\n",
        "x_train_smote, y_train_smote = smote.fit_resample(x_train_reshaped, y_train.argmax(axis=1))\n"
      ]
    },
    {
      "cell_type": "code",
      "execution_count": 33,
      "metadata": {
        "execution": {
          "iopub.execute_input": "2024-07-14T11:29:50.252167Z",
          "iopub.status.busy": "2024-07-14T11:29:50.25178Z",
          "iopub.status.idle": "2024-07-14T11:29:50.258936Z",
          "shell.execute_reply": "2024-07-14T11:29:50.257814Z",
          "shell.execute_reply.started": "2024-07-14T11:29:50.252139Z"
        },
        "id": "HWXltBwKwnMj",
        "trusted": true
      },
      "outputs": [],
      "source": [
        "x_train_smote = x_train_smote.reshape(x_train_smote.shape[0], 64, 64, 3)\n",
        "y_train_smote = tf.keras.utils.to_categorical(y_train_smote, num_classes=7)\n"
      ]
    },
    {
      "cell_type": "code",
      "execution_count": 34,
      "metadata": {},
      "outputs": [],
      "source": [
        "os.environ[\"CNN2SNN_TARGET_AKIDA_VERSION\"] = \"v1\""
      ]
    },
    {
      "cell_type": "code",
      "execution_count": 35,
      "metadata": {},
      "outputs": [],
      "source": [
        "import tensorflow as tf\n",
        "from tensorflow.keras.models import load_model\n",
        "\n",
        "\n",
        "model_path = 'initial_model83.h5'\n",
        "model = load_model(model_path)\n"
      ]
    },
    {
      "cell_type": "code",
      "execution_count": 36,
      "metadata": {},
      "outputs": [
        {
          "name": "stdout",
          "output_type": "stream",
          "text": [
            "103/103 [==============================] - 5s 43ms/step - loss: 0.2999 - accuracy: 0.9239\n",
            "Test Accuracy: 0.923919677734375\n",
            "Test Loss: 0.2998671531677246\n"
          ]
        }
      ],
      "source": [
        "test_loss, test_accuracy = model.evaluate(x_test, y_test)\n",
        "\n",
        "print('Test Accuracy:', test_accuracy)\n",
        "print('Test Loss:', test_loss)"
      ]
    },
    {
      "cell_type": "code",
      "execution_count": 37,
      "metadata": {},
      "outputs": [
        {
          "name": "stdout",
          "output_type": "stream",
          "text": [
            "33/33 [==============================] - 4s 101ms/step\n",
            "Keras inference on 3286 images took 3.54 s.\n",
            "\n",
            "Keras accuracy: 3036/3286.\n"
          ]
        },
        {
          "data": {
            "image/png": "[encoded data removed]",
            "text/plain": [
              "<Figure size 1000x800 with 2 Axes>"
            ]
          },
          "metadata": {},
          "output_type": "display_data"
        }
      ],
      "source": [
        "import matplotlib.pyplot as plt\n",
        "import seaborn as sns\n",
        "from sklearn.metrics import confusion_matrix\n",
        "\n",
        "from timeit import default_timer as timer\n",
        "\n",
        "# Get the number of images in the training dataset\n",
        "num_images = len(x_test)\n",
        "\n",
        "# Measure the time taken for Keras inference\n",
        "start = timer()\n",
        "potentials_keras = model.predict(x_test, batch_size=100)\n",
        "end = timer()\n",
        "print(f'Keras inference on {num_images} images took {end-start:.2f} s.\\n')\n",
        "\n",
        "# Get the predicted labels from the model output\n",
        "preds_keras = np.argmax(potentials_keras, axis=1)\n",
        "\n",
        "# Convert one-hot encoded y_train_smote back to class indices\n",
        "y_train_smote_labels = np.argmax(y_test, axis=1)\n",
        "\n",
        "# Calculate the accuracy\n",
        "accuracy_keras = np.sum(np.equal(preds_keras, y_test_labels)) / num_images\n",
        "print(f\"Keras accuracy: {accuracy_keras*num_images:.0f}/{num_images}.\")\n",
        "\n",
        "# Generate the confusion matrix\n",
        "cm = confusion_matrix(y_test_labels, preds_keras)\n",
        "\n",
        "# Plot the confusion matrix using seaborn heatmap\n",
        "plt.figure(figsize=(10, 8))\n",
        "sns.heatmap(cm, annot=True, fmt='d', cmap='Blues', \n",
        "            xticklabels=np.unique(y_test_labels), \n",
        "            yticklabels=np.unique(y_test_labels))\n",
        "plt.xlabel('Predicted Label')\n",
        "plt.ylabel('True Label')\n",
        "plt.show()"
      ]
    },
    {
      "cell_type": "code",
      "execution_count": 38,
      "metadata": {},
      "outputs": [
        {
          "data": {
            "text/html": [
              "<div>\n",
              "<style scoped>\n",
              "    .dataframe tbody tr th:only-of-type {\n",
              "        vertical-align: middle;\n",
              "    }\n",
              "\n",
              "    .dataframe tbody tr th {\n",
              "        vertical-align: top;\n",
              "    }\n",
              "\n",
              "    .dataframe thead th {\n",
              "        text-align: right;\n",
              "    }\n",
              "</style>\n",
              "<table border=\"1\" class=\"dataframe\">\n",
              "  <thead>\n",
              "    <tr style=\"text-align: right;\">\n",
              "      <th></th>\n",
              "      <th>precision</th>\n",
              "      <th>recall</th>\n",
              "      <th>accuracy</th>\n",
              "    </tr>\n",
              "  </thead>\n",
              "  <tbody>\n",
              "    <tr>\n",
              "      <th>0</th>\n",
              "      <td>0.869565</td>\n",
              "      <td>0.916031</td>\n",
              "      <td>0.916031</td>\n",
              "    </tr>\n",
              "    <tr>\n",
              "      <th>1</th>\n",
              "      <td>0.933735</td>\n",
              "      <td>0.895954</td>\n",
              "      <td>0.895954</td>\n",
              "    </tr>\n",
              "    <tr>\n",
              "      <th>2</th>\n",
              "      <td>0.871542</td>\n",
              "      <td>0.894523</td>\n",
              "      <td>0.894523</td>\n",
              "    </tr>\n",
              "    <tr>\n",
              "      <th>3</th>\n",
              "      <td>0.951807</td>\n",
              "      <td>0.934911</td>\n",
              "      <td>0.934911</td>\n",
              "    </tr>\n",
              "    <tr>\n",
              "      <th>4</th>\n",
              "      <td>0.882743</td>\n",
              "      <td>0.836478</td>\n",
              "      <td>0.836478</td>\n",
              "    </tr>\n",
              "    <tr>\n",
              "      <th>5</th>\n",
              "      <td>0.955442</td>\n",
              "      <td>0.963891</td>\n",
              "      <td>0.963891</td>\n",
              "    </tr>\n",
              "    <tr>\n",
              "      <th>6</th>\n",
              "      <td>0.972973</td>\n",
              "      <td>0.989011</td>\n",
              "      <td>0.989011</td>\n",
              "    </tr>\n",
              "  </tbody>\n",
              "</table>\n",
              "</div>"
            ],
            "text/plain": [
              "   precision    recall  accuracy\n",
              "0   0.869565  0.916031  0.916031\n",
              "1   0.933735  0.895954  0.895954\n",
              "2   0.871542  0.894523  0.894523\n",
              "3   0.951807  0.934911  0.934911\n",
              "4   0.882743  0.836478  0.836478\n",
              "5   0.955442  0.963891  0.963891\n",
              "6   0.972973  0.989011  0.989011"
            ]
          },
          "metadata": {},
          "output_type": "display_data"
        }
      ],
      "source": [
        "from sklearn.metrics import confusion_matrix, classification_report\n",
        "import pandas as pd\n",
        "import numpy as np\n",
        "\n",
        "report = classification_report(y_test_labels, preds_keras, output_dict=True)\n",
        "\n",
        "# Convert classification report into a pandas DataFrame\n",
        "metrics_df = pd.DataFrame(report).transpose()\n",
        "\n",
        "# Calculate accuracy for each class\n",
        "accuracy_per_class = cm.diagonal() / cm.sum(axis=1)\n",
        "\n",
        "# Only update accuracy for actual classes (avoid 'macro avg', 'weighted avg')\n",
        "num_classes = len(accuracy_per_class)\n",
        "class_labels = metrics_df.index[:num_classes]  # Use the first `num_classes` indices\n",
        "\n",
        "# Assign accuracy to corresponding class rows\n",
        "metrics_df.loc[class_labels, 'accuracy'] = accuracy_per_class\n",
        "\n",
        "# Remove the rows that are not per-class metrics ('macro avg', 'weighted avg')\n",
        "metrics_df = metrics_df.iloc[:num_classes]\n",
        "\n",
        "# Display the table with precision, recall, and accuracy\n",
        "metrics_df = metrics_df[['precision', 'recall', 'accuracy']]\n",
        "\n",
        "from IPython.display import display\n",
        "display(metrics_df)\n"
      ]
    },
    {
      "cell_type": "code",
      "execution_count": 39,
      "metadata": {},
      "outputs": [],
      "source": [
        "from akida_models import load_model\n",
        "\n",
        "model_path = 'model_quantized.h5'\n",
        "model = load_model(model_path)"
      ]
    },
    {
      "cell_type": "code",
      "execution_count": 40,
      "metadata": {},
      "outputs": [
        {
          "name": "stdout",
          "output_type": "stream",
          "text": [
            "103/103 [==============================] - 7s 59ms/step - loss: 0.0000e+00 - accuracy: 0.8384\n",
            "Test Accuracy: 0.8384053707122803\n",
            "Test Loss: 0.0\n"
          ]
        }
      ],
      "source": [
        "test_loss, test_accuracy = model.evaluate(x_test, y_test)\n",
        "\n",
        "print('Test Accuracy:', test_accuracy)\n",
        "print('Test Loss:', test_loss)"
      ]
    },
    {
      "cell_type": "code",
      "execution_count": 41,
      "metadata": {},
      "outputs": [
        {
          "name": "stdout",
          "output_type": "stream",
          "text": [
            "33/33 [==============================] - 5s 130ms/step\n",
            "Keras inference on 3286 images took 4.78 s.\n",
            "\n",
            "Keras accuracy: 2755/3286.\n"
          ]
        },
        {
          "data": {
            "image/png": "[encoded data removed]",
            "text/plain": [
              "<Figure size 1000x800 with 2 Axes>"
            ]
          },
          "metadata": {},
          "output_type": "display_data"
        }
      ],
      "source": [
        "# Get the number of images in the training dataset\n",
        "num_images = len(x_test)\n",
        "\n",
        "# Measure the time taken for Keras inference\n",
        "start = timer()\n",
        "potentials_keras = model.predict(x_test, batch_size=100)\n",
        "end = timer()\n",
        "print(f'Keras inference on {num_images} images took {end-start:.2f} s.\\n')\n",
        "\n",
        "# Get the predicted labels from the model output\n",
        "preds_keras = np.argmax(potentials_keras, axis=1)\n",
        "\n",
        "# Convert one-hot encoded y_train_smote back to class indices\n",
        "y_train_smote_labels = np.argmax(y_test, axis=1)\n",
        "\n",
        "# Calculate the accuracy\n",
        "accuracy_keras = np.sum(np.equal(preds_keras, y_test_labels)) / num_images\n",
        "print(f\"Keras accuracy: {accuracy_keras*num_images:.0f}/{num_images}.\")\n",
        "\n",
        "# Generate the confusion matrix\n",
        "cm = confusion_matrix(y_test_labels, preds_keras)\n",
        "\n",
        "# Plot the confusion matrix using seaborn heatmap\n",
        "plt.figure(figsize=(10, 8))\n",
        "sns.heatmap(cm, annot=True, fmt='d', cmap='Blues', \n",
        "            xticklabels=np.unique(y_test_labels), \n",
        "            yticklabels=np.unique(y_test_labels))\n",
        "plt.xlabel('Predicted Label')\n",
        "plt.ylabel('True Label')\n",
        "plt.show()"
      ]
    },
    {
      "cell_type": "code",
      "execution_count": 42,
      "metadata": {},
      "outputs": [
        {
          "data": {
            "text/html": [
              "<div>\n",
              "<style scoped>\n",
              "    .dataframe tbody tr th:only-of-type {\n",
              "        vertical-align: middle;\n",
              "    }\n",
              "\n",
              "    .dataframe tbody tr th {\n",
              "        vertical-align: top;\n",
              "    }\n",
              "\n",
              "    .dataframe thead th {\n",
              "        text-align: right;\n",
              "    }\n",
              "</style>\n",
              "<table border=\"1\" class=\"dataframe\">\n",
              "  <thead>\n",
              "    <tr style=\"text-align: right;\">\n",
              "      <th></th>\n",
              "      <th>precision</th>\n",
              "      <th>recall</th>\n",
              "      <th>accuracy</th>\n",
              "    </tr>\n",
              "  </thead>\n",
              "  <tbody>\n",
              "    <tr>\n",
              "      <th>0</th>\n",
              "      <td>0.705167</td>\n",
              "      <td>0.885496</td>\n",
              "      <td>0.885496</td>\n",
              "    </tr>\n",
              "    <tr>\n",
              "      <th>1</th>\n",
              "      <td>0.808955</td>\n",
              "      <td>0.783237</td>\n",
              "      <td>0.783237</td>\n",
              "    </tr>\n",
              "    <tr>\n",
              "      <th>2</th>\n",
              "      <td>0.791322</td>\n",
              "      <td>0.776876</td>\n",
              "      <td>0.776876</td>\n",
              "    </tr>\n",
              "    <tr>\n",
              "      <th>3</th>\n",
              "      <td>0.880795</td>\n",
              "      <td>0.786982</td>\n",
              "      <td>0.786982</td>\n",
              "    </tr>\n",
              "    <tr>\n",
              "      <th>4</th>\n",
              "      <td>0.861878</td>\n",
              "      <td>0.654088</td>\n",
              "      <td>0.654088</td>\n",
              "    </tr>\n",
              "    <tr>\n",
              "      <th>5</th>\n",
              "      <td>0.865672</td>\n",
              "      <td>0.940310</td>\n",
              "      <td>0.940310</td>\n",
              "    </tr>\n",
              "    <tr>\n",
              "      <th>6</th>\n",
              "      <td>0.980132</td>\n",
              "      <td>0.813187</td>\n",
              "      <td>0.813187</td>\n",
              "    </tr>\n",
              "  </tbody>\n",
              "</table>\n",
              "</div>"
            ],
            "text/plain": [
              "   precision    recall  accuracy\n",
              "0   0.705167  0.885496  0.885496\n",
              "1   0.808955  0.783237  0.783237\n",
              "2   0.791322  0.776876  0.776876\n",
              "3   0.880795  0.786982  0.786982\n",
              "4   0.861878  0.654088  0.654088\n",
              "5   0.865672  0.940310  0.940310\n",
              "6   0.980132  0.813187  0.813187"
            ]
          },
          "metadata": {},
          "output_type": "display_data"
        }
      ],
      "source": [
        "report = classification_report(y_test_labels, preds_keras, output_dict=True)\n",
        "\n",
        "# Convert classification report into a pandas DataFrame\n",
        "metrics_df = pd.DataFrame(report).transpose()\n",
        "\n",
        "# Calculate accuracy for each class\n",
        "accuracy_per_class = cm.diagonal() / cm.sum(axis=1)\n",
        "\n",
        "# Only update accuracy for actual classes (avoid 'macro avg', 'weighted avg')\n",
        "num_classes = len(accuracy_per_class)\n",
        "class_labels = metrics_df.index[:num_classes]  # Use the first `num_classes` indices\n",
        "\n",
        "# Assign accuracy to corresponding class rows\n",
        "metrics_df.loc[class_labels, 'accuracy'] = accuracy_per_class\n",
        "\n",
        "# Remove the rows that are not per-class metrics ('macro avg', 'weighted avg')\n",
        "metrics_df = metrics_df.iloc[:num_classes]\n",
        "\n",
        "# Display the table with precision, recall, and accuracy\n",
        "metrics_df = metrics_df[['precision', 'recall', 'accuracy']]\n",
        "\n",
        "from IPython.display import display\n",
        "display(metrics_df)"
      ]
    },
    {
      "cell_type": "code",
      "execution_count": 43,
      "metadata": {},
      "outputs": [],
      "source": [
        "from akida_models import load_model\n",
        "\n",
        "model_path = 'models/best_models/model_quantized.h5'\n",
        "model = load_model(model_path)"
      ]
    },
    {
      "cell_type": "code",
      "execution_count": 44,
      "metadata": {},
      "outputs": [
        {
          "name": "stdout",
          "output_type": "stream",
          "text": [
            "103/103 [==============================] - 9s 48ms/step - loss: 0.0000e+00 - accuracy: 0.8220\n",
            "Test Accuracy: 0.8219720125198364\n",
            "Test Loss: 0.0\n"
          ]
        }
      ],
      "source": [
        "test_loss, test_accuracy = model.evaluate(x_test, y_test)\n",
        "\n",
        "print('Test Accuracy:', test_accuracy)\n",
        "print('Test Loss:', test_loss)"
      ]
    },
    {
      "cell_type": "code",
      "execution_count": 45,
      "metadata": {},
      "outputs": [
        {
          "name": "stdout",
          "output_type": "stream",
          "text": [
            "33/33 [==============================] - 8s 113ms/step\n",
            "Keras inference on 3286 images took 7.89 s.\n",
            "\n",
            "Keras accuracy: 2701/3286.\n"
          ]
        },
        {
          "data": {
            "image/png": "[encoded data removed]",
            "text/plain": [
              "<Figure size 1000x800 with 2 Axes>"
            ]
          },
          "metadata": {},
          "output_type": "display_data"
        }
      ],
      "source": [
        "# Get the number of images in the training dataset\n",
        "num_images = len(x_test)\n",
        "\n",
        "# Measure the time taken for Keras inference\n",
        "start = timer()\n",
        "potentials_keras = model.predict(x_test, batch_size=100)\n",
        "end = timer()\n",
        "print(f'Keras inference on {num_images} images took {end-start:.2f} s.\\n')\n",
        "\n",
        "# Get the predicted labels from the model output\n",
        "preds_keras = np.argmax(potentials_keras, axis=1)\n",
        "\n",
        "# Convert one-hot encoded y_train_smote back to class indices\n",
        "y_train_smote_labels = np.argmax(y_test, axis=1)\n",
        "\n",
        "# Calculate the accuracy\n",
        "accuracy_keras = np.sum(np.equal(preds_keras, y_test_labels)) / num_images\n",
        "print(f\"Keras accuracy: {accuracy_keras*num_images:.0f}/{num_images}.\")\n",
        "\n",
        "# Generate the confusion matrix\n",
        "cm = confusion_matrix(y_test_labels, preds_keras)\n",
        "\n",
        "# Plot the confusion matrix using seaborn heatmap\n",
        "plt.figure(figsize=(10, 8))\n",
        "sns.heatmap(cm, annot=True, fmt='d', cmap='Blues', \n",
        "            xticklabels=np.unique(y_test_labels), \n",
        "            yticklabels=np.unique(y_test_labels))\n",
        "plt.xlabel('Predicted Label')\n",
        "plt.ylabel('True Label')\n",
        "plt.show()"
      ]
    },
    {
      "cell_type": "code",
      "execution_count": 46,
      "metadata": {},
      "outputs": [
        {
          "data": {
            "text/html": [
              "<div>\n",
              "<style scoped>\n",
              "    .dataframe tbody tr th:only-of-type {\n",
              "        vertical-align: middle;\n",
              "    }\n",
              "\n",
              "    .dataframe tbody tr th {\n",
              "        vertical-align: top;\n",
              "    }\n",
              "\n",
              "    .dataframe thead th {\n",
              "        text-align: right;\n",
              "    }\n",
              "</style>\n",
              "<table border=\"1\" class=\"dataframe\">\n",
              "  <thead>\n",
              "    <tr style=\"text-align: right;\">\n",
              "      <th></th>\n",
              "      <th>precision</th>\n",
              "      <th>recall</th>\n",
              "      <th>accuracy</th>\n",
              "    </tr>\n",
              "  </thead>\n",
              "  <tbody>\n",
              "    <tr>\n",
              "      <th>0</th>\n",
              "      <td>0.700581</td>\n",
              "      <td>0.919847</td>\n",
              "      <td>0.919847</td>\n",
              "    </tr>\n",
              "    <tr>\n",
              "      <th>1</th>\n",
              "      <td>0.845029</td>\n",
              "      <td>0.835260</td>\n",
              "      <td>0.835260</td>\n",
              "    </tr>\n",
              "    <tr>\n",
              "      <th>2</th>\n",
              "      <td>0.717014</td>\n",
              "      <td>0.837728</td>\n",
              "      <td>0.837728</td>\n",
              "    </tr>\n",
              "    <tr>\n",
              "      <th>3</th>\n",
              "      <td>0.880000</td>\n",
              "      <td>0.911243</td>\n",
              "      <td>0.911243</td>\n",
              "    </tr>\n",
              "    <tr>\n",
              "      <th>4</th>\n",
              "      <td>0.648464</td>\n",
              "      <td>0.796646</td>\n",
              "      <td>0.796646</td>\n",
              "    </tr>\n",
              "    <tr>\n",
              "      <th>5</th>\n",
              "      <td>0.968893</td>\n",
              "      <td>0.780398</td>\n",
              "      <td>0.780398</td>\n",
              "    </tr>\n",
              "    <tr>\n",
              "      <th>6</th>\n",
              "      <td>0.970588</td>\n",
              "      <td>0.906593</td>\n",
              "      <td>0.906593</td>\n",
              "    </tr>\n",
              "  </tbody>\n",
              "</table>\n",
              "</div>"
            ],
            "text/plain": [
              "   precision    recall  accuracy\n",
              "0   0.700581  0.919847  0.919847\n",
              "1   0.845029  0.835260  0.835260\n",
              "2   0.717014  0.837728  0.837728\n",
              "3   0.880000  0.911243  0.911243\n",
              "4   0.648464  0.796646  0.796646\n",
              "5   0.968893  0.780398  0.780398\n",
              "6   0.970588  0.906593  0.906593"
            ]
          },
          "metadata": {},
          "output_type": "display_data"
        }
      ],
      "source": [
        "report = classification_report(y_test_labels, preds_keras, output_dict=True)\n",
        "\n",
        "# Convert classification report into a pandas DataFrame\n",
        "metrics_df = pd.DataFrame(report).transpose()\n",
        "\n",
        "# Calculate accuracy for each class\n",
        "accuracy_per_class = cm.diagonal() / cm.sum(axis=1)\n",
        "\n",
        "# Only update accuracy for actual classes (avoid 'macro avg', 'weighted avg')\n",
        "num_classes = len(accuracy_per_class)\n",
        "class_labels = metrics_df.index[:num_classes]  # Use the first `num_classes` indices\n",
        "\n",
        "# Assign accuracy to corresponding class rows\n",
        "metrics_df.loc[class_labels, 'accuracy'] = accuracy_per_class\n",
        "\n",
        "# Remove the rows that are not per-class metrics ('macro avg', 'weighted avg')\n",
        "metrics_df = metrics_df.iloc[:num_classes]\n",
        "\n",
        "# Display the table with precision, recall, and accuracy\n",
        "metrics_df = metrics_df[['precision', 'recall', 'accuracy']]\n",
        "\n",
        "from IPython.display import display\n",
        "display(metrics_df)"
      ]
    }
  ],
  "metadata": {
    "colab": {
      "provenance": []
    },
    "kaggle": {
      "accelerator": "nvidiaTeslaT4",
      "dataSources": [
        {
          "datasetId": 54339,
          "sourceId": 104884,
          "sourceType": "datasetVersion"
        }
      ],
      "dockerImageVersionId": 30698,
      "isGpuEnabled": true,
      "isInternetEnabled": false,
      "language": "python",
      "sourceType": "notebook"
    },
    "kernelspec": {
      "display_name": "akida",
      "language": "python",
      "name": "python3"
    },
    "language_info": {
      "codemirror_mode": {
        "name": "ipython",
        "version": 3
      },
      "file_extension": ".py",
      "mimetype": "text/x-python",
      "name": "python",
      "nbconvert_exporter": "python",
      "pygments_lexer": "ipython3",
      "version": "3.11.9"
    }
  },
  "nbformat": 4,
  "nbformat_minor": 0
}
