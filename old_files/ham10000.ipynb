{
  "cells": [
    {
      "cell_type": "markdown",
      "metadata": {},
      "source": [
        "# GENG5551 Prototype Model Training \n",
        "\n",
        "Run code below if using google collab for training. If not skip to next section."
      ]
    },
    {
      "cell_type": "markdown",
      "metadata": {
        "id": "wAJmzS0hM7Rv"
      },
      "source": [
        "run container with:\n",
        "sudo docker run --gpus all -it --rm -v $(pwd):/tf/notebooks -p 8888:8888 tensorflow/tensorflow:2.12.0-gpu-jupyter"
      ]
    },
    {
      "cell_type": "code",
      "execution_count": 1,
      "metadata": {},
      "outputs": [],
      "source": [
        "startup = True"
      ]
    },
    {
      "cell_type": "code",
      "execution_count": 2,
      "metadata": {
        "colab": {
          "base_uri": "https://localhost:8080/"
        },
        "collapsed": true,
        "id": "ZATueY_Yc9vt",
        "outputId": "93ddd5f3-f3ec-4b90-f677-ceae6228a022"
      },
      "outputs": [
        {
          "name": "stdout",
          "output_type": "stream",
          "text": [
            "Requirement already satisfied: tensorflow-addons in /usr/local/lib/python3.8/dist-packages (0.21.0)\n",
            "Requirement already satisfied: typeguard<3.0.0,>=2.7 in /usr/local/lib/python3.8/dist-packages (from tensorflow-addons) (2.13.3)\n",
            "Requirement already satisfied: packaging in /usr/local/lib/python3.8/dist-packages (from tensorflow-addons) (23.0)\n",
            "\u001b[33mWARNING: Running pip as the 'root' user can result in broken permissions and conflicting behaviour with the system package manager. It is recommended to use a virtual environment instead: https://pip.pypa.io/warnings/venv\u001b[0m\u001b[33m\n",
            "\u001b[0m\n",
            "\u001b[1m[\u001b[0m\u001b[34;49mnotice\u001b[0m\u001b[1;39;49m]\u001b[0m\u001b[39;49m A new release of pip is available: \u001b[0m\u001b[31;49m23.0.1\u001b[0m\u001b[39;49m -> \u001b[0m\u001b[32;49m24.2\u001b[0m\n",
            "\u001b[1m[\u001b[0m\u001b[34;49mnotice\u001b[0m\u001b[1;39;49m]\u001b[0m\u001b[39;49m To update, run: \u001b[0m\u001b[32;49mpython3 -m pip install --upgrade pip\u001b[0m\n"
          ]
        }
      ],
      "source": [
        "# GB: Useless\n",
        "\n",
        "# !pip install pandas\n",
        "# !pip install scikit-learn\n",
        "# !pip install seaborn\n",
        "# !pip install akida==2.7.2\n",
        "# !pip install cnn2snn==2.7.2\n",
        "# %pip install akida-models==1.5.0\n",
        "!pip install tensorflow-addons"
      ]
    },
    {
      "cell_type": "code",
      "execution_count": 3,
      "metadata": {},
      "outputs": [],
      "source": [
        "# GB: Same here\n",
        "# !unzip notebooks/archive"
      ]
    },
    {
      "cell_type": "markdown",
      "metadata": {},
      "source": [
        "## Dataset Preprocessing\n",
        "\n",
        "Start here if running on anaconda virtual environment\n",
        "\n",
        "- This section involves examining and pre-processing the data to make it suitable for use with the Akida models"
      ]
    },
    {
      "cell_type": "code",
      "execution_count": 2,
      "metadata": {
        "id": "FSYTr1lRcyvc"
      },
      "outputs": [],
      "source": [
        "import matplotlib.pyplot as plt\n",
        "import matplotlib.image as mpimg\n",
        "import numpy as np\n",
        "import pandas as pd\n",
        "import os, shutil, random\n",
        "\n",
        "# os.chdir('notebooks/Documents/GitHub/GENG5551-Akida-Chip')"
      ]
    },
    {
      "cell_type": "code",
      "execution_count": 3,
      "metadata": {},
      "outputs": [
        {
          "data": {
            "text/plain": [
              "'c:\\\\Users\\\\Joo_Kai\\\\Documents\\\\GitHub\\\\GENG5551-Akida-Chip'"
            ]
          },
          "execution_count": 3,
          "metadata": {},
          "output_type": "execute_result"
        }
      ],
      "source": [
        "os.getcwd()"
      ]
    },
    {
      "cell_type": "code",
      "execution_count": 4,
      "metadata": {
        "id": "_f5hSpNIcyvd"
      },
      "outputs": [],
      "source": [
        "# combine the two parts of the dataset into one folder\n",
        "def combine_folders(source_folders, target_folder):\n",
        "    os.makedirs(target_folder, exist_ok=True)\n",
        "\n",
        "    for folder in source_folders:\n",
        "        file_names = os.listdir(folder)\n",
        "        for file_name in file_names:\n",
        "            source_file_path = os.path.join(folder, file_name)\n",
        "            if os.path.isfile(source_file_path):\n",
        "                target_file_path = os.path.join(target_folder, file_name)\n",
        "                shutil.copy(source_file_path, target_file_path)\n",
        "\n",
        "source_folders = ['archive/HAM10000_images_part_1', 'archive/HAM10000_images_part_2']\n",
        "target_folder = 'archive/data'\n",
        "if startup:\n",
        "    combine_folders(source_folders, target_folder)"
      ]
    },
    {
      "cell_type": "code",
      "execution_count": 5,
      "metadata": {
        "id": "8xI85A6Qcyvd"
      },
      "outputs": [],
      "source": [
        "# Load the metadata\n",
        "metadata = pd.read_csv('archive/HAM10000_metadata.csv')"
      ]
    },
    {
      "cell_type": "code",
      "execution_count": 6,
      "metadata": {
        "colab": {
          "base_uri": "https://localhost:8080/",
          "height": 206
        },
        "id": "cqg0Ski3cyvd",
        "outputId": "312cd1a1-f58b-4d31-9c1a-e0347b9df4a4"
      },
      "outputs": [
        {
          "data": {
            "text/html": [
              "<div>\n",
              "<style scoped>\n",
              "    .dataframe tbody tr th:only-of-type {\n",
              "        vertical-align: middle;\n",
              "    }\n",
              "\n",
              "    .dataframe tbody tr th {\n",
              "        vertical-align: top;\n",
              "    }\n",
              "\n",
              "    .dataframe thead th {\n",
              "        text-align: right;\n",
              "    }\n",
              "</style>\n",
              "<table border=\"1\" class=\"dataframe\">\n",
              "  <thead>\n",
              "    <tr style=\"text-align: right;\">\n",
              "      <th></th>\n",
              "      <th>lesion_id</th>\n",
              "      <th>image_id</th>\n",
              "      <th>dx</th>\n",
              "      <th>dx_type</th>\n",
              "      <th>age</th>\n",
              "      <th>sex</th>\n",
              "      <th>localization</th>\n",
              "    </tr>\n",
              "  </thead>\n",
              "  <tbody>\n",
              "    <tr>\n",
              "      <th>0</th>\n",
              "      <td>HAM_0000118</td>\n",
              "      <td>ISIC_0027419</td>\n",
              "      <td>bkl</td>\n",
              "      <td>histo</td>\n",
              "      <td>80.0</td>\n",
              "      <td>male</td>\n",
              "      <td>scalp</td>\n",
              "    </tr>\n",
              "    <tr>\n",
              "      <th>1</th>\n",
              "      <td>HAM_0000118</td>\n",
              "      <td>ISIC_0025030</td>\n",
              "      <td>bkl</td>\n",
              "      <td>histo</td>\n",
              "      <td>80.0</td>\n",
              "      <td>male</td>\n",
              "      <td>scalp</td>\n",
              "    </tr>\n",
              "    <tr>\n",
              "      <th>2</th>\n",
              "      <td>HAM_0002730</td>\n",
              "      <td>ISIC_0026769</td>\n",
              "      <td>bkl</td>\n",
              "      <td>histo</td>\n",
              "      <td>80.0</td>\n",
              "      <td>male</td>\n",
              "      <td>scalp</td>\n",
              "    </tr>\n",
              "    <tr>\n",
              "      <th>3</th>\n",
              "      <td>HAM_0002730</td>\n",
              "      <td>ISIC_0025661</td>\n",
              "      <td>bkl</td>\n",
              "      <td>histo</td>\n",
              "      <td>80.0</td>\n",
              "      <td>male</td>\n",
              "      <td>scalp</td>\n",
              "    </tr>\n",
              "    <tr>\n",
              "      <th>4</th>\n",
              "      <td>HAM_0001466</td>\n",
              "      <td>ISIC_0031633</td>\n",
              "      <td>bkl</td>\n",
              "      <td>histo</td>\n",
              "      <td>75.0</td>\n",
              "      <td>male</td>\n",
              "      <td>ear</td>\n",
              "    </tr>\n",
              "  </tbody>\n",
              "</table>\n",
              "</div>"
            ],
            "text/plain": [
              "     lesion_id      image_id   dx dx_type   age   sex localization\n",
              "0  HAM_0000118  ISIC_0027419  bkl   histo  80.0  male        scalp\n",
              "1  HAM_0000118  ISIC_0025030  bkl   histo  80.0  male        scalp\n",
              "2  HAM_0002730  ISIC_0026769  bkl   histo  80.0  male        scalp\n",
              "3  HAM_0002730  ISIC_0025661  bkl   histo  80.0  male        scalp\n",
              "4  HAM_0001466  ISIC_0031633  bkl   histo  75.0  male          ear"
            ]
          },
          "execution_count": 6,
          "metadata": {},
          "output_type": "execute_result"
        }
      ],
      "source": [
        "metadata.head()"
      ]
    },
    {
      "cell_type": "code",
      "execution_count": 7,
      "metadata": {
        "colab": {
          "base_uri": "https://localhost:8080/"
        },
        "id": "fXPCKQWOcyvd",
        "outputId": "9f167a8c-5fc7-44d0-f577-78ec98f58ece"
      },
      "outputs": [
        {
          "data": {
            "text/plain": [
              "dx\n",
              "nv       6705\n",
              "mel      1113\n",
              "bkl      1099\n",
              "bcc       514\n",
              "akiec     327\n",
              "vasc      142\n",
              "df        115\n",
              "Name: count, dtype: int64"
            ]
          },
          "execution_count": 7,
          "metadata": {},
          "output_type": "execute_result"
        }
      ],
      "source": [
        "metadata['dx'].value_counts()"
      ]
    },
    {
      "cell_type": "code",
      "execution_count": 8,
      "metadata": {
        "colab": {
          "base_uri": "https://localhost:8080/"
        },
        "id": "TtG1OzXgcyvd",
        "outputId": "10b5a011-9367-4413-e729-4311456800f3"
      },
      "outputs": [
        {
          "name": "stdout",
          "output_type": "stream",
          "text": [
            "Number of rows in metadata: 10015\n",
            "Number of unique lesions: 7470\n"
          ]
        }
      ],
      "source": [
        "# There are more rows than unique lesions, so we can assume that there are multiple images for each lesion.\n",
        "unique_lesion_id = metadata['lesion_id'].unique()\n",
        "print(\"Number of rows in metadata:\", len(metadata))\n",
        "print('Number of unique lesions:', len(unique_lesion_id))"
      ]
    },
    {
      "cell_type": "code",
      "execution_count": 9,
      "metadata": {
        "colab": {
          "base_uri": "https://localhost:8080/"
        },
        "id": "k32uQPXUcyve",
        "outputId": "a5703647-0ced-4e43-e36b-b5277b274d44"
      },
      "outputs": [
        {
          "name": "stdout",
          "output_type": "stream",
          "text": [
            "dx\n",
            "nv       671\n",
            "mel      111\n",
            "bkl      110\n",
            "bcc       51\n",
            "akiec     33\n",
            "vasc      14\n",
            "df        12\n",
            "Name: count, dtype: int64\n",
            "(1002, 8)\n"
          ]
        }
      ],
      "source": [
        "# Perform train test split\n",
        "from sklearn.model_selection import train_test_split\n",
        "metadata['image_path'] = metadata['image_id'].apply(lambda x: os.path.join(target_folder, f\"{x}.jpg\"))\n",
        "train_data, test_data = train_test_split(metadata, random_state=17, stratify=metadata.dx, test_size=0.10)\n",
        "\n",
        "print(test_data['dx'].value_counts())\n",
        "print(test_data.shape)"
      ]
    },
    {
      "cell_type": "code",
      "execution_count": 10,
      "metadata": {
        "colab": {
          "base_uri": "https://localhost:8080/",
          "height": 206
        },
        "id": "cCt7OeLtcyve",
        "outputId": "a07ce775-870e-4861-f598-896d3759733c"
      },
      "outputs": [
        {
          "data": {
            "text/html": [
              "<div>\n",
              "<style scoped>\n",
              "    .dataframe tbody tr th:only-of-type {\n",
              "        vertical-align: middle;\n",
              "    }\n",
              "\n",
              "    .dataframe tbody tr th {\n",
              "        vertical-align: top;\n",
              "    }\n",
              "\n",
              "    .dataframe thead th {\n",
              "        text-align: right;\n",
              "    }\n",
              "</style>\n",
              "<table border=\"1\" class=\"dataframe\">\n",
              "  <thead>\n",
              "    <tr style=\"text-align: right;\">\n",
              "      <th></th>\n",
              "      <th>lesion_id</th>\n",
              "      <th>image_id</th>\n",
              "      <th>dx</th>\n",
              "      <th>dx_type</th>\n",
              "      <th>age</th>\n",
              "      <th>sex</th>\n",
              "      <th>localization</th>\n",
              "      <th>image_path</th>\n",
              "    </tr>\n",
              "  </thead>\n",
              "  <tbody>\n",
              "    <tr>\n",
              "      <th>0</th>\n",
              "      <td>HAM_0000118</td>\n",
              "      <td>ISIC_0027419</td>\n",
              "      <td>bkl</td>\n",
              "      <td>histo</td>\n",
              "      <td>80.0</td>\n",
              "      <td>male</td>\n",
              "      <td>scalp</td>\n",
              "      <td>archive/data\\ISIC_0027419.jpg</td>\n",
              "    </tr>\n",
              "    <tr>\n",
              "      <th>1</th>\n",
              "      <td>HAM_0000118</td>\n",
              "      <td>ISIC_0025030</td>\n",
              "      <td>bkl</td>\n",
              "      <td>histo</td>\n",
              "      <td>80.0</td>\n",
              "      <td>male</td>\n",
              "      <td>scalp</td>\n",
              "      <td>archive/data\\ISIC_0025030.jpg</td>\n",
              "    </tr>\n",
              "    <tr>\n",
              "      <th>2</th>\n",
              "      <td>HAM_0002730</td>\n",
              "      <td>ISIC_0026769</td>\n",
              "      <td>bkl</td>\n",
              "      <td>histo</td>\n",
              "      <td>80.0</td>\n",
              "      <td>male</td>\n",
              "      <td>scalp</td>\n",
              "      <td>archive/data\\ISIC_0026769.jpg</td>\n",
              "    </tr>\n",
              "    <tr>\n",
              "      <th>3</th>\n",
              "      <td>HAM_0002730</td>\n",
              "      <td>ISIC_0025661</td>\n",
              "      <td>bkl</td>\n",
              "      <td>histo</td>\n",
              "      <td>80.0</td>\n",
              "      <td>male</td>\n",
              "      <td>scalp</td>\n",
              "      <td>archive/data\\ISIC_0025661.jpg</td>\n",
              "    </tr>\n",
              "    <tr>\n",
              "      <th>4</th>\n",
              "      <td>HAM_0001466</td>\n",
              "      <td>ISIC_0031633</td>\n",
              "      <td>bkl</td>\n",
              "      <td>histo</td>\n",
              "      <td>75.0</td>\n",
              "      <td>male</td>\n",
              "      <td>ear</td>\n",
              "      <td>archive/data\\ISIC_0031633.jpg</td>\n",
              "    </tr>\n",
              "  </tbody>\n",
              "</table>\n",
              "</div>"
            ],
            "text/plain": [
              "     lesion_id      image_id   dx dx_type   age   sex localization  \\\n",
              "0  HAM_0000118  ISIC_0027419  bkl   histo  80.0  male        scalp   \n",
              "1  HAM_0000118  ISIC_0025030  bkl   histo  80.0  male        scalp   \n",
              "2  HAM_0002730  ISIC_0026769  bkl   histo  80.0  male        scalp   \n",
              "3  HAM_0002730  ISIC_0025661  bkl   histo  80.0  male        scalp   \n",
              "4  HAM_0001466  ISIC_0031633  bkl   histo  75.0  male          ear   \n",
              "\n",
              "                      image_path  \n",
              "0  archive/data\\ISIC_0027419.jpg  \n",
              "1  archive/data\\ISIC_0025030.jpg  \n",
              "2  archive/data\\ISIC_0026769.jpg  \n",
              "3  archive/data\\ISIC_0025661.jpg  \n",
              "4  archive/data\\ISIC_0031633.jpg  "
            ]
          },
          "execution_count": 10,
          "metadata": {},
          "output_type": "execute_result"
        }
      ],
      "source": [
        "metadata.head()"
      ]
    },
    {
      "cell_type": "code",
      "execution_count": 11,
      "metadata": {
        "id": "IEbYGcA3cyve"
      },
      "outputs": [],
      "source": [
        "train_data = train_data.set_index(\"image_id\")\n",
        "test_data = test_data.set_index(\"image_id\")\n",
        "\n",
        "train_id = list(train_data.index)\n",
        "test_id = list(test_data.index)"
      ]
    },
    {
      "cell_type": "code",
      "execution_count": 12,
      "metadata": {
        "id": "z342uWOScyve"
      },
      "outputs": [],
      "source": [
        "train_dir = os.path.join('archive/data/', \"train\")\n",
        "test_dir = os.path.join('archive/data/', \"test\")\n",
        "\n",
        "\n",
        "if startup:\n",
        "    dirs = []\n",
        "\n",
        "    # Create train and test directory\n",
        "    dirs.append(train_dir)\n",
        "    dirs.append(test_dir)\n",
        "\n",
        "    # Create training subfolders for diagnoses\n",
        "    train_nv = os.path.join(train_dir, \"nv\")\n",
        "    dirs.append(train_nv)\n",
        "    train_mel = os.path.join(train_dir, \"mel\")\n",
        "    dirs.append(train_mel)\n",
        "    train_bkl = os.path.join(train_dir, \"bkl\")\n",
        "    dirs.append(train_bkl)\n",
        "    train_bcc = os.path.join(train_dir, \"bcc\")\n",
        "    dirs.append(train_bcc)\n",
        "    train_akiec = os.path.join(train_dir, \"akiec\")\n",
        "    dirs.append(train_akiec)\n",
        "    train_vasc = os.path.join(train_dir, \"vasc\")\n",
        "    dirs.append(train_vasc)\n",
        "    train_df = os.path.join(train_dir, \"df\")\n",
        "    dirs.append(train_df)\n",
        "\n",
        "    # Create validation subfolders for diagnoses\n",
        "    validation_nv = os.path.join(test_dir, \"nv\")\n",
        "    dirs.append(validation_nv)\n",
        "    validation_mel = os.path.join(test_dir, \"mel\")\n",
        "    dirs.append(validation_mel)\n",
        "    validation_bkl = os.path.join(test_dir, \"bkl\")\n",
        "    dirs.append(validation_bkl)\n",
        "    validation_bcc = os.path.join(test_dir, \"bcc\")\n",
        "    dirs.append(validation_bcc)\n",
        "    validation_akiec = os.path.join(test_dir, \"akiec\")\n",
        "    dirs.append(validation_akiec)\n",
        "    validation_vasc = os.path.join(test_dir, \"vasc\")\n",
        "    dirs.append(validation_vasc)\n",
        "    validation_df = os.path.join(test_dir, \"df\")\n",
        "    dirs.append(validation_df)\n",
        "\n",
        "    for directory in dirs:\n",
        "        if not os.path.exists(directory):\n",
        "            os.mkdir(directory)"
      ]
    },
    {
      "cell_type": "code",
      "execution_count": 13,
      "metadata": {
        "id": "__R6GRVtcyve"
      },
      "outputs": [],
      "source": [
        "if startup:    \n",
        "# move images to train and test dirs\n",
        "    target_folder = 'archive/data'\n",
        "    files = os.listdir(target_folder)\n",
        "\n",
        "    for image in train_id:\n",
        "        file_name = str(image + '.jpg')\n",
        "        label = train_data.loc[image,'dx']\n",
        "\n",
        "        if file_name in files:\n",
        "            src = os.path.join(target_folder, file_name)\n",
        "            dst = os.path.join(train_dir, label, file_name)\n",
        "            shutil.copyfile(src, dst)\n",
        "\n",
        "    for image in test_id:\n",
        "\n",
        "        file_name = image + '.jpg'\n",
        "        label = test_data.loc[image,'dx']\n",
        "\n",
        "        if file_name in files:\n",
        "            src = os.path.join(target_folder, file_name)\n",
        "            dst = os.path.join(test_dir, label, file_name)\n",
        "            shutil.copyfile(src, dst)"
      ]
    },
    {
      "cell_type": "code",
      "execution_count": 14,
      "metadata": {},
      "outputs": [
        {
          "name": "stdout",
          "output_type": "stream",
          "text": [
            "Found 103 images belonging to 1 classes.\n"
          ]
        },
        {
          "name": "stderr",
          "output_type": "stream",
          "text": [
            "c:\\Users\\Joo_Kai\\anaconda3\\envs\\akida\\Lib\\site-packages\\keras\\preprocessing\\image.py:1861: UserWarning: This ImageDataGenerator specifies `featurewise_center`, but it hasn't been fit on any training data. Fit it first by calling `.fit(numpy_data)`.\n",
            "  warnings.warn(\n",
            "c:\\Users\\Joo_Kai\\anaconda3\\envs\\akida\\Lib\\site-packages\\keras\\preprocessing\\image.py:1871: UserWarning: This ImageDataGenerator specifies `featurewise_std_normalization`, but it hasn't been fit on any training data. Fit it first by calling `.fit(numpy_data)`.\n",
            "  warnings.warn(\n"
          ]
        },
        {
          "name": "stdout",
          "output_type": "stream",
          "text": [
            "Found 1002 images belonging to 1 classes.\n",
            "Found 989 images belonging to 1 classes.\n",
            "Found 463 images belonging to 1 classes.\n",
            "Found 294 images belonging to 1 classes.\n",
            "Found 128 images belonging to 1 classes.\n",
            "Found 6034 images belonging to 1 classes.\n"
          ]
        }
      ],
      "source": [
        "from tensorflow.keras.preprocessing.image import ImageDataGenerator\n",
        "\n",
        "if startup:\n",
        "    # Perform data augmentation\n",
        "    class_names = [\"df\", \"mel\",\"bkl\", \"bcc\", \"akiec\", \"vasc\", \"nv\"]\n",
        "\n",
        "    for d in class_names:\n",
        "        source_dir = 'archive/data/'\n",
        "        \n",
        "        aug_dir = os.path.join(source_dir,'aug_dir') \n",
        "        if not os.path.exists(aug_dir):\n",
        "            os.mkdir(aug_dir)\n",
        "        \n",
        "        img_dir = os.path.join(aug_dir, d)\n",
        "        if not os.path.exists(img_dir):\n",
        "            os.mkdir(img_dir)\n",
        "\n",
        "        img_class = d\n",
        "\n",
        "        img_list = os.listdir(source_dir + 'train/' + img_class)\n",
        "        \n",
        "        for i in img_list: \n",
        "            src = os.path.join(source_dir + 'train/' + img_class, i)\n",
        "            dst = os.path.join(img_dir,i)\n",
        "            shutil.copyfile(src, dst)\n",
        "\n",
        "\n",
        "        path = aug_dir\n",
        "        save_path = img_dir\n",
        "        \n",
        "        datagen = ImageDataGenerator(\n",
        "            rotation_range=90,\n",
        "            featurewise_center=True,\n",
        "            featurewise_std_normalization=True,\n",
        "            width_shift_range=0.2,\n",
        "            height_shift_range=0.2,\n",
        "            zoom_range=[0.8,1.0],\n",
        "            horizontal_flip=True,\n",
        "            vertical_flip=True,\n",
        "            brightness_range=(0.8,1.2),\n",
        "            fill_mode='reflect')\n",
        "        \n",
        "        batch_size = 50\n",
        "        \n",
        "        aug_datagen = datagen.flow_from_directory(path,\n",
        "                                            save_to_dir=save_path,\n",
        "                                            save_format='jpeg',\n",
        "                                                save_prefix='',\n",
        "                                                target_size=(224,224),\n",
        "                                                color_mode='rgb',\n",
        "                                                batch_size=batch_size, shuffle=False) #important Set Shuffle=False!\n",
        "        \n",
        "    \n",
        "        \n",
        "        num_wanted = 6000\n",
        "        \n",
        "        num_files = len(os.listdir(img_dir))\n",
        "        num_batches = int(np.ceil((num_wanted-num_files)/batch_size))\n",
        "\n",
        "\n",
        "        for i in range(0,num_batches):\n",
        "\n",
        "            imgs, labels = next(aug_datagen)\n",
        "        \n",
        "        img_list = sorted(img_list)\n",
        "        aug_list = os.listdir(img_dir)\n",
        "\n",
        "        for number,image in enumerate(img_list):\n",
        "            for filename in aug_list:\n",
        "                if f\"_{number}_\" in filename:\n",
        "                    filename_new = image[5:12] + filename\n",
        "                    os.rename(os.path.join(img_dir,filename), os.path.join(img_dir,filename_new))\n",
        "\n",
        "        for augfile in os.listdir(img_dir):\n",
        "            if augfile not in img_list:\n",
        "                shutil.move(img_dir + '/' + augfile, source_dir + 'train/' + img_class + '/' + augfile)\n",
        "\n",
        "        \n",
        "        shutil.rmtree(aug_dir)"
      ]
    },
    {
      "cell_type": "code",
      "execution_count": 17,
      "metadata": {
        "colab": {
          "base_uri": "https://localhost:8080/"
        },
        "id": "XjclvKxrcyve",
        "outputId": "14ea3396-8eed-41a3-e849-7542e74bb25b"
      },
      "outputs": [
        {
          "name": "stdout",
          "output_type": "stream",
          "text": [
            "Found 38704 images belonging to 7 classes.\n",
            "Found 1002 images belonging to 7 classes.\n"
          ]
        }
      ],
      "source": [
        "# scale images\n",
        "import tensorflow as tf\n",
        "from tensorflow.keras.preprocessing.image import ImageDataGenerator\n",
        "\n",
        "train_datagen = ImageDataGenerator(\n",
        "    rotation_range=20,\n",
        "    width_shift_range=0.2,\n",
        "    height_shift_range=0.2,\n",
        "    shear_range=0.2,\n",
        "    zoom_range=0.2,\n",
        "    horizontal_flip=True,\n",
        "    brightness_range=[0.8, 1.2],\n",
        "    channel_shift_range=50.0\n",
        ")\n",
        "\n",
        "# train_datagen = ImageDataGenerator()\n",
        "test_datagen = ImageDataGenerator()\n",
        "\n",
        "train_gen = train_datagen.flow_from_directory(\n",
        "    train_dir,\n",
        "    target_size=(224, 224),\n",
        "    batch_size=100,\n",
        "    class_mode='sparse',\n",
        ")\n",
        "\n",
        "test_gen = test_datagen.flow_from_directory(\n",
        "    test_dir,\n",
        "    target_size=(224, 224),\n",
        "    batch_size=100,\n",
        "    class_mode='sparse'\n",
        ")"
      ]
    },
    {
      "cell_type": "markdown",
      "metadata": {},
      "source": [
        "## Model Training"
      ]
    },
    {
      "cell_type": "code",
      "execution_count": 18,
      "metadata": {},
      "outputs": [
        {
          "name": "stdout",
          "output_type": "stream",
          "text": [
            " Akida version:  AkidaVersion.v1\n"
          ]
        },
        {
          "name": "stderr",
          "output_type": "stream",
          "text": [
            "2024-10-01 07:02:53.281214: I tensorflow/compiler/xla/stream_executor/cuda/cuda_gpu_executor.cc:996] successful NUMA node read from SysFS had negative value (-1), but there must be at least one NUMA node, so returning NUMA node zero. See more at https://github.com/torvalds/linux/blob/v6.0/Documentation/ABI/testing/sysfs-bus-pci#L344-L355\n",
            "2024-10-01 07:02:53.284905: I tensorflow/compiler/xla/stream_executor/cuda/cuda_gpu_executor.cc:996] successful NUMA node read from SysFS had negative value (-1), but there must be at least one NUMA node, so returning NUMA node zero. See more at https://github.com/torvalds/linux/blob/v6.0/Documentation/ABI/testing/sysfs-bus-pci#L344-L355\n",
            "2024-10-01 07:02:53.285023: I tensorflow/compiler/xla/stream_executor/cuda/cuda_gpu_executor.cc:996] successful NUMA node read from SysFS had negative value (-1), but there must be at least one NUMA node, so returning NUMA node zero. See more at https://github.com/torvalds/linux/blob/v6.0/Documentation/ABI/testing/sysfs-bus-pci#L344-L355\n",
            "2024-10-01 07:02:53.285955: I tensorflow/compiler/xla/stream_executor/cuda/cuda_gpu_executor.cc:996] successful NUMA node read from SysFS had negative value (-1), but there must be at least one NUMA node, so returning NUMA node zero. See more at https://github.com/torvalds/linux/blob/v6.0/Documentation/ABI/testing/sysfs-bus-pci#L344-L355\n",
            "2024-10-01 07:02:53.286070: I tensorflow/compiler/xla/stream_executor/cuda/cuda_gpu_executor.cc:996] successful NUMA node read from SysFS had negative value (-1), but there must be at least one NUMA node, so returning NUMA node zero. See more at https://github.com/torvalds/linux/blob/v6.0/Documentation/ABI/testing/sysfs-bus-pci#L344-L355\n",
            "2024-10-01 07:02:53.286161: I tensorflow/compiler/xla/stream_executor/cuda/cuda_gpu_executor.cc:996] successful NUMA node read from SysFS had negative value (-1), but there must be at least one NUMA node, so returning NUMA node zero. See more at https://github.com/torvalds/linux/blob/v6.0/Documentation/ABI/testing/sysfs-bus-pci#L344-L355\n",
            "2024-10-01 07:02:53.345800: I tensorflow/compiler/xla/stream_executor/cuda/cuda_gpu_executor.cc:996] successful NUMA node read from SysFS had negative value (-1), but there must be at least one NUMA node, so returning NUMA node zero. See more at https://github.com/torvalds/linux/blob/v6.0/Documentation/ABI/testing/sysfs-bus-pci#L344-L355\n",
            "2024-10-01 07:02:53.345926: I tensorflow/compiler/xla/stream_executor/cuda/cuda_gpu_executor.cc:996] successful NUMA node read from SysFS had negative value (-1), but there must be at least one NUMA node, so returning NUMA node zero. See more at https://github.com/torvalds/linux/blob/v6.0/Documentation/ABI/testing/sysfs-bus-pci#L344-L355\n",
            "2024-10-01 07:02:53.346016: I tensorflow/compiler/xla/stream_executor/cuda/cuda_gpu_executor.cc:996] successful NUMA node read from SysFS had negative value (-1), but there must be at least one NUMA node, so returning NUMA node zero. See more at https://github.com/torvalds/linux/blob/v6.0/Documentation/ABI/testing/sysfs-bus-pci#L344-L355\n",
            "2024-10-01 07:02:53.346097: I tensorflow/core/common_runtime/gpu/gpu_device.cc:1635] Created device /job:localhost/replica:0/task:0/device:GPU:0 with 13473 MB memory:  -> device: 0, name: NVIDIA GeForce RTX 4080 SUPER, pci bus id: 0000:01:00.0, compute capability: 8.9\n"
          ]
        }
      ],
      "source": [
        "# GB: Change Akida version\n",
        "import os\n",
        "import cnn2snn\n",
        "import akida as ak\n",
        "\n",
        "# Change Akida version\n",
        "os.environ[\"CNN2SNN_TARGET_AKIDA_VERSION\"] = \"v1\"\n",
        "\n",
        "# Double-check Avida version\n",
        "print(' Akida version: ', cnn2snn.get_akida_version())"
      ]
    },
    {
      "cell_type": "code",
      "execution_count": 19,
      "metadata": {
        "colab": {
          "base_uri": "https://localhost:8080/"
        },
        "id": "eQASzthacyve",
        "outputId": "5302cd61-dc20-4ccf-80eb-10baa264765d"
      },
      "outputs": [
        {
          "name": "stdout",
          "output_type": "stream",
          "text": [
            "Model: \"akidanet_1.00_224_7\"\n",
            "_________________________________________________________________\n",
            " Layer (type)                Output Shape              Param #   \n",
            "=================================================================\n",
            " input (InputLayer)          [(None, 224, 224, 3)]     0         \n",
            "                                                                 \n",
            " rescaling (Rescaling)       (None, 224, 224, 3)       0         \n",
            "                                                                 \n",
            " conv_0 (Conv2D)             (None, 112, 112, 32)      864       \n",
            "                                                                 \n",
            " conv_0/BN (BatchNormalizati  (None, 112, 112, 32)     128       \n",
            " on)                                                             \n",
            "                                                                 \n",
            " conv_0/relu (ReLU)          (None, 112, 112, 32)      0         \n",
            "                                                                 \n",
            " conv_1 (Conv2D)             (None, 112, 112, 64)      18432     \n",
            "                                                                 \n",
            " conv_1/BN (BatchNormalizati  (None, 112, 112, 64)     256       \n",
            " on)                                                             \n",
            "                                                                 \n",
            " conv_1/relu (ReLU)          (None, 112, 112, 64)      0         \n",
            "                                                                 \n",
            " conv_2 (Conv2D)             (None, 56, 56, 128)       73728     \n",
            "                                                                 \n",
            " conv_2/BN (BatchNormalizati  (None, 56, 56, 128)      512       \n",
            " on)                                                             \n",
            "                                                                 \n",
            " conv_2/relu (ReLU)          (None, 56, 56, 128)       0         \n",
            "                                                                 \n",
            " conv_3 (Conv2D)             (None, 56, 56, 128)       147456    \n",
            "                                                                 \n",
            " conv_3/BN (BatchNormalizati  (None, 56, 56, 128)      512       \n",
            " on)                                                             \n",
            "                                                                 \n",
            " conv_3/relu (ReLU)          (None, 56, 56, 128)       0         \n",
            "                                                                 \n",
            " separable_4 (SeparableConv2  (None, 28, 28, 256)      33920     \n",
            " D)                                                              \n",
            "                                                                 \n",
            " separable_4/BN (BatchNormal  (None, 28, 28, 256)      1024      \n",
            " ization)                                                        \n",
            "                                                                 \n",
            " separable_4/relu (ReLU)     (None, 28, 28, 256)       0         \n",
            "                                                                 \n",
            " separable_5 (SeparableConv2  (None, 28, 28, 256)      67840     \n",
            " D)                                                              \n",
            "                                                                 \n",
            " separable_5/BN (BatchNormal  (None, 28, 28, 256)      1024      \n",
            " ization)                                                        \n",
            "                                                                 \n",
            " separable_5/relu (ReLU)     (None, 28, 28, 256)       0         \n",
            "                                                                 \n",
            " separable_6 (SeparableConv2  (None, 14, 14, 512)      133376    \n",
            " D)                                                              \n",
            "                                                                 \n",
            " separable_6/BN (BatchNormal  (None, 14, 14, 512)      2048      \n",
            " ization)                                                        \n",
            "                                                                 \n",
            " separable_6/relu (ReLU)     (None, 14, 14, 512)       0         \n",
            "                                                                 \n",
            " separable_7 (SeparableConv2  (None, 14, 14, 512)      266752    \n",
            " D)                                                              \n",
            "                                                                 \n",
            " separable_7/BN (BatchNormal  (None, 14, 14, 512)      2048      \n",
            " ization)                                                        \n",
            "                                                                 \n",
            " separable_7/relu (ReLU)     (None, 14, 14, 512)       0         \n",
            "                                                                 \n",
            " separable_8 (SeparableConv2  (None, 14, 14, 512)      266752    \n",
            " D)                                                              \n",
            "                                                                 \n",
            " separable_8/BN (BatchNormal  (None, 14, 14, 512)      2048      \n",
            " ization)                                                        \n",
            "                                                                 \n",
            " separable_8/relu (ReLU)     (None, 14, 14, 512)       0         \n",
            "                                                                 \n",
            " separable_9 (SeparableConv2  (None, 14, 14, 512)      266752    \n",
            " D)                                                              \n",
            "                                                                 \n",
            " separable_9/BN (BatchNormal  (None, 14, 14, 512)      2048      \n",
            " ization)                                                        \n",
            "                                                                 \n",
            " separable_9/relu (ReLU)     (None, 14, 14, 512)       0         \n",
            "                                                                 \n",
            " separable_10 (SeparableConv  (None, 14, 14, 512)      266752    \n",
            " 2D)                                                             \n",
            "                                                                 \n",
            " separable_10/BN (BatchNorma  (None, 14, 14, 512)      2048      \n",
            " lization)                                                       \n",
            "                                                                 \n",
            " separable_10/relu (ReLU)    (None, 14, 14, 512)       0         \n",
            "                                                                 \n",
            " separable_11 (SeparableConv  (None, 14, 14, 512)      266752    \n",
            " 2D)                                                             \n",
            "                                                                 \n",
            " separable_11/BN (BatchNorma  (None, 14, 14, 512)      2048      \n",
            " lization)                                                       \n",
            "                                                                 \n",
            " separable_11/relu (ReLU)    (None, 14, 14, 512)       0         \n",
            "                                                                 \n",
            " separable_12 (SeparableConv  (None, 7, 7, 1024)       528896    \n",
            " 2D)                                                             \n",
            "                                                                 \n",
            " separable_12/BN (BatchNorma  (None, 7, 7, 1024)       4096      \n",
            " lization)                                                       \n",
            "                                                                 \n",
            " separable_12/relu (ReLU)    (None, 7, 7, 1024)        0         \n",
            "                                                                 \n",
            " separable_13 (SeparableConv  (None, 7, 7, 1024)       1057792   \n",
            " 2D)                                                             \n",
            "                                                                 \n",
            " separable_13/global_avg (Gl  (None, 1024)             0         \n",
            " obalAveragePooling2D)                                           \n",
            "                                                                 \n",
            " separable_13/BN (BatchNorma  (None, 1024)             4096      \n",
            " lization)                                                       \n",
            "                                                                 \n",
            " separable_13/relu (ReLU)    (None, 1024)              0         \n",
            "                                                                 \n",
            "=================================================================\n",
            "Total params: 3,420,000\n",
            "Trainable params: 3,408,032\n",
            "Non-trainable params: 11,968\n",
            "_________________________________________________________________\n"
          ]
        }
      ],
      "source": [
        "from akida_models import fetch_file, akidanet_imagenet, mobilenet_imagenet\n",
        "\n",
        "# GB: Things have to be changed here. It shouldn't work with weights coming from v2 but it does.\n",
        "# I thought there were a ready to use model: akidanet_imagenet_pretrained()\n",
        "# In fact, yes, there is: https://doc.brainchipinc.com/api_reference/akida_models_apis.html#akida_models.akidanet_imagenet_pretrained\n",
        "# With 0.5 and False, it should give the expected model.\n",
        "# TO BE CHECKED\n",
        "#base_model = akidanet_imagenet_trained(alpha=0.5, quantized=False)\n",
        "\n",
        "IMG_SIZE = 224\n",
        "# CLASSES = metadata['dx'].unique()\n",
        "CLASSES = 7\n",
        "\n",
        "\n",
        "# Create a base model without top layers\n",
        "base_model = akidanet_imagenet(input_shape=(IMG_SIZE, IMG_SIZE, 3),\n",
        "                               classes=CLASSES,\n",
        "                               alpha=1.0,\n",
        "                               include_top=False,\n",
        "                               pooling='avg')\n",
        "\n",
        "pretrained_weights = 'pretrained_weights/akidanet_imagenet_224.h5'\n",
        "\n",
        "base_model.load_weights(pretrained_weights, by_name=True)\n",
        "base_model.summary()"
      ]
    },
    {
      "cell_type": "code",
      "execution_count": 20,
      "metadata": {
        "colab": {
          "base_uri": "https://localhost:8080/"
        },
        "id": "PDjg0V4Bcyve",
        "outputId": "245523d1-3f32-452d-ded7-998c39900ae9"
      },
      "outputs": [
        {
          "name": "stdout",
          "output_type": "stream",
          "text": [
            "Model: \"akidanet_derma\"\n",
            "_________________________________________________________________\n",
            " Layer (type)                Output Shape              Param #   \n",
            "=================================================================\n",
            " input (InputLayer)          [(None, 224, 224, 3)]     0         \n",
            "                                                                 \n",
            " rescaling (Rescaling)       (None, 224, 224, 3)       0         \n",
            "                                                                 \n",
            " conv_0 (Conv2D)             (None, 112, 112, 32)      864       \n",
            "                                                                 \n",
            " conv_0/BN (BatchNormalizati  (None, 112, 112, 32)     128       \n",
            " on)                                                             \n",
            "                                                                 \n",
            " conv_0/relu (ReLU)          (None, 112, 112, 32)      0         \n",
            "                                                                 \n",
            " conv_1 (Conv2D)             (None, 112, 112, 64)      18432     \n",
            "                                                                 \n",
            " conv_1/BN (BatchNormalizati  (None, 112, 112, 64)     256       \n",
            " on)                                                             \n",
            "                                                                 \n",
            " conv_1/relu (ReLU)          (None, 112, 112, 64)      0         \n",
            "                                                                 \n",
            " conv_2 (Conv2D)             (None, 56, 56, 128)       73728     \n",
            "                                                                 \n",
            " conv_2/BN (BatchNormalizati  (None, 56, 56, 128)      512       \n",
            " on)                                                             \n",
            "                                                                 \n",
            " conv_2/relu (ReLU)          (None, 56, 56, 128)       0         \n",
            "                                                                 \n",
            " conv_3 (Conv2D)             (None, 56, 56, 128)       147456    \n",
            "                                                                 \n",
            " conv_3/BN (BatchNormalizati  (None, 56, 56, 128)      512       \n",
            " on)                                                             \n",
            "                                                                 \n",
            " conv_3/relu (ReLU)          (None, 56, 56, 128)       0         \n",
            "                                                                 \n",
            " separable_4 (SeparableConv2  (None, 28, 28, 256)      33920     \n",
            " D)                                                              \n",
            "                                                                 \n",
            " separable_4/BN (BatchNormal  (None, 28, 28, 256)      1024      \n",
            " ization)                                                        \n",
            "                                                                 \n",
            " separable_4/relu (ReLU)     (None, 28, 28, 256)       0         \n",
            "                                                                 \n",
            " separable_5 (SeparableConv2  (None, 28, 28, 256)      67840     \n",
            " D)                                                              \n",
            "                                                                 \n",
            " separable_5/BN (BatchNormal  (None, 28, 28, 256)      1024      \n",
            " ization)                                                        \n",
            "                                                                 \n",
            " separable_5/relu (ReLU)     (None, 28, 28, 256)       0         \n",
            "                                                                 \n",
            " separable_6 (SeparableConv2  (None, 14, 14, 512)      133376    \n",
            " D)                                                              \n",
            "                                                                 \n",
            " separable_6/BN (BatchNormal  (None, 14, 14, 512)      2048      \n",
            " ization)                                                        \n",
            "                                                                 \n",
            " separable_6/relu (ReLU)     (None, 14, 14, 512)       0         \n",
            "                                                                 \n",
            " separable_7 (SeparableConv2  (None, 14, 14, 512)      266752    \n",
            " D)                                                              \n",
            "                                                                 \n",
            " separable_7/BN (BatchNormal  (None, 14, 14, 512)      2048      \n",
            " ization)                                                        \n",
            "                                                                 \n",
            " separable_7/relu (ReLU)     (None, 14, 14, 512)       0         \n",
            "                                                                 \n",
            " separable_8 (SeparableConv2  (None, 14, 14, 512)      266752    \n",
            " D)                                                              \n",
            "                                                                 \n",
            " separable_8/BN (BatchNormal  (None, 14, 14, 512)      2048      \n",
            " ization)                                                        \n",
            "                                                                 \n",
            " separable_8/relu (ReLU)     (None, 14, 14, 512)       0         \n",
            "                                                                 \n",
            " separable_9 (SeparableConv2  (None, 14, 14, 512)      266752    \n",
            " D)                                                              \n",
            "                                                                 \n",
            " separable_9/BN (BatchNormal  (None, 14, 14, 512)      2048      \n",
            " ization)                                                        \n",
            "                                                                 \n",
            " separable_9/relu (ReLU)     (None, 14, 14, 512)       0         \n",
            "                                                                 \n",
            " separable_10 (SeparableConv  (None, 14, 14, 512)      266752    \n",
            " 2D)                                                             \n",
            "                                                                 \n",
            " separable_10/BN (BatchNorma  (None, 14, 14, 512)      2048      \n",
            " lization)                                                       \n",
            "                                                                 \n",
            " separable_10/relu (ReLU)    (None, 14, 14, 512)       0         \n",
            "                                                                 \n",
            " separable_11 (SeparableConv  (None, 14, 14, 512)      266752    \n",
            " 2D)                                                             \n",
            "                                                                 \n",
            " separable_11/BN (BatchNorma  (None, 14, 14, 512)      2048      \n",
            " lization)                                                       \n",
            "                                                                 \n",
            " separable_11/relu (ReLU)    (None, 14, 14, 512)       0         \n",
            "                                                                 \n",
            " separable_12 (SeparableConv  (None, 7, 7, 1024)       528896    \n",
            " 2D)                                                             \n",
            "                                                                 \n",
            " separable_12/BN (BatchNorma  (None, 7, 7, 1024)       4096      \n",
            " lization)                                                       \n",
            "                                                                 \n",
            " separable_12/relu (ReLU)    (None, 7, 7, 1024)        0         \n",
            "                                                                 \n",
            " separable_13 (SeparableConv  (None, 7, 7, 1024)       1057792   \n",
            " 2D)                                                             \n",
            "                                                                 \n",
            " separable_13/global_avg (Gl  (None, 1024)             0         \n",
            " obalAveragePooling2D)                                           \n",
            "                                                                 \n",
            " separable_13/BN (BatchNorma  (None, 1024)             4096      \n",
            " lization)                                                       \n",
            "                                                                 \n",
            " separable_13/relu (ReLU)    (None, 1024)              0         \n",
            "                                                                 \n",
            " fc1 (Dense)                 (None, 512)               524800    \n",
            "                                                                 \n",
            " fc1/BN (BatchNormalization)  (None, 512)              2048      \n",
            "                                                                 \n",
            " fc1/relu (ReLU)             (None, 512)               0         \n",
            "                                                                 \n",
            " dropout_1 (Dropout)         (None, 512)               0         \n",
            "                                                                 \n",
            " predictions (Dense)         (None, 7)                 3591      \n",
            "                                                                 \n",
            " reshape1 (Reshape)          (None, 7)                 0         \n",
            "                                                                 \n",
            "=================================================================\n",
            "Total params: 3,950,439\n",
            "Trainable params: 3,937,447\n",
            "Non-trainable params: 12,992\n",
            "_________________________________________________________________\n"
          ]
        }
      ],
      "source": [
        "from keras import Model\n",
        "from keras.layers import Activation, Dropout, Reshape\n",
        "from akida_models.layer_blocks import dense_block\n",
        "\n",
        "x = base_model.output\n",
        "x = dense_block(x,\n",
        "                units=512,\n",
        "                name='fc1',\n",
        "                add_batchnorm=True,\n",
        "                # GB: Changed to ReLU 6\n",
        "                #relu_activation='ReLU7.5')\n",
        "                relu_activation='ReLU6')\n",
        "x = Dropout(0.5, name='dropout_1')(x)\n",
        "x = dense_block(x,\n",
        "                units=CLASSES,\n",
        "                name='predictions',\n",
        "                add_batchnorm=False,\n",
        "                relu_activation=False)\n",
        "\n",
        "\n",
        "x = Reshape((CLASSES,), name='reshape1')(x)\n",
        "\n",
        "# Build the model\n",
        "model_keras = Model(base_model.input, x, name='akidanet_derma')\n",
        "\n",
        "model_keras.summary()"
      ]
    },
    {
      "cell_type": "code",
      "execution_count": 21,
      "metadata": {},
      "outputs": [
        {
          "name": "stdout",
          "output_type": "stream",
          "text": [
            "Akida version:  AkidaVersion.v1\n"
          ]
        }
      ],
      "source": [
        "# GB: Adding compatibility check\n",
        "import cnn2snn\n",
        "import akida as ak\n",
        "\n",
        "# Double-check Akida version\n",
        "print('Akida version: ', cnn2snn.get_akida_version())\n",
        "\n",
        "# And HW compatibility?\n",
        "# myDevice = ak.devices()[1]\n",
        "# print(\"Device: \", myDevice.desc)\n",
        "# x = cnn2snn.check_model_compatibility(model=model_keras, device=myDevice)\n",
        "# print(\"Non compatibilities: \", x)"
      ]
    },
    {
      "cell_type": "code",
      "execution_count": 22,
      "metadata": {
        "colab": {
          "base_uri": "https://localhost:8080/",
          "height": 989
        },
        "id": "N5F5Y-Gqcyve",
        "outputId": "dcb1bd6f-72f2-49db-cc0c-d2b7f99f963e"
      },
      "outputs": [
        {
          "name": "stderr",
          "output_type": "stream",
          "text": [
            "/usr/local/lib/python3.8/dist-packages/tensorflow_addons/utils/tfa_eol_msg.py:23: UserWarning: \n",
            "\n",
            "TensorFlow Addons (TFA) has ended development and introduction of new features.\n",
            "TFA has entered a minimal maintenance and release mode until a planned end of life in May 2024.\n",
            "Please modify downstream libraries to take dependencies from other repositories in our TensorFlow community (e.g. Keras, Keras-CV, and Keras-NLP). \n",
            "\n",
            "For more information see: https://github.com/tensorflow/addons/issues/2807 \n",
            "\n",
            "  warnings.warn(\n"
          ]
        },
        {
          "name": "stdout",
          "output_type": "stream",
          "text": [
            "Epoch 1/10\n"
          ]
        },
        {
          "name": "stderr",
          "output_type": "stream",
          "text": [
            "2024-10-01 07:02:54.690299: I tensorflow/core/common_runtime/executor.cc:1197] [/device:CPU:0] (DEBUG INFO) Executor start aborting (this does not indicate an error and you can ignore this message): INVALID_ARGUMENT: You must feed a value for placeholder tensor 'Placeholder/_0' with dtype int32\n",
            "\t [[{{node Placeholder/_0}}]]\n",
            "2024-10-01 07:02:56.827349: I tensorflow/compiler/xla/stream_executor/cuda/cuda_dnn.cc:424] Loaded cuDNN version 8600\n",
            "2024-10-01 07:02:57.558031: I tensorflow/compiler/xla/stream_executor/cuda/cuda_blas.cc:637] TensorFloat-32 will be used for the matrix multiplication. This will only be logged once.\n"
          ]
        },
        {
          "name": "stdout",
          "output_type": "stream",
          "text": [
            "388/388 [==============================] - ETA: 0s - loss: 7.0735 - accuracy: 0.2262"
          ]
        },
        {
          "name": "stderr",
          "output_type": "stream",
          "text": [
            "2024-10-01 07:06:05.853924: I tensorflow/core/common_runtime/executor.cc:1197] [/device:CPU:0] (DEBUG INFO) Executor start aborting (this does not indicate an error and you can ignore this message): INVALID_ARGUMENT: You must feed a value for placeholder tensor 'Placeholder/_0' with dtype int32\n",
            "\t [[{{node Placeholder/_0}}]]\n"
          ]
        },
        {
          "name": "stdout",
          "output_type": "stream",
          "text": [
            "388/388 [==============================] - 194s 490ms/step - loss: 7.0735 - accuracy: 0.2262 - val_loss: 2.8584 - val_accuracy: 0.6647\n",
            "Epoch 2/10\n",
            "388/388 [==============================] - 193s 498ms/step - loss: 3.0084 - accuracy: 0.3619 - val_loss: 2.5883 - val_accuracy: 0.6637\n",
            "Epoch 3/10\n",
            "388/388 [==============================] - 194s 499ms/step - loss: 2.5750 - accuracy: 0.3486 - val_loss: 2.6453 - val_accuracy: 0.2246\n",
            "Epoch 4/10\n",
            "388/388 [==============================] - 194s 500ms/step - loss: 2.4733 - accuracy: 0.2499 - val_loss: 1.9687 - val_accuracy: 0.3224\n",
            "Epoch 5/10\n",
            "388/388 [==============================] - 193s 497ms/step - loss: 2.2251 - accuracy: 0.2442 - val_loss: 1.8929 - val_accuracy: 0.3014\n",
            "Epoch 6/10\n",
            "388/388 [==============================] - 192s 496ms/step - loss: 2.1624 - accuracy: 0.2395 - val_loss: 2.0559 - val_accuracy: 0.2495\n",
            "Epoch 7/10\n",
            "388/388 [==============================] - 193s 498ms/step - loss: 2.0998 - accuracy: 0.2619 - val_loss: 1.9623 - val_accuracy: 0.4411\n",
            "Epoch 8/10\n",
            "388/388 [==============================] - 192s 493ms/step - loss: 2.1755 - accuracy: 0.2786 - val_loss: 2.0666 - val_accuracy: 0.1846\n",
            "Epoch 9/10\n",
            "388/388 [==============================] - 192s 494ms/step - loss: 2.2253 - accuracy: 0.2295 - val_loss: 2.1901 - val_accuracy: 0.1657\n",
            "Epoch 10/10\n",
            "388/388 [==============================] - 190s 490ms/step - loss: 2.1498 - accuracy: 0.2182 - val_loss: 2.0722 - val_accuracy: 0.2056\n"
          ]
        },
        {
          "data": {
            "image/png": "[encoded data removed]",
            "text/plain": [
              "<Figure size 1200x500 with 2 Axes>"
            ]
          },
          "metadata": {},
          "output_type": "display_data"
        }
      ],
      "source": [
        "import tensorflow as tf\n",
        "from tensorflow.keras.optimizers import RMSprop, Adam, AdamW\n",
        "from tensorflow.keras.losses import SparseCategoricalCrossentropy, BinaryCrossentropy, CategoricalCrossentropy\n",
        "from tensorflow.keras.callbacks import ModelCheckpoint, EarlyStopping\n",
        "import tensorflow_addons as tfa\n",
        "\n",
        "# Setting up the learning rate schedule\n",
        "initial_learning_rate = 1e-3\n",
        "final_learning_rate = 1e-5\n",
        "decay_steps = 10\n",
        "lr_schedule = tf.keras.optimizers.schedules.ExponentialDecay(\n",
        "    initial_learning_rate,\n",
        "    decay_steps,\n",
        "    decay_rate=(final_learning_rate / initial_learning_rate) ** (1 / decay_steps),\n",
        "    staircase=True)\n",
        "\n",
        "# Configuring the optimizer\n",
        "# optimizer = RAdam(learning_rate=lr_schedule)\n",
        "\n",
        "# optimizer = RMSprop(\n",
        "#     learning_rate=1e-3,\n",
        "#     rho=0.9,\n",
        "#     momentum=0.0,\n",
        "#     epsilon=1e-7\n",
        "# )\n",
        "\n",
        "# optimizer = AdamW(learning_rate = lr_schedule, weight_decay=0.1)\n",
        "\n",
        "optimizer = tfa.optimizers.RectifiedAdam(\n",
        "    learning_rate=1e-3,  # Start with your current learning rate\n",
        "    total_steps=10000,  # Total number of training steps\n",
        "    warmup_proportion=0.1,  # 10% of the steps are used for learning rate warmup\n",
        "    min_lr=1e-5,  # The minimum learning rate after decay\n",
        "    weight_decay=0.01\n",
        ")\n",
        "\n",
        "# Compiling the model\n",
        "model_keras.compile(\n",
        "    optimizer=optimizer,\n",
        "    loss=SparseCategoricalCrossentropy(),\n",
        "    metrics=['accuracy'])\n",
        "\n",
        "# Setting up callbacks for saving the model and early stopping\n",
        "checkpoint_cb = ModelCheckpoint(\n",
        "    'akidanet_derma_best.h5', save_best_only=True)\n",
        "early_stopping_cb = EarlyStopping(\n",
        "    patience=5, restore_best_weights=True)\n",
        "\n",
        "# GB: To change nb of epochs \n",
        "# (on CPU, 1 epoch lasts 22 min, so 10 is 4 hours long)\n",
        "EPOCHS = 10 # Initial value: 10\n",
        "\n",
        "# Training the model\n",
        "history = model_keras.fit(\n",
        "    train_gen,\n",
        "    epochs=EPOCHS,\n",
        "    validation_data=test_gen,\n",
        "    callbacks=[checkpoint_cb, early_stopping_cb])\n",
        "\n",
        "\n",
        "# Optionally, plot the training history\n",
        "import matplotlib.pyplot as plt\n",
        "\n",
        "plt.figure(figsize=(12, 5))\n",
        "plt.subplot(1, 2, 1)\n",
        "plt.plot(history.history['accuracy'], label='Training Accuracy')\n",
        "plt.plot(history.history['val_accuracy'], label='Validation Accuracy')\n",
        "plt.title('Accuracy over Epochs')\n",
        "plt.xlabel('Epoch')\n",
        "plt.ylabel('Accuracy')\n",
        "plt.legend()\n",
        "\n",
        "plt.subplot(1, 2, 2)\n",
        "plt.plot(history.history['loss'], label='Training Loss')\n",
        "plt.plot(history.history['val_loss'], label='Validation Loss')\n",
        "plt.title('Loss over Epochs')\n",
        "plt.xlabel('Epoch')\n",
        "plt.ylabel('Loss')\n",
        "plt.legend()\n",
        "plt.show()"
      ]
    },
    {
      "cell_type": "code",
      "execution_count": 23,
      "metadata": {},
      "outputs": [
        {
          "name": "stderr",
          "output_type": "stream",
          "text": [
            "2024-10-01 07:35:02.879722: I tensorflow/core/common_runtime/executor.cc:1197] [/device:CPU:0] (DEBUG INFO) Executor start aborting (this does not indicate an error and you can ignore this message): INVALID_ARGUMENT: You must feed a value for placeholder tensor 'Placeholder/_0' with dtype int32\n",
            "\t [[{{node Placeholder/_0}}]]\n"
          ]
        },
        {
          "name": "stdout",
          "output_type": "stream",
          "text": [
            "388/388 [==============================] - 191s 491ms/step\n"
          ]
        },
        {
          "name": "stderr",
          "output_type": "stream",
          "text": [
            "2024-10-01 07:38:13.907016: I tensorflow/core/common_runtime/executor.cc:1197] [/device:CPU:0] (DEBUG INFO) Executor start aborting (this does not indicate an error and you can ignore this message): INVALID_ARGUMENT: You must feed a value for placeholder tensor 'Placeholder/_0' with dtype int32\n",
            "\t [[{{node Placeholder/_0}}]]\n"
          ]
        },
        {
          "name": "stdout",
          "output_type": "stream",
          "text": [
            "11/11 [==============================] - 3s 233ms/step\n"
          ]
        },
        {
          "data": {
            "image/png": "[encoded data removed]",
            "text/plain": [
              "<Figure size 1200x500 with 4 Axes>"
            ]
          },
          "metadata": {},
          "output_type": "display_data"
        }
      ],
      "source": [
        "from sklearn.metrics import confusion_matrix, ConfusionMatrixDisplay\n",
        "\n",
        "# Obtain predictions for the training and validation datasets\n",
        "train_predictions = np.argmax(model_keras.predict(train_gen), axis=-1)\n",
        "val_predictions = np.argmax(model_keras.predict(test_gen), axis=-1)\n",
        "\n",
        "# Get true labels from the generators\n",
        "train_labels = train_gen.classes\n",
        "val_labels = test_gen.classes\n",
        "\n",
        "# Compute confusion matrices\n",
        "train_cm = confusion_matrix(train_labels, train_predictions)\n",
        "val_cm = confusion_matrix(val_labels, val_predictions)\n",
        "\n",
        "# Plot confusion matrix for training data\n",
        "plt.figure(figsize=(12, 5))\n",
        "plt.subplot(1, 2, 1)\n",
        "ConfusionMatrixDisplay(confusion_matrix=train_cm).plot(cmap='Blues', ax=plt.gca())\n",
        "plt.title('Confusion Matrix for Training Data')\n",
        "\n",
        "# Plot confusion matrix for validation data\n",
        "plt.subplot(1, 2, 2)\n",
        "ConfusionMatrixDisplay(confusion_matrix=val_cm).plot(cmap='Blues', ax=plt.gca())\n",
        "plt.title('Confusion Matrix for Validation Data')\n",
        "\n",
        "plt.tight_layout()\n",
        "plt.show()"
      ]
    },
    {
      "cell_type": "code",
      "execution_count": 24,
      "metadata": {
        "id": "2QzPQOyLcyve"
      },
      "outputs": [],
      "source": [
        "# Function to convert generator to tf.data.Dataset\n",
        "def format_example(image, label):\n",
        "    image = tf.cast(image, tf.float32)\n",
        "    image = tf.image.resize(image, (IMG_SIZE, IMG_SIZE))\n",
        "    return image, label\n",
        "\n",
        "# Create a Dataset from the generator\n",
        "train_dataset = tf.data.Dataset.from_generator(\n",
        "    lambda: train_gen,\n",
        "    output_signature=(\n",
        "        tf.TensorSpec(shape=(None, 224, 224, 3), dtype=tf.float32),\n",
        "        tf.TensorSpec(shape=(None,), dtype=tf.int32)\n",
        "    )\n",
        ")\n",
        "\n",
        "train_dataset = train_dataset.map(format_example, num_parallel_calls=tf.data.AUTOTUNE)\n",
        "\n",
        "# Define batch size and batch the dataset\n",
        "BATCH_SIZE = 16\n",
        "train_batches = train_dataset.unbatch().batch(BATCH_SIZE)"
      ]
    },
    {
      "cell_type": "markdown",
      "metadata": {},
      "source": [
        "## Quantize Model"
      ]
    },
    {
      "cell_type": "code",
      "execution_count": 25,
      "metadata": {
        "colab": {
          "base_uri": "https://localhost:8080/"
        },
        "id": "L7Je8qWHcyve",
        "outputId": "531ed6b0-856f-49d4-cdb0-e11f13dc67b9"
      },
      "outputs": [
        {
          "name": "stderr",
          "output_type": "stream",
          "text": [
            "2024-10-01 07:38:24.406989: I tensorflow/core/common_runtime/executor.cc:1197] [/device:CPU:0] (DEBUG INFO) Executor start aborting (this does not indicate an error and you can ignore this message): INVALID_ARGUMENT: You must feed a value for placeholder tensor 'Placeholder/_0' with dtype int32\n",
            "\t [[{{node Placeholder/_0}}]]\n"
          ]
        },
        {
          "name": "stdout",
          "output_type": "stream",
          "text": [
            "64/64 [==============================] - 6s 75ms/step\n",
            "64/64 [==============================] - 6s 79ms/step\n"
          ]
        }
      ],
      "source": [
        "from quantizeml.models import quantize, QuantizationParams, dump_config\n",
        "\n",
        "# Prepare a quantization scheme: first layer weights to 8-bit, other weights and activation to 4-bit\n",
        "\n",
        "# GB: Parameter per_tensor_activation = False, really? fot v1 models, you need to set this parameter to True, by default, it's False-> quantizeml.models.quantize(..., per_tensor_activations=False)\n",
        "#qparams = QuantizationParams(input_weight_bits=8, weight_bits=4, activation_bits=4)\n",
        "qparams = QuantizationParams(input_weight_bits=8, per_tensor_activations=True, weight_bits=4, activation_bits=4)\n",
        "\n",
        "# Quantize the model, using the 1024 calibration samples from the train set and calibrate over 2\n",
        "# epochs with a batch_size of 100.\n",
        "model_quantized = quantize(model_keras, qparams=qparams, \n",
        "                           samples=train_batches, epochs=2, batch_size=BATCH_SIZE, num_samples=1024)\n"
      ]
    },
    {
      "cell_type": "code",
      "execution_count": 26,
      "metadata": {
        "id": "bCp5tQLYcyvf"
      },
      "outputs": [],
      "source": [
        "test_dataset = tf.data.Dataset.from_generator(\n",
        "    lambda: test_gen,\n",
        "    output_signature=(\n",
        "        tf.TensorSpec(shape=(None, 224, 224, 3), dtype=tf.float32),\n",
        "        tf.TensorSpec(shape=(None,), dtype=tf.int32)\n",
        "    )\n",
        ")\n",
        "\n",
        "test_dataset = test_dataset.map(format_example, num_parallel_calls=tf.data.AUTOTUNE)\n",
        "\n",
        "# Define batch size and batch the dataset\n",
        "BATCH_SIZE = 32\n",
        "test_batches = test_dataset.unbatch().batch(BATCH_SIZE)"
      ]
    },
    {
      "cell_type": "code",
      "execution_count": 27,
      "metadata": {
        "colab": {
          "base_uri": "https://localhost:8080/"
        },
        "id": "R1ikc41CY_SS",
        "outputId": "e8174abf-bb56-4fab-a724-4d4e8eea19eb"
      },
      "outputs": [
        {
          "name": "stdout",
          "output_type": "stream",
          "text": [
            "(1002, 224, 224, 3)\n",
            "(1002,)\n"
          ]
        }
      ],
      "source": [
        "import numpy as np\n",
        "\n",
        "def generator_to_numpy(generator):\n",
        "    images_list = []\n",
        "    labels_list = []\n",
        "\n",
        "    # Iterate through the generator\n",
        "    for _ in range(len(generator)):\n",
        "        images, labels = generator.next()\n",
        "        images_list.append(images)\n",
        "        labels_list.append(labels)\n",
        "\n",
        "    # Concatenate lists into numpy arrays\n",
        "    x_test = np.concatenate(images_list, axis=0)\n",
        "    labels_test = np.concatenate(labels_list, axis=0)\n",
        "\n",
        "    return x_test, labels_test\n",
        "\n",
        "# Example usage with test_gen\n",
        "x_test, labels_test = generator_to_numpy(test_gen)\n",
        "\n",
        "# Ensure the shapes are correct\n",
        "print(x_test.shape)  # Should be (num_samples, 224, 224, 3)\n",
        "print(labels_test.shape)  # Should be (num_samples,)\n"
      ]
    },
    {
      "cell_type": "code",
      "execution_count": 28,
      "metadata": {
        "colab": {
          "base_uri": "https://localhost:8080/"
        },
        "id": "ElEHjD2baJca",
        "outputId": "fab08438-18c1-49d9-b173-7e6368a05c50"
      },
      "outputs": [
        {
          "name": "stderr",
          "output_type": "stream",
          "text": [
            "2024-10-01 07:38:41.738722: W tensorflow/core/grappler/optimizers/loop_optimizer.cc:907] Skipping loop optimization for Merge node with control input: akidanet_derma/conv_0/aligned_weight_quantizer/assert_less/Assert/AssertGuard/branch_executed/_25\n"
          ]
        },
        {
          "name": "stdout",
          "output_type": "stream",
          "text": [
            "11/11 [==============================] - 4s 94ms/step\n",
            "Keras inference on 1002 images took 4.09 s.\n",
            "\n",
            "Keras accuracy: 292/1002.\n"
          ]
        },
        {
          "data": {
            "image/png": "[encoded data removed]",
            "text/plain": [
              "<Figure size 1000x800 with 2 Axes>"
            ]
          },
          "metadata": {},
          "output_type": "display_data"
        }
      ],
      "source": [
        "import matplotlib.pyplot as plt\n",
        "import seaborn as sns\n",
        "from sklearn.metrics import confusion_matrix\n",
        "\n",
        "from timeit import default_timer as timer\n",
        "\n",
        "# Compile the model with the specified metric\n",
        "model_quantized.compile(metrics=['accuracy'])\n",
        "\n",
        "# Get the number of images in the test dataset\n",
        "num_images = len(x_test)\n",
        "\n",
        "# Measure the time taken for Keras inference\n",
        "start = timer()\n",
        "potentials_keras = model_quantized.predict(x_test, batch_size=100)\n",
        "end = timer()\n",
        "print(f'Keras inference on {num_images} images took {end-start:.2f} s.\\n')\n",
        "\n",
        "# Get the predicted labels from the model output\n",
        "preds_keras = np.squeeze(np.argmax(potentials_keras, 1))\n",
        "\n",
        "# Calculate the accuracy\n",
        "accuracy_keras = np.sum(np.equal(preds_keras, labels_test)) / num_images\n",
        "print(f\"Keras accuracy: {accuracy_keras*num_images:.0f}/{num_images}.\")\n",
        "\n",
        "# Generate the confusion matrix\n",
        "cm = confusion_matrix(labels_test, preds_keras)\n",
        "\n",
        "# Plot the confusion matrix using seaborn heatmap\n",
        "plt.figure(figsize=(10, 8))\n",
        "sns.heatmap(cm, annot=True, fmt='d', cmap='Blues', xticklabels=np.unique(labels_test), yticklabels=np.unique(labels_test))\n",
        "plt.xlabel('Predicted Label')\n",
        "plt.ylabel('True Label')\n",
        "plt.title('Confusion Matrix')\n",
        "plt.show()"
      ]
    },
    {
      "cell_type": "code",
      "execution_count": 29,
      "metadata": {},
      "outputs": [
        {
          "name": "stdout",
          "output_type": "stream",
          "text": [
            "11/11 [==============================] - 0s 23ms/step\n",
            "Keras inference on 1002 images took 0.62 s.\n",
            "\n",
            "Keras accuracy: 302/1002.\n"
          ]
        }
      ],
      "source": [
        "# GB: Adding Keras Floating-point accuracy to compare with previous one\n",
        "\n",
        "model_keras.compile(metrics=['accuracy'])\n",
        "\n",
        "num_images = len(x_test)\n",
        "\n",
        "start = timer()\n",
        "potentials_keras = model_keras.predict(x_test, batch_size=100)\n",
        "end = timer()\n",
        "print(f'Keras inference on {num_images} images took {end-start:.2f} s.\\n')\n",
        "\n",
        "preds_keras = np.squeeze(np.argmax(potentials_keras, 1))\n",
        "accuracy_keras = np.sum(np.equal(preds_keras, labels_test)) / num_images\n",
        "print(f\"Keras accuracy: {accuracy_keras*num_images:.0f}/{num_images}.\")"
      ]
    },
    {
      "cell_type": "code",
      "execution_count": 30,
      "metadata": {
        "id": "rH9dwWw8RSge"
      },
      "outputs": [],
      "source": [
        "# GB: Name changed\n",
        "model_quantized.save('model_quantized_v1.h5')"
      ]
    },
    {
      "cell_type": "code",
      "execution_count": 31,
      "metadata": {
        "colab": {
          "base_uri": "https://localhost:8080/"
        },
        "id": "vg9v4oqlcyvf",
        "outputId": "fd01df0c-ac21-486f-e381-1d949a92a533"
      },
      "outputs": [
        {
          "name": "stdout",
          "output_type": "stream",
          "text": [
            "WARNING:tensorflow:5 out of the last 5 calls to <function NonTrackVariable.set_var at 0x73e1b6b2baf0> triggered tf.function retracing. Tracing is expensive and the excessive number of tracings could be due to (1) creating @tf.function repeatedly in a loop, (2) passing tensors with different shapes, (3) passing Python objects instead of tensors. For (1), please define your @tf.function outside of the loop. For (2), @tf.function has reduce_retracing=True option that can avoid unnecessary retracing. For (3), please refer to https://www.tensorflow.org/guide/function#controlling_retracing and https://www.tensorflow.org/api_docs/python/tf/function for  more details.\n",
            "WARNING:tensorflow:6 out of the last 6 calls to <function NonTrackVariable.set_var at 0x73e1b6bcde50> triggered tf.function retracing. Tracing is expensive and the excessive number of tracings could be due to (1) creating @tf.function repeatedly in a loop, (2) passing tensors with different shapes, (3) passing Python objects instead of tensors. For (1), please define your @tf.function outside of the loop. For (2), @tf.function has reduce_retracing=True option that can avoid unnecessary retracing. For (3), please refer to https://www.tensorflow.org/guide/function#controlling_retracing and https://www.tensorflow.org/api_docs/python/tf/function for  more details.\n"
          ]
        },
        {
          "name": "stderr",
          "output_type": "stream",
          "text": [
            "/usr/local/lib/python3.8/dist-packages/cnn2snn/transforms/act_step_equalization.py:89: UserWarning: Warning: The separable_10 layer holds very high threshold                           values which are not compatible with the hardware. Those are clipped                           to the maximum supported value 524287.\n",
            "  warnings.warn(f\"Warning: The {layer.name} layer holds very high threshold \\\n",
            "/usr/local/lib/python3.8/dist-packages/cnn2snn/transforms/act_step_equalization.py:89: UserWarning: Warning: The separable_11 layer holds very high threshold                           values which are not compatible with the hardware. Those are clipped                           to the maximum supported value 524287.\n",
            "  warnings.warn(f\"Warning: The {layer.name} layer holds very high threshold \\\n"
          ]
        }
      ],
      "source": [
        "import numpy as np\n",
        "from cnn2snn import convert\n",
        "\n",
        "model_akida = convert(model_quantized)\n"
      ]
    },
    {
      "cell_type": "code",
      "execution_count": 32,
      "metadata": {
        "colab": {
          "base_uri": "https://localhost:8080/"
        },
        "id": "pRhA4N6ra8X3",
        "outputId": "924a2912-03ed-4788-ed05-639c72a8ff8d"
      },
      "outputs": [
        {
          "name": "stdout",
          "output_type": "stream",
          "text": [
            "                 Model Summary                  \n",
            "________________________________________________\n",
            "Input shape    Output shape  Sequences  Layers\n",
            "================================================\n",
            "[224, 224, 3]  [1, 1, 7]     1          16    \n",
            "________________________________________________\n",
            "\n",
            "______________________________________________________________\n",
            "Layer (type)              Output shape    Kernel shape      \n",
            "\n",
            "============== SW/conv_0-predictions (Software) ==============\n",
            "\n",
            "conv_0 (InputConv.)       [112, 112, 32]  (3, 3, 3, 32)     \n",
            "______________________________________________________________\n",
            "conv_1 (Conv.)            [112, 112, 64]  (3, 3, 32, 64)    \n",
            "______________________________________________________________\n",
            "conv_2 (Conv.)            [56, 56, 128]   (3, 3, 64, 128)   \n",
            "______________________________________________________________\n",
            "conv_3 (Conv.)            [56, 56, 128]   (3, 3, 128, 128)  \n",
            "______________________________________________________________\n",
            "separable_4 (Sep.Conv.)   [28, 28, 256]   (3, 3, 128, 1)    \n",
            "______________________________________________________________\n",
            "                                          (1, 1, 128, 256)  \n",
            "______________________________________________________________\n",
            "separable_5 (Sep.Conv.)   [28, 28, 256]   (3, 3, 256, 1)    \n",
            "______________________________________________________________\n",
            "                                          (1, 1, 256, 256)  \n",
            "______________________________________________________________\n",
            "separable_6 (Sep.Conv.)   [14, 14, 512]   (3, 3, 256, 1)    \n",
            "______________________________________________________________\n",
            "                                          (1, 1, 256, 512)  \n",
            "______________________________________________________________\n",
            "separable_7 (Sep.Conv.)   [14, 14, 512]   (3, 3, 512, 1)    \n",
            "______________________________________________________________\n",
            "                                          (1, 1, 512, 512)  \n",
            "______________________________________________________________\n",
            "separable_8 (Sep.Conv.)   [14, 14, 512]   (3, 3, 512, 1)    \n",
            "______________________________________________________________\n",
            "                                          (1, 1, 512, 512)  \n",
            "______________________________________________________________\n",
            "separable_9 (Sep.Conv.)   [14, 14, 512]   (3, 3, 512, 1)    \n",
            "______________________________________________________________\n",
            "                                          (1, 1, 512, 512)  \n",
            "______________________________________________________________\n",
            "separable_10 (Sep.Conv.)  [14, 14, 512]   (3, 3, 512, 1)    \n",
            "______________________________________________________________\n",
            "                                          (1, 1, 512, 512)  \n",
            "______________________________________________________________\n",
            "separable_11 (Sep.Conv.)  [14, 14, 512]   (3, 3, 512, 1)    \n",
            "______________________________________________________________\n",
            "                                          (1, 1, 512, 512)  \n",
            "______________________________________________________________\n",
            "separable_12 (Sep.Conv.)  [7, 7, 1024]    (3, 3, 512, 1)    \n",
            "______________________________________________________________\n",
            "                                          (1, 1, 512, 1024) \n",
            "______________________________________________________________\n",
            "separable_13 (Sep.Conv.)  [1, 1, 1024]    (3, 3, 1024, 1)   \n",
            "______________________________________________________________\n",
            "                                          (1, 1, 1024, 1024)\n",
            "______________________________________________________________\n",
            "fc1 (Fully.)              [1, 1, 512]     (1, 1, 1024, 512) \n",
            "______________________________________________________________\n",
            "predictions (Fully.)      [1, 1, 7]       (1, 1, 512, 7)    \n",
            "______________________________________________________________\n"
          ]
        }
      ],
      "source": [
        "model_akida.summary()"
      ]
    },
    {
      "cell_type": "code",
      "execution_count": 33,
      "metadata": {
        "colab": {
          "base_uri": "https://localhost:8080/"
        },
        "id": "P4SB5kN_R-EX",
        "outputId": "5c9188b1-3bb5-4c0b-e1a6-cf0f5b271f1f"
      },
      "outputs": [],
      "source": [
        "# GB: I do not understand this block, I guess you skip it in normal flow, or you start here ...\n",
        "\n",
        "# from tensorflow.keras.models import load_model\n",
        "# from akida_models import load_model\n",
        "\n",
        "# model_path = 'model_akida_v1.fbz'\n",
        "# model_akida = load_model(model_path)\n",
        "\n",
        "# model_akida.summary()"
      ]
    },
    {
      "cell_type": "code",
      "execution_count": 34,
      "metadata": {
        "id": "kTQpG6TQ2V26"
      },
      "outputs": [],
      "source": [
        "# GB: Change model name to v1\n",
        "model_akida.save('model_akida_v1.fbz')"
      ]
    },
    {
      "cell_type": "code",
      "execution_count": 35,
      "metadata": {},
      "outputs": [],
      "source": [
        "# GB: Get device (again)\n",
        "# myDevice = ak.devices()[1]\n",
        "# print('Device: ', myDevice.desc)\n",
        "# model_akida.map(myDevice)\n",
        "# model_akida.summary()"
      ]
    },
    {
      "cell_type": "code",
      "execution_count": 36,
      "metadata": {
        "colab": {
          "base_uri": "https://localhost:8080/"
        },
        "id": "-SM6BVn6bBEq",
        "outputId": "232d5726-1365-48c9-9eea-3d2c1ab7063f"
      },
      "outputs": [
        {
          "name": "stdout",
          "output_type": "stream",
          "text": [
            "Inference on 1002 images took 9.73 s.\n",
            "\n",
            "Accuracy: 289/1002.\n"
          ]
        }
      ],
      "source": [
        "# Check Model performance\n",
        "start = timer()\n",
        "accuracy_akida = model_akida.evaluate(x_test, labels_test)\n",
        "end = timer()\n",
        "print(f'Inference on {num_images} images took {end-start:.2f} s.\\n')\n",
        "print(f\"Accuracy: {accuracy_akida*num_images:.0f}/{num_images}.\")"
      ]
    },
    {
      "cell_type": "code",
      "execution_count": 37,
      "metadata": {
        "colab": {
          "base_uri": "https://localhost:8080/"
        },
        "id": "Ye3VoQishRAm",
        "outputId": "eddf1af8-8ecf-4500-db35-6cd0a6859271"
      },
      "outputs": [
        {
          "name": "stdout",
          "output_type": "stream",
          "text": [
            "Number of samples: 1002\n",
            "Number of samples per class in the test generator:\n",
            "akiec: 33\n",
            "bcc: 51\n",
            "bkl: 110\n",
            "df: 12\n",
            "mel: 111\n",
            "nv: 671\n",
            "vasc: 14\n"
          ]
        }
      ],
      "source": [
        "import numpy as np\n",
        "\n",
        "\n",
        "# Get the class indices for each sample\n",
        "class_indices = test_gen.classes\n",
        "\n",
        "# Get the mapping from class names to indices\n",
        "class_indices_mapping = test_gen.class_indices\n",
        "\n",
        "# Create a reverse mapping from indices to class names\n",
        "index_to_class = {v: k for k, v in class_indices_mapping.items()}\n",
        "\n",
        "# Count the number of samples for each class\n",
        "class_counts = np.bincount(class_indices)\n",
        "\n",
        "# Print the number of samples for each class\n",
        "print(\"Number of samples:\", test_gen.samples)\n",
        "print(\"Number of samples per class in the test generator:\")\n",
        "for class_index, count in enumerate(class_counts):\n",
        "    class_name = index_to_class[class_index]\n",
        "    print(f\"{class_name}: {count}\")\n"
      ]
    },
    {
      "cell_type": "code",
      "execution_count": 38,
      "metadata": {
        "colab": {
          "base_uri": "https://localhost:8080/",
          "height": 408
        },
        "id": "U9xeFk0meWOC",
        "outputId": "7ef90e9d-2de6-4f10-8587-c2c58d1d6cb3"
      },
      "outputs": [
        {
          "ename": "IndexError",
          "evalue": "list index out of range",
          "output_type": "error",
          "traceback": [
            "\u001b[0;31m---------------------------------------------------------------------------\u001b[0m",
            "\u001b[0;31mIndexError\u001b[0m                                Traceback (most recent call last)",
            "Cell \u001b[0;32mIn[38], line 132\u001b[0m\n\u001b[1;32m    129\u001b[0m \u001b[38;5;66;03m# GB: Added, because of last layer activation function\u001b[39;00m\n\u001b[1;32m    130\u001b[0m true_label \u001b[38;5;241m=\u001b[39m \u001b[38;5;28mint\u001b[39m(true_label)\n\u001b[0;32m--> 132\u001b[0m top5, yvals, class_name \u001b[38;5;241m=\u001b[39m \u001b[43mget_top5\u001b[49m\u001b[43m(\u001b[49m\u001b[43moutputs_akida\u001b[49m\u001b[43m,\u001b[49m\u001b[43m \u001b[49m\u001b[43mtrue_label\u001b[49m\u001b[43m)\u001b[49m\n\u001b[1;32m    133\u001b[0m \u001b[38;5;28mprint\u001b[39m(top5)\n\u001b[1;32m    134\u001b[0m \u001b[38;5;28mprint\u001b[39m(yvals)\n",
            "Cell \u001b[0;32mIn[38], line 35\u001b[0m, in \u001b[0;36mget_top5\u001b[0;34m(potentials, true_label)\u001b[0m\n\u001b[1;32m     33\u001b[0m class_name \u001b[38;5;241m=\u001b[39m []\n\u001b[1;32m     34\u001b[0m \u001b[38;5;28;01mfor\u001b[39;00m ii \u001b[38;5;129;01min\u001b[39;00m \u001b[38;5;28mrange\u001b[39m(\u001b[38;5;241m5\u001b[39m):\n\u001b[0;32m---> 35\u001b[0m     class_name\u001b[38;5;241m.\u001b[39mappend(\u001b[43mclass_names\u001b[49m\u001b[43m[\u001b[49m\u001b[43mtop5\u001b[49m\u001b[43m[\u001b[49m\u001b[43mii\u001b[49m\u001b[43m]\u001b[49m\u001b[43m]\u001b[49m)\n\u001b[1;32m     36\u001b[0m \u001b[38;5;28;01mif\u001b[39;00m true_label \u001b[38;5;129;01min\u001b[39;00m top5:\n\u001b[1;32m     37\u001b[0m     class_name\u001b[38;5;241m.\u001b[39mappend(\u001b[38;5;124m'\u001b[39m\u001b[38;5;124m'\u001b[39m)\n",
            "\u001b[0;31mIndexError\u001b[0m: list index out of range"
          ]
        },
        {
          "data": {
            "image/png": "[encoded data removed]",
            "text/plain": [
              "<Figure size 800x400 with 2 Axes>"
            ]
          },
          "metadata": {},
          "output_type": "display_data"
        }
      ],
      "source": [
        "import matplotlib.pyplot as plt\n",
        "import matplotlib.lines as lines\n",
        "from akida_models.imagenet import preprocessing\n",
        "\n",
        "class_names = ['Cancerous', 'Benign']\n",
        "\n",
        "IMAGE_SIZE = 224\n",
        "NUM_CHANNELS = 3\n",
        "\n",
        "# Functions used to display the top5 results\n",
        "def get_top5(potentials, true_label):\n",
        "    \"\"\"\n",
        "    Returns the top 5 classes from the output potentials\n",
        "    \"\"\"\n",
        "    tmp_pots = potentials.copy()\n",
        "    top5 = []\n",
        "    min_val = np.min(tmp_pots)\n",
        "    for ii in range(5):\n",
        "        best = np.argmax(tmp_pots)\n",
        "        top5.append(best)\n",
        "        tmp_pots[best] = min_val\n",
        "\n",
        "    vals = np.zeros((6,))\n",
        "    vals[:5] = potentials[top5]\n",
        "\n",
        "    if true_label not in top5:\n",
        "        vals[5] = potentials[true_label]\n",
        "    else:\n",
        "        vals[5] = 0\n",
        "\n",
        "    vals /= np.max(vals)\n",
        "\n",
        "    class_name = []\n",
        "    for ii in range(5):\n",
        "        class_name.append(class_names[top5[ii]])\n",
        "    if true_label in top5:\n",
        "        class_name.append('')\n",
        "    else:\n",
        "        class_name.append(\n",
        "            class_names[true_label])\n",
        "\n",
        "    return top5, vals, class_name\n",
        "\n",
        "\n",
        "def adjust_spines(ax, spines):\n",
        "    for loc, spine in ax.spines.items():\n",
        "        if loc in spines:\n",
        "            spine.set_position(('outward', 10))  # outward by 10 points\n",
        "        else:\n",
        "            spine.set_color('none')  # don't draw spine\n",
        "    # turn off ticks where there is no spine\n",
        "    if 'left' in spines:\n",
        "        ax.yaxis.set_ticks_position('left')\n",
        "    else:\n",
        "        # no yaxis ticks\n",
        "        ax.yaxis.set_ticks([])\n",
        "    if 'bottom' in spines:\n",
        "        ax.xaxis.set_ticks_position('bottom')\n",
        "    else:\n",
        "        # no xaxis ticks\n",
        "        ax.xaxis.set_ticks([])\n",
        "\n",
        "\n",
        "def prepare_plots():\n",
        "    fig = plt.figure(figsize=(8, 4))\n",
        "    # Image subplot\n",
        "    ax0 = plt.subplot(1, 3, 1)\n",
        "    imgobj = ax0.imshow(np.zeros((IMAGE_SIZE, IMAGE_SIZE, NUM_CHANNELS), dtype=np.uint8))\n",
        "    ax0.set_axis_off()\n",
        "    # Top 5 results subplot\n",
        "    ax1 = plt.subplot(1, 2, 2)\n",
        "    bar_positions = (0, 1, 2, 3, 4, 6)\n",
        "    rects = ax1.barh(bar_positions, np.zeros((6,)), align='center', height=0.5)\n",
        "    plt.xlim(-0.2, 1.01)\n",
        "    ax1.set(xlim=(-0.2, 1.15), ylim=(-1.5, 12))\n",
        "    ax1.set_yticks(bar_positions)\n",
        "    ax1.invert_yaxis()\n",
        "    ax1.yaxis.set_ticks_position('left')\n",
        "    ax1.xaxis.set_ticks([])\n",
        "    adjust_spines(ax1, 'left')\n",
        "    ax1.add_line(lines.Line2D((0, 0), (-0.5, 6.5), color=(0.0, 0.0, 0.0)))\n",
        "    # Adjust Plot Positions\n",
        "    ax0.set_position([0.05, 0.055, 0.3, 0.9])\n",
        "    l1, b1, w1, h1 = ax1.get_position().bounds\n",
        "    ax1.set_position([l1 * 1.05, b1 + 0.09 * h1, w1, 0.8 * h1])\n",
        "    # Add title box\n",
        "    plt.figtext(0.5,\n",
        "                0.9,\n",
        "                \"Imagenet Classification by Akida\",\n",
        "                size=20,\n",
        "                ha=\"center\",\n",
        "                va=\"center\",\n",
        "                bbox=dict(boxstyle=\"round\",\n",
        "                          ec=(0.5, 0.5, 0.5),\n",
        "                          fc=(0.9, 0.9, 1.0)))\n",
        "\n",
        "    return fig, imgobj, ax1, rects\n",
        "\n",
        "\n",
        "def update_bars_chart(rects, vals, true_label):\n",
        "    counter = 0\n",
        "    for rect, h in zip(rects, yvals):\n",
        "        rect.set_width(h)\n",
        "        if counter < 5:\n",
        "            if top5[counter] == true_label:\n",
        "                if counter == 0:\n",
        "                    rect.set_facecolor((0.0, 1.0, 0.0))\n",
        "                else:\n",
        "                    rect.set_facecolor((0.0, 0.5, 0.0))\n",
        "            else:\n",
        "                rect.set_facecolor('gray')\n",
        "        elif counter == 5:\n",
        "            rect.set_facecolor('red')\n",
        "        counter += 1\n",
        "\n",
        "\n",
        "# Prepare plots\n",
        "fig, imgobj, ax1, rects = prepare_plots()\n",
        "\n",
        "# Get a random image\n",
        "img = np.random.randint(num_images)\n",
        "\n",
        "# Predict image class\n",
        "outputs_akida = model_akida.predict(np.expand_dims(x_test[img].astype(np.uint8), axis=0)).squeeze()\n",
        "\n",
        "# Get top 5 prediction labels and associated names\n",
        "true_label = labels_test[img]\n",
        "\n",
        "# GB: Added, because of last layer activation function\n",
        "true_label = int(true_label)\n",
        "\n",
        "top5, yvals, class_name = get_top5(outputs_akida, true_label)\n",
        "print(top5)\n",
        "print(yvals)\n",
        "print(class_name)\n",
        "\n",
        "print(\"Akida outputs:\", outputs_akida)\n",
        "print(\"True label:\", class_names[int(true_label)])\n",
        "print(\"Predicted label:\", class_names[np.argmax(outputs_akida)])\n",
        "\n",
        "# Draw Plots\n",
        "imgobj.set_data(x_test[img])\n",
        "ax1.set_yticklabels(class_name, rotation='horizontal', size=9)\n",
        "update_bars_chart(rects, yvals, true_label)\n",
        "fig.canvas.draw()\n",
        "plt.show()"
      ]
    },
    {
      "cell_type": "code",
      "execution_count": null,
      "metadata": {},
      "outputs": [],
      "source": []
    }
  ],
  "metadata": {
    "colab": {
      "provenance": []
    },
    "kernelspec": {
      "display_name": "akida",
      "language": "python",
      "name": "python3"
    },
    "language_info": {
      "codemirror_mode": {
        "name": "ipython",
        "version": 3
      },
      "file_extension": ".py",
      "mimetype": "text/x-python",
      "name": "python",
      "nbconvert_exporter": "python",
      "pygments_lexer": "ipython3",
      "version": "3.11.9"
    }
  },
  "nbformat": 4,
  "nbformat_minor": 0
}
