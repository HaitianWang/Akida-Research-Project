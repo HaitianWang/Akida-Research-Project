{
  "cells": [
    {
      "cell_type": "markdown",
      "metadata": {},
      "source": [
        "# GENG5551 Prototype Model Training \n",
        "\n",
        "Run code below if using google collab for training. If not skip to next section."
      ]
    },
    {
      "cell_type": "markdown",
      "metadata": {
        "id": "wAJmzS0hM7Rv"
      },
      "source": [
        "run container with:\n",
        "sudo docker run --gpus all -it --rm -v $(pwd):/tf/notebooks -p 8888:8888 tensorflow/tensorflow:2.12.0-gpu-jupyter"
      ]
    },
    {
      "cell_type": "code",
      "execution_count": 1,
      "metadata": {},
      "outputs": [],
      "source": [
        "startup = False"
      ]
    },
    {
      "cell_type": "code",
      "execution_count": 2,
      "metadata": {
        "colab": {
          "base_uri": "https://localhost:8080/"
        },
        "collapsed": true,
        "id": "ZATueY_Yc9vt",
        "outputId": "93ddd5f3-f3ec-4b90-f677-ceae6228a022"
      },
      "outputs": [],
      "source": [
        "# GB: Useless\n",
        "\n",
        "# !pip install pandas\n",
        "# !pip install scikit-learn\n",
        "# !pip install seaborn\n",
        "# !pip install akida==2.7.2\n",
        "# !pip install cnn2snn==2.7.2\n",
        "# %pip install akida-models==1.5.0\n",
        "# !pip install tensorflow-addons"
      ]
    },
    {
      "cell_type": "code",
      "execution_count": 3,
      "metadata": {},
      "outputs": [],
      "source": [
        "# GB: Same here\n",
        "# !unzip notebooks/archive"
      ]
    },
    {
      "cell_type": "markdown",
      "metadata": {},
      "source": [
        "## Dataset Preprocessing\n",
        "\n",
        "Start here if running on anaconda virtual environment\n",
        "\n",
        "- This section involves examining and pre-processing the data to make it suitable for use with the Akida models"
      ]
    },
    {
      "cell_type": "code",
      "execution_count": 4,
      "metadata": {
        "id": "FSYTr1lRcyvc"
      },
      "outputs": [],
      "source": [
        "import matplotlib.pyplot as plt\n",
        "import matplotlib.image as mpimg\n",
        "import numpy as np\n",
        "import pandas as pd\n",
        "import os, shutil, random\n",
        "\n",
        "os.chdir('notebooks/Documents/GitHub/GENG5551-Akida-Chip')"
      ]
    },
    {
      "cell_type": "code",
      "execution_count": 5,
      "metadata": {},
      "outputs": [
        {
          "data": {
            "text/plain": [
              "'/tf/notebooks/Documents/GitHub/GENG5551-Akida-Chip'"
            ]
          },
          "execution_count": 5,
          "metadata": {},
          "output_type": "execute_result"
        }
      ],
      "source": [
        "os.getcwd()"
      ]
    },
    {
      "cell_type": "code",
      "execution_count": 6,
      "metadata": {
        "id": "_f5hSpNIcyvd"
      },
      "outputs": [],
      "source": [
        "# combine the two parts of the dataset into one folder\n",
        "def combine_folders(source_folders, target_folder):\n",
        "    os.makedirs(target_folder, exist_ok=True)\n",
        "\n",
        "    for folder in source_folders:\n",
        "        file_names = os.listdir(folder)\n",
        "        for file_name in file_names:\n",
        "            source_file_path = os.path.join(folder, file_name)\n",
        "            if os.path.isfile(source_file_path):\n",
        "                target_file_path = os.path.join(target_folder, file_name)\n",
        "                shutil.copy(source_file_path, target_file_path)\n",
        "\n",
        "source_folders = ['archive/HAM10000_images_part_1', 'archive/HAM10000_images_part_2']\n",
        "target_folder = 'archive/data'\n",
        "if startup:\n",
        "    combine_folders(source_folders, target_folder)"
      ]
    },
    {
      "cell_type": "code",
      "execution_count": 7,
      "metadata": {
        "id": "8xI85A6Qcyvd"
      },
      "outputs": [],
      "source": [
        "# Load the metadata\n",
        "metadata = pd.read_csv('archive/HAM10000_metadata.csv')"
      ]
    },
    {
      "cell_type": "code",
      "execution_count": 8,
      "metadata": {
        "colab": {
          "base_uri": "https://localhost:8080/",
          "height": 206
        },
        "id": "cqg0Ski3cyvd",
        "outputId": "312cd1a1-f58b-4d31-9c1a-e0347b9df4a4"
      },
      "outputs": [
        {
          "data": {
            "text/html": [
              "<div>\n",
              "<style scoped>\n",
              "    .dataframe tbody tr th:only-of-type {\n",
              "        vertical-align: middle;\n",
              "    }\n",
              "\n",
              "    .dataframe tbody tr th {\n",
              "        vertical-align: top;\n",
              "    }\n",
              "\n",
              "    .dataframe thead th {\n",
              "        text-align: right;\n",
              "    }\n",
              "</style>\n",
              "<table border=\"1\" class=\"dataframe\">\n",
              "  <thead>\n",
              "    <tr style=\"text-align: right;\">\n",
              "      <th></th>\n",
              "      <th>lesion_id</th>\n",
              "      <th>image_id</th>\n",
              "      <th>dx</th>\n",
              "      <th>dx_type</th>\n",
              "      <th>age</th>\n",
              "      <th>sex</th>\n",
              "      <th>localization</th>\n",
              "    </tr>\n",
              "  </thead>\n",
              "  <tbody>\n",
              "    <tr>\n",
              "      <th>0</th>\n",
              "      <td>HAM_0000118</td>\n",
              "      <td>ISIC_0027419</td>\n",
              "      <td>bkl</td>\n",
              "      <td>histo</td>\n",
              "      <td>80.0</td>\n",
              "      <td>male</td>\n",
              "      <td>scalp</td>\n",
              "    </tr>\n",
              "    <tr>\n",
              "      <th>1</th>\n",
              "      <td>HAM_0000118</td>\n",
              "      <td>ISIC_0025030</td>\n",
              "      <td>bkl</td>\n",
              "      <td>histo</td>\n",
              "      <td>80.0</td>\n",
              "      <td>male</td>\n",
              "      <td>scalp</td>\n",
              "    </tr>\n",
              "    <tr>\n",
              "      <th>2</th>\n",
              "      <td>HAM_0002730</td>\n",
              "      <td>ISIC_0026769</td>\n",
              "      <td>bkl</td>\n",
              "      <td>histo</td>\n",
              "      <td>80.0</td>\n",
              "      <td>male</td>\n",
              "      <td>scalp</td>\n",
              "    </tr>\n",
              "    <tr>\n",
              "      <th>3</th>\n",
              "      <td>HAM_0002730</td>\n",
              "      <td>ISIC_0025661</td>\n",
              "      <td>bkl</td>\n",
              "      <td>histo</td>\n",
              "      <td>80.0</td>\n",
              "      <td>male</td>\n",
              "      <td>scalp</td>\n",
              "    </tr>\n",
              "    <tr>\n",
              "      <th>4</th>\n",
              "      <td>HAM_0001466</td>\n",
              "      <td>ISIC_0031633</td>\n",
              "      <td>bkl</td>\n",
              "      <td>histo</td>\n",
              "      <td>75.0</td>\n",
              "      <td>male</td>\n",
              "      <td>ear</td>\n",
              "    </tr>\n",
              "  </tbody>\n",
              "</table>\n",
              "</div>"
            ],
            "text/plain": [
              "     lesion_id      image_id   dx dx_type   age   sex localization\n",
              "0  HAM_0000118  ISIC_0027419  bkl   histo  80.0  male        scalp\n",
              "1  HAM_0000118  ISIC_0025030  bkl   histo  80.0  male        scalp\n",
              "2  HAM_0002730  ISIC_0026769  bkl   histo  80.0  male        scalp\n",
              "3  HAM_0002730  ISIC_0025661  bkl   histo  80.0  male        scalp\n",
              "4  HAM_0001466  ISIC_0031633  bkl   histo  75.0  male          ear"
            ]
          },
          "execution_count": 8,
          "metadata": {},
          "output_type": "execute_result"
        }
      ],
      "source": [
        "metadata.head()"
      ]
    },
    {
      "cell_type": "code",
      "execution_count": 9,
      "metadata": {
        "colab": {
          "base_uri": "https://localhost:8080/"
        },
        "id": "fXPCKQWOcyvd",
        "outputId": "9f167a8c-5fc7-44d0-f577-78ec98f58ece"
      },
      "outputs": [
        {
          "data": {
            "text/plain": [
              "dx\n",
              "nv       6705\n",
              "mel      1113\n",
              "bkl      1099\n",
              "bcc       514\n",
              "akiec     327\n",
              "vasc      142\n",
              "df        115\n",
              "Name: count, dtype: int64"
            ]
          },
          "execution_count": 9,
          "metadata": {},
          "output_type": "execute_result"
        }
      ],
      "source": [
        "metadata['dx'].value_counts()"
      ]
    },
    {
      "cell_type": "code",
      "execution_count": 10,
      "metadata": {
        "colab": {
          "base_uri": "https://localhost:8080/"
        },
        "id": "TtG1OzXgcyvd",
        "outputId": "10b5a011-9367-4413-e729-4311456800f3"
      },
      "outputs": [
        {
          "name": "stdout",
          "output_type": "stream",
          "text": [
            "Number of rows in metadata: 10015\n",
            "Number of unique lesions: 7470\n"
          ]
        }
      ],
      "source": [
        "# There are more rows than unique lesions, so we can assume that there are multiple images for each lesion.\n",
        "unique_lesion_id = metadata['lesion_id'].unique()\n",
        "print(\"Number of rows in metadata:\", len(metadata))\n",
        "print('Number of unique lesions:', len(unique_lesion_id))"
      ]
    },
    {
      "cell_type": "code",
      "execution_count": 11,
      "metadata": {
        "colab": {
          "base_uri": "https://localhost:8080/"
        },
        "id": "k32uQPXUcyve",
        "outputId": "a5703647-0ced-4e43-e36b-b5277b274d44"
      },
      "outputs": [
        {
          "name": "stdout",
          "output_type": "stream",
          "text": [
            "dx\n",
            "nv       671\n",
            "mel      111\n",
            "bkl      110\n",
            "bcc       51\n",
            "akiec     33\n",
            "vasc      14\n",
            "df        12\n",
            "Name: count, dtype: int64\n",
            "(1002, 8)\n"
          ]
        }
      ],
      "source": [
        "# Perform train test split\n",
        "from sklearn.model_selection import train_test_split\n",
        "metadata['image_path'] = metadata['image_id'].apply(lambda x: os.path.join(target_folder, f\"{x}.jpg\"))\n",
        "train_data, test_data = train_test_split(metadata, random_state=17, stratify=metadata.dx, test_size=0.10)\n",
        "\n",
        "print(test_data['dx'].value_counts())\n",
        "print(test_data.shape)"
      ]
    },
    {
      "cell_type": "code",
      "execution_count": 12,
      "metadata": {
        "colab": {
          "base_uri": "https://localhost:8080/",
          "height": 206
        },
        "id": "cCt7OeLtcyve",
        "outputId": "a07ce775-870e-4861-f598-896d3759733c"
      },
      "outputs": [
        {
          "data": {
            "text/html": [
              "<div>\n",
              "<style scoped>\n",
              "    .dataframe tbody tr th:only-of-type {\n",
              "        vertical-align: middle;\n",
              "    }\n",
              "\n",
              "    .dataframe tbody tr th {\n",
              "        vertical-align: top;\n",
              "    }\n",
              "\n",
              "    .dataframe thead th {\n",
              "        text-align: right;\n",
              "    }\n",
              "</style>\n",
              "<table border=\"1\" class=\"dataframe\">\n",
              "  <thead>\n",
              "    <tr style=\"text-align: right;\">\n",
              "      <th></th>\n",
              "      <th>lesion_id</th>\n",
              "      <th>image_id</th>\n",
              "      <th>dx</th>\n",
              "      <th>dx_type</th>\n",
              "      <th>age</th>\n",
              "      <th>sex</th>\n",
              "      <th>localization</th>\n",
              "      <th>image_path</th>\n",
              "    </tr>\n",
              "  </thead>\n",
              "  <tbody>\n",
              "    <tr>\n",
              "      <th>0</th>\n",
              "      <td>HAM_0000118</td>\n",
              "      <td>ISIC_0027419</td>\n",
              "      <td>bkl</td>\n",
              "      <td>histo</td>\n",
              "      <td>80.0</td>\n",
              "      <td>male</td>\n",
              "      <td>scalp</td>\n",
              "      <td>archive/data/ISIC_0027419.jpg</td>\n",
              "    </tr>\n",
              "    <tr>\n",
              "      <th>1</th>\n",
              "      <td>HAM_0000118</td>\n",
              "      <td>ISIC_0025030</td>\n",
              "      <td>bkl</td>\n",
              "      <td>histo</td>\n",
              "      <td>80.0</td>\n",
              "      <td>male</td>\n",
              "      <td>scalp</td>\n",
              "      <td>archive/data/ISIC_0025030.jpg</td>\n",
              "    </tr>\n",
              "    <tr>\n",
              "      <th>2</th>\n",
              "      <td>HAM_0002730</td>\n",
              "      <td>ISIC_0026769</td>\n",
              "      <td>bkl</td>\n",
              "      <td>histo</td>\n",
              "      <td>80.0</td>\n",
              "      <td>male</td>\n",
              "      <td>scalp</td>\n",
              "      <td>archive/data/ISIC_0026769.jpg</td>\n",
              "    </tr>\n",
              "    <tr>\n",
              "      <th>3</th>\n",
              "      <td>HAM_0002730</td>\n",
              "      <td>ISIC_0025661</td>\n",
              "      <td>bkl</td>\n",
              "      <td>histo</td>\n",
              "      <td>80.0</td>\n",
              "      <td>male</td>\n",
              "      <td>scalp</td>\n",
              "      <td>archive/data/ISIC_0025661.jpg</td>\n",
              "    </tr>\n",
              "    <tr>\n",
              "      <th>4</th>\n",
              "      <td>HAM_0001466</td>\n",
              "      <td>ISIC_0031633</td>\n",
              "      <td>bkl</td>\n",
              "      <td>histo</td>\n",
              "      <td>75.0</td>\n",
              "      <td>male</td>\n",
              "      <td>ear</td>\n",
              "      <td>archive/data/ISIC_0031633.jpg</td>\n",
              "    </tr>\n",
              "  </tbody>\n",
              "</table>\n",
              "</div>"
            ],
            "text/plain": [
              "     lesion_id      image_id   dx dx_type   age   sex localization  \\\n",
              "0  HAM_0000118  ISIC_0027419  bkl   histo  80.0  male        scalp   \n",
              "1  HAM_0000118  ISIC_0025030  bkl   histo  80.0  male        scalp   \n",
              "2  HAM_0002730  ISIC_0026769  bkl   histo  80.0  male        scalp   \n",
              "3  HAM_0002730  ISIC_0025661  bkl   histo  80.0  male        scalp   \n",
              "4  HAM_0001466  ISIC_0031633  bkl   histo  75.0  male          ear   \n",
              "\n",
              "                      image_path  \n",
              "0  archive/data/ISIC_0027419.jpg  \n",
              "1  archive/data/ISIC_0025030.jpg  \n",
              "2  archive/data/ISIC_0026769.jpg  \n",
              "3  archive/data/ISIC_0025661.jpg  \n",
              "4  archive/data/ISIC_0031633.jpg  "
            ]
          },
          "execution_count": 12,
          "metadata": {},
          "output_type": "execute_result"
        }
      ],
      "source": [
        "metadata.head()"
      ]
    },
    {
      "cell_type": "code",
      "execution_count": 13,
      "metadata": {
        "id": "IEbYGcA3cyve"
      },
      "outputs": [],
      "source": [
        "train_data = train_data.set_index(\"image_id\")\n",
        "test_data = test_data.set_index(\"image_id\")\n",
        "\n",
        "train_id = list(train_data.index)\n",
        "test_id = list(test_data.index)"
      ]
    },
    {
      "cell_type": "code",
      "execution_count": 14,
      "metadata": {
        "id": "z342uWOScyve"
      },
      "outputs": [],
      "source": [
        "if startup:\n",
        "    dirs = []\n",
        "\n",
        "    # Create train and test directory\n",
        "    train_dir = os.path.join('archive/data/', \"train\")\n",
        "    dirs.append(train_dir)\n",
        "    test_dir = os.path.join('archive/data/', \"test\")\n",
        "    dirs.append(test_dir)\n",
        "\n",
        "    # Create training subfolders for diagnoses\n",
        "    train_nv = os.path.join(train_dir, \"nv\")\n",
        "    dirs.append(train_nv)\n",
        "    train_mel = os.path.join(train_dir, \"mel\")\n",
        "    dirs.append(train_mel)\n",
        "    train_bkl = os.path.join(train_dir, \"bkl\")\n",
        "    dirs.append(train_bkl)\n",
        "    train_bcc = os.path.join(train_dir, \"bcc\")\n",
        "    dirs.append(train_bcc)\n",
        "    train_akiec = os.path.join(train_dir, \"akiec\")\n",
        "    dirs.append(train_akiec)\n",
        "    train_vasc = os.path.join(train_dir, \"vasc\")\n",
        "    dirs.append(train_vasc)\n",
        "    train_df = os.path.join(train_dir, \"df\")\n",
        "    dirs.append(train_df)\n",
        "\n",
        "    # Create validation subfolders for diagnoses\n",
        "    validation_nv = os.path.join(test_dir, \"nv\")\n",
        "    dirs.append(validation_nv)\n",
        "    validation_mel = os.path.join(test_dir, \"mel\")\n",
        "    dirs.append(validation_mel)\n",
        "    validation_bkl = os.path.join(test_dir, \"bkl\")\n",
        "    dirs.append(validation_bkl)\n",
        "    validation_bcc = os.path.join(test_dir, \"bcc\")\n",
        "    dirs.append(validation_bcc)\n",
        "    validation_akiec = os.path.join(test_dir, \"akiec\")\n",
        "    dirs.append(validation_akiec)\n",
        "    validation_vasc = os.path.join(test_dir, \"vasc\")\n",
        "    dirs.append(validation_vasc)\n",
        "    validation_df = os.path.join(test_dir, \"df\")\n",
        "    dirs.append(validation_df)\n",
        "\n",
        "    for directory in dirs:\n",
        "        if not os.path.exists(directory):\n",
        "            os.mkdir(directory)"
      ]
    },
    {
      "cell_type": "code",
      "execution_count": 15,
      "metadata": {
        "id": "__R6GRVtcyve"
      },
      "outputs": [],
      "source": [
        "if startup:    \n",
        "# move images to train and test dirs\n",
        "    target_folder = 'archive/data'\n",
        "    files = os.listdir(target_folder)\n",
        "\n",
        "    for image in train_id:\n",
        "        file_name = str(image + '.jpg')\n",
        "        label = train_data.loc[image,'dx']\n",
        "\n",
        "        if file_name in files:\n",
        "            src = os.path.join(target_folder, file_name)\n",
        "            dst = os.path.join(train_dir, label, file_name)\n",
        "            shutil.copyfile(src, dst)\n",
        "\n",
        "    for image in test_id:\n",
        "\n",
        "        file_name = image + '.jpg'\n",
        "        label = test_data.loc[image,'dx']\n",
        "\n",
        "        if file_name in files:\n",
        "            src = os.path.join(target_folder, file_name)\n",
        "            dst = os.path.join(test_dir, label, file_name)\n",
        "            shutil.copyfile(src, dst)"
      ]
    },
    {
      "cell_type": "code",
      "execution_count": 16,
      "metadata": {},
      "outputs": [
        {
          "name": "stderr",
          "output_type": "stream",
          "text": [
            "2024-10-07 03:37:29.791312: I tensorflow/core/util/port.cc:110] oneDNN custom operations are on. You may see slightly different numerical results due to floating-point round-off errors from different computation orders. To turn them off, set the environment variable `TF_ENABLE_ONEDNN_OPTS=0`.\n",
            "2024-10-07 03:37:29.818274: I tensorflow/core/platform/cpu_feature_guard.cc:182] This TensorFlow binary is optimized to use available CPU instructions in performance-critical operations.\n",
            "To enable the following instructions: AVX2 AVX512F AVX512_VNNI AVX512_BF16 FMA, in other operations, rebuild TensorFlow with the appropriate compiler flags.\n"
          ]
        }
      ],
      "source": [
        "from tensorflow.keras.preprocessing.image import ImageDataGenerator\n",
        "\n",
        "if startup:\n",
        "    # Perform data augmentation\n",
        "    class_names = [\"df\", \"mel\",\"bkl\", \"bcc\", \"akiec\", \"vasc\", \"nv\"]\n",
        "\n",
        "    for d in class_names:\n",
        "        source_dir = 'archive/data/'\n",
        "        \n",
        "        aug_dir = os.path.join(source_dir,'aug_dir') \n",
        "        if not os.path.exists(aug_dir):\n",
        "            os.mkdir(aug_dir)\n",
        "        \n",
        "        img_dir = os.path.join(aug_dir, d)\n",
        "        if not os.path.exists(img_dir):\n",
        "            os.mkdir(img_dir)\n",
        "\n",
        "        img_class = d\n",
        "\n",
        "        img_list = os.listdir(source_dir + 'train/' + img_class)\n",
        "        \n",
        "        for i in img_list: \n",
        "            src = os.path.join(source_dir + 'train/' + img_class, i)\n",
        "            dst = os.path.join(img_dir,i)\n",
        "            shutil.copyfile(src, dst)\n",
        "\n",
        "\n",
        "        path = aug_dir\n",
        "        save_path = img_dir\n",
        "        \n",
        "        datagen = ImageDataGenerator(\n",
        "            rotation_range=90,\n",
        "            featurewise_center=True,\n",
        "            featurewise_std_normalization=True,\n",
        "            width_shift_range=0.2,\n",
        "            height_shift_range=0.2,\n",
        "            zoom_range=[0.8,1.0],\n",
        "            horizontal_flip=True,\n",
        "            vertical_flip=True,\n",
        "            brightness_range=(0.8,1.2),\n",
        "            fill_mode='reflect')\n",
        "        \n",
        "        batch_size = 50\n",
        "        \n",
        "        aug_datagen = datagen.flow_from_directory(path,\n",
        "                                            save_to_dir=save_path,\n",
        "                                            save_format='jpeg',\n",
        "                                                save_prefix='',\n",
        "                                                target_size=(224,224),\n",
        "                                                color_mode='rgb',\n",
        "                                                batch_size=batch_size, shuffle=False) #important Set Shuffle=False!\n",
        "        \n",
        "    \n",
        "        \n",
        "        num_wanted = 6000\n",
        "        \n",
        "        num_files = len(os.listdir(img_dir))\n",
        "        num_batches = int(np.ceil((num_wanted-num_files)/batch_size))\n",
        "\n",
        "\n",
        "        for i in range(0,num_batches):\n",
        "\n",
        "            imgs, labels = next(aug_datagen)\n",
        "        \n",
        "        img_list = sorted(img_list)\n",
        "        aug_list = os.listdir(img_dir)\n",
        "\n",
        "        for number,image in enumerate(img_list):\n",
        "            for filename in aug_list:\n",
        "                if f\"_{number}_\" in filename:\n",
        "                    filename_new = image[5:12] + filename\n",
        "                    os.rename(os.path.join(img_dir,filename), os.path.join(img_dir,filename_new))\n",
        "\n",
        "        for augfile in os.listdir(img_dir):\n",
        "            if augfile not in img_list:\n",
        "                shutil.move(img_dir + '/' + augfile, source_dir + 'train/' + img_class + '/' + augfile)\n",
        "\n",
        "        \n",
        "        shutil.rmtree(aug_dir)"
      ]
    },
    {
      "cell_type": "code",
      "execution_count": 17,
      "metadata": {},
      "outputs": [],
      "source": [
        "# Define paths for train and test datasets\n",
        "train_dir = 'archive/data/train'\n",
        "test_dir = 'archive/data/test'\n",
        "\n",
        "# Define the target directories for cancerous and benign images\n",
        "train_cancerous_dir = 'archive/data/train/Cancerous'\n",
        "train_benign_dir = 'archive/data/train/Benign'\n",
        "test_cancerous_dir = 'archive/data/test/Cancerous'\n",
        "test_benign_dir = 'archive/data/test/Benign'\n",
        "\n",
        "if startup:\n",
        "    # Create the target directories if they don't exist\n",
        "    os.makedirs(train_cancerous_dir, exist_ok=True)\n",
        "    os.makedirs(train_benign_dir, exist_ok=True)\n",
        "    os.makedirs(test_cancerous_dir, exist_ok=True)\n",
        "    os.makedirs(test_benign_dir, exist_ok=True)\n",
        "\n",
        "    # Define classes categorized as cancerous and benign\n",
        "    cancerous_classes = ['akiec', 'bcc', 'mel']\n",
        "    benign_classes = ['bkl', 'df', 'nv', 'vasc']\n",
        "\n",
        "    def move_images(src_dir, dest_cancerous, dest_benign):\n",
        "        for class_folder in os.listdir(src_dir):\n",
        "            class_path = os.path.join(src_dir, class_folder)\n",
        "            if os.path.isdir(class_path):\n",
        "                # Determine if the class is cancerous or benign\n",
        "                if class_folder in cancerous_classes:\n",
        "                    dest_folder = dest_cancerous\n",
        "                elif class_folder in benign_classes:\n",
        "                    dest_folder = dest_benign\n",
        "                else:\n",
        "                    continue  # Skip if class is not in either category\n",
        "\n",
        "                # Move all images from class folder to the corresponding destination folder\n",
        "                for image_file in os.listdir(class_path):\n",
        "                    image_path = os.path.join(class_path, image_file)\n",
        "                    shutil.move(image_path, os.path.join(dest_folder, image_file))\n",
        "                print(f\"Moved {class_folder} images to {dest_folder}\")\n",
        "\n",
        "                # Remove the original class folder after moving images\n",
        "                os.rmdir(class_path)\n",
        "                print(f\"Removed folder {class_path}\")\n",
        "\n",
        "    # Move images in train directory\n",
        "    move_images(train_dir, train_cancerous_dir, train_benign_dir)\n",
        "\n",
        "    # Move images in test directory\n",
        "    move_images(test_dir, test_cancerous_dir, test_benign_dir)\n",
        "\n",
        "    print(\"Images have been moved and original folders have been removed successfully.\")"
      ]
    },
    {
      "cell_type": "code",
      "execution_count": 18,
      "metadata": {
        "colab": {
          "base_uri": "https://localhost:8080/"
        },
        "id": "XjclvKxrcyve",
        "outputId": "14ea3396-8eed-41a3-e849-7542e74bb25b"
      },
      "outputs": [
        {
          "name": "stdout",
          "output_type": "stream",
          "text": [
            "Found 38704 images belonging to 2 classes.\n",
            "Found 1002 images belonging to 2 classes.\n"
          ]
        }
      ],
      "source": [
        "# scale images\n",
        "import tensorflow as tf\n",
        "from tensorflow.keras.preprocessing.image import ImageDataGenerator\n",
        "\n",
        "# train_datagen = ImageDataGenerator(\n",
        "#     rotation_range=20,\n",
        "#     width_shift_range=0.2,\n",
        "#     height_shift_range=0.2,\n",
        "#     shear_range=0.2,\n",
        "#     zoom_range=0.2,\n",
        "#     horizontal_flip=True,\n",
        "#     brightness_range=[0.8, 1.2],\n",
        "#     channel_shift_range=50.0\n",
        "# )\n",
        "\n",
        "train_datagen = ImageDataGenerator()\n",
        "test_datagen = ImageDataGenerator()\n",
        "\n",
        "train_gen = train_datagen.flow_from_directory(\n",
        "    train_dir,\n",
        "    target_size=(224, 224),\n",
        "    batch_size=100,\n",
        "    class_mode='sparse',\n",
        ")\n",
        "\n",
        "test_gen = test_datagen.flow_from_directory(\n",
        "    test_dir,\n",
        "    target_size=(224, 224),\n",
        "    batch_size=100,\n",
        "    class_mode='sparse'\n",
        ")"
      ]
    },
    {
      "cell_type": "markdown",
      "metadata": {},
      "source": [
        "## Model Training"
      ]
    },
    {
      "cell_type": "code",
      "execution_count": 19,
      "metadata": {},
      "outputs": [
        {
          "name": "stdout",
          "output_type": "stream",
          "text": [
            " Akida version:  AkidaVersion.v1\n"
          ]
        },
        {
          "name": "stderr",
          "output_type": "stream",
          "text": [
            "2024-10-07 03:37:31.069667: I tensorflow/compiler/xla/stream_executor/cuda/cuda_gpu_executor.cc:996] successful NUMA node read from SysFS had negative value (-1), but there must be at least one NUMA node, so returning NUMA node zero. See more at https://github.com/torvalds/linux/blob/v6.0/Documentation/ABI/testing/sysfs-bus-pci#L344-L355\n",
            "2024-10-07 03:37:31.073207: I tensorflow/compiler/xla/stream_executor/cuda/cuda_gpu_executor.cc:996] successful NUMA node read from SysFS had negative value (-1), but there must be at least one NUMA node, so returning NUMA node zero. See more at https://github.com/torvalds/linux/blob/v6.0/Documentation/ABI/testing/sysfs-bus-pci#L344-L355\n",
            "2024-10-07 03:37:31.073328: I tensorflow/compiler/xla/stream_executor/cuda/cuda_gpu_executor.cc:996] successful NUMA node read from SysFS had negative value (-1), but there must be at least one NUMA node, so returning NUMA node zero. See more at https://github.com/torvalds/linux/blob/v6.0/Documentation/ABI/testing/sysfs-bus-pci#L344-L355\n",
            "2024-10-07 03:37:31.074230: I tensorflow/compiler/xla/stream_executor/cuda/cuda_gpu_executor.cc:996] successful NUMA node read from SysFS had negative value (-1), but there must be at least one NUMA node, so returning NUMA node zero. See more at https://github.com/torvalds/linux/blob/v6.0/Documentation/ABI/testing/sysfs-bus-pci#L344-L355\n",
            "2024-10-07 03:37:31.074343: I tensorflow/compiler/xla/stream_executor/cuda/cuda_gpu_executor.cc:996] successful NUMA node read from SysFS had negative value (-1), but there must be at least one NUMA node, so returning NUMA node zero. See more at https://github.com/torvalds/linux/blob/v6.0/Documentation/ABI/testing/sysfs-bus-pci#L344-L355\n",
            "2024-10-07 03:37:31.074436: I tensorflow/compiler/xla/stream_executor/cuda/cuda_gpu_executor.cc:996] successful NUMA node read from SysFS had negative value (-1), but there must be at least one NUMA node, so returning NUMA node zero. See more at https://github.com/torvalds/linux/blob/v6.0/Documentation/ABI/testing/sysfs-bus-pci#L344-L355\n",
            "2024-10-07 03:37:31.135275: I tensorflow/compiler/xla/stream_executor/cuda/cuda_gpu_executor.cc:996] successful NUMA node read from SysFS had negative value (-1), but there must be at least one NUMA node, so returning NUMA node zero. See more at https://github.com/torvalds/linux/blob/v6.0/Documentation/ABI/testing/sysfs-bus-pci#L344-L355\n",
            "2024-10-07 03:37:31.135404: I tensorflow/compiler/xla/stream_executor/cuda/cuda_gpu_executor.cc:996] successful NUMA node read from SysFS had negative value (-1), but there must be at least one NUMA node, so returning NUMA node zero. See more at https://github.com/torvalds/linux/blob/v6.0/Documentation/ABI/testing/sysfs-bus-pci#L344-L355\n",
            "2024-10-07 03:37:31.135507: I tensorflow/compiler/xla/stream_executor/cuda/cuda_gpu_executor.cc:996] successful NUMA node read from SysFS had negative value (-1), but there must be at least one NUMA node, so returning NUMA node zero. See more at https://github.com/torvalds/linux/blob/v6.0/Documentation/ABI/testing/sysfs-bus-pci#L344-L355\n",
            "2024-10-07 03:37:31.135590: I tensorflow/core/common_runtime/gpu/gpu_device.cc:1635] Created device /job:localhost/replica:0/task:0/device:GPU:0 with 13723 MB memory:  -> device: 0, name: NVIDIA GeForce RTX 4080 SUPER, pci bus id: 0000:01:00.0, compute capability: 8.9\n"
          ]
        }
      ],
      "source": [
        "# GB: Change Akida version\n",
        "import os\n",
        "import cnn2snn\n",
        "import akida as ak\n",
        "\n",
        "# Change Akida version\n",
        "os.environ[\"CNN2SNN_TARGET_AKIDA_VERSION\"] = \"v1\"\n",
        "\n",
        "# Double-check Avida version\n",
        "print(' Akida version: ', cnn2snn.get_akida_version())"
      ]
    },
    {
      "cell_type": "code",
      "execution_count": null,
      "metadata": {
        "colab": {
          "base_uri": "https://localhost:8080/"
        },
        "id": "eQASzthacyve",
        "outputId": "5302cd61-dc20-4ccf-80eb-10baa264765d"
      },
      "outputs": [],
      "source": []
    },
    {
      "cell_type": "code",
      "execution_count": 20,
      "metadata": {},
      "outputs": [
        {
          "name": "stdout",
          "output_type": "stream",
          "text": [
            "Akida version:  AkidaVersion.v1\n"
          ]
        }
      ],
      "source": [
        "# GB: Adding compatibility check\n",
        "import cnn2snn\n",
        "import akida as ak\n",
        "\n",
        "# Double-check Akida version\n",
        "print('Akida version: ', cnn2snn.get_akida_version())\n",
        "\n",
        "# And HW compatibility?\n",
        "# myDevice = ak.devices()[1]\n",
        "# print(\"Device: \", myDevice.desc)\n",
        "# x = cnn2snn.check_model_compatibility(model=model_keras, device=myDevice)\n",
        "# print(\"Non compatibilities: \", x)"
      ]
    },
    {
      "cell_type": "code",
      "execution_count": 22,
      "metadata": {},
      "outputs": [
        {
          "name": "stdout",
          "output_type": "stream",
          "text": [
            "Model: \"akidanet_derma\"\n",
            "_________________________________________________________________\n",
            " Layer (type)                Output Shape              Param #   \n",
            "=================================================================\n",
            " conv2d_8_input (InputLayer)  [(None, 224, 224, 3)]    0         \n",
            "                                                                 \n",
            " conv2d_8 (Conv2D)           (None, 224, 224, 32)      896       \n",
            "                                                                 \n",
            " batch_normalization_12 (Bat  (None, 224, 224, 32)     128       \n",
            " chNormalization)                                                \n",
            "                                                                 \n",
            " re_lu_12 (ReLU)             (None, 224, 224, 32)      0         \n",
            "                                                                 \n",
            " conv2d_9 (Conv2D)           (None, 224, 224, 32)      9248      \n",
            "                                                                 \n",
            " batch_normalization_13 (Bat  (None, 224, 224, 32)     128       \n",
            " chNormalization)                                                \n",
            "                                                                 \n",
            " re_lu_13 (ReLU)             (None, 224, 224, 32)      0         \n",
            "                                                                 \n",
            " max_pooling2d_4 (MaxPooling  (None, 112, 112, 32)     0         \n",
            " 2D)                                                             \n",
            "                                                                 \n",
            " dropout_8 (Dropout)         (None, 112, 112, 32)      0         \n",
            "                                                                 \n",
            " conv2d_10 (Conv2D)          (None, 112, 112, 64)      18496     \n",
            "                                                                 \n",
            " batch_normalization_14 (Bat  (None, 112, 112, 64)     256       \n",
            " chNormalization)                                                \n",
            "                                                                 \n",
            " re_lu_14 (ReLU)             (None, 112, 112, 64)      0         \n",
            "                                                                 \n",
            " conv2d_11 (Conv2D)          (None, 112, 112, 64)      36928     \n",
            "                                                                 \n",
            " batch_normalization_15 (Bat  (None, 112, 112, 64)     256       \n",
            " chNormalization)                                                \n",
            "                                                                 \n",
            " re_lu_15 (ReLU)             (None, 112, 112, 64)      0         \n",
            "                                                                 \n",
            " max_pooling2d_5 (MaxPooling  (None, 56, 56, 64)       0         \n",
            " 2D)                                                             \n",
            "                                                                 \n",
            " dropout_9 (Dropout)         (None, 56, 56, 64)        0         \n",
            "                                                                 \n",
            " conv2d_12 (Conv2D)          (None, 56, 56, 128)       73856     \n",
            "                                                                 \n",
            " batch_normalization_16 (Bat  (None, 56, 56, 128)      512       \n",
            " chNormalization)                                                \n",
            "                                                                 \n",
            " re_lu_16 (ReLU)             (None, 56, 56, 128)       0         \n",
            "                                                                 \n",
            " conv2d_13 (Conv2D)          (None, 56, 56, 128)       147584    \n",
            "                                                                 \n",
            " batch_normalization_17 (Bat  (None, 56, 56, 128)      512       \n",
            " chNormalization)                                                \n",
            "                                                                 \n",
            " re_lu_17 (ReLU)             (None, 56, 56, 128)       0         \n",
            "                                                                 \n",
            " max_pooling2d_6 (MaxPooling  (None, 28, 28, 128)      0         \n",
            " 2D)                                                             \n",
            "                                                                 \n",
            " dropout_10 (Dropout)        (None, 28, 28, 128)       0         \n",
            "                                                                 \n",
            " conv2d_14 (Conv2D)          (None, 28, 28, 256)       295168    \n",
            "                                                                 \n",
            " batch_normalization_18 (Bat  (None, 28, 28, 256)      1024      \n",
            " chNormalization)                                                \n",
            "                                                                 \n",
            " re_lu_18 (ReLU)             (None, 28, 28, 256)       0         \n",
            "                                                                 \n",
            " conv2d_15 (Conv2D)          (None, 28, 28, 256)       590080    \n",
            "                                                                 \n",
            " batch_normalization_19 (Bat  (None, 28, 28, 256)      1024      \n",
            " chNormalization)                                                \n",
            "                                                                 \n",
            " re_lu_19 (ReLU)             (None, 28, 28, 256)       0         \n",
            "                                                                 \n",
            " max_pooling2d_7 (MaxPooling  (None, 14, 14, 256)      0         \n",
            " 2D)                                                             \n",
            "                                                                 \n",
            " dropout_11 (Dropout)        (None, 14, 14, 256)       0         \n",
            "                                                                 \n",
            " flatten_1 (Flatten)         (None, 50176)             0         \n",
            "                                                                 \n",
            " dense_4 (Dense)             (None, 512)               25690624  \n",
            "                                                                 \n",
            " batch_normalization_20 (Bat  (None, 512)              2048      \n",
            " chNormalization)                                                \n",
            "                                                                 \n",
            " re_lu_20 (ReLU)             (None, 512)               0         \n",
            "                                                                 \n",
            " dropout_12 (Dropout)        (None, 512)               0         \n",
            "                                                                 \n",
            " dense_5 (Dense)             (None, 512)               262656    \n",
            "                                                                 \n",
            " batch_normalization_21 (Bat  (None, 512)              2048      \n",
            " chNormalization)                                                \n",
            "                                                                 \n",
            " re_lu_21 (ReLU)             (None, 512)               0         \n",
            "                                                                 \n",
            " dropout_13 (Dropout)        (None, 512)               0         \n",
            "                                                                 \n",
            " dense_6 (Dense)             (None, 256)               131328    \n",
            "                                                                 \n",
            " batch_normalization_22 (Bat  (None, 256)              1024      \n",
            " chNormalization)                                                \n",
            "                                                                 \n",
            " re_lu_22 (ReLU)             (None, 256)               0         \n",
            "                                                                 \n",
            " dropout_14 (Dropout)        (None, 256)               0         \n",
            "                                                                 \n",
            " dense_7 (Dense)             (None, 256)               65792     \n",
            "                                                                 \n",
            " batch_normalization_23 (Bat  (None, 256)              1024      \n",
            " chNormalization)                                                \n",
            "                                                                 \n",
            " re_lu_23 (ReLU)             (None, 256)               0         \n",
            "                                                                 \n",
            " dropout_15 (Dropout)        (None, 256)               0         \n",
            "                                                                 \n",
            " fc1 (Dense)                 (None, 512)               131584    \n",
            "                                                                 \n",
            " fc1/BN (BatchNormalization)  (None, 512)              2048      \n",
            "                                                                 \n",
            " fc1/relu (ReLU)             (None, 512)               0         \n",
            "                                                                 \n",
            " dropout_1 (Dropout)         (None, 512)               0         \n",
            "                                                                 \n",
            " predictions (Dense)         (None, 2)                 1026      \n",
            "                                                                 \n",
            " reshape (Reshape)           (None, 2)                 0         \n",
            "                                                                 \n",
            "=================================================================\n",
            "Total params: 27,467,298\n",
            "Trainable params: 27,461,282\n",
            "Non-trainable params: 6,016\n",
            "_________________________________________________________________\n"
          ]
        }
      ],
      "source": [
        "from tensorflow.keras.models import Sequential\n",
        "from tensorflow.keras.layers import Conv2D, BatchNormalization, MaxPooling2D, Dropout, Flatten, Dense, ReLU\n",
        "from tensorflow.keras.optimizers import Adam\n",
        "\n",
        "model = Sequential([\n",
        "    Conv2D(32, (3, 3), padding='same', kernel_initializer='he_normal', input_shape=(224, 224, 3)),\n",
        "    BatchNormalization(),\n",
        "    ReLU(max_value=6),  # ReLU6 activation\n",
        "    Conv2D(32, (3, 3), padding='same', kernel_initializer='he_normal'),\n",
        "    BatchNormalization(),\n",
        "    ReLU(max_value=6),\n",
        "    MaxPooling2D((2, 2), padding='same'),  # Added padding='same'\n",
        "    Dropout(0.25),\n",
        "\n",
        "    Conv2D(64, (3, 3), padding='same', kernel_initializer='he_normal'),\n",
        "    BatchNormalization(),\n",
        "    ReLU(max_value=6),\n",
        "    Conv2D(64, (3, 3), padding='same', kernel_initializer='he_normal'),\n",
        "    BatchNormalization(),\n",
        "    ReLU(max_value=6),\n",
        "    MaxPooling2D((2, 2), padding='same'),  # Added padding='same'\n",
        "    Dropout(0.25),\n",
        "\n",
        "    Conv2D(128, (3, 3), padding='same', kernel_initializer='he_normal'),\n",
        "    BatchNormalization(),\n",
        "    ReLU(max_value=6),\n",
        "    Conv2D(128, (3, 3), padding='same', kernel_initializer='he_normal'),\n",
        "    BatchNormalization(),\n",
        "    ReLU(max_value=6),\n",
        "    MaxPooling2D((2, 2), padding='same'),  # Added padding='same'\n",
        "    Dropout(0.25),\n",
        "\n",
        "    Conv2D(256, (3, 3), padding='same', kernel_initializer='he_normal'),\n",
        "    BatchNormalization(),\n",
        "    ReLU(max_value=6),\n",
        "    Conv2D(256, (3, 3), padding='same', kernel_initializer='he_normal'),\n",
        "    BatchNormalization(),\n",
        "    ReLU(max_value=6),\n",
        "    MaxPooling2D((2, 2), padding='same'),  # Added padding='same'\n",
        "    Dropout(0.25),\n",
        "\n",
        "    Flatten(),\n",
        "    Dense(512, kernel_initializer='he_normal'),\n",
        "    BatchNormalization(),\n",
        "    ReLU(max_value=6),\n",
        "    Dropout(0.5),\n",
        "    Dense(512, kernel_initializer='he_normal'),\n",
        "    BatchNormalization(),\n",
        "    ReLU(max_value=6),\n",
        "    Dropout(0.5),\n",
        "    Dense(256, kernel_initializer='he_normal'),\n",
        "    BatchNormalization(),\n",
        "    ReLU(max_value=6),\n",
        "    Dropout(0.5),\n",
        "    Dense(256, kernel_initializer='he_normal'),\n",
        "    BatchNormalization(),\n",
        "    ReLU(max_value=6),\n",
        "    Dropout(0.5),\n",
        "])\n",
        "\n",
        "from keras import Model\n",
        "from keras.layers import Activation, Dropout, Reshape\n",
        "from akida_models.layer_blocks import dense_block\n",
        "\n",
        "# GB: Only ReLU 6 are compatible\n",
        "# And no softmax as activation on last layer. It will be removed anyway.\n",
        "# Didn't change it either.\n",
        "base_model = model\n",
        "CLASSES = 2\n",
        "\n",
        "x = base_model.output\n",
        "x = dense_block(x,\n",
        "                units=512,\n",
        "                name='fc1',\n",
        "                add_batchnorm=True,\n",
        "                # GB: Changed to ReLU 6\n",
        "                #relu_activation='ReLU7.5')\n",
        "                relu_activation='ReLU6')\n",
        "x = Dropout(0.5, name='dropout_1')(x)\n",
        "x = dense_block(x,\n",
        "                units=CLASSES,\n",
        "                name='predictions',\n",
        "                add_batchnorm=False,\n",
        "                relu_activation=False)\n",
        "\n",
        "# GB: Softmax is impossible here\n",
        "# x = Activation('softmax', name='act_softmax')(x)\n",
        "\n",
        "x = Reshape((CLASSES,), name='reshape')(x)\n",
        "\n",
        "# Build the model\n",
        "model_keras = Model(base_model.input, x, name='akidanet_derma')\n",
        "\n",
        "model_keras.summary()"
      ]
    },
    {
      "cell_type": "code",
      "execution_count": 24,
      "metadata": {
        "colab": {
          "base_uri": "https://localhost:8080/",
          "height": 989
        },
        "id": "N5F5Y-Gqcyve",
        "outputId": "dcb1bd6f-72f2-49db-cc0c-d2b7f99f963e"
      },
      "outputs": [
        {
          "name": "stdout",
          "output_type": "stream",
          "text": [
            "Epoch 1/60\n"
          ]
        },
        {
          "name": "stderr",
          "output_type": "stream",
          "text": [
            "2024-10-07 03:38:14.884779: I tensorflow/core/common_runtime/executor.cc:1197] [/device:CPU:0] (DEBUG INFO) Executor start aborting (this does not indicate an error and you can ignore this message): INVALID_ARGUMENT: You must feed a value for placeholder tensor 'Placeholder/_0' with dtype int32\n",
            "\t [[{{node Placeholder/_0}}]]\n",
            "2024-10-07 03:38:16.296062: E tensorflow/core/grappler/optimizers/meta_optimizer.cc:954] layout failed: INVALID_ARGUMENT: Size of values 0 does not match size of permutation 4 @ fanin shape inakidanet_derma/dropout_8/dropout/SelectV2-2-TransposeNHWCToNCHW-LayoutOptimizer\n",
            "2024-10-07 03:38:16.613987: I tensorflow/compiler/xla/stream_executor/cuda/cuda_dnn.cc:424] Loaded cuDNN version 8600\n",
            "2024-10-07 03:38:18.041195: I tensorflow/compiler/xla/stream_executor/cuda/cuda_blas.cc:637] TensorFloat-32 will be used for the matrix multiplication. This will only be logged once.\n",
            "2024-10-07 03:38:18.074142: I tensorflow/compiler/xla/service/service.cc:169] XLA service 0x76e2921f58c0 initialized for platform CUDA (this does not guarantee that XLA will be used). Devices:\n",
            "2024-10-07 03:38:18.074165: I tensorflow/compiler/xla/service/service.cc:177]   StreamExecutor device (0): NVIDIA GeForce RTX 4080 SUPER, Compute Capability 8.9\n",
            "2024-10-07 03:38:18.076780: I tensorflow/compiler/mlir/tensorflow/utils/dump_mlir_util.cc:269] disabling MLIR crash reproducer, set env var `MLIR_CRASH_REPRODUCER_DIRECTORY` to enable.\n",
            "2024-10-07 03:38:18.144579: I ./tensorflow/compiler/jit/device_compiler.h:180] Compiled cluster using XLA!  This line is logged at most once for the lifetime of the process.\n"
          ]
        },
        {
          "name": "stdout",
          "output_type": "stream",
          "text": [
            "388/388 [==============================] - ETA: 0s - loss: 0.8343 - accuracy: 0.5412"
          ]
        },
        {
          "name": "stderr",
          "output_type": "stream",
          "text": [
            "2024-10-07 03:39:43.920591: I tensorflow/core/common_runtime/executor.cc:1197] [/device:CPU:0] (DEBUG INFO) Executor start aborting (this does not indicate an error and you can ignore this message): INVALID_ARGUMENT: You must feed a value for placeholder tensor 'Placeholder/_0' with dtype int32\n",
            "\t [[{{node Placeholder/_0}}]]\n"
          ]
        },
        {
          "name": "stdout",
          "output_type": "stream",
          "text": [
            "388/388 [==============================] - 92s 210ms/step - loss: 0.8343 - accuracy: 0.5412 - val_loss: 0.7492 - val_accuracy: 0.4082 - lr: 1.0000e-04\n",
            "Epoch 2/60\n",
            "388/388 [==============================] - 82s 211ms/step - loss: 0.6636 - accuracy: 0.6297 - val_loss: 0.4800 - val_accuracy: 0.7784 - lr: 1.0000e-04\n",
            "Epoch 3/60\n",
            "388/388 [==============================] - 82s 210ms/step - loss: 0.5994 - accuracy: 0.6671 - val_loss: 0.4532 - val_accuracy: 0.7864 - lr: 1.0000e-04\n",
            "Epoch 4/60\n",
            "388/388 [==============================] - 82s 210ms/step - loss: 0.5586 - accuracy: 0.6956 - val_loss: 0.4617 - val_accuracy: 0.8064 - lr: 1.0000e-04\n",
            "Epoch 5/60\n",
            "388/388 [==============================] - 82s 211ms/step - loss: 0.5406 - accuracy: 0.7162 - val_loss: 0.4519 - val_accuracy: 0.7954 - lr: 1.0000e-04\n",
            "Epoch 6/60\n",
            "388/388 [==============================] - 81s 208ms/step - loss: 0.5231 - accuracy: 0.7283 - val_loss: 0.4581 - val_accuracy: 0.7994 - lr: 1.0000e-04\n",
            "Epoch 7/60\n",
            "388/388 [==============================] - 81s 208ms/step - loss: 0.5030 - accuracy: 0.7429 - val_loss: 0.4524 - val_accuracy: 0.7914 - lr: 1.0000e-04\n",
            "Epoch 8/60\n",
            "388/388 [==============================] - 81s 209ms/step - loss: 0.5035 - accuracy: 0.7453 - val_loss: 0.4620 - val_accuracy: 0.7056 - lr: 1.0000e-04\n",
            "Epoch 9/60\n",
            "388/388 [==============================] - 82s 210ms/step - loss: 0.4781 - accuracy: 0.7614 - val_loss: 0.4292 - val_accuracy: 0.7585 - lr: 5.0000e-05\n",
            "Epoch 10/60\n",
            "388/388 [==============================] - 81s 210ms/step - loss: 0.4644 - accuracy: 0.7716 - val_loss: 0.4472 - val_accuracy: 0.7705 - lr: 5.0000e-05\n",
            "Epoch 11/60\n",
            "388/388 [==============================] - 83s 212ms/step - loss: 0.4820 - accuracy: 0.7633 - val_loss: 0.4632 - val_accuracy: 0.7056 - lr: 5.0000e-05\n",
            "Epoch 12/60\n",
            "388/388 [==============================] - 79s 204ms/step - loss: 0.4664 - accuracy: 0.7727 - val_loss: 0.4742 - val_accuracy: 0.6846 - lr: 5.0000e-05\n",
            "Epoch 13/60\n",
            "388/388 [==============================] - 82s 210ms/step - loss: 0.4516 - accuracy: 0.7804 - val_loss: 0.4849 - val_accuracy: 0.6856 - lr: 2.5000e-05\n",
            "Epoch 14/60\n",
            "388/388 [==============================] - 82s 210ms/step - loss: 0.4458 - accuracy: 0.7844 - val_loss: 0.4725 - val_accuracy: 0.7246 - lr: 2.5000e-05\n",
            "Epoch 15/60\n",
            "388/388 [==============================] - 82s 212ms/step - loss: 0.4427 - accuracy: 0.7853 - val_loss: 0.4839 - val_accuracy: 0.7036 - lr: 2.5000e-05\n",
            "Epoch 16/60\n",
            "388/388 [==============================] - 82s 212ms/step - loss: 0.4346 - accuracy: 0.7918 - val_loss: 0.4857 - val_accuracy: 0.7146 - lr: 1.2500e-05\n",
            "Epoch 17/60\n",
            "388/388 [==============================] - 82s 210ms/step - loss: 0.4331 - accuracy: 0.7933 - val_loss: 0.4711 - val_accuracy: 0.7265 - lr: 1.2500e-05\n",
            "Epoch 18/60\n",
            "388/388 [==============================] - 81s 208ms/step - loss: 0.4287 - accuracy: 0.7945 - val_loss: 0.4633 - val_accuracy: 0.7265 - lr: 1.2500e-05\n",
            "Epoch 19/60\n",
            "388/388 [==============================] - 81s 208ms/step - loss: 0.4254 - accuracy: 0.7985 - val_loss: 0.4657 - val_accuracy: 0.7375 - lr: 1.0000e-05\n"
          ]
        },
        {
          "data": {
            "image/png": "[encoded data removed]",
            "text/plain": [
              "<Figure size 1200x500 with 2 Axes>"
            ]
          },
          "metadata": {},
          "output_type": "display_data"
        }
      ],
      "source": [
        "import tensorflow as tf\n",
        "from tensorflow.keras.optimizers import RMSprop\n",
        "from tensorflow.keras.losses import SparseCategoricalCrossentropy, BinaryCrossentropy\n",
        "from tensorflow.keras.callbacks import ModelCheckpoint, EarlyStopping\n",
        "import tensorflow_addons as tfa\n",
        "from tensorflow.keras.callbacks import EarlyStopping, ReduceLROnPlateau\n",
        "\n",
        "\n",
        "model_keras.compile(Adam(learning_rate=0.0001), loss=SparseCategoricalCrossentropy(from_logits=True), metrics=['accuracy'])\n",
        "# Setting up callbacks for saving the model and early stopping\n",
        "checkpoint_cb = ModelCheckpoint(\n",
        "    'akidanet_derma_best.h5', save_best_only=True)\n",
        "\n",
        "reduce_lr = ReduceLROnPlateau(monitor='val_loss', factor=0.5, patience=3, min_lr=0.00001)\n",
        "early_stopping = EarlyStopping(monitor='val_loss', patience=10, restore_best_weights=True)\n",
        "\n",
        "# GB: To change nb of epochs \n",
        "# (on CPU, 1 epoch lasts 22 min, so 10 is 4 hours long)\n",
        "EPOCHS = 60 # Initial value: 10\n",
        "\n",
        "# Training the model\n",
        "history = model_keras.fit(\n",
        "    train_gen,\n",
        "    epochs=EPOCHS,\n",
        "    validation_data=test_gen,\n",
        "    callbacks=[checkpoint_cb, reduce_lr, early_stopping])\n",
        "\n",
        "\n",
        "# Optionally, plot the training history\n",
        "import matplotlib.pyplot as plt\n",
        "\n",
        "plt.figure(figsize=(12, 5))\n",
        "plt.subplot(1, 2, 1)\n",
        "plt.plot(history.history['accuracy'], label='Training Accuracy')\n",
        "plt.plot(history.history['val_accuracy'], label='Validation Accuracy')\n",
        "plt.title('Accuracy over Epochs')\n",
        "plt.xlabel('Epoch')\n",
        "plt.ylabel('Accuracy')\n",
        "plt.legend()\n",
        "\n",
        "plt.subplot(1, 2, 2)\n",
        "plt.plot(history.history['loss'], label='Training Loss')\n",
        "plt.plot(history.history['val_loss'], label='Validation Loss')\n",
        "plt.title('Loss over Epochs')\n",
        "plt.xlabel('Epoch')\n",
        "plt.ylabel('Loss')\n",
        "plt.legend()\n",
        "plt.show()"
      ]
    },
    {
      "cell_type": "code",
      "execution_count": 25,
      "metadata": {},
      "outputs": [
        {
          "name": "stderr",
          "output_type": "stream",
          "text": [
            "2024-10-07 04:04:13.945183: I tensorflow/core/common_runtime/executor.cc:1197] [/device:CPU:0] (DEBUG INFO) Executor start aborting (this does not indicate an error and you can ignore this message): INVALID_ARGUMENT: You must feed a value for placeholder tensor 'Placeholder/_0' with dtype int32\n",
            "\t [[{{node Placeholder/_0}}]]\n"
          ]
        },
        {
          "name": "stdout",
          "output_type": "stream",
          "text": [
            "388/388 [==============================] - 39s 100ms/step\n"
          ]
        },
        {
          "name": "stderr",
          "output_type": "stream",
          "text": [
            "2024-10-07 04:04:53.410439: I tensorflow/core/common_runtime/executor.cc:1197] [/device:CPU:0] (DEBUG INFO) Executor start aborting (this does not indicate an error and you can ignore this message): INVALID_ARGUMENT: You must feed a value for placeholder tensor 'Placeholder/_0' with dtype int32\n",
            "\t [[{{node Placeholder/_0}}]]\n"
          ]
        },
        {
          "name": "stdout",
          "output_type": "stream",
          "text": [
            "11/11 [==============================] - 3s 240ms/step\n"
          ]
        },
        {
          "data": {
            "image/png": "[encoded data removed]",
            "text/plain": [
              "<Figure size 1200x500 with 4 Axes>"
            ]
          },
          "metadata": {},
          "output_type": "display_data"
        }
      ],
      "source": [
        "from sklearn.metrics import confusion_matrix, ConfusionMatrixDisplay\n",
        "\n",
        "# Obtain predictions for the training and validation datasets\n",
        "train_predictions = np.argmax(model_keras.predict(train_gen), axis=-1)\n",
        "val_predictions = np.argmax(model_keras.predict(test_gen), axis=-1)\n",
        "\n",
        "# Get true labels from the generators\n",
        "train_labels = train_gen.classes\n",
        "val_labels = test_gen.classes\n",
        "\n",
        "# Compute confusion matrices\n",
        "train_cm = confusion_matrix(train_labels, train_predictions)\n",
        "val_cm = confusion_matrix(val_labels, val_predictions)\n",
        "\n",
        "# Plot confusion matrix for training data\n",
        "plt.figure(figsize=(12, 5))\n",
        "plt.subplot(1, 2, 1)\n",
        "ConfusionMatrixDisplay(confusion_matrix=train_cm).plot(cmap='Blues', ax=plt.gca())\n",
        "plt.title('Confusion Matrix for Training Data')\n",
        "\n",
        "# Plot confusion matrix for validation data\n",
        "plt.subplot(1, 2, 2)\n",
        "ConfusionMatrixDisplay(confusion_matrix=val_cm).plot(cmap='Blues', ax=plt.gca())\n",
        "plt.title('Confusion Matrix for Validation Data')\n",
        "\n",
        "plt.tight_layout()\n",
        "plt.show()"
      ]
    },
    {
      "cell_type": "code",
      "execution_count": 27,
      "metadata": {
        "id": "2QzPQOyLcyve"
      },
      "outputs": [],
      "source": [
        "IMG_SIZE = 224\n",
        "\n",
        "# Function to convert generator to tf.data.Dataset\n",
        "def format_example(image, label):\n",
        "    image = tf.cast(image, tf.float32)\n",
        "    image = tf.image.resize(image, (IMG_SIZE, IMG_SIZE))\n",
        "    return image, label\n",
        "\n",
        "# Create a Dataset from the generator\n",
        "train_dataset = tf.data.Dataset.from_generator(\n",
        "    lambda: train_gen,\n",
        "    output_signature=(\n",
        "        tf.TensorSpec(shape=(None, 224, 224, 3), dtype=tf.float32),\n",
        "        tf.TensorSpec(shape=(None,), dtype=tf.int32)\n",
        "    )\n",
        ")\n",
        "\n",
        "train_dataset = train_dataset.map(format_example, num_parallel_calls=tf.data.AUTOTUNE)\n",
        "\n",
        "# Define batch size and batch the dataset\n",
        "BATCH_SIZE = 16\n",
        "train_batches = train_dataset.unbatch().batch(BATCH_SIZE)"
      ]
    },
    {
      "cell_type": "markdown",
      "metadata": {},
      "source": [
        "## Quantize Model"
      ]
    },
    {
      "cell_type": "code",
      "execution_count": 28,
      "metadata": {
        "colab": {
          "base_uri": "https://localhost:8080/"
        },
        "id": "L7Je8qWHcyve",
        "outputId": "531ed6b0-856f-49d4-cdb0-e11f13dc67b9"
      },
      "outputs": [
        {
          "name": "stderr",
          "output_type": "stream",
          "text": [
            "2024-10-07 04:07:04.342403: I tensorflow/core/common_runtime/executor.cc:1197] [/device:CPU:0] (DEBUG INFO) Executor start aborting (this does not indicate an error and you can ignore this message): INVALID_ARGUMENT: You must feed a value for placeholder tensor 'Placeholder/_0' with dtype int32\n",
            "\t [[{{node Placeholder/_0}}]]\n"
          ]
        },
        {
          "name": "stdout",
          "output_type": "stream",
          "text": [
            "64/64 [==============================] - 1s 11ms/step\n",
            "64/64 [==============================] - 1s 16ms/step\n"
          ]
        }
      ],
      "source": [
        "from quantizeml.models import quantize, QuantizationParams, dump_config\n",
        "\n",
        "# Prepare a quantization scheme: first layer weights to 8-bit, other weights and activation to 4-bit\n",
        "\n",
        "# GB: Parameter per_tensor_activation = False, really? fot v1 models, you need to set this parameter to True, by default, it's False-> quantizeml.models.quantize(..., per_tensor_activations=False)\n",
        "#qparams = QuantizationParams(input_weight_bits=8, weight_bits=4, activation_bits=4)\n",
        "qparams = QuantizationParams(input_weight_bits=8, per_tensor_activations=True, weight_bits=4, activation_bits=4)\n",
        "\n",
        "# Quantize the model, using the 1024 calibration samples from the train set and calibrate over 2\n",
        "# epochs with a batch_size of 100.\n",
        "model_quantized = quantize(model_keras, qparams=qparams, \n",
        "                           samples=train_batches, epochs=2, batch_size=BATCH_SIZE, num_samples=1024)\n"
      ]
    },
    {
      "cell_type": "code",
      "execution_count": 29,
      "metadata": {
        "id": "bCp5tQLYcyvf"
      },
      "outputs": [],
      "source": [
        "test_dataset = tf.data.Dataset.from_generator(\n",
        "    lambda: test_gen,\n",
        "    output_signature=(\n",
        "        tf.TensorSpec(shape=(None, 224, 224, 3), dtype=tf.float32),\n",
        "        tf.TensorSpec(shape=(None,), dtype=tf.int32)\n",
        "    )\n",
        ")\n",
        "\n",
        "test_dataset = test_dataset.map(format_example, num_parallel_calls=tf.data.AUTOTUNE)\n",
        "\n",
        "# Define batch size and batch the dataset\n",
        "BATCH_SIZE = 32\n",
        "test_batches = test_dataset.unbatch().batch(BATCH_SIZE)"
      ]
    },
    {
      "cell_type": "code",
      "execution_count": 30,
      "metadata": {
        "colab": {
          "base_uri": "https://localhost:8080/"
        },
        "id": "R1ikc41CY_SS",
        "outputId": "e8174abf-bb56-4fab-a724-4d4e8eea19eb"
      },
      "outputs": [
        {
          "name": "stdout",
          "output_type": "stream",
          "text": [
            "(1002, 224, 224, 3)\n",
            "(1002,)\n"
          ]
        }
      ],
      "source": [
        "import numpy as np\n",
        "\n",
        "def generator_to_numpy(generator):\n",
        "    images_list = []\n",
        "    labels_list = []\n",
        "\n",
        "    # Iterate through the generator\n",
        "    for _ in range(len(generator)):\n",
        "        images, labels = generator.next()\n",
        "        images_list.append(images)\n",
        "        labels_list.append(labels)\n",
        "\n",
        "    # Concatenate lists into numpy arrays\n",
        "    x_test = np.concatenate(images_list, axis=0)\n",
        "    labels_test = np.concatenate(labels_list, axis=0)\n",
        "\n",
        "    return x_test, labels_test\n",
        "\n",
        "# Example usage with test_gen\n",
        "x_test, labels_test = generator_to_numpy(test_gen)\n",
        "\n",
        "# Ensure the shapes are correct\n",
        "print(x_test.shape)  # Should be (num_samples, 224, 224, 3)\n",
        "print(labels_test.shape)  # Should be (num_samples,)\n"
      ]
    },
    {
      "cell_type": "code",
      "execution_count": 31,
      "metadata": {
        "colab": {
          "base_uri": "https://localhost:8080/"
        },
        "id": "ElEHjD2baJca",
        "outputId": "fab08438-18c1-49d9-b173-7e6368a05c50"
      },
      "outputs": [
        {
          "name": "stdout",
          "output_type": "stream",
          "text": [
            "11/11 [==============================] - 4s 149ms/step\n",
            "Keras inference on 1002 images took 4.15 s.\n",
            "\n",
            "Keras accuracy: 700/1002.\n"
          ]
        },
        {
          "data": {
            "image/png": "[encoded data removed]",
            "text/plain": [
              "<Figure size 1000x800 with 2 Axes>"
            ]
          },
          "metadata": {},
          "output_type": "display_data"
        }
      ],
      "source": [
        "import matplotlib.pyplot as plt\n",
        "import seaborn as sns\n",
        "from sklearn.metrics import confusion_matrix\n",
        "\n",
        "from timeit import default_timer as timer\n",
        "\n",
        "# Compile the model with the specified metric\n",
        "model_quantized.compile(metrics=['accuracy'])\n",
        "\n",
        "# Get the number of images in the test dataset\n",
        "num_images = len(x_test)\n",
        "\n",
        "# Measure the time taken for Keras inference\n",
        "start = timer()\n",
        "potentials_keras = model_quantized.predict(x_test, batch_size=100)\n",
        "end = timer()\n",
        "print(f'Keras inference on {num_images} images took {end-start:.2f} s.\\n')\n",
        "\n",
        "# Get the predicted labels from the model output\n",
        "preds_keras = np.squeeze(np.argmax(potentials_keras, 1))\n",
        "\n",
        "# Calculate the accuracy\n",
        "accuracy_keras = np.sum(np.equal(preds_keras, labels_test)) / num_images\n",
        "print(f\"Keras accuracy: {accuracy_keras*num_images:.0f}/{num_images}.\")\n",
        "\n",
        "# Generate the confusion matrix\n",
        "cm = confusion_matrix(labels_test, preds_keras)\n",
        "\n",
        "# Plot the confusion matrix using seaborn heatmap\n",
        "plt.figure(figsize=(10, 8))\n",
        "sns.heatmap(cm, annot=True, fmt='d', cmap='Blues', xticklabels=np.unique(labels_test), yticklabels=np.unique(labels_test))\n",
        "plt.xlabel('Predicted Label')\n",
        "plt.ylabel('True Label')\n",
        "plt.title('Confusion Matrix')\n",
        "plt.show()"
      ]
    },
    {
      "cell_type": "code",
      "execution_count": 32,
      "metadata": {},
      "outputs": [
        {
          "name": "stdout",
          "output_type": "stream",
          "text": [
            "11/11 [==============================] - 1s 49ms/step\n",
            "Keras inference on 1002 images took 0.95 s.\n",
            "\n",
            "Keras accuracy: 760/1002.\n"
          ]
        }
      ],
      "source": [
        "# GB: Adding Keras Floating-point accuracy to compare with previous one\n",
        "\n",
        "model_keras.compile(metrics=['accuracy'])\n",
        "\n",
        "num_images = len(x_test)\n",
        "\n",
        "start = timer()\n",
        "potentials_keras = model_keras.predict(x_test, batch_size=100)\n",
        "end = timer()\n",
        "print(f'Keras inference on {num_images} images took {end-start:.2f} s.\\n')\n",
        "\n",
        "preds_keras = np.squeeze(np.argmax(potentials_keras, 1))\n",
        "accuracy_keras = np.sum(np.equal(preds_keras, labels_test)) / num_images\n",
        "print(f\"Keras accuracy: {accuracy_keras*num_images:.0f}/{num_images}.\")"
      ]
    },
    {
      "cell_type": "code",
      "execution_count": 33,
      "metadata": {
        "id": "rH9dwWw8RSge"
      },
      "outputs": [],
      "source": [
        "# GB: Name changed\n",
        "model_quantized.save('model_quantized_v1.h5')"
      ]
    },
    {
      "cell_type": "code",
      "execution_count": 34,
      "metadata": {
        "colab": {
          "base_uri": "https://localhost:8080/"
        },
        "id": "vg9v4oqlcyvf",
        "outputId": "fd01df0c-ac21-486f-e381-1d949a92a533"
      },
      "outputs": [
        {
          "name": "stdout",
          "output_type": "stream",
          "text": [
            "WARNING:tensorflow:5 out of the last 5 calls to <function NonTrackVariable.set_var at 0x76e8c0d01310> triggered tf.function retracing. Tracing is expensive and the excessive number of tracings could be due to (1) creating @tf.function repeatedly in a loop, (2) passing tensors with different shapes, (3) passing Python objects instead of tensors. For (1), please define your @tf.function outside of the loop. For (2), @tf.function has reduce_retracing=True option that can avoid unnecessary retracing. For (3), please refer to https://www.tensorflow.org/guide/function#controlling_retracing and https://www.tensorflow.org/api_docs/python/tf/function for  more details.\n",
            "WARNING:tensorflow:6 out of the last 6 calls to <function NonTrackVariable.set_var at 0x76e8b6877670> triggered tf.function retracing. Tracing is expensive and the excessive number of tracings could be due to (1) creating @tf.function repeatedly in a loop, (2) passing tensors with different shapes, (3) passing Python objects instead of tensors. For (1), please define your @tf.function outside of the loop. For (2), @tf.function has reduce_retracing=True option that can avoid unnecessary retracing. For (3), please refer to https://www.tensorflow.org/guide/function#controlling_retracing and https://www.tensorflow.org/api_docs/python/tf/function for  more details.\n"
          ]
        }
      ],
      "source": [
        "import numpy as np\n",
        "from cnn2snn import convert\n",
        "\n",
        "model_akida = convert(model_quantized)\n"
      ]
    },
    {
      "cell_type": "code",
      "execution_count": 35,
      "metadata": {
        "colab": {
          "base_uri": "https://localhost:8080/"
        },
        "id": "pRhA4N6ra8X3",
        "outputId": "924a2912-03ed-4788-ed05-639c72a8ff8d"
      },
      "outputs": [
        {
          "name": "stdout",
          "output_type": "stream",
          "text": [
            "                 Model Summary                  \n",
            "________________________________________________\n",
            "Input shape    Output shape  Sequences  Layers\n",
            "================================================\n",
            "[224, 224, 3]  [1, 1, 2]     1          14    \n",
            "________________________________________________\n",
            "\n",
            "___________________________________________________________\n",
            "Layer (type)           Output shape    Kernel shape      \n",
            "\n",
            "============ SW/conv2d_8-predictions (Software) ===========\n",
            "\n",
            "conv2d_8 (InputConv.)  [224, 224, 32]  (3, 3, 3, 32)     \n",
            "___________________________________________________________\n",
            "conv2d_9 (Conv.)       [112, 112, 32]  (3, 3, 32, 32)    \n",
            "___________________________________________________________\n",
            "conv2d_10 (Conv.)      [112, 112, 64]  (3, 3, 32, 64)    \n",
            "___________________________________________________________\n",
            "conv2d_11 (Conv.)      [56, 56, 64]    (3, 3, 64, 64)    \n",
            "___________________________________________________________\n",
            "conv2d_12 (Conv.)      [56, 56, 128]   (3, 3, 64, 128)   \n",
            "___________________________________________________________\n",
            "conv2d_13 (Conv.)      [28, 28, 128]   (3, 3, 128, 128)  \n",
            "___________________________________________________________\n",
            "conv2d_14 (Conv.)      [28, 28, 256]   (3, 3, 128, 256)  \n",
            "___________________________________________________________\n",
            "conv2d_15 (Conv.)      [14, 14, 256]   (3, 3, 256, 256)  \n",
            "___________________________________________________________\n",
            "dense_4 (Fully.)       [1, 1, 512]     (1, 1, 50176, 512)\n",
            "___________________________________________________________\n",
            "dense_5 (Fully.)       [1, 1, 512]     (1, 1, 512, 512)  \n",
            "___________________________________________________________\n",
            "dense_6 (Fully.)       [1, 1, 256]     (1, 1, 512, 256)  \n",
            "___________________________________________________________\n",
            "dense_7 (Fully.)       [1, 1, 256]     (1, 1, 256, 256)  \n",
            "___________________________________________________________\n",
            "fc1 (Fully.)           [1, 1, 512]     (1, 1, 256, 512)  \n",
            "___________________________________________________________\n",
            "predictions (Fully.)   [1, 1, 2]       (1, 1, 512, 2)    \n",
            "___________________________________________________________\n"
          ]
        }
      ],
      "source": [
        "model_akida.summary()"
      ]
    },
    {
      "cell_type": "code",
      "execution_count": 36,
      "metadata": {
        "colab": {
          "base_uri": "https://localhost:8080/"
        },
        "id": "P4SB5kN_R-EX",
        "outputId": "5c9188b1-3bb5-4c0b-e1a6-cf0f5b271f1f"
      },
      "outputs": [],
      "source": [
        "# GB: I do not understand this block, I guess you skip it in normal flow, or you start here ...\n",
        "\n",
        "# from tensorflow.keras.models import load_model\n",
        "# from akida_models import load_model\n",
        "\n",
        "# model_path = 'model_akida_v1.fbz'\n",
        "# model_akida = load_model(model_path)\n",
        "\n",
        "# model_akida.summary()"
      ]
    },
    {
      "cell_type": "code",
      "execution_count": 37,
      "metadata": {
        "id": "kTQpG6TQ2V26"
      },
      "outputs": [],
      "source": [
        "# GB: Change model name to v1\n",
        "model_akida.save('model_akida_v1.fbz')"
      ]
    },
    {
      "cell_type": "code",
      "execution_count": 38,
      "metadata": {},
      "outputs": [],
      "source": [
        "# GB: Get device (again)\n",
        "# myDevice = ak.devices()[1]\n",
        "# print('Device: ', myDevice.desc)\n",
        "# model_akida.map(myDevice)\n",
        "# model_akida.summary()"
      ]
    },
    {
      "cell_type": "code",
      "execution_count": 39,
      "metadata": {
        "colab": {
          "base_uri": "https://localhost:8080/"
        },
        "id": "-SM6BVn6bBEq",
        "outputId": "232d5726-1365-48c9-9eea-3d2c1ab7063f"
      },
      "outputs": [
        {
          "name": "stdout",
          "output_type": "stream",
          "text": [
            "Inference on 1002 images took 14.52 s.\n",
            "\n",
            "Accuracy: 704/1002.\n"
          ]
        }
      ],
      "source": [
        "# Check Model performance\n",
        "start = timer()\n",
        "accuracy_akida = model_akida.evaluate(x_test, labels_test)\n",
        "end = timer()\n",
        "print(f'Inference on {num_images} images took {end-start:.2f} s.\\n')\n",
        "print(f\"Accuracy: {accuracy_akida*num_images:.0f}/{num_images}.\")"
      ]
    },
    {
      "cell_type": "code",
      "execution_count": 40,
      "metadata": {
        "colab": {
          "base_uri": "https://localhost:8080/"
        },
        "id": "Ye3VoQishRAm",
        "outputId": "eddf1af8-8ecf-4500-db35-6cd0a6859271"
      },
      "outputs": [
        {
          "name": "stdout",
          "output_type": "stream",
          "text": [
            "Number of samples: 1002\n",
            "Number of samples per class in the test generator:\n",
            "Benign: 807\n",
            "Cancerous: 195\n"
          ]
        }
      ],
      "source": [
        "import numpy as np\n",
        "\n",
        "\n",
        "# Get the class indices for each sample\n",
        "class_indices = test_gen.classes\n",
        "\n",
        "# Get the mapping from class names to indices\n",
        "class_indices_mapping = test_gen.class_indices\n",
        "\n",
        "# Create a reverse mapping from indices to class names\n",
        "index_to_class = {v: k for k, v in class_indices_mapping.items()}\n",
        "\n",
        "# Count the number of samples for each class\n",
        "class_counts = np.bincount(class_indices)\n",
        "\n",
        "# Print the number of samples for each class\n",
        "print(\"Number of samples:\", test_gen.samples)\n",
        "print(\"Number of samples per class in the test generator:\")\n",
        "for class_index, count in enumerate(class_counts):\n",
        "    class_name = index_to_class[class_index]\n",
        "    print(f\"{class_name}: {count}\")\n"
      ]
    },
    {
      "cell_type": "code",
      "execution_count": 41,
      "metadata": {
        "colab": {
          "base_uri": "https://localhost:8080/",
          "height": 408
        },
        "id": "U9xeFk0meWOC",
        "outputId": "7ef90e9d-2de6-4f10-8587-c2c58d1d6cb3"
      },
      "outputs": [
        {
          "name": "stderr",
          "output_type": "stream",
          "text": [
            "Clipping input data to the valid range for imshow with RGB data ([0..1] for floats or [0..255] for integers).\n"
          ]
        },
        {
          "name": "stdout",
          "output_type": "stream",
          "text": [
            "[0, 0, 0, 0, 0]\n",
            "[1. 1. 1. 1. 1. 0.]\n",
            "['Cancerous', 'Cancerous', 'Cancerous', 'Cancerous', 'Cancerous', '']\n",
            "Akida outputs: [ 0.74689454 -0.9131143 ]\n",
            "True label: Cancerous\n",
            "Predicted label: Cancerous\n"
          ]
        },
        {
          "data": {
            "image/png": "[encoded data removed]",
            "text/plain": [
              "<Figure size 800x400 with 2 Axes>"
            ]
          },
          "metadata": {},
          "output_type": "display_data"
        }
      ],
      "source": [
        "import matplotlib.pyplot as plt\n",
        "import matplotlib.lines as lines\n",
        "from akida_models.imagenet import preprocessing\n",
        "\n",
        "class_names = ['Cancerous', 'Benign']\n",
        "\n",
        "IMAGE_SIZE = 224\n",
        "NUM_CHANNELS = 3\n",
        "\n",
        "# Functions used to display the top5 results\n",
        "def get_top5(potentials, true_label):\n",
        "    \"\"\"\n",
        "    Returns the top 5 classes from the output potentials\n",
        "    \"\"\"\n",
        "    tmp_pots = potentials.copy()\n",
        "    top5 = []\n",
        "    min_val = np.min(tmp_pots)\n",
        "    for ii in range(5):\n",
        "        best = np.argmax(tmp_pots)\n",
        "        top5.append(best)\n",
        "        tmp_pots[best] = min_val\n",
        "\n",
        "    vals = np.zeros((6,))\n",
        "    vals[:5] = potentials[top5]\n",
        "\n",
        "    if true_label not in top5:\n",
        "        vals[5] = potentials[true_label]\n",
        "    else:\n",
        "        vals[5] = 0\n",
        "\n",
        "    vals /= np.max(vals)\n",
        "\n",
        "    class_name = []\n",
        "    for ii in range(5):\n",
        "        class_name.append(class_names[top5[ii]])\n",
        "    if true_label in top5:\n",
        "        class_name.append('')\n",
        "    else:\n",
        "        class_name.append(\n",
        "            class_names[true_label])\n",
        "\n",
        "    return top5, vals, class_name\n",
        "\n",
        "\n",
        "def adjust_spines(ax, spines):\n",
        "    for loc, spine in ax.spines.items():\n",
        "        if loc in spines:\n",
        "            spine.set_position(('outward', 10))  # outward by 10 points\n",
        "        else:\n",
        "            spine.set_color('none')  # don't draw spine\n",
        "    # turn off ticks where there is no spine\n",
        "    if 'left' in spines:\n",
        "        ax.yaxis.set_ticks_position('left')\n",
        "    else:\n",
        "        # no yaxis ticks\n",
        "        ax.yaxis.set_ticks([])\n",
        "    if 'bottom' in spines:\n",
        "        ax.xaxis.set_ticks_position('bottom')\n",
        "    else:\n",
        "        # no xaxis ticks\n",
        "        ax.xaxis.set_ticks([])\n",
        "\n",
        "\n",
        "def prepare_plots():\n",
        "    fig = plt.figure(figsize=(8, 4))\n",
        "    # Image subplot\n",
        "    ax0 = plt.subplot(1, 3, 1)\n",
        "    imgobj = ax0.imshow(np.zeros((IMAGE_SIZE, IMAGE_SIZE, NUM_CHANNELS), dtype=np.uint8))\n",
        "    ax0.set_axis_off()\n",
        "    # Top 5 results subplot\n",
        "    ax1 = plt.subplot(1, 2, 2)\n",
        "    bar_positions = (0, 1, 2, 3, 4, 6)\n",
        "    rects = ax1.barh(bar_positions, np.zeros((6,)), align='center', height=0.5)\n",
        "    plt.xlim(-0.2, 1.01)\n",
        "    ax1.set(xlim=(-0.2, 1.15), ylim=(-1.5, 12))\n",
        "    ax1.set_yticks(bar_positions)\n",
        "    ax1.invert_yaxis()\n",
        "    ax1.yaxis.set_ticks_position('left')\n",
        "    ax1.xaxis.set_ticks([])\n",
        "    adjust_spines(ax1, 'left')\n",
        "    ax1.add_line(lines.Line2D((0, 0), (-0.5, 6.5), color=(0.0, 0.0, 0.0)))\n",
        "    # Adjust Plot Positions\n",
        "    ax0.set_position([0.05, 0.055, 0.3, 0.9])\n",
        "    l1, b1, w1, h1 = ax1.get_position().bounds\n",
        "    ax1.set_position([l1 * 1.05, b1 + 0.09 * h1, w1, 0.8 * h1])\n",
        "    # Add title box\n",
        "    plt.figtext(0.5,\n",
        "                0.9,\n",
        "                \"Imagenet Classification by Akida\",\n",
        "                size=20,\n",
        "                ha=\"center\",\n",
        "                va=\"center\",\n",
        "                bbox=dict(boxstyle=\"round\",\n",
        "                          ec=(0.5, 0.5, 0.5),\n",
        "                          fc=(0.9, 0.9, 1.0)))\n",
        "\n",
        "    return fig, imgobj, ax1, rects\n",
        "\n",
        "\n",
        "def update_bars_chart(rects, vals, true_label):\n",
        "    counter = 0\n",
        "    for rect, h in zip(rects, yvals):\n",
        "        rect.set_width(h)\n",
        "        if counter < 5:\n",
        "            if top5[counter] == true_label:\n",
        "                if counter == 0:\n",
        "                    rect.set_facecolor((0.0, 1.0, 0.0))\n",
        "                else:\n",
        "                    rect.set_facecolor((0.0, 0.5, 0.0))\n",
        "            else:\n",
        "                rect.set_facecolor('gray')\n",
        "        elif counter == 5:\n",
        "            rect.set_facecolor('red')\n",
        "        counter += 1\n",
        "\n",
        "\n",
        "# Prepare plots\n",
        "fig, imgobj, ax1, rects = prepare_plots()\n",
        "\n",
        "# Get a random image\n",
        "img = np.random.randint(num_images)\n",
        "\n",
        "# Predict image class\n",
        "outputs_akida = model_akida.predict(np.expand_dims(x_test[img].astype(np.uint8), axis=0)).squeeze()\n",
        "\n",
        "# Get top 5 prediction labels and associated names\n",
        "true_label = labels_test[img]\n",
        "\n",
        "# GB: Added, because of last layer activation function\n",
        "true_label = int(true_label)\n",
        "\n",
        "top5, yvals, class_name = get_top5(outputs_akida, true_label)\n",
        "print(top5)\n",
        "print(yvals)\n",
        "print(class_name)\n",
        "\n",
        "print(\"Akida outputs:\", outputs_akida)\n",
        "print(\"True label:\", class_names[int(true_label)])\n",
        "print(\"Predicted label:\", class_names[np.argmax(outputs_akida)])\n",
        "\n",
        "# Draw Plots\n",
        "imgobj.set_data(x_test[img])\n",
        "ax1.set_yticklabels(class_name, rotation='horizontal', size=9)\n",
        "update_bars_chart(rects, yvals, true_label)\n",
        "fig.canvas.draw()\n",
        "plt.show()"
      ]
    },
    {
      "cell_type": "code",
      "execution_count": null,
      "metadata": {},
      "outputs": [],
      "source": []
    }
  ],
  "metadata": {
    "colab": {
      "provenance": []
    },
    "kernelspec": {
      "display_name": "Python 3 (ipykernel)",
      "language": "python",
      "name": "python3"
    },
    "language_info": {
      "codemirror_mode": {
        "name": "ipython",
        "version": 3
      },
      "file_extension": ".py",
      "mimetype": "text/x-python",
      "name": "python",
      "nbconvert_exporter": "python",
      "pygments_lexer": "ipython3",
      "version": "3.8.10"
    }
  },
  "nbformat": 4,
  "nbformat_minor": 0
}
