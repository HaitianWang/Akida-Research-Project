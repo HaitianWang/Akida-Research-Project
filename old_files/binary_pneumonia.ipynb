{
  "cells": [
    {
      "cell_type": "markdown",
      "metadata": {},
      "source": [
        "# GENG5551 Prototype Model Training \n",
        "\n",
        "Run code below if using google collab for training. If not skip to next section."
      ]
    },
    {
      "cell_type": "markdown",
      "metadata": {
        "id": "wAJmzS0hM7Rv"
      },
      "source": [
        "run container with:\n",
        "sudo docker run --gpus all -it --rm -v $(pwd):/tf/notebooks -p 8888:8888 tensorflow/tensorflow:2.12.0-gpu-jupyter"
      ]
    },
    {
      "cell_type": "code",
      "execution_count": 1,
      "metadata": {},
      "outputs": [],
      "source": [
        "startup = True"
      ]
    },
    {
      "cell_type": "code",
      "execution_count": 2,
      "metadata": {
        "colab": {
          "base_uri": "https://localhost:8080/"
        },
        "collapsed": true,
        "id": "ZATueY_Yc9vt",
        "outputId": "93ddd5f3-f3ec-4b90-f677-ceae6228a022"
      },
      "outputs": [],
      "source": [
        "# GB: Useless\n",
        "\n",
        "# !pip install pandas\n",
        "# !pip install scikit-learn\n",
        "# !pip install seaborn\n",
        "# !pip install akida==2.7.2\n",
        "# !pip install cnn2snn==2.7.2\n",
        "# %pip install akida-models==1.5.0"
      ]
    },
    {
      "cell_type": "code",
      "execution_count": 3,
      "metadata": {},
      "outputs": [],
      "source": [
        "# GB: Same here\n",
        "# !unzip notebooks/archive"
      ]
    },
    {
      "cell_type": "markdown",
      "metadata": {},
      "source": [
        "## Dataset Preprocessing\n",
        "\n",
        "Start here if running on anaconda virtual environment\n",
        "\n",
        "- This section involves examining and pre-processing the data to make it suitable for use with the Akida models"
      ]
    },
    {
      "cell_type": "code",
      "execution_count": 4,
      "metadata": {
        "id": "FSYTr1lRcyvc"
      },
      "outputs": [],
      "source": [
        "import matplotlib.pyplot as plt\n",
        "import matplotlib.image as mpimg\n",
        "import numpy as np\n",
        "import pandas as pd\n",
        "import os, shutil, random\n",
        "\n",
        "os.chdir('notebooks/Documents/GitHub/GENG5551-Akida-Chip')"
      ]
    },
    {
      "cell_type": "code",
      "execution_count": 5,
      "metadata": {},
      "outputs": [
        {
          "data": {
            "text/plain": [
              "'/tf/notebooks/Documents/GitHub/GENG5551-Akida-Chip'"
            ]
          },
          "execution_count": 5,
          "metadata": {},
          "output_type": "execute_result"
        }
      ],
      "source": [
        "os.getcwd()\n"
      ]
    },
    {
      "cell_type": "code",
      "execution_count": 6,
      "metadata": {},
      "outputs": [],
      "source": [
        "# Define paths for train and test datasets\n",
        "train_dir = 'archive/data/train'\n",
        "test_dir = 'archive/data/test'\n",
        "\n",
        "# Define the target directories for cancerous and benign images\n",
        "train_normal_dir = 'archive/data/train/NORMAL'\n",
        "train_pneumonia_dir = 'archive/data/train/PNEUMONIA'\n",
        "test_normal_dir = 'archive/data/test/NORMAL'\n",
        "test_pneumonia_dir = 'archive/data/test/PNEUMONIA'"
      ]
    },
    {
      "cell_type": "code",
      "execution_count": 7,
      "metadata": {
        "colab": {
          "base_uri": "https://localhost:8080/"
        },
        "id": "XjclvKxrcyve",
        "outputId": "14ea3396-8eed-41a3-e849-7542e74bb25b"
      },
      "outputs": [
        {
          "name": "stderr",
          "output_type": "stream",
          "text": [
            "2024-09-30 02:52:00.541784: I tensorflow/core/util/port.cc:110] oneDNN custom operations are on. You may see slightly different numerical results due to floating-point round-off errors from different computation orders. To turn them off, set the environment variable `TF_ENABLE_ONEDNN_OPTS=0`.\n",
            "2024-09-30 02:52:00.570135: I tensorflow/core/platform/cpu_feature_guard.cc:182] This TensorFlow binary is optimized to use available CPU instructions in performance-critical operations.\n",
            "To enable the following instructions: AVX2 AVX512F AVX512_VNNI AVX512_BF16 FMA, in other operations, rebuild TensorFlow with the appropriate compiler flags.\n"
          ]
        },
        {
          "name": "stdout",
          "output_type": "stream",
          "text": [
            "Found 5216 images belonging to 2 classes.\n",
            "Found 640 images belonging to 2 classes.\n"
          ]
        }
      ],
      "source": [
        "# scale images\n",
        "import tensorflow as tf\n",
        "from tensorflow.keras.preprocessing.image import ImageDataGenerator\n",
        "\n",
        "# train_datagen = ImageDataGenerator(\n",
        "#     rescale=1.0/255.0,\n",
        "#     rotation_range=20,\n",
        "#     width_shift_range=0.2,\n",
        "#     height_shift_range=0.2,\n",
        "#     shear_range=0.2,\n",
        "#     zoom_range=0.2,\n",
        "#     horizontal_flip=True\n",
        "# )\n",
        "# test_datagen = ImageDataGenerator(rescale=1.0/255.0)\n",
        "\n",
        "train_datagen = ImageDataGenerator(\n",
        "    rotation_range=20,\n",
        "    width_shift_range=0.2,\n",
        "    height_shift_range=0.2,\n",
        "    shear_range=0.2,\n",
        "    zoom_range=0.2,\n",
        "    horizontal_flip=True\n",
        ")\n",
        "test_datagen = ImageDataGenerator()\n",
        "\n",
        "train_gen = train_datagen.flow_from_directory(\n",
        "    train_dir,\n",
        "    target_size=(224, 224),\n",
        "    batch_size=100,\n",
        "    class_mode='binary',\n",
        ")\n",
        "\n",
        "test_gen = test_datagen.flow_from_directory(\n",
        "    test_dir,\n",
        "    target_size=(224, 224),\n",
        "    batch_size=100,\n",
        "    class_mode='binary'\n",
        ")"
      ]
    },
    {
      "cell_type": "markdown",
      "metadata": {},
      "source": [
        "## Model Training"
      ]
    },
    {
      "cell_type": "code",
      "execution_count": 8,
      "metadata": {},
      "outputs": [
        {
          "name": "stderr",
          "output_type": "stream",
          "text": [
            "2024-09-30 02:52:01.455447: I tensorflow/compiler/xla/stream_executor/cuda/cuda_gpu_executor.cc:996] successful NUMA node read from SysFS had negative value (-1), but there must be at least one NUMA node, so returning NUMA node zero. See more at https://github.com/torvalds/linux/blob/v6.0/Documentation/ABI/testing/sysfs-bus-pci#L344-L355\n",
            "2024-09-30 02:52:01.459205: I tensorflow/compiler/xla/stream_executor/cuda/cuda_gpu_executor.cc:996] successful NUMA node read from SysFS had negative value (-1), but there must be at least one NUMA node, so returning NUMA node zero. See more at https://github.com/torvalds/linux/blob/v6.0/Documentation/ABI/testing/sysfs-bus-pci#L344-L355\n",
            "2024-09-30 02:52:01.459326: I tensorflow/compiler/xla/stream_executor/cuda/cuda_gpu_executor.cc:996] successful NUMA node read from SysFS had negative value (-1), but there must be at least one NUMA node, so returning NUMA node zero. See more at https://github.com/torvalds/linux/blob/v6.0/Documentation/ABI/testing/sysfs-bus-pci#L344-L355\n",
            "2024-09-30 02:52:01.460397: I tensorflow/compiler/xla/stream_executor/cuda/cuda_gpu_executor.cc:996] successful NUMA node read from SysFS had negative value (-1), but there must be at least one NUMA node, so returning NUMA node zero. See more at https://github.com/torvalds/linux/blob/v6.0/Documentation/ABI/testing/sysfs-bus-pci#L344-L355\n",
            "2024-09-30 02:52:01.460542: I tensorflow/compiler/xla/stream_executor/cuda/cuda_gpu_executor.cc:996] successful NUMA node read from SysFS had negative value (-1), but there must be at least one NUMA node, so returning NUMA node zero. See more at https://github.com/torvalds/linux/blob/v6.0/Documentation/ABI/testing/sysfs-bus-pci#L344-L355\n",
            "2024-09-30 02:52:01.460665: I tensorflow/compiler/xla/stream_executor/cuda/cuda_gpu_executor.cc:996] successful NUMA node read from SysFS had negative value (-1), but there must be at least one NUMA node, so returning NUMA node zero. See more at https://github.com/torvalds/linux/blob/v6.0/Documentation/ABI/testing/sysfs-bus-pci#L344-L355\n",
            "2024-09-30 02:52:01.523041: I tensorflow/compiler/xla/stream_executor/cuda/cuda_gpu_executor.cc:996] successful NUMA node read from SysFS had negative value (-1), but there must be at least one NUMA node, so returning NUMA node zero. See more at https://github.com/torvalds/linux/blob/v6.0/Documentation/ABI/testing/sysfs-bus-pci#L344-L355\n",
            "2024-09-30 02:52:01.523191: I tensorflow/compiler/xla/stream_executor/cuda/cuda_gpu_executor.cc:996] successful NUMA node read from SysFS had negative value (-1), but there must be at least one NUMA node, so returning NUMA node zero. See more at https://github.com/torvalds/linux/blob/v6.0/Documentation/ABI/testing/sysfs-bus-pci#L344-L355\n",
            "2024-09-30 02:52:01.523285: I tensorflow/compiler/xla/stream_executor/cuda/cuda_gpu_executor.cc:996] successful NUMA node read from SysFS had negative value (-1), but there must be at least one NUMA node, so returning NUMA node zero. See more at https://github.com/torvalds/linux/blob/v6.0/Documentation/ABI/testing/sysfs-bus-pci#L344-L355\n",
            "2024-09-30 02:52:01.523369: I tensorflow/core/common_runtime/gpu/gpu_device.cc:1635] Created device /job:localhost/replica:0/task:0/device:GPU:0 with 13753 MB memory:  -> device: 0, name: NVIDIA GeForce RTX 4080 SUPER, pci bus id: 0000:01:00.0, compute capability: 8.9\n"
          ]
        },
        {
          "name": "stdout",
          "output_type": "stream",
          "text": [
            " Akida version:  AkidaVersion.v1\n"
          ]
        }
      ],
      "source": [
        "# GB: Change Akida version\n",
        "import os\n",
        "import cnn2snn\n",
        "import akida as ak\n",
        "\n",
        "# Change Akida version\n",
        "os.environ[\"CNN2SNN_TARGET_AKIDA_VERSION\"] = \"v1\"\n",
        "\n",
        "# Double-check Avida version\n",
        "print(' Akida version: ', cnn2snn.get_akida_version())"
      ]
    },
    {
      "cell_type": "code",
      "execution_count": 9,
      "metadata": {
        "colab": {
          "base_uri": "https://localhost:8080/"
        },
        "id": "eQASzthacyve",
        "outputId": "5302cd61-dc20-4ccf-80eb-10baa264765d"
      },
      "outputs": [
        {
          "name": "stdout",
          "output_type": "stream",
          "text": [
            "Model: \"akidanet_0.50_224_2\"\n",
            "_________________________________________________________________\n",
            " Layer (type)                Output Shape              Param #   \n",
            "=================================================================\n",
            " input (InputLayer)          [(None, 224, 224, 3)]     0         \n",
            "                                                                 \n",
            " rescaling (Rescaling)       (None, 224, 224, 3)       0         \n",
            "                                                                 \n",
            " conv_0 (Conv2D)             (None, 112, 112, 16)      432       \n",
            "                                                                 \n",
            " conv_0/BN (BatchNormalizati  (None, 112, 112, 16)     64        \n",
            " on)                                                             \n",
            "                                                                 \n",
            " conv_0/relu (ReLU)          (None, 112, 112, 16)      0         \n",
            "                                                                 \n",
            " conv_1 (Conv2D)             (None, 112, 112, 32)      4608      \n",
            "                                                                 \n",
            " conv_1/BN (BatchNormalizati  (None, 112, 112, 32)     128       \n",
            " on)                                                             \n",
            "                                                                 \n",
            " conv_1/relu (ReLU)          (None, 112, 112, 32)      0         \n",
            "                                                                 \n",
            " conv_2 (Conv2D)             (None, 56, 56, 64)        18432     \n",
            "                                                                 \n",
            " conv_2/BN (BatchNormalizati  (None, 56, 56, 64)       256       \n",
            " on)                                                             \n",
            "                                                                 \n",
            " conv_2/relu (ReLU)          (None, 56, 56, 64)        0         \n",
            "                                                                 \n",
            " conv_3 (Conv2D)             (None, 56, 56, 64)        36864     \n",
            "                                                                 \n",
            " conv_3/BN (BatchNormalizati  (None, 56, 56, 64)       256       \n",
            " on)                                                             \n",
            "                                                                 \n",
            " conv_3/relu (ReLU)          (None, 56, 56, 64)        0         \n",
            "                                                                 \n",
            " separable_4 (SeparableConv2  (None, 28, 28, 128)      8768      \n",
            " D)                                                              \n",
            "                                                                 \n",
            " separable_4/BN (BatchNormal  (None, 28, 28, 128)      512       \n",
            " ization)                                                        \n",
            "                                                                 \n",
            " separable_4/relu (ReLU)     (None, 28, 28, 128)       0         \n",
            "                                                                 \n",
            " separable_5 (SeparableConv2  (None, 28, 28, 128)      17536     \n",
            " D)                                                              \n",
            "                                                                 \n",
            " separable_5/BN (BatchNormal  (None, 28, 28, 128)      512       \n",
            " ization)                                                        \n",
            "                                                                 \n",
            " separable_5/relu (ReLU)     (None, 28, 28, 128)       0         \n",
            "                                                                 \n",
            " separable_6 (SeparableConv2  (None, 14, 14, 256)      33920     \n",
            " D)                                                              \n",
            "                                                                 \n",
            " separable_6/BN (BatchNormal  (None, 14, 14, 256)      1024      \n",
            " ization)                                                        \n",
            "                                                                 \n",
            " separable_6/relu (ReLU)     (None, 14, 14, 256)       0         \n",
            "                                                                 \n",
            " separable_7 (SeparableConv2  (None, 14, 14, 256)      67840     \n",
            " D)                                                              \n",
            "                                                                 \n",
            " separable_7/BN (BatchNormal  (None, 14, 14, 256)      1024      \n",
            " ization)                                                        \n",
            "                                                                 \n",
            " separable_7/relu (ReLU)     (None, 14, 14, 256)       0         \n",
            "                                                                 \n",
            " separable_8 (SeparableConv2  (None, 14, 14, 256)      67840     \n",
            " D)                                                              \n",
            "                                                                 \n",
            " separable_8/BN (BatchNormal  (None, 14, 14, 256)      1024      \n",
            " ization)                                                        \n",
            "                                                                 \n",
            " separable_8/relu (ReLU)     (None, 14, 14, 256)       0         \n",
            "                                                                 \n",
            " separable_9 (SeparableConv2  (None, 14, 14, 256)      67840     \n",
            " D)                                                              \n",
            "                                                                 \n",
            " separable_9/BN (BatchNormal  (None, 14, 14, 256)      1024      \n",
            " ization)                                                        \n",
            "                                                                 \n",
            " separable_9/relu (ReLU)     (None, 14, 14, 256)       0         \n",
            "                                                                 \n",
            " separable_10 (SeparableConv  (None, 14, 14, 256)      67840     \n",
            " 2D)                                                             \n",
            "                                                                 \n",
            " separable_10/BN (BatchNorma  (None, 14, 14, 256)      1024      \n",
            " lization)                                                       \n",
            "                                                                 \n",
            " separable_10/relu (ReLU)    (None, 14, 14, 256)       0         \n",
            "                                                                 \n",
            " separable_11 (SeparableConv  (None, 14, 14, 256)      67840     \n",
            " 2D)                                                             \n",
            "                                                                 \n",
            " separable_11/BN (BatchNorma  (None, 14, 14, 256)      1024      \n",
            " lization)                                                       \n",
            "                                                                 \n",
            " separable_11/relu (ReLU)    (None, 14, 14, 256)       0         \n",
            "                                                                 \n",
            " separable_12 (SeparableConv  (None, 7, 7, 512)        133376    \n",
            " 2D)                                                             \n",
            "                                                                 \n",
            " separable_12/BN (BatchNorma  (None, 7, 7, 512)        2048      \n",
            " lization)                                                       \n",
            "                                                                 \n",
            " separable_12/relu (ReLU)    (None, 7, 7, 512)         0         \n",
            "                                                                 \n",
            " separable_13 (SeparableConv  (None, 7, 7, 512)        266752    \n",
            " 2D)                                                             \n",
            "                                                                 \n",
            " separable_13/global_avg (Gl  (None, 512)              0         \n",
            " obalAveragePooling2D)                                           \n",
            "                                                                 \n",
            " separable_13/BN (BatchNorma  (None, 512)              2048      \n",
            " lization)                                                       \n",
            "                                                                 \n",
            " separable_13/relu (ReLU)    (None, 512)               0         \n",
            "                                                                 \n",
            "=================================================================\n",
            "Total params: 871,856\n",
            "Trainable params: 865,872\n",
            "Non-trainable params: 5,984\n",
            "_________________________________________________________________\n"
          ]
        }
      ],
      "source": [
        "from akida_models import fetch_file, akidanet_imagenet, mobilenet_imagenet\n",
        "\n",
        "# GB: Things have to be changed here. It shouldn't work with weights coming from v2 but it does.\n",
        "# I thought there were a ready to use model: akidanet_imagenet_pretrained()\n",
        "# In fact, yes, there is: https://doc.brainchipinc.com/api_reference/akida_models_apis.html#akida_models.akidanet_imagenet_pretrained\n",
        "# With 0.5 and False, it should give the expected model.\n",
        "# TO BE CHECKED\n",
        "#base_model = akidanet_imagenet_trained(alpha=0.5, quantized=False)\n",
        "\n",
        "IMG_SIZE = 224\n",
        "# CLASSES = metadata['dx'].unique()\n",
        "CLASSES = 2\n",
        "\n",
        "\n",
        "# Create a base model without top layers\n",
        "base_model = akidanet_imagenet(input_shape=(IMG_SIZE, IMG_SIZE, 3),\n",
        "                               classes=CLASSES,\n",
        "                               alpha=0.5,\n",
        "                               include_top=False,\n",
        "                               pooling='avg')\n",
        "\n",
        "# base_model = mobilenet_imagenet(input_shape=(IMG_SIZE, IMG_SIZE, 3),\n",
        "#                                 classes=CLASSES,\n",
        "#                                 alpha=1.0,\n",
        "#                                 dropout=0.001,\n",
        "#                                 include_top=False,\n",
        "#                                 pooling='avg')\n",
        "\n",
        "# Get pretrained quantized weights and load them into the base model\n",
        "pretrained_weights = fetch_file(\n",
        "    \n",
        "    # GB: \n",
        "    #origin=\"https://data.brainchip.com/models/AkidaV2/akidanet/akidanet_imagenet_224_alpha_0.5.h5\",\n",
        "    # Commented line above and added line below\n",
        "    origin='https://data.brainchip.com/models/AkidaV1/akidanet/akidanet_imagenet_224_alpha_50.h5',\n",
        "    # origin='https://data.brainchip.com/models/AkidaV1/mobilenet/mobilenet_imagenet_224.h5',\n",
        "    \n",
        "    # GB: Other filename\n",
        "    #fname=\"akidanet_imagenet_224_alpha_0.5.h5\",\n",
        "    fname=\"akidanet_imagenet_224_alpha_50.h5\"\n",
        "    # fname=\"mobilenet_imagenet_224.h5\"\n",
        "    \n",
        "    # GB: no cache\n",
        "    # cache_subdir='models'\n",
        "    )\n",
        "\n",
        "base_model.load_weights(pretrained_weights, by_name=True)\n",
        "base_model.summary()"
      ]
    },
    {
      "cell_type": "code",
      "execution_count": 10,
      "metadata": {
        "colab": {
          "base_uri": "https://localhost:8080/"
        },
        "id": "PDjg0V4Bcyve",
        "outputId": "245523d1-3f32-452d-ded7-998c39900ae9"
      },
      "outputs": [
        {
          "name": "stdout",
          "output_type": "stream",
          "text": [
            "Model: \"akidanet_derma\"\n",
            "_________________________________________________________________\n",
            " Layer (type)                Output Shape              Param #   \n",
            "=================================================================\n",
            " input (InputLayer)          [(None, 224, 224, 3)]     0         \n",
            "                                                                 \n",
            " rescaling (Rescaling)       (None, 224, 224, 3)       0         \n",
            "                                                                 \n",
            " conv_0 (Conv2D)             (None, 112, 112, 16)      432       \n",
            "                                                                 \n",
            " conv_0/BN (BatchNormalizati  (None, 112, 112, 16)     64        \n",
            " on)                                                             \n",
            "                                                                 \n",
            " conv_0/relu (ReLU)          (None, 112, 112, 16)      0         \n",
            "                                                                 \n",
            " conv_1 (Conv2D)             (None, 112, 112, 32)      4608      \n",
            "                                                                 \n",
            " conv_1/BN (BatchNormalizati  (None, 112, 112, 32)     128       \n",
            " on)                                                             \n",
            "                                                                 \n",
            " conv_1/relu (ReLU)          (None, 112, 112, 32)      0         \n",
            "                                                                 \n",
            " conv_2 (Conv2D)             (None, 56, 56, 64)        18432     \n",
            "                                                                 \n",
            " conv_2/BN (BatchNormalizati  (None, 56, 56, 64)       256       \n",
            " on)                                                             \n",
            "                                                                 \n",
            " conv_2/relu (ReLU)          (None, 56, 56, 64)        0         \n",
            "                                                                 \n",
            " conv_3 (Conv2D)             (None, 56, 56, 64)        36864     \n",
            "                                                                 \n",
            " conv_3/BN (BatchNormalizati  (None, 56, 56, 64)       256       \n",
            " on)                                                             \n",
            "                                                                 \n",
            " conv_3/relu (ReLU)          (None, 56, 56, 64)        0         \n",
            "                                                                 \n",
            " separable_4 (SeparableConv2  (None, 28, 28, 128)      8768      \n",
            " D)                                                              \n",
            "                                                                 \n",
            " separable_4/BN (BatchNormal  (None, 28, 28, 128)      512       \n",
            " ization)                                                        \n",
            "                                                                 \n",
            " separable_4/relu (ReLU)     (None, 28, 28, 128)       0         \n",
            "                                                                 \n",
            " separable_5 (SeparableConv2  (None, 28, 28, 128)      17536     \n",
            " D)                                                              \n",
            "                                                                 \n",
            " separable_5/BN (BatchNormal  (None, 28, 28, 128)      512       \n",
            " ization)                                                        \n",
            "                                                                 \n",
            " separable_5/relu (ReLU)     (None, 28, 28, 128)       0         \n",
            "                                                                 \n",
            " separable_6 (SeparableConv2  (None, 14, 14, 256)      33920     \n",
            " D)                                                              \n",
            "                                                                 \n",
            " separable_6/BN (BatchNormal  (None, 14, 14, 256)      1024      \n",
            " ization)                                                        \n",
            "                                                                 \n",
            " separable_6/relu (ReLU)     (None, 14, 14, 256)       0         \n",
            "                                                                 \n",
            " separable_7 (SeparableConv2  (None, 14, 14, 256)      67840     \n",
            " D)                                                              \n",
            "                                                                 \n",
            " separable_7/BN (BatchNormal  (None, 14, 14, 256)      1024      \n",
            " ization)                                                        \n",
            "                                                                 \n",
            " separable_7/relu (ReLU)     (None, 14, 14, 256)       0         \n",
            "                                                                 \n",
            " separable_8 (SeparableConv2  (None, 14, 14, 256)      67840     \n",
            " D)                                                              \n",
            "                                                                 \n",
            " separable_8/BN (BatchNormal  (None, 14, 14, 256)      1024      \n",
            " ization)                                                        \n",
            "                                                                 \n",
            " separable_8/relu (ReLU)     (None, 14, 14, 256)       0         \n",
            "                                                                 \n",
            " separable_9 (SeparableConv2  (None, 14, 14, 256)      67840     \n",
            " D)                                                              \n",
            "                                                                 \n",
            " separable_9/BN (BatchNormal  (None, 14, 14, 256)      1024      \n",
            " ization)                                                        \n",
            "                                                                 \n",
            " separable_9/relu (ReLU)     (None, 14, 14, 256)       0         \n",
            "                                                                 \n",
            " separable_10 (SeparableConv  (None, 14, 14, 256)      67840     \n",
            " 2D)                                                             \n",
            "                                                                 \n",
            " separable_10/BN (BatchNorma  (None, 14, 14, 256)      1024      \n",
            " lization)                                                       \n",
            "                                                                 \n",
            " separable_10/relu (ReLU)    (None, 14, 14, 256)       0         \n",
            "                                                                 \n",
            " separable_11 (SeparableConv  (None, 14, 14, 256)      67840     \n",
            " 2D)                                                             \n",
            "                                                                 \n",
            " separable_11/BN (BatchNorma  (None, 14, 14, 256)      1024      \n",
            " lization)                                                       \n",
            "                                                                 \n",
            " separable_11/relu (ReLU)    (None, 14, 14, 256)       0         \n",
            "                                                                 \n",
            " separable_12 (SeparableConv  (None, 7, 7, 512)        133376    \n",
            " 2D)                                                             \n",
            "                                                                 \n",
            " separable_12/BN (BatchNorma  (None, 7, 7, 512)        2048      \n",
            " lization)                                                       \n",
            "                                                                 \n",
            " separable_12/relu (ReLU)    (None, 7, 7, 512)         0         \n",
            "                                                                 \n",
            " separable_13 (SeparableConv  (None, 7, 7, 512)        266752    \n",
            " 2D)                                                             \n",
            "                                                                 \n",
            " separable_13/global_avg (Gl  (None, 512)              0         \n",
            " obalAveragePooling2D)                                           \n",
            "                                                                 \n",
            " separable_13/BN (BatchNorma  (None, 512)              2048      \n",
            " lization)                                                       \n",
            "                                                                 \n",
            " separable_13/relu (ReLU)    (None, 512)               0         \n",
            "                                                                 \n",
            " fc1 (Dense)                 (None, 512)               262656    \n",
            "                                                                 \n",
            " fc1/BN (BatchNormalization)  (None, 512)              2048      \n",
            "                                                                 \n",
            " fc1/relu (ReLU)             (None, 512)               0         \n",
            "                                                                 \n",
            " dropout_1 (Dropout)         (None, 512)               0         \n",
            "                                                                 \n",
            " predictions (Dense)         (None, 2)                 1026      \n",
            "                                                                 \n",
            " reshape1 (Reshape)          (None, 2)                 0         \n",
            "                                                                 \n",
            "=================================================================\n",
            "Total params: 1,137,586\n",
            "Trainable params: 1,130,578\n",
            "Non-trainable params: 7,008\n",
            "_________________________________________________________________\n"
          ]
        }
      ],
      "source": [
        "from keras import Model\n",
        "from keras.layers import Activation, Dropout, Reshape\n",
        "from akida_models.layer_blocks import dense_block\n",
        "\n",
        "# GB: Only ReLU 6 are compatible\n",
        "# And no softmax as activation on last layer. It will be removed anyway.\n",
        "# Didn't change it either.\n",
        "\n",
        "x = base_model.output\n",
        "x = dense_block(x,\n",
        "                units=512,\n",
        "                name='fc1',\n",
        "                add_batchnorm=True,\n",
        "                # GB: Changed to ReLU 6\n",
        "                #relu_activation='ReLU7.5')\n",
        "                relu_activation='ReLU6')\n",
        "x = Dropout(0.5, name='dropout_1')(x)\n",
        "x = dense_block(x,\n",
        "                units=CLASSES,\n",
        "                name='predictions',\n",
        "                add_batchnorm=False,\n",
        "                relu_activation=False)\n",
        "\n",
        "# GB: Softmax is impossible here\n",
        "#x = Activation('softmax', name='act_softmax')(x)\n",
        "\n",
        "x = Reshape((CLASSES,), name='reshape1')(x)\n",
        "\n",
        "# Build the model\n",
        "model_keras = Model(base_model.input, x, name='akidanet_derma')\n",
        "\n",
        "model_keras.summary()"
      ]
    },
    {
      "cell_type": "code",
      "execution_count": 11,
      "metadata": {},
      "outputs": [
        {
          "name": "stdout",
          "output_type": "stream",
          "text": [
            "Akida version:  AkidaVersion.v1\n"
          ]
        }
      ],
      "source": [
        "# GB: Adding compatibility check\n",
        "import cnn2snn\n",
        "import akida as ak\n",
        "\n",
        "# Double-check Akida version\n",
        "print('Akida version: ', cnn2snn.get_akida_version())\n",
        "\n",
        "# And HW compatibility?\n",
        "# myDevice = ak.devices()[1]\n",
        "# print(\"Device: \", myDevice.desc)\n",
        "# x = cnn2snn.check_model_compatibility(model=model_keras, device=myDevice)\n",
        "# print(\"Non compatibilities: \", x)"
      ]
    },
    {
      "cell_type": "code",
      "execution_count": 12,
      "metadata": {
        "colab": {
          "base_uri": "https://localhost:8080/",
          "height": 989
        },
        "id": "N5F5Y-Gqcyve",
        "outputId": "dcb1bd6f-72f2-49db-cc0c-d2b7f99f963e"
      },
      "outputs": [
        {
          "name": "stdout",
          "output_type": "stream",
          "text": [
            "Epoch 1/15\n"
          ]
        },
        {
          "name": "stderr",
          "output_type": "stream",
          "text": [
            "2024-09-30 02:52:03.021066: I tensorflow/core/common_runtime/executor.cc:1197] [/device:CPU:0] (DEBUG INFO) Executor start aborting (this does not indicate an error and you can ignore this message): INVALID_ARGUMENT: You must feed a value for placeholder tensor 'Placeholder/_0' with dtype int32\n",
            "\t [[{{node Placeholder/_0}}]]\n",
            "2024-09-30 02:52:05.173108: I tensorflow/compiler/xla/stream_executor/cuda/cuda_dnn.cc:424] Loaded cuDNN version 8600\n",
            "2024-09-30 02:52:05.614173: I tensorflow/compiler/xla/stream_executor/cuda/cuda_blas.cc:637] TensorFloat-32 will be used for the matrix multiplication. This will only be logged once.\n",
            "2024-09-30 02:52:05.631778: I tensorflow/compiler/xla/service/service.cc:169] XLA service 0x7260af2f5b00 initialized for platform CUDA (this does not guarantee that XLA will be used). Devices:\n",
            "2024-09-30 02:52:05.631797: I tensorflow/compiler/xla/service/service.cc:177]   StreamExecutor device (0): NVIDIA GeForce RTX 4080 SUPER, Compute Capability 8.9\n",
            "2024-09-30 02:52:05.634543: I tensorflow/compiler/mlir/tensorflow/utils/dump_mlir_util.cc:269] disabling MLIR crash reproducer, set env var `MLIR_CRASH_REPRODUCER_DIRECTORY` to enable.\n",
            "2024-09-30 02:52:05.705091: I ./tensorflow/compiler/jit/device_compiler.h:180] Compiled cluster using XLA!  This line is logged at most once for the lifetime of the process.\n"
          ]
        },
        {
          "name": "stdout",
          "output_type": "stream",
          "text": [
            "53/53 [==============================] - ETA: 0s - loss: 2.5322 - accuracy: 0.5763"
          ]
        },
        {
          "name": "stderr",
          "output_type": "stream",
          "text": [
            "2024-09-30 02:52:39.727544: I tensorflow/core/common_runtime/executor.cc:1197] [/device:CPU:0] (DEBUG INFO) Executor start aborting (this does not indicate an error and you can ignore this message): INVALID_ARGUMENT: You must feed a value for placeholder tensor 'Placeholder/_0' with dtype int32\n",
            "\t [[{{node Placeholder/_0}}]]\n"
          ]
        },
        {
          "name": "stdout",
          "output_type": "stream",
          "text": [
            "53/53 [==============================] - 39s 615ms/step - loss: 2.5322 - accuracy: 0.5763 - val_loss: 7.7451 - val_accuracy: 0.4062\n",
            "Epoch 2/15\n",
            "53/53 [==============================] - 32s 601ms/step - loss: 1.6077 - accuracy: 0.6054 - val_loss: 3.4145 - val_accuracy: 0.4453\n",
            "Epoch 3/15\n",
            "53/53 [==============================] - 32s 604ms/step - loss: 1.5094 - accuracy: 0.6020 - val_loss: 2.3187 - val_accuracy: 0.4984\n",
            "Epoch 4/15\n",
            "53/53 [==============================] - 32s 601ms/step - loss: 1.5438 - accuracy: 0.6150 - val_loss: 2.1876 - val_accuracy: 0.5156\n",
            "Epoch 5/15\n",
            "53/53 [==============================] - 32s 601ms/step - loss: 1.5483 - accuracy: 0.6112 - val_loss: 2.1594 - val_accuracy: 0.5422\n",
            "Epoch 6/15\n",
            "53/53 [==============================] - 32s 598ms/step - loss: 1.5134 - accuracy: 0.6041 - val_loss: 2.2803 - val_accuracy: 0.5625\n",
            "Epoch 7/15\n",
            "53/53 [==============================] - 32s 595ms/step - loss: 1.5946 - accuracy: 0.6064 - val_loss: 2.4034 - val_accuracy: 0.5531\n",
            "Epoch 8/15\n",
            "53/53 [==============================] - 33s 616ms/step - loss: 1.5205 - accuracy: 0.6148 - val_loss: 2.5452 - val_accuracy: 0.5641\n",
            "Epoch 9/15\n",
            "53/53 [==============================] - 33s 615ms/step - loss: 1.5677 - accuracy: 0.6018 - val_loss: 2.6897 - val_accuracy: 0.5609\n",
            "Epoch 10/15\n",
            "53/53 [==============================] - 33s 614ms/step - loss: 1.4890 - accuracy: 0.6049 - val_loss: 3.0629 - val_accuracy: 0.5797\n"
          ]
        },
        {
          "data": {
            "image/png": "[encoded data removed]",
            "text/plain": [
              "<Figure size 1200x500 with 2 Axes>"
            ]
          },
          "metadata": {},
          "output_type": "display_data"
        }
      ],
      "source": [
        "import tensorflow as tf\n",
        "from tensorflow.keras.optimizers import Adam\n",
        "from tensorflow.keras.losses import SparseCategoricalCrossentropy, BinaryCrossentropy\n",
        "from tensorflow.keras.callbacks import ModelCheckpoint, EarlyStopping\n",
        "\n",
        "# Setting up the learning rate schedule\n",
        "initial_learning_rate = 1e-3\n",
        "final_learning_rate = 1e-5\n",
        "decay_steps = 10\n",
        "lr_schedule = tf.keras.optimizers.schedules.ExponentialDecay(\n",
        "    initial_learning_rate,\n",
        "    decay_steps,\n",
        "    decay_rate=(final_learning_rate / initial_learning_rate) ** (1 / decay_steps),\n",
        "    staircase=True)\n",
        "\n",
        "# Configuring the optimizer\n",
        "optimizer = Adam(learning_rate=lr_schedule)\n",
        "\n",
        "# Compiling the model\n",
        "model_keras.compile(\n",
        "    optimizer=optimizer,\n",
        "    loss=BinaryCrossentropy(),\n",
        "    metrics=['accuracy'])\n",
        "\n",
        "# Setting up callbacks for saving the model and early stopping\n",
        "checkpoint_cb = ModelCheckpoint(\n",
        "    'akidanet_derma_best.h5', save_best_only=True)\n",
        "early_stopping_cb = EarlyStopping(\n",
        "    patience=5, restore_best_weights=True)\n",
        "\n",
        "# GB: To change nb of epochs \n",
        "# (on CPU, 1 epoch lasts 22 min, so 10 is 4 hours long)\n",
        "EPOCHS = 15 # Initial value: 10\n",
        "\n",
        "# Training the model\n",
        "history = model_keras.fit(\n",
        "    train_gen,\n",
        "    epochs=EPOCHS,\n",
        "    validation_data=test_gen,\n",
        "    callbacks=[checkpoint_cb, early_stopping_cb])\n",
        "\n",
        "# Optionally, plot the training history\n",
        "import matplotlib.pyplot as plt\n",
        "\n",
        "plt.figure(figsize=(12, 5))\n",
        "plt.subplot(1, 2, 1)\n",
        "plt.plot(history.history['accuracy'], label='Training Accuracy')\n",
        "plt.plot(history.history['val_accuracy'], label='Validation Accuracy')\n",
        "plt.title('Accuracy over Epochs')\n",
        "plt.xlabel('Epoch')\n",
        "plt.ylabel('Accuracy')\n",
        "plt.legend()\n",
        "\n",
        "plt.subplot(1, 2, 2)\n",
        "plt.plot(history.history['loss'], label='Training Loss')\n",
        "plt.plot(history.history['val_loss'], label='Validation Loss')\n",
        "plt.title('Loss over Epochs')\n",
        "plt.xlabel('Epoch')\n",
        "plt.ylabel('Loss')\n",
        "plt.legend()\n",
        "plt.show()"
      ]
    },
    {
      "cell_type": "code",
      "execution_count": 13,
      "metadata": {},
      "outputs": [
        {
          "name": "stderr",
          "output_type": "stream",
          "text": [
            "2024-09-30 02:57:31.319968: I tensorflow/core/common_runtime/executor.cc:1197] [/device:CPU:0] (DEBUG INFO) Executor start aborting (this does not indicate an error and you can ignore this message): INVALID_ARGUMENT: You must feed a value for placeholder tensor 'Placeholder/_0' with dtype int32\n",
            "\t [[{{node Placeholder/_0}}]]\n"
          ]
        },
        {
          "name": "stdout",
          "output_type": "stream",
          "text": [
            "53/53 [==============================] - 32s 593ms/step\n"
          ]
        },
        {
          "name": "stderr",
          "output_type": "stream",
          "text": [
            "2024-09-30 02:58:03.208715: I tensorflow/core/common_runtime/executor.cc:1197] [/device:CPU:0] (DEBUG INFO) Executor start aborting (this does not indicate an error and you can ignore this message): INVALID_ARGUMENT: You must feed a value for placeholder tensor 'Placeholder/_0' with dtype int32\n",
            "\t [[{{node Placeholder/_0}}]]\n"
          ]
        },
        {
          "name": "stdout",
          "output_type": "stream",
          "text": [
            "7/7 [==============================] - 2s 218ms/step\n"
          ]
        },
        {
          "data": {
            "image/png": "[encoded data removed]",
            "text/plain": [
              "<Figure size 1200x500 with 4 Axes>"
            ]
          },
          "metadata": {},
          "output_type": "display_data"
        }
      ],
      "source": [
        "from sklearn.metrics import confusion_matrix, ConfusionMatrixDisplay\n",
        "\n",
        "# Obtain predictions for the training and validation datasets\n",
        "train_predictions = np.argmax(model_keras.predict(train_gen), axis=-1)\n",
        "val_predictions = np.argmax(model_keras.predict(test_gen), axis=-1)\n",
        "\n",
        "# Get true labels from the generators\n",
        "train_labels = train_gen.classes\n",
        "val_labels = test_gen.classes\n",
        "\n",
        "# Compute confusion matrices\n",
        "train_cm = confusion_matrix(train_labels, train_predictions)\n",
        "val_cm = confusion_matrix(val_labels, val_predictions)\n",
        "\n",
        "# Plot confusion matrix for training data\n",
        "plt.figure(figsize=(12, 5))\n",
        "plt.subplot(1, 2, 1)\n",
        "ConfusionMatrixDisplay(confusion_matrix=train_cm).plot(cmap='Blues', ax=plt.gca())\n",
        "plt.title('Confusion Matrix for Training Data')\n",
        "\n",
        "# Plot confusion matrix for validation data\n",
        "plt.subplot(1, 2, 2)\n",
        "ConfusionMatrixDisplay(confusion_matrix=val_cm).plot(cmap='Blues', ax=plt.gca())\n",
        "plt.title('Confusion Matrix for Validation Data')\n",
        "\n",
        "plt.tight_layout()\n",
        "plt.show()"
      ]
    },
    {
      "cell_type": "code",
      "execution_count": 14,
      "metadata": {
        "id": "2QzPQOyLcyve"
      },
      "outputs": [],
      "source": [
        "# Function to convert generator to tf.data.Dataset\n",
        "def format_example(image, label):\n",
        "    image = tf.cast(image, tf.float32)\n",
        "    image = tf.image.resize(image, (IMG_SIZE, IMG_SIZE))\n",
        "    return image, label\n",
        "\n",
        "# Create a Dataset from the generator\n",
        "train_dataset = tf.data.Dataset.from_generator(\n",
        "    lambda: train_gen,\n",
        "    output_signature=(\n",
        "        tf.TensorSpec(shape=(None, 224, 224, 3), dtype=tf.float32),\n",
        "        tf.TensorSpec(shape=(None,), dtype=tf.int32)\n",
        "    )\n",
        ")\n",
        "\n",
        "train_dataset = train_dataset.map(format_example, num_parallel_calls=tf.data.AUTOTUNE)\n",
        "\n",
        "# Define batch size and batch the dataset\n",
        "BATCH_SIZE = 16\n",
        "train_batches = train_dataset.unbatch().batch(BATCH_SIZE)"
      ]
    },
    {
      "cell_type": "markdown",
      "metadata": {},
      "source": [
        "## Quantize Model"
      ]
    },
    {
      "cell_type": "code",
      "execution_count": 15,
      "metadata": {
        "colab": {
          "base_uri": "https://localhost:8080/"
        },
        "id": "L7Je8qWHcyve",
        "outputId": "531ed6b0-856f-49d4-cdb0-e11f13dc67b9"
      },
      "outputs": [
        {
          "name": "stderr",
          "output_type": "stream",
          "text": [
            "2024-09-30 02:58:12.446857: I tensorflow/core/common_runtime/executor.cc:1197] [/device:CPU:0] (DEBUG INFO) Executor start aborting (this does not indicate an error and you can ignore this message): INVALID_ARGUMENT: You must feed a value for placeholder tensor 'Placeholder/_0' with dtype int32\n",
            "\t [[{{node Placeholder/_0}}]]\n"
          ]
        },
        {
          "name": "stdout",
          "output_type": "stream",
          "text": [
            "64/64 [==============================] - 7s 93ms/step\n",
            "64/64 [==============================] - 7s 95ms/step\n"
          ]
        }
      ],
      "source": [
        "from quantizeml.models import quantize, QuantizationParams, dump_config\n",
        "\n",
        "# Prepare a quantization scheme: first layer weights to 8-bit, other weights and activation to 4-bit\n",
        "\n",
        "# GB: Parameter per_tensor_activation = False, really? fot v1 models, you need to set this parameter to True, by default, it's False-> quantizeml.models.quantize(..., per_tensor_activations=False)\n",
        "#qparams = QuantizationParams(input_weight_bits=8, weight_bits=4, activation_bits=4)\n",
        "qparams = QuantizationParams(input_weight_bits=8, per_tensor_activations=True, weight_bits=4, activation_bits=4)\n",
        "\n",
        "# Quantize the model, using the 1024 calibration samples from the train set and calibrate over 2\n",
        "# epochs with a batch_size of 100.\n",
        "model_quantized = quantize(model_keras, qparams=qparams, \n",
        "                           samples=train_batches, epochs=2, batch_size=BATCH_SIZE, num_samples=1024)\n"
      ]
    },
    {
      "cell_type": "code",
      "execution_count": 16,
      "metadata": {
        "id": "bCp5tQLYcyvf"
      },
      "outputs": [],
      "source": [
        "test_dataset = tf.data.Dataset.from_generator(\n",
        "    lambda: test_gen,\n",
        "    output_signature=(\n",
        "        tf.TensorSpec(shape=(None, 224, 224, 3), dtype=tf.float32),\n",
        "        tf.TensorSpec(shape=(None,), dtype=tf.int32)\n",
        "    )\n",
        ")\n",
        "\n",
        "test_dataset = test_dataset.map(format_example, num_parallel_calls=tf.data.AUTOTUNE)\n",
        "\n",
        "# Define batch size and batch the dataset\n",
        "BATCH_SIZE = 32\n",
        "test_batches = test_dataset.unbatch().batch(BATCH_SIZE)"
      ]
    },
    {
      "cell_type": "code",
      "execution_count": 17,
      "metadata": {
        "colab": {
          "base_uri": "https://localhost:8080/"
        },
        "id": "R1ikc41CY_SS",
        "outputId": "e8174abf-bb56-4fab-a724-4d4e8eea19eb"
      },
      "outputs": [
        {
          "name": "stdout",
          "output_type": "stream",
          "text": [
            "(640, 224, 224, 3)\n",
            "(640,)\n"
          ]
        }
      ],
      "source": [
        "import numpy as np\n",
        "\n",
        "def generator_to_numpy(generator):\n",
        "    images_list = []\n",
        "    labels_list = []\n",
        "\n",
        "    # Iterate through the generator\n",
        "    for _ in range(len(generator)):\n",
        "        images, labels = generator.next()\n",
        "        images_list.append(images)\n",
        "        labels_list.append(labels)\n",
        "\n",
        "    # Concatenate lists into numpy arrays\n",
        "    x_test = np.concatenate(images_list, axis=0)\n",
        "    labels_test = np.concatenate(labels_list, axis=0)\n",
        "\n",
        "    return x_test, labels_test\n",
        "\n",
        "# Example usage with test_gen\n",
        "x_test, labels_test = generator_to_numpy(test_gen)\n",
        "\n",
        "# Ensure the shapes are correct\n",
        "print(x_test.shape)  # Should be (num_samples, 224, 224, 3)\n",
        "print(labels_test.shape)  # Should be (num_samples,)\n"
      ]
    },
    {
      "cell_type": "code",
      "execution_count": 18,
      "metadata": {
        "colab": {
          "base_uri": "https://localhost:8080/"
        },
        "id": "ElEHjD2baJca",
        "outputId": "fab08438-18c1-49d9-b173-7e6368a05c50"
      },
      "outputs": [
        {
          "name": "stderr",
          "output_type": "stream",
          "text": [
            "2024-09-30 02:58:30.974352: W tensorflow/core/grappler/optimizers/loop_optimizer.cc:907] Skipping loop optimization for Merge node with control input: akidanet_derma/conv_0/aligned_weight_quantizer/assert_less/Assert/AssertGuard/branch_executed/_25\n"
          ]
        },
        {
          "name": "stdout",
          "output_type": "stream",
          "text": [
            "7/7 [==============================] - 3s 46ms/step\n",
            "Keras inference on 640 images took 3.15 s.\n",
            "\n",
            "Keras accuracy: 349/640.\n"
          ]
        },
        {
          "data": {
            "image/png": "[encoded data removed]",
            "text/plain": [
              "<Figure size 1000x800 with 2 Axes>"
            ]
          },
          "metadata": {},
          "output_type": "display_data"
        }
      ],
      "source": [
        "import matplotlib.pyplot as plt\n",
        "import seaborn as sns\n",
        "from sklearn.metrics import confusion_matrix\n",
        "\n",
        "from timeit import default_timer as timer\n",
        "\n",
        "# Compile the model with the specified metric\n",
        "model_quantized.compile(metrics=['accuracy'])\n",
        "\n",
        "# Get the number of images in the test dataset\n",
        "num_images = len(x_test)\n",
        "\n",
        "# Measure the time taken for Keras inference\n",
        "start = timer()\n",
        "potentials_keras = model_quantized.predict(x_test, batch_size=100)\n",
        "end = timer()\n",
        "print(f'Keras inference on {num_images} images took {end-start:.2f} s.\\n')\n",
        "\n",
        "# Get the predicted labels from the model output\n",
        "preds_keras = np.squeeze(np.argmax(potentials_keras, 1))\n",
        "\n",
        "# Calculate the accuracy\n",
        "accuracy_keras = np.sum(np.equal(preds_keras, labels_test)) / num_images\n",
        "print(f\"Keras accuracy: {accuracy_keras*num_images:.0f}/{num_images}.\")\n",
        "\n",
        "# Generate the confusion matrix\n",
        "cm = confusion_matrix(labels_test, preds_keras)\n",
        "\n",
        "# Plot the confusion matrix using seaborn heatmap\n",
        "plt.figure(figsize=(10, 8))\n",
        "sns.heatmap(cm, annot=True, fmt='d', cmap='Blues', xticklabels=np.unique(labels_test), yticklabels=np.unique(labels_test))\n",
        "plt.xlabel('Predicted Label')\n",
        "plt.ylabel('True Label')\n",
        "plt.title('Confusion Matrix')\n",
        "plt.show()"
      ]
    },
    {
      "cell_type": "code",
      "execution_count": 19,
      "metadata": {},
      "outputs": [
        {
          "name": "stdout",
          "output_type": "stream",
          "text": [
            "7/7 [==============================] - 0s 11ms/step\n",
            "Keras inference on 640 images took 0.38 s.\n",
            "\n",
            "Keras accuracy: 347/640.\n"
          ]
        }
      ],
      "source": [
        "# GB: Adding Keras Floating-point accuracy to compare with previous one\n",
        "\n",
        "model_keras.compile(metrics=['accuracy'])\n",
        "\n",
        "num_images = len(x_test)\n",
        "\n",
        "start = timer()\n",
        "potentials_keras = model_keras.predict(x_test, batch_size=100)\n",
        "end = timer()\n",
        "print(f'Keras inference on {num_images} images took {end-start:.2f} s.\\n')\n",
        "\n",
        "preds_keras = np.squeeze(np.argmax(potentials_keras, 1))\n",
        "accuracy_keras = np.sum(np.equal(preds_keras, labels_test)) / num_images\n",
        "print(f\"Keras accuracy: {accuracy_keras*num_images:.0f}/{num_images}.\")"
      ]
    },
    {
      "cell_type": "code",
      "execution_count": 20,
      "metadata": {
        "id": "rH9dwWw8RSge"
      },
      "outputs": [],
      "source": [
        "# GB: Name changed\n",
        "model_quantized.save('model_quantized_v1.h5')"
      ]
    },
    {
      "cell_type": "code",
      "execution_count": 21,
      "metadata": {
        "colab": {
          "base_uri": "https://localhost:8080/"
        },
        "id": "vg9v4oqlcyvf",
        "outputId": "fd01df0c-ac21-486f-e381-1d949a92a533"
      },
      "outputs": [
        {
          "name": "stdout",
          "output_type": "stream",
          "text": [
            "WARNING:tensorflow:5 out of the last 5 calls to <function NonTrackVariable.set_var at 0x7266cbace940> triggered tf.function retracing. Tracing is expensive and the excessive number of tracings could be due to (1) creating @tf.function repeatedly in a loop, (2) passing tensors with different shapes, (3) passing Python objects instead of tensors. For (1), please define your @tf.function outside of the loop. For (2), @tf.function has reduce_retracing=True option that can avoid unnecessary retracing. For (3), please refer to https://www.tensorflow.org/guide/function#controlling_retracing and https://www.tensorflow.org/api_docs/python/tf/function for  more details.\n",
            "WARNING:tensorflow:6 out of the last 6 calls to <function NonTrackVariable.set_var at 0x7266cbaceee0> triggered tf.function retracing. Tracing is expensive and the excessive number of tracings could be due to (1) creating @tf.function repeatedly in a loop, (2) passing tensors with different shapes, (3) passing Python objects instead of tensors. For (1), please define your @tf.function outside of the loop. For (2), @tf.function has reduce_retracing=True option that can avoid unnecessary retracing. For (3), please refer to https://www.tensorflow.org/guide/function#controlling_retracing and https://www.tensorflow.org/api_docs/python/tf/function for  more details.\n"
          ]
        }
      ],
      "source": [
        "import numpy as np\n",
        "from cnn2snn import convert\n",
        "\n",
        "model_akida = convert(model_quantized)\n"
      ]
    },
    {
      "cell_type": "code",
      "execution_count": 22,
      "metadata": {
        "colab": {
          "base_uri": "https://localhost:8080/"
        },
        "id": "pRhA4N6ra8X3",
        "outputId": "924a2912-03ed-4788-ed05-639c72a8ff8d"
      },
      "outputs": [
        {
          "name": "stdout",
          "output_type": "stream",
          "text": [
            "                 Model Summary                  \n",
            "________________________________________________\n",
            "Input shape    Output shape  Sequences  Layers\n",
            "================================================\n",
            "[224, 224, 3]  [1, 1, 2]     1          16    \n",
            "________________________________________________\n",
            "\n",
            "____________________________________________________________\n",
            "Layer (type)              Output shape    Kernel shape    \n",
            "\n",
            "============= SW/conv_0-predictions (Software) =============\n",
            "\n",
            "conv_0 (InputConv.)       [112, 112, 16]  (3, 3, 3, 16)   \n",
            "____________________________________________________________\n",
            "conv_1 (Conv.)            [112, 112, 32]  (3, 3, 16, 32)  \n",
            "____________________________________________________________\n",
            "conv_2 (Conv.)            [56, 56, 64]    (3, 3, 32, 64)  \n",
            "____________________________________________________________\n",
            "conv_3 (Conv.)            [56, 56, 64]    (3, 3, 64, 64)  \n",
            "____________________________________________________________\n",
            "separable_4 (Sep.Conv.)   [28, 28, 128]   (3, 3, 64, 1)   \n",
            "____________________________________________________________\n",
            "                                          (1, 1, 64, 128) \n",
            "____________________________________________________________\n",
            "separable_5 (Sep.Conv.)   [28, 28, 128]   (3, 3, 128, 1)  \n",
            "____________________________________________________________\n",
            "                                          (1, 1, 128, 128)\n",
            "____________________________________________________________\n",
            "separable_6 (Sep.Conv.)   [14, 14, 256]   (3, 3, 128, 1)  \n",
            "____________________________________________________________\n",
            "                                          (1, 1, 128, 256)\n",
            "____________________________________________________________\n",
            "separable_7 (Sep.Conv.)   [14, 14, 256]   (3, 3, 256, 1)  \n",
            "____________________________________________________________\n",
            "                                          (1, 1, 256, 256)\n",
            "____________________________________________________________\n",
            "separable_8 (Sep.Conv.)   [14, 14, 256]   (3, 3, 256, 1)  \n",
            "____________________________________________________________\n",
            "                                          (1, 1, 256, 256)\n",
            "____________________________________________________________\n",
            "separable_9 (Sep.Conv.)   [14, 14, 256]   (3, 3, 256, 1)  \n",
            "____________________________________________________________\n",
            "                                          (1, 1, 256, 256)\n",
            "____________________________________________________________\n",
            "separable_10 (Sep.Conv.)  [14, 14, 256]   (3, 3, 256, 1)  \n",
            "____________________________________________________________\n",
            "                                          (1, 1, 256, 256)\n",
            "____________________________________________________________\n",
            "separable_11 (Sep.Conv.)  [14, 14, 256]   (3, 3, 256, 1)  \n",
            "____________________________________________________________\n",
            "                                          (1, 1, 256, 256)\n",
            "____________________________________________________________\n",
            "separable_12 (Sep.Conv.)  [7, 7, 512]     (3, 3, 256, 1)  \n",
            "____________________________________________________________\n",
            "                                          (1, 1, 256, 512)\n",
            "____________________________________________________________\n",
            "separable_13 (Sep.Conv.)  [1, 1, 512]     (3, 3, 512, 1)  \n",
            "____________________________________________________________\n",
            "                                          (1, 1, 512, 512)\n",
            "____________________________________________________________\n",
            "fc1 (Fully.)              [1, 1, 512]     (1, 1, 512, 512)\n",
            "____________________________________________________________\n",
            "predictions (Fully.)      [1, 1, 2]       (1, 1, 512, 2)  \n",
            "____________________________________________________________\n"
          ]
        }
      ],
      "source": [
        "model_akida.summary()"
      ]
    },
    {
      "cell_type": "code",
      "execution_count": 23,
      "metadata": {
        "colab": {
          "base_uri": "https://localhost:8080/"
        },
        "id": "P4SB5kN_R-EX",
        "outputId": "5c9188b1-3bb5-4c0b-e1a6-cf0f5b271f1f"
      },
      "outputs": [],
      "source": [
        "# GB: I do not understand this block, I guess you skip it in normal flow, or you start here ...\n",
        "\n",
        "# from tensorflow.keras.models import load_model\n",
        "# from akida_models import load_model\n",
        "\n",
        "# model_path = 'model_akida_v1.fbz'\n",
        "# model_akida = load_model(model_path)\n",
        "\n",
        "# model_akida.summary()"
      ]
    },
    {
      "cell_type": "code",
      "execution_count": 24,
      "metadata": {
        "id": "kTQpG6TQ2V26"
      },
      "outputs": [],
      "source": [
        "# GB: Change model name to v1\n",
        "model_akida.save('model_akida_v1.fbz')"
      ]
    },
    {
      "cell_type": "code",
      "execution_count": 25,
      "metadata": {},
      "outputs": [],
      "source": [
        "# GB: Get device (again)\n",
        "# myDevice = ak.devices()[1]\n",
        "# print('Device: ', myDevice.desc)\n",
        "# model_akida.map(myDevice)\n",
        "# model_akida.summary()"
      ]
    },
    {
      "cell_type": "code",
      "execution_count": 26,
      "metadata": {
        "colab": {
          "base_uri": "https://localhost:8080/"
        },
        "id": "-SM6BVn6bBEq",
        "outputId": "232d5726-1365-48c9-9eea-3d2c1ab7063f"
      },
      "outputs": [
        {
          "name": "stdout",
          "output_type": "stream",
          "text": [
            "Inference on 640 images took 2.46 s.\n",
            "\n",
            "Accuracy: 352/640.\n"
          ]
        }
      ],
      "source": [
        "# Check Model performance\n",
        "start = timer()\n",
        "accuracy_akida = model_akida.evaluate(x_test, labels_test)\n",
        "end = timer()\n",
        "print(f'Inference on {num_images} images took {end-start:.2f} s.\\n')\n",
        "print(f\"Accuracy: {accuracy_akida*num_images:.0f}/{num_images}.\")"
      ]
    },
    {
      "cell_type": "code",
      "execution_count": 27,
      "metadata": {
        "colab": {
          "base_uri": "https://localhost:8080/"
        },
        "id": "Ye3VoQishRAm",
        "outputId": "eddf1af8-8ecf-4500-db35-6cd0a6859271"
      },
      "outputs": [
        {
          "name": "stdout",
          "output_type": "stream",
          "text": [
            "Number of samples: 640\n",
            "Number of samples per class in the test generator:\n",
            "NORMAL: 242\n",
            "PNEUMONIA: 398\n"
          ]
        }
      ],
      "source": [
        "import numpy as np\n",
        "\n",
        "\n",
        "# Get the class indices for each sample\n",
        "class_indices = test_gen.classes\n",
        "\n",
        "# Get the mapping from class names to indices\n",
        "class_indices_mapping = test_gen.class_indices\n",
        "\n",
        "# Create a reverse mapping from indices to class names\n",
        "index_to_class = {v: k for k, v in class_indices_mapping.items()}\n",
        "\n",
        "# Count the number of samples for each class\n",
        "class_counts = np.bincount(class_indices)\n",
        "\n",
        "# Print the number of samples for each class\n",
        "print(\"Number of samples:\", test_gen.samples)\n",
        "print(\"Number of samples per class in the test generator:\")\n",
        "for class_index, count in enumerate(class_counts):\n",
        "    class_name = index_to_class[class_index]\n",
        "    print(f\"{class_name}: {count}\")\n"
      ]
    },
    {
      "cell_type": "code",
      "execution_count": 41,
      "metadata": {
        "colab": {
          "base_uri": "https://localhost:8080/",
          "height": 408
        },
        "id": "U9xeFk0meWOC",
        "outputId": "7ef90e9d-2de6-4f10-8587-c2c58d1d6cb3"
      },
      "outputs": [
        {
          "name": "stderr",
          "output_type": "stream",
          "text": [
            "Clipping input data to the valid range for imshow with RGB data ([0..1] for floats or [0..255] for integers).\n"
          ]
        },
        {
          "name": "stdout",
          "output_type": "stream",
          "text": [
            "[0, 0, 0, 0, 0]\n",
            "[1. 1. 1. 1. 1. 0.]\n",
            "['NORMAL', 'NORMAL', 'NORMAL', 'NORMAL', 'NORMAL', '']\n",
            "Akida outputs: [ 0.06083289 -1.2738441 ]\n",
            "True label: NORMAL\n",
            "Predicted label: NORMAL\n"
          ]
        },
        {
          "data": {
            "image/png": "[encoded data removed]",
            "text/plain": [
              "<Figure size 800x400 with 2 Axes>"
            ]
          },
          "metadata": {},
          "output_type": "display_data"
        }
      ],
      "source": [
        "import matplotlib.pyplot as plt\n",
        "import matplotlib.lines as lines\n",
        "from akida_models.imagenet import preprocessing\n",
        "\n",
        "class_names = ['NORMAL', 'PNEUMONIA']\n",
        "\n",
        "IMAGE_SIZE = 224\n",
        "NUM_CHANNELS = 3\n",
        "\n",
        "# Functions used to display the top5 results\n",
        "def get_top5(potentials, true_label):\n",
        "    \"\"\"\n",
        "    Returns the top 5 classes from the output potentials\n",
        "    \"\"\"\n",
        "    tmp_pots = potentials.copy()\n",
        "    top5 = []\n",
        "    min_val = np.min(tmp_pots)\n",
        "    for ii in range(5):\n",
        "        best = np.argmax(tmp_pots)\n",
        "        top5.append(best)\n",
        "        tmp_pots[best] = min_val\n",
        "\n",
        "    vals = np.zeros((6,))\n",
        "    vals[:5] = potentials[top5]\n",
        "\n",
        "    if true_label not in top5:\n",
        "        vals[5] = potentials[true_label]\n",
        "    else:\n",
        "        vals[5] = 0\n",
        "\n",
        "    vals /= np.max(vals)\n",
        "\n",
        "    class_name = []\n",
        "    for ii in range(5):\n",
        "        class_name.append(class_names[top5[ii]])\n",
        "    if true_label in top5:\n",
        "        class_name.append('')\n",
        "    else:\n",
        "        class_name.append(\n",
        "            class_names[true_label])\n",
        "\n",
        "    return top5, vals, class_name\n",
        "\n",
        "\n",
        "def adjust_spines(ax, spines):\n",
        "    for loc, spine in ax.spines.items():\n",
        "        if loc in spines:\n",
        "            spine.set_position(('outward', 10))  # outward by 10 points\n",
        "        else:\n",
        "            spine.set_color('none')  # don't draw spine\n",
        "    # turn off ticks where there is no spine\n",
        "    if 'left' in spines:\n",
        "        ax.yaxis.set_ticks_position('left')\n",
        "    else:\n",
        "        # no yaxis ticks\n",
        "        ax.yaxis.set_ticks([])\n",
        "    if 'bottom' in spines:\n",
        "        ax.xaxis.set_ticks_position('bottom')\n",
        "    else:\n",
        "        # no xaxis ticks\n",
        "        ax.xaxis.set_ticks([])\n",
        "\n",
        "\n",
        "def prepare_plots():\n",
        "    fig = plt.figure(figsize=(8, 4))\n",
        "    # Image subplot\n",
        "    ax0 = plt.subplot(1, 3, 1)\n",
        "    imgobj = ax0.imshow(np.zeros((IMAGE_SIZE, IMAGE_SIZE, NUM_CHANNELS), dtype=np.uint8))\n",
        "    ax0.set_axis_off()\n",
        "    # Top 5 results subplot\n",
        "    ax1 = plt.subplot(1, 2, 2)\n",
        "    bar_positions = (0, 1, 2, 3, 4, 6)\n",
        "    rects = ax1.barh(bar_positions, np.zeros((6,)), align='center', height=0.5)\n",
        "    plt.xlim(-0.2, 1.01)\n",
        "    ax1.set(xlim=(-0.2, 1.15), ylim=(-1.5, 12))\n",
        "    ax1.set_yticks(bar_positions)\n",
        "    ax1.invert_yaxis()\n",
        "    ax1.yaxis.set_ticks_position('left')\n",
        "    ax1.xaxis.set_ticks([])\n",
        "    adjust_spines(ax1, 'left')\n",
        "    ax1.add_line(lines.Line2D((0, 0), (-0.5, 6.5), color=(0.0, 0.0, 0.0)))\n",
        "    # Adjust Plot Positions\n",
        "    ax0.set_position([0.05, 0.055, 0.3, 0.9])\n",
        "    l1, b1, w1, h1 = ax1.get_position().bounds\n",
        "    ax1.set_position([l1 * 1.05, b1 + 0.09 * h1, w1, 0.8 * h1])\n",
        "    # Add title box\n",
        "    plt.figtext(0.5,\n",
        "                0.9,\n",
        "                \"Imagenet Classification by Akida\",\n",
        "                size=20,\n",
        "                ha=\"center\",\n",
        "                va=\"center\",\n",
        "                bbox=dict(boxstyle=\"round\",\n",
        "                          ec=(0.5, 0.5, 0.5),\n",
        "                          fc=(0.9, 0.9, 1.0)))\n",
        "\n",
        "    return fig, imgobj, ax1, rects\n",
        "\n",
        "\n",
        "def update_bars_chart(rects, vals, true_label):\n",
        "    counter = 0\n",
        "    for rect, h in zip(rects, yvals):\n",
        "        rect.set_width(h)\n",
        "        if counter < 5:\n",
        "            if top5[counter] == true_label:\n",
        "                if counter == 0:\n",
        "                    rect.set_facecolor((0.0, 1.0, 0.0))\n",
        "                else:\n",
        "                    rect.set_facecolor((0.0, 0.5, 0.0))\n",
        "            else:\n",
        "                rect.set_facecolor('gray')\n",
        "        elif counter == 5:\n",
        "            rect.set_facecolor('red')\n",
        "        counter += 1\n",
        "\n",
        "\n",
        "# Prepare plots\n",
        "fig, imgobj, ax1, rects = prepare_plots()\n",
        "\n",
        "# Get a random image\n",
        "img = np.random.randint(num_images)\n",
        "\n",
        "# Predict image class\n",
        "outputs_akida = model_akida.predict(np.expand_dims(x_test[img].astype(np.uint8), axis=0)).squeeze()\n",
        "\n",
        "# Get top 5 prediction labels and associated names\n",
        "true_label = labels_test[img]\n",
        "\n",
        "# GB: Added, because of last layer activation function\n",
        "true_label = int(true_label)\n",
        "\n",
        "top5, yvals, class_name = get_top5(outputs_akida, true_label)\n",
        "print(top5)\n",
        "print(yvals)\n",
        "print(class_name)\n",
        "\n",
        "print(\"Akida outputs:\", outputs_akida)\n",
        "print(\"True label:\", class_names[int(true_label)])\n",
        "print(\"Predicted label:\", class_names[np.argmax(outputs_akida)])\n",
        "\n",
        "# Draw Plots\n",
        "imgobj.set_data(x_test[img])\n",
        "ax1.set_yticklabels(class_name, rotation='horizontal', size=9)\n",
        "update_bars_chart(rects, yvals, true_label)\n",
        "fig.canvas.draw()\n",
        "plt.show()"
      ]
    },
    {
      "cell_type": "code",
      "execution_count": 42,
      "metadata": {},
      "outputs": [],
      "source": [
        "tf.keras.backend.clear_session()"
      ]
    },
    {
      "cell_type": "code",
      "execution_count": null,
      "metadata": {},
      "outputs": [],
      "source": []
    }
  ],
  "metadata": {
    "colab": {
      "provenance": []
    },
    "kernelspec": {
      "display_name": "Python 3 (ipykernel)",
      "language": "python",
      "name": "python3"
    },
    "language_info": {
      "codemirror_mode": {
        "name": "ipython",
        "version": 3
      },
      "file_extension": ".py",
      "mimetype": "text/x-python",
      "name": "python",
      "nbconvert_exporter": "python",
      "pygments_lexer": "ipython3",
      "version": "3.11.9"
    }
  },
  "nbformat": 4,
  "nbformat_minor": 0
}
