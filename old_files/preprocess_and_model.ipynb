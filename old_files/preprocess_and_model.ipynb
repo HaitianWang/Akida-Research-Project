{
  "cells": [
    {
      "cell_type": "markdown",
      "metadata": {},
      "source": [
        "# GENG5551 Prototype Model Training \n",
        "\n",
        "Run code below if using google collab for training. If not skip to next section."
      ]
    },
    {
      "cell_type": "markdown",
      "metadata": {
        "id": "wAJmzS0hM7Rv"
      },
      "source": [
        "run container with:\n",
        "sudo docker run --gpus all -it --rm -v $(pwd):/tf/notebooks -p 8888:8888 tensorflow/tensorflow:2.12.0-gpu-jupyter"
      ]
    },
    {
      "cell_type": "code",
      "execution_count": 10,
      "metadata": {
        "colab": {
          "base_uri": "https://localhost:8080/"
        },
        "collapsed": true,
        "id": "ZATueY_Yc9vt",
        "outputId": "93ddd5f3-f3ec-4b90-f677-ceae6228a022"
      },
      "outputs": [
        {
          "name": "stdout",
          "output_type": "stream",
          "text": [
            "Requirement already satisfied: pandas in c:\\users\\tayjo\\miniconda3\\envs\\akida\\lib\\site-packages (2.2.2)\n",
            "Requirement already satisfied: numpy>=1.23.2 in c:\\users\\tayjo\\miniconda3\\envs\\akida\\lib\\site-packages (from pandas) (1.24.3)\n",
            "Requirement already satisfied: python-dateutil>=2.8.2 in c:\\users\\tayjo\\miniconda3\\envs\\akida\\lib\\site-packages (from pandas) (2.9.0.post0)\n",
            "Requirement already satisfied: pytz>=2020.1 in c:\\users\\tayjo\\miniconda3\\envs\\akida\\lib\\site-packages (from pandas) (2024.1)\n",
            "Requirement already satisfied: tzdata>=2022.7 in c:\\users\\tayjo\\miniconda3\\envs\\akida\\lib\\site-packages (from pandas) (2024.1)\n",
            "Requirement already satisfied: six>=1.5 in c:\\users\\tayjo\\miniconda3\\envs\\akida\\lib\\site-packages (from python-dateutil>=2.8.2->pandas) (1.16.0)\n",
            "Requirement already satisfied: scikit-learn in c:\\users\\tayjo\\miniconda3\\envs\\akida\\lib\\site-packages (1.4.1.post1)\n",
            "Requirement already satisfied: numpy<2.0,>=1.19.5 in c:\\users\\tayjo\\miniconda3\\envs\\akida\\lib\\site-packages (from scikit-learn) (1.24.3)\n",
            "Requirement already satisfied: scipy>=1.6.0 in c:\\users\\tayjo\\miniconda3\\envs\\akida\\lib\\site-packages (from scikit-learn) (1.12.0)\n",
            "Requirement already satisfied: joblib>=1.2.0 in c:\\users\\tayjo\\miniconda3\\envs\\akida\\lib\\site-packages (from scikit-learn) (1.3.2)\n",
            "Requirement already satisfied: threadpoolctl>=2.0.0 in c:\\users\\tayjo\\miniconda3\\envs\\akida\\lib\\site-packages (from scikit-learn) (3.3.0)\n",
            "Requirement already satisfied: akida==2.7.2 in c:\\users\\tayjo\\miniconda3\\envs\\akida\\lib\\site-packages (2.7.2)\n",
            "Requirement already satisfied: numpy in c:\\users\\tayjo\\miniconda3\\envs\\akida\\lib\\site-packages (from akida==2.7.2) (1.24.3)\n",
            "Requirement already satisfied: cnn2snn==2.7.2 in c:\\users\\tayjo\\miniconda3\\envs\\akida\\lib\\site-packages (2.7.2)\n",
            "Requirement already satisfied: tensorflow<2.13.0,>=2.10.0 in c:\\users\\tayjo\\miniconda3\\envs\\akida\\lib\\site-packages (from cnn2snn==2.7.2) (2.12.1)\n",
            "Requirement already satisfied: keras<2.13.0,>=2.10.0 in c:\\users\\tayjo\\miniconda3\\envs\\akida\\lib\\site-packages (from cnn2snn==2.7.2) (2.12.0)\n",
            "Requirement already satisfied: akida==2.7.2 in c:\\users\\tayjo\\miniconda3\\envs\\akida\\lib\\site-packages (from cnn2snn==2.7.2) (2.7.2)\n",
            "Requirement already satisfied: quantizeml~=0.8.1 in c:\\users\\tayjo\\miniconda3\\envs\\akida\\lib\\site-packages (from cnn2snn==2.7.2) (0.8.1)\n",
            "Requirement already satisfied: numpy in c:\\users\\tayjo\\miniconda3\\envs\\akida\\lib\\site-packages (from akida==2.7.2->cnn2snn==2.7.2) (1.24.3)\n",
            "Requirement already satisfied: onnx<1.14,>=1.12 in c:\\users\\tayjo\\miniconda3\\envs\\akida\\lib\\site-packages (from quantizeml~=0.8.1->cnn2snn==2.7.2) (1.13.1)\n",
            "Requirement already satisfied: onnxruntime==1.15.0 in c:\\users\\tayjo\\miniconda3\\envs\\akida\\lib\\site-packages (from quantizeml~=0.8.1->cnn2snn==2.7.2) (1.15.0)\n",
            "Requirement already satisfied: coloredlogs in c:\\users\\tayjo\\miniconda3\\envs\\akida\\lib\\site-packages (from onnxruntime==1.15.0->quantizeml~=0.8.1->cnn2snn==2.7.2) (15.0.1)\n",
            "Requirement already satisfied: flatbuffers in c:\\users\\tayjo\\miniconda3\\envs\\akida\\lib\\site-packages (from onnxruntime==1.15.0->quantizeml~=0.8.1->cnn2snn==2.7.2) (24.3.7)\n",
            "Requirement already satisfied: packaging in c:\\users\\tayjo\\miniconda3\\envs\\akida\\lib\\site-packages (from onnxruntime==1.15.0->quantizeml~=0.8.1->cnn2snn==2.7.2) (24.0)\n",
            "Requirement already satisfied: protobuf in c:\\users\\tayjo\\miniconda3\\envs\\akida\\lib\\site-packages (from onnxruntime==1.15.0->quantizeml~=0.8.1->cnn2snn==2.7.2) (3.20.3)\n",
            "Requirement already satisfied: sympy in c:\\users\\tayjo\\miniconda3\\envs\\akida\\lib\\site-packages (from onnxruntime==1.15.0->quantizeml~=0.8.1->cnn2snn==2.7.2) (1.12)\n",
            "Requirement already satisfied: tensorflow-intel==2.12.1 in c:\\users\\tayjo\\miniconda3\\envs\\akida\\lib\\site-packages (from tensorflow<2.13.0,>=2.10.0->cnn2snn==2.7.2) (2.12.1)\n",
            "Requirement already satisfied: absl-py>=1.0.0 in c:\\users\\tayjo\\miniconda3\\envs\\akida\\lib\\site-packages (from tensorflow-intel==2.12.1->tensorflow<2.13.0,>=2.10.0->cnn2snn==2.7.2) (1.4.0)\n",
            "Requirement already satisfied: astunparse>=1.6.0 in c:\\users\\tayjo\\miniconda3\\envs\\akida\\lib\\site-packages (from tensorflow-intel==2.12.1->tensorflow<2.13.0,>=2.10.0->cnn2snn==2.7.2) (1.6.3)\n",
            "Requirement already satisfied: gast<=0.4.0,>=0.2.1 in c:\\users\\tayjo\\miniconda3\\envs\\akida\\lib\\site-packages (from tensorflow-intel==2.12.1->tensorflow<2.13.0,>=2.10.0->cnn2snn==2.7.2) (0.4.0)\n",
            "Requirement already satisfied: google-pasta>=0.1.1 in c:\\users\\tayjo\\miniconda3\\envs\\akida\\lib\\site-packages (from tensorflow-intel==2.12.1->tensorflow<2.13.0,>=2.10.0->cnn2snn==2.7.2) (0.2.0)\n",
            "Requirement already satisfied: h5py>=2.9.0 in c:\\users\\tayjo\\miniconda3\\envs\\akida\\lib\\site-packages (from tensorflow-intel==2.12.1->tensorflow<2.13.0,>=2.10.0->cnn2snn==2.7.2) (3.10.0)\n",
            "Requirement already satisfied: jax>=0.3.15 in c:\\users\\tayjo\\miniconda3\\envs\\akida\\lib\\site-packages (from tensorflow-intel==2.12.1->tensorflow<2.13.0,>=2.10.0->cnn2snn==2.7.2) (0.4.25)\n",
            "Requirement already satisfied: libclang>=13.0.0 in c:\\users\\tayjo\\miniconda3\\envs\\akida\\lib\\site-packages (from tensorflow-intel==2.12.1->tensorflow<2.13.0,>=2.10.0->cnn2snn==2.7.2) (18.1.1)\n",
            "Requirement already satisfied: opt-einsum>=2.3.2 in c:\\users\\tayjo\\miniconda3\\envs\\akida\\lib\\site-packages (from tensorflow-intel==2.12.1->tensorflow<2.13.0,>=2.10.0->cnn2snn==2.7.2) (3.3.0)\n",
            "Requirement already satisfied: setuptools in c:\\users\\tayjo\\miniconda3\\envs\\akida\\lib\\site-packages (from tensorflow-intel==2.12.1->tensorflow<2.13.0,>=2.10.0->cnn2snn==2.7.2) (68.2.2)\n",
            "Requirement already satisfied: six>=1.12.0 in c:\\users\\tayjo\\miniconda3\\envs\\akida\\lib\\site-packages (from tensorflow-intel==2.12.1->tensorflow<2.13.0,>=2.10.0->cnn2snn==2.7.2) (1.16.0)\n",
            "Requirement already satisfied: termcolor>=1.1.0 in c:\\users\\tayjo\\miniconda3\\envs\\akida\\lib\\site-packages (from tensorflow-intel==2.12.1->tensorflow<2.13.0,>=2.10.0->cnn2snn==2.7.2) (2.4.0)\n",
            "Requirement already satisfied: typing-extensions<4.6.0,>=3.6.6 in c:\\users\\tayjo\\miniconda3\\envs\\akida\\lib\\site-packages (from tensorflow-intel==2.12.1->tensorflow<2.13.0,>=2.10.0->cnn2snn==2.7.2) (4.5.0)\n",
            "Requirement already satisfied: wrapt<1.15,>=1.11.0 in c:\\users\\tayjo\\miniconda3\\envs\\akida\\lib\\site-packages (from tensorflow-intel==2.12.1->tensorflow<2.13.0,>=2.10.0->cnn2snn==2.7.2) (1.14.1)\n",
            "Requirement already satisfied: grpcio<2.0,>=1.24.3 in c:\\users\\tayjo\\miniconda3\\envs\\akida\\lib\\site-packages (from tensorflow-intel==2.12.1->tensorflow<2.13.0,>=2.10.0->cnn2snn==2.7.2) (1.62.1)\n",
            "Requirement already satisfied: tensorboard<2.13,>=2.12 in c:\\users\\tayjo\\miniconda3\\envs\\akida\\lib\\site-packages (from tensorflow-intel==2.12.1->tensorflow<2.13.0,>=2.10.0->cnn2snn==2.7.2) (2.12.3)\n",
            "Requirement already satisfied: tensorflow-estimator<2.13,>=2.12.0 in c:\\users\\tayjo\\miniconda3\\envs\\akida\\lib\\site-packages (from tensorflow-intel==2.12.1->tensorflow<2.13.0,>=2.10.0->cnn2snn==2.7.2) (2.12.0)\n",
            "Requirement already satisfied: tensorflow-io-gcs-filesystem>=0.23.1 in c:\\users\\tayjo\\miniconda3\\envs\\akida\\lib\\site-packages (from tensorflow-intel==2.12.1->tensorflow<2.13.0,>=2.10.0->cnn2snn==2.7.2) (0.31.0)\n",
            "Requirement already satisfied: wheel<1.0,>=0.23.0 in c:\\users\\tayjo\\miniconda3\\envs\\akida\\lib\\site-packages (from astunparse>=1.6.0->tensorflow-intel==2.12.1->tensorflow<2.13.0,>=2.10.0->cnn2snn==2.7.2) (0.41.2)\n",
            "Requirement already satisfied: ml-dtypes>=0.2.0 in c:\\users\\tayjo\\miniconda3\\envs\\akida\\lib\\site-packages (from jax>=0.3.15->tensorflow-intel==2.12.1->tensorflow<2.13.0,>=2.10.0->cnn2snn==2.7.2) (0.3.2)\n",
            "Requirement already satisfied: scipy>=1.9 in c:\\users\\tayjo\\miniconda3\\envs\\akida\\lib\\site-packages (from jax>=0.3.15->tensorflow-intel==2.12.1->tensorflow<2.13.0,>=2.10.0->cnn2snn==2.7.2) (1.12.0)\n",
            "Requirement already satisfied: google-auth<3,>=1.6.3 in c:\\users\\tayjo\\miniconda3\\envs\\akida\\lib\\site-packages (from tensorboard<2.13,>=2.12->tensorflow-intel==2.12.1->tensorflow<2.13.0,>=2.10.0->cnn2snn==2.7.2) (2.28.2)\n",
            "Requirement already satisfied: google-auth-oauthlib<1.1,>=0.5 in c:\\users\\tayjo\\miniconda3\\envs\\akida\\lib\\site-packages (from tensorboard<2.13,>=2.12->tensorflow-intel==2.12.1->tensorflow<2.13.0,>=2.10.0->cnn2snn==2.7.2) (1.0.0)\n",
            "Requirement already satisfied: markdown>=2.6.8 in c:\\users\\tayjo\\miniconda3\\envs\\akida\\lib\\site-packages (from tensorboard<2.13,>=2.12->tensorflow-intel==2.12.1->tensorflow<2.13.0,>=2.10.0->cnn2snn==2.7.2) (3.6)\n",
            "Requirement already satisfied: requests<3,>=2.21.0 in c:\\users\\tayjo\\miniconda3\\envs\\akida\\lib\\site-packages (from tensorboard<2.13,>=2.12->tensorflow-intel==2.12.1->tensorflow<2.13.0,>=2.10.0->cnn2snn==2.7.2) (2.31.0)\n",
            "Requirement already satisfied: tensorboard-data-server<0.8.0,>=0.7.0 in c:\\users\\tayjo\\miniconda3\\envs\\akida\\lib\\site-packages (from tensorboard<2.13,>=2.12->tensorflow-intel==2.12.1->tensorflow<2.13.0,>=2.10.0->cnn2snn==2.7.2) (0.7.2)\n",
            "Requirement already satisfied: werkzeug>=1.0.1 in c:\\users\\tayjo\\miniconda3\\envs\\akida\\lib\\site-packages (from tensorboard<2.13,>=2.12->tensorflow-intel==2.12.1->tensorflow<2.13.0,>=2.10.0->cnn2snn==2.7.2) (3.0.1)\n",
            "Requirement already satisfied: humanfriendly>=9.1 in c:\\users\\tayjo\\miniconda3\\envs\\akida\\lib\\site-packages (from coloredlogs->onnxruntime==1.15.0->quantizeml~=0.8.1->cnn2snn==2.7.2) (10.0)\n",
            "Requirement already satisfied: mpmath>=0.19 in c:\\users\\tayjo\\miniconda3\\envs\\akida\\lib\\site-packages (from sympy->onnxruntime==1.15.0->quantizeml~=0.8.1->cnn2snn==2.7.2) (1.3.0)\n",
            "Requirement already satisfied: cachetools<6.0,>=2.0.0 in c:\\users\\tayjo\\miniconda3\\envs\\akida\\lib\\site-packages (from google-auth<3,>=1.6.3->tensorboard<2.13,>=2.12->tensorflow-intel==2.12.1->tensorflow<2.13.0,>=2.10.0->cnn2snn==2.7.2) (5.3.3)\n",
            "Requirement already satisfied: pyasn1-modules>=0.2.1 in c:\\users\\tayjo\\miniconda3\\envs\\akida\\lib\\site-packages (from google-auth<3,>=1.6.3->tensorboard<2.13,>=2.12->tensorflow-intel==2.12.1->tensorflow<2.13.0,>=2.10.0->cnn2snn==2.7.2) (0.3.0)\n",
            "Requirement already satisfied: rsa<5,>=3.1.4 in c:\\users\\tayjo\\miniconda3\\envs\\akida\\lib\\site-packages (from google-auth<3,>=1.6.3->tensorboard<2.13,>=2.12->tensorflow-intel==2.12.1->tensorflow<2.13.0,>=2.10.0->cnn2snn==2.7.2) (4.9)\n",
            "Requirement already satisfied: requests-oauthlib>=0.7.0 in c:\\users\\tayjo\\miniconda3\\envs\\akida\\lib\\site-packages (from google-auth-oauthlib<1.1,>=0.5->tensorboard<2.13,>=2.12->tensorflow-intel==2.12.1->tensorflow<2.13.0,>=2.10.0->cnn2snn==2.7.2) (1.4.0)\n",
            "Requirement already satisfied: pyreadline3 in c:\\users\\tayjo\\miniconda3\\envs\\akida\\lib\\site-packages (from humanfriendly>=9.1->coloredlogs->onnxruntime==1.15.0->quantizeml~=0.8.1->cnn2snn==2.7.2) (3.4.1)\n",
            "Requirement already satisfied: charset-normalizer<4,>=2 in c:\\users\\tayjo\\miniconda3\\envs\\akida\\lib\\site-packages (from requests<3,>=2.21.0->tensorboard<2.13,>=2.12->tensorflow-intel==2.12.1->tensorflow<2.13.0,>=2.10.0->cnn2snn==2.7.2) (3.3.2)\n",
            "Requirement already satisfied: idna<4,>=2.5 in c:\\users\\tayjo\\miniconda3\\envs\\akida\\lib\\site-packages (from requests<3,>=2.21.0->tensorboard<2.13,>=2.12->tensorflow-intel==2.12.1->tensorflow<2.13.0,>=2.10.0->cnn2snn==2.7.2) (3.6)\n",
            "Requirement already satisfied: urllib3<3,>=1.21.1 in c:\\users\\tayjo\\miniconda3\\envs\\akida\\lib\\site-packages (from requests<3,>=2.21.0->tensorboard<2.13,>=2.12->tensorflow-intel==2.12.1->tensorflow<2.13.0,>=2.10.0->cnn2snn==2.7.2) (2.2.1)\n",
            "Requirement already satisfied: certifi>=2017.4.17 in c:\\users\\tayjo\\miniconda3\\envs\\akida\\lib\\site-packages (from requests<3,>=2.21.0->tensorboard<2.13,>=2.12->tensorflow-intel==2.12.1->tensorflow<2.13.0,>=2.10.0->cnn2snn==2.7.2) (2024.2.2)\n",
            "Requirement already satisfied: MarkupSafe>=2.1.1 in c:\\users\\tayjo\\miniconda3\\envs\\akida\\lib\\site-packages (from werkzeug>=1.0.1->tensorboard<2.13,>=2.12->tensorflow-intel==2.12.1->tensorflow<2.13.0,>=2.10.0->cnn2snn==2.7.2) (2.1.5)\n",
            "Requirement already satisfied: pyasn1<0.6.0,>=0.4.6 in c:\\users\\tayjo\\miniconda3\\envs\\akida\\lib\\site-packages (from pyasn1-modules>=0.2.1->google-auth<3,>=1.6.3->tensorboard<2.13,>=2.12->tensorflow-intel==2.12.1->tensorflow<2.13.0,>=2.10.0->cnn2snn==2.7.2) (0.5.1)\n",
            "Requirement already satisfied: oauthlib>=3.0.0 in c:\\users\\tayjo\\miniconda3\\envs\\akida\\lib\\site-packages (from requests-oauthlib>=0.7.0->google-auth-oauthlib<1.1,>=0.5->tensorboard<2.13,>=2.12->tensorflow-intel==2.12.1->tensorflow<2.13.0,>=2.10.0->cnn2snn==2.7.2) (3.2.2)\n",
            "Requirement already satisfied: akida-models==1.5.0 in c:\\users\\tayjo\\miniconda3\\envs\\akida\\lib\\site-packages (1.5.0)\n",
            "Requirement already satisfied: cnn2snn~=2.7.2 in c:\\users\\tayjo\\miniconda3\\envs\\akida\\lib\\site-packages (from akida-models==1.5.0) (2.7.2)\n",
            "Requirement already satisfied: quantizeml~=0.8.1 in c:\\users\\tayjo\\miniconda3\\envs\\akida\\lib\\site-packages (from akida-models==1.5.0) (0.8.1)\n",
            "Requirement already satisfied: scipy in c:\\users\\tayjo\\miniconda3\\envs\\akida\\lib\\site-packages (from akida-models==1.5.0) (1.12.0)\n",
            "Requirement already satisfied: opencv-python in c:\\users\\tayjo\\miniconda3\\envs\\akida\\lib\\site-packages (from akida-models==1.5.0) (4.9.0.80)\n",
            "Requirement already satisfied: mtcnn in c:\\users\\tayjo\\miniconda3\\envs\\akida\\lib\\site-packages (from akida-models==1.5.0) (0.1.1)\n",
            "Requirement already satisfied: imgaug in c:\\users\\tayjo\\miniconda3\\envs\\akida\\lib\\site-packages (from akida-models==1.5.0) (0.4.0)\n",
            "Requirement already satisfied: trimesh in c:\\users\\tayjo\\miniconda3\\envs\\akida\\lib\\site-packages (from akida-models==1.5.0) (4.2.0)\n",
            "Requirement already satisfied: librosa in c:\\users\\tayjo\\miniconda3\\envs\\akida\\lib\\site-packages (from akida-models==1.5.0) (0.10.1)\n",
            "Requirement already satisfied: tensorflow<2.13.0,>=2.10.0 in c:\\users\\tayjo\\miniconda3\\envs\\akida\\lib\\site-packages (from cnn2snn~=2.7.2->akida-models==1.5.0) (2.12.1)\n",
            "Requirement already satisfied: keras<2.13.0,>=2.10.0 in c:\\users\\tayjo\\miniconda3\\envs\\akida\\lib\\site-packages (from cnn2snn~=2.7.2->akida-models==1.5.0) (2.12.0)\n",
            "Requirement already satisfied: akida==2.7.2 in c:\\users\\tayjo\\miniconda3\\envs\\akida\\lib\\site-packages (from cnn2snn~=2.7.2->akida-models==1.5.0) (2.7.2)\n",
            "Requirement already satisfied: numpy in c:\\users\\tayjo\\miniconda3\\envs\\akida\\lib\\site-packages (from akida==2.7.2->cnn2snn~=2.7.2->akida-models==1.5.0) (1.24.3)\n",
            "Requirement already satisfied: onnx<1.14,>=1.12 in c:\\users\\tayjo\\miniconda3\\envs\\akida\\lib\\site-packages (from quantizeml~=0.8.1->akida-models==1.5.0) (1.13.1)\n",
            "Requirement already satisfied: onnxruntime==1.15.0 in c:\\users\\tayjo\\miniconda3\\envs\\akida\\lib\\site-packages (from quantizeml~=0.8.1->akida-models==1.5.0) (1.15.0)\n",
            "Requirement already satisfied: coloredlogs in c:\\users\\tayjo\\miniconda3\\envs\\akida\\lib\\site-packages (from onnxruntime==1.15.0->quantizeml~=0.8.1->akida-models==1.5.0) (15.0.1)\n",
            "Requirement already satisfied: flatbuffers in c:\\users\\tayjo\\miniconda3\\envs\\akida\\lib\\site-packages (from onnxruntime==1.15.0->quantizeml~=0.8.1->akida-models==1.5.0) (24.3.7)\n",
            "Requirement already satisfied: packaging in c:\\users\\tayjo\\miniconda3\\envs\\akida\\lib\\site-packages (from onnxruntime==1.15.0->quantizeml~=0.8.1->akida-models==1.5.0) (24.0)\n",
            "Requirement already satisfied: protobuf in c:\\users\\tayjo\\miniconda3\\envs\\akida\\lib\\site-packages (from onnxruntime==1.15.0->quantizeml~=0.8.1->akida-models==1.5.0) (3.20.3)\n",
            "Requirement already satisfied: sympy in c:\\users\\tayjo\\miniconda3\\envs\\akida\\lib\\site-packages (from onnxruntime==1.15.0->quantizeml~=0.8.1->akida-models==1.5.0) (1.12)\n",
            "Requirement already satisfied: six in c:\\users\\tayjo\\miniconda3\\envs\\akida\\lib\\site-packages (from imgaug->akida-models==1.5.0) (1.16.0)\n",
            "Requirement already satisfied: Pillow in c:\\users\\tayjo\\miniconda3\\envs\\akida\\lib\\site-packages (from imgaug->akida-models==1.5.0) (10.2.0)\n",
            "Requirement already satisfied: matplotlib in c:\\users\\tayjo\\miniconda3\\envs\\akida\\lib\\site-packages (from imgaug->akida-models==1.5.0) (3.8.3)\n",
            "Requirement already satisfied: scikit-image>=0.14.2 in c:\\users\\tayjo\\miniconda3\\envs\\akida\\lib\\site-packages (from imgaug->akida-models==1.5.0) (0.22.0)\n",
            "Requirement already satisfied: imageio in c:\\users\\tayjo\\miniconda3\\envs\\akida\\lib\\site-packages (from imgaug->akida-models==1.5.0) (2.34.0)\n",
            "Requirement already satisfied: Shapely in c:\\users\\tayjo\\miniconda3\\envs\\akida\\lib\\site-packages (from imgaug->akida-models==1.5.0) (2.0.3)\n",
            "Requirement already satisfied: audioread>=2.1.9 in c:\\users\\tayjo\\miniconda3\\envs\\akida\\lib\\site-packages (from librosa->akida-models==1.5.0) (3.0.1)\n",
            "Requirement already satisfied: scikit-learn>=0.20.0 in c:\\users\\tayjo\\miniconda3\\envs\\akida\\lib\\site-packages (from librosa->akida-models==1.5.0) (1.4.1.post1)\n",
            "Requirement already satisfied: joblib>=0.14 in c:\\users\\tayjo\\miniconda3\\envs\\akida\\lib\\site-packages (from librosa->akida-models==1.5.0) (1.3.2)\n",
            "Requirement already satisfied: decorator>=4.3.0 in c:\\users\\tayjo\\miniconda3\\envs\\akida\\lib\\site-packages (from librosa->akida-models==1.5.0) (5.1.1)\n",
            "Requirement already satisfied: numba>=0.51.0 in c:\\users\\tayjo\\miniconda3\\envs\\akida\\lib\\site-packages (from librosa->akida-models==1.5.0) (0.59.1)\n",
            "Requirement already satisfied: soundfile>=0.12.1 in c:\\users\\tayjo\\miniconda3\\envs\\akida\\lib\\site-packages (from librosa->akida-models==1.5.0) (0.12.1)\n",
            "Requirement already satisfied: pooch>=1.0 in c:\\users\\tayjo\\miniconda3\\envs\\akida\\lib\\site-packages (from librosa->akida-models==1.5.0) (1.8.1)\n",
            "Requirement already satisfied: soxr>=0.3.2 in c:\\users\\tayjo\\miniconda3\\envs\\akida\\lib\\site-packages (from librosa->akida-models==1.5.0) (0.3.7)\n",
            "Requirement already satisfied: typing-extensions>=4.1.1 in c:\\users\\tayjo\\miniconda3\\envs\\akida\\lib\\site-packages (from librosa->akida-models==1.5.0) (4.5.0)\n",
            "Requirement already satisfied: lazy-loader>=0.1 in c:\\users\\tayjo\\miniconda3\\envs\\akida\\lib\\site-packages (from librosa->akida-models==1.5.0) (0.3)\n",
            "Requirement already satisfied: msgpack>=1.0 in c:\\users\\tayjo\\miniconda3\\envs\\akida\\lib\\site-packages (from librosa->akida-models==1.5.0) (1.0.8)\n",
            "Requirement already satisfied: llvmlite<0.43,>=0.42.0dev0 in c:\\users\\tayjo\\miniconda3\\envs\\akida\\lib\\site-packages (from numba>=0.51.0->librosa->akida-models==1.5.0) (0.42.0)\n",
            "Requirement already satisfied: platformdirs>=2.5.0 in c:\\users\\tayjo\\miniconda3\\envs\\akida\\lib\\site-packages (from pooch>=1.0->librosa->akida-models==1.5.0) (4.2.1)\n",
            "Requirement already satisfied: requests>=2.19.0 in c:\\users\\tayjo\\miniconda3\\envs\\akida\\lib\\site-packages (from pooch>=1.0->librosa->akida-models==1.5.0) (2.31.0)\n",
            "Requirement already satisfied: networkx>=2.8 in c:\\users\\tayjo\\miniconda3\\envs\\akida\\lib\\site-packages (from scikit-image>=0.14.2->imgaug->akida-models==1.5.0) (3.2.1)\n",
            "Requirement already satisfied: tifffile>=2022.8.12 in c:\\users\\tayjo\\miniconda3\\envs\\akida\\lib\\site-packages (from scikit-image>=0.14.2->imgaug->akida-models==1.5.0) (2024.2.12)\n",
            "Requirement already satisfied: threadpoolctl>=2.0.0 in c:\\users\\tayjo\\miniconda3\\envs\\akida\\lib\\site-packages (from scikit-learn>=0.20.0->librosa->akida-models==1.5.0) (3.3.0)\n",
            "Requirement already satisfied: cffi>=1.0 in c:\\users\\tayjo\\miniconda3\\envs\\akida\\lib\\site-packages (from soundfile>=0.12.1->librosa->akida-models==1.5.0) (1.16.0)\n",
            "Requirement already satisfied: tensorflow-intel==2.12.1 in c:\\users\\tayjo\\miniconda3\\envs\\akida\\lib\\site-packages (from tensorflow<2.13.0,>=2.10.0->cnn2snn~=2.7.2->akida-models==1.5.0) (2.12.1)\n",
            "Requirement already satisfied: absl-py>=1.0.0 in c:\\users\\tayjo\\miniconda3\\envs\\akida\\lib\\site-packages (from tensorflow-intel==2.12.1->tensorflow<2.13.0,>=2.10.0->cnn2snn~=2.7.2->akida-models==1.5.0) (1.4.0)\n",
            "Requirement already satisfied: astunparse>=1.6.0 in c:\\users\\tayjo\\miniconda3\\envs\\akida\\lib\\site-packages (from tensorflow-intel==2.12.1->tensorflow<2.13.0,>=2.10.0->cnn2snn~=2.7.2->akida-models==1.5.0) (1.6.3)\n",
            "Requirement already satisfied: gast<=0.4.0,>=0.2.1 in c:\\users\\tayjo\\miniconda3\\envs\\akida\\lib\\site-packages (from tensorflow-intel==2.12.1->tensorflow<2.13.0,>=2.10.0->cnn2snn~=2.7.2->akida-models==1.5.0) (0.4.0)\n",
            "Requirement already satisfied: google-pasta>=0.1.1 in c:\\users\\tayjo\\miniconda3\\envs\\akida\\lib\\site-packages (from tensorflow-intel==2.12.1->tensorflow<2.13.0,>=2.10.0->cnn2snn~=2.7.2->akida-models==1.5.0) (0.2.0)\n",
            "Requirement already satisfied: h5py>=2.9.0 in c:\\users\\tayjo\\miniconda3\\envs\\akida\\lib\\site-packages (from tensorflow-intel==2.12.1->tensorflow<2.13.0,>=2.10.0->cnn2snn~=2.7.2->akida-models==1.5.0) (3.10.0)\n",
            "Requirement already satisfied: jax>=0.3.15 in c:\\users\\tayjo\\miniconda3\\envs\\akida\\lib\\site-packages (from tensorflow-intel==2.12.1->tensorflow<2.13.0,>=2.10.0->cnn2snn~=2.7.2->akida-models==1.5.0) (0.4.25)\n",
            "Requirement already satisfied: libclang>=13.0.0 in c:\\users\\tayjo\\miniconda3\\envs\\akida\\lib\\site-packages (from tensorflow-intel==2.12.1->tensorflow<2.13.0,>=2.10.0->cnn2snn~=2.7.2->akida-models==1.5.0) (18.1.1)\n",
            "Requirement already satisfied: opt-einsum>=2.3.2 in c:\\users\\tayjo\\miniconda3\\envs\\akida\\lib\\site-packages (from tensorflow-intel==2.12.1->tensorflow<2.13.0,>=2.10.0->cnn2snn~=2.7.2->akida-models==1.5.0) (3.3.0)\n",
            "Requirement already satisfied: setuptools in c:\\users\\tayjo\\miniconda3\\envs\\akida\\lib\\site-packages (from tensorflow-intel==2.12.1->tensorflow<2.13.0,>=2.10.0->cnn2snn~=2.7.2->akida-models==1.5.0) (68.2.2)\n",
            "Requirement already satisfied: termcolor>=1.1.0 in c:\\users\\tayjo\\miniconda3\\envs\\akida\\lib\\site-packages (from tensorflow-intel==2.12.1->tensorflow<2.13.0,>=2.10.0->cnn2snn~=2.7.2->akida-models==1.5.0) (2.4.0)\n",
            "Requirement already satisfied: wrapt<1.15,>=1.11.0 in c:\\users\\tayjo\\miniconda3\\envs\\akida\\lib\\site-packages (from tensorflow-intel==2.12.1->tensorflow<2.13.0,>=2.10.0->cnn2snn~=2.7.2->akida-models==1.5.0) (1.14.1)\n",
            "Requirement already satisfied: grpcio<2.0,>=1.24.3 in c:\\users\\tayjo\\miniconda3\\envs\\akida\\lib\\site-packages (from tensorflow-intel==2.12.1->tensorflow<2.13.0,>=2.10.0->cnn2snn~=2.7.2->akida-models==1.5.0) (1.62.1)\n",
            "Requirement already satisfied: tensorboard<2.13,>=2.12 in c:\\users\\tayjo\\miniconda3\\envs\\akida\\lib\\site-packages (from tensorflow-intel==2.12.1->tensorflow<2.13.0,>=2.10.0->cnn2snn~=2.7.2->akida-models==1.5.0) (2.12.3)\n",
            "Requirement already satisfied: tensorflow-estimator<2.13,>=2.12.0 in c:\\users\\tayjo\\miniconda3\\envs\\akida\\lib\\site-packages (from tensorflow-intel==2.12.1->tensorflow<2.13.0,>=2.10.0->cnn2snn~=2.7.2->akida-models==1.5.0) (2.12.0)\n",
            "Requirement already satisfied: tensorflow-io-gcs-filesystem>=0.23.1 in c:\\users\\tayjo\\miniconda3\\envs\\akida\\lib\\site-packages (from tensorflow-intel==2.12.1->tensorflow<2.13.0,>=2.10.0->cnn2snn~=2.7.2->akida-models==1.5.0) (0.31.0)\n",
            "Requirement already satisfied: contourpy>=1.0.1 in c:\\users\\tayjo\\miniconda3\\envs\\akida\\lib\\site-packages (from matplotlib->imgaug->akida-models==1.5.0) (1.2.0)\n",
            "Requirement already satisfied: cycler>=0.10 in c:\\users\\tayjo\\miniconda3\\envs\\akida\\lib\\site-packages (from matplotlib->imgaug->akida-models==1.5.0) (0.12.1)\n",
            "Requirement already satisfied: fonttools>=4.22.0 in c:\\users\\tayjo\\miniconda3\\envs\\akida\\lib\\site-packages (from matplotlib->imgaug->akida-models==1.5.0) (4.50.0)\n",
            "Requirement already satisfied: kiwisolver>=1.3.1 in c:\\users\\tayjo\\miniconda3\\envs\\akida\\lib\\site-packages (from matplotlib->imgaug->akida-models==1.5.0) (1.4.5)\n",
            "Requirement already satisfied: pyparsing>=2.3.1 in c:\\users\\tayjo\\miniconda3\\envs\\akida\\lib\\site-packages (from matplotlib->imgaug->akida-models==1.5.0) (3.1.2)\n",
            "Requirement already satisfied: python-dateutil>=2.7 in c:\\users\\tayjo\\miniconda3\\envs\\akida\\lib\\site-packages (from matplotlib->imgaug->akida-models==1.5.0) (2.9.0.post0)\n",
            "Requirement already satisfied: pycparser in c:\\users\\tayjo\\miniconda3\\envs\\akida\\lib\\site-packages (from cffi>=1.0->soundfile>=0.12.1->librosa->akida-models==1.5.0) (2.22)\n",
            "Requirement already satisfied: charset-normalizer<4,>=2 in c:\\users\\tayjo\\miniconda3\\envs\\akida\\lib\\site-packages (from requests>=2.19.0->pooch>=1.0->librosa->akida-models==1.5.0) (3.3.2)\n",
            "Requirement already satisfied: idna<4,>=2.5 in c:\\users\\tayjo\\miniconda3\\envs\\akida\\lib\\site-packages (from requests>=2.19.0->pooch>=1.0->librosa->akida-models==1.5.0) (3.6)\n",
            "Requirement already satisfied: urllib3<3,>=1.21.1 in c:\\users\\tayjo\\miniconda3\\envs\\akida\\lib\\site-packages (from requests>=2.19.0->pooch>=1.0->librosa->akida-models==1.5.0) (2.2.1)\n",
            "Requirement already satisfied: certifi>=2017.4.17 in c:\\users\\tayjo\\miniconda3\\envs\\akida\\lib\\site-packages (from requests>=2.19.0->pooch>=1.0->librosa->akida-models==1.5.0) (2024.2.2)\n",
            "Requirement already satisfied: humanfriendly>=9.1 in c:\\users\\tayjo\\miniconda3\\envs\\akida\\lib\\site-packages (from coloredlogs->onnxruntime==1.15.0->quantizeml~=0.8.1->akida-models==1.5.0) (10.0)\n",
            "Requirement already satisfied: mpmath>=0.19 in c:\\users\\tayjo\\miniconda3\\envs\\akida\\lib\\site-packages (from sympy->onnxruntime==1.15.0->quantizeml~=0.8.1->akida-models==1.5.0) (1.3.0)\n",
            "Requirement already satisfied: wheel<1.0,>=0.23.0 in c:\\users\\tayjo\\miniconda3\\envs\\akida\\lib\\site-packages (from astunparse>=1.6.0->tensorflow-intel==2.12.1->tensorflow<2.13.0,>=2.10.0->cnn2snn~=2.7.2->akida-models==1.5.0) (0.41.2)\n",
            "Requirement already satisfied: pyreadline3 in c:\\users\\tayjo\\miniconda3\\envs\\akida\\lib\\site-packages (from humanfriendly>=9.1->coloredlogs->onnxruntime==1.15.0->quantizeml~=0.8.1->akida-models==1.5.0) (3.4.1)\n",
            "Requirement already satisfied: ml-dtypes>=0.2.0 in c:\\users\\tayjo\\miniconda3\\envs\\akida\\lib\\site-packages (from jax>=0.3.15->tensorflow-intel==2.12.1->tensorflow<2.13.0,>=2.10.0->cnn2snn~=2.7.2->akida-models==1.5.0) (0.3.2)\n",
            "Requirement already satisfied: google-auth<3,>=1.6.3 in c:\\users\\tayjo\\miniconda3\\envs\\akida\\lib\\site-packages (from tensorboard<2.13,>=2.12->tensorflow-intel==2.12.1->tensorflow<2.13.0,>=2.10.0->cnn2snn~=2.7.2->akida-models==1.5.0) (2.28.2)\n",
            "Requirement already satisfied: google-auth-oauthlib<1.1,>=0.5 in c:\\users\\tayjo\\miniconda3\\envs\\akida\\lib\\site-packages (from tensorboard<2.13,>=2.12->tensorflow-intel==2.12.1->tensorflow<2.13.0,>=2.10.0->cnn2snn~=2.7.2->akida-models==1.5.0) (1.0.0)\n",
            "Requirement already satisfied: markdown>=2.6.8 in c:\\users\\tayjo\\miniconda3\\envs\\akida\\lib\\site-packages (from tensorboard<2.13,>=2.12->tensorflow-intel==2.12.1->tensorflow<2.13.0,>=2.10.0->cnn2snn~=2.7.2->akida-models==1.5.0) (3.6)\n",
            "Requirement already satisfied: tensorboard-data-server<0.8.0,>=0.7.0 in c:\\users\\tayjo\\miniconda3\\envs\\akida\\lib\\site-packages (from tensorboard<2.13,>=2.12->tensorflow-intel==2.12.1->tensorflow<2.13.0,>=2.10.0->cnn2snn~=2.7.2->akida-models==1.5.0) (0.7.2)\n",
            "Requirement already satisfied: werkzeug>=1.0.1 in c:\\users\\tayjo\\miniconda3\\envs\\akida\\lib\\site-packages (from tensorboard<2.13,>=2.12->tensorflow-intel==2.12.1->tensorflow<2.13.0,>=2.10.0->cnn2snn~=2.7.2->akida-models==1.5.0) (3.0.1)\n",
            "Requirement already satisfied: cachetools<6.0,>=2.0.0 in c:\\users\\tayjo\\miniconda3\\envs\\akida\\lib\\site-packages (from google-auth<3,>=1.6.3->tensorboard<2.13,>=2.12->tensorflow-intel==2.12.1->tensorflow<2.13.0,>=2.10.0->cnn2snn~=2.7.2->akida-models==1.5.0) (5.3.3)\n",
            "Requirement already satisfied: pyasn1-modules>=0.2.1 in c:\\users\\tayjo\\miniconda3\\envs\\akida\\lib\\site-packages (from google-auth<3,>=1.6.3->tensorboard<2.13,>=2.12->tensorflow-intel==2.12.1->tensorflow<2.13.0,>=2.10.0->cnn2snn~=2.7.2->akida-models==1.5.0) (0.3.0)\n",
            "Requirement already satisfied: rsa<5,>=3.1.4 in c:\\users\\tayjo\\miniconda3\\envs\\akida\\lib\\site-packages (from google-auth<3,>=1.6.3->tensorboard<2.13,>=2.12->tensorflow-intel==2.12.1->tensorflow<2.13.0,>=2.10.0->cnn2snn~=2.7.2->akida-models==1.5.0) (4.9)\n",
            "Requirement already satisfied: requests-oauthlib>=0.7.0 in c:\\users\\tayjo\\miniconda3\\envs\\akida\\lib\\site-packages (from google-auth-oauthlib<1.1,>=0.5->tensorboard<2.13,>=2.12->tensorflow-intel==2.12.1->tensorflow<2.13.0,>=2.10.0->cnn2snn~=2.7.2->akida-models==1.5.0) (1.4.0)\n",
            "Requirement already satisfied: MarkupSafe>=2.1.1 in c:\\users\\tayjo\\miniconda3\\envs\\akida\\lib\\site-packages (from werkzeug>=1.0.1->tensorboard<2.13,>=2.12->tensorflow-intel==2.12.1->tensorflow<2.13.0,>=2.10.0->cnn2snn~=2.7.2->akida-models==1.5.0) (2.1.5)\n",
            "Requirement already satisfied: pyasn1<0.6.0,>=0.4.6 in c:\\users\\tayjo\\miniconda3\\envs\\akida\\lib\\site-packages (from pyasn1-modules>=0.2.1->google-auth<3,>=1.6.3->tensorboard<2.13,>=2.12->tensorflow-intel==2.12.1->tensorflow<2.13.0,>=2.10.0->cnn2snn~=2.7.2->akida-models==1.5.0) (0.5.1)\n",
            "Requirement already satisfied: oauthlib>=3.0.0 in c:\\users\\tayjo\\miniconda3\\envs\\akida\\lib\\site-packages (from requests-oauthlib>=0.7.0->google-auth-oauthlib<1.1,>=0.5->tensorboard<2.13,>=2.12->tensorflow-intel==2.12.1->tensorflow<2.13.0,>=2.10.0->cnn2snn~=2.7.2->akida-models==1.5.0) (3.2.2)\n",
            "Note: you may need to restart the kernel to use updated packages.\n"
          ]
        }
      ],
      "source": [
        "!pip install pandas\n",
        "!pip install scikit-learn\n",
        "!pip install akida==2.7.2\n",
        "!pip install cnn2snn==2.7.2\n",
        "%pip install akida-models==1.5.0"
      ]
    },
    {
      "cell_type": "code",
      "execution_count": 11,
      "metadata": {},
      "outputs": [
        {
          "name": "stderr",
          "output_type": "stream",
          "text": [
            "'unzip' is not recognized as an internal or external command,\n",
            "operable program or batch file.\n"
          ]
        }
      ],
      "source": [
        "!unzip notebooks/archive"
      ]
    },
    {
      "cell_type": "markdown",
      "metadata": {},
      "source": [
        "## Dataset Preprocessing\n",
        "\n",
        "Start here if running on anaconda virtual environment\n",
        "\n",
        "- This section involves examining and pre-processing the data to make it suitable for use with the Akida models"
      ]
    },
    {
      "cell_type": "code",
      "execution_count": 12,
      "metadata": {
        "id": "FSYTr1lRcyvc"
      },
      "outputs": [],
      "source": [
        "import matplotlib.pyplot as plt\n",
        "import matplotlib.image as mpimg\n",
        "import numpy as np\n",
        "import pandas as pd\n",
        "import os, shutil, random"
      ]
    },
    {
      "cell_type": "code",
      "execution_count": 13,
      "metadata": {
        "id": "_f5hSpNIcyvd"
      },
      "outputs": [],
      "source": [
        "# combine the two parts of the dataset into one folder\n",
        "def combine_folders(source_folders, target_folder):\n",
        "    os.makedirs(target_folder, exist_ok=True)\n",
        "\n",
        "    for folder in source_folders:\n",
        "        file_names = os.listdir(folder)\n",
        "        for file_name in file_names:\n",
        "            source_file_path = os.path.join(folder, file_name)\n",
        "            if os.path.isfile(source_file_path):\n",
        "                target_file_path = os.path.join(target_folder, file_name)\n",
        "                shutil.copy(source_file_path, target_file_path)\n",
        "\n",
        "source_folders = ['archive/HAM10000_images_part_1', 'archive/HAM10000_images_part_2']\n",
        "target_folder = 'archive/data'\n",
        "combine_folders(source_folders, target_folder)"
      ]
    },
    {
      "cell_type": "code",
      "execution_count": 15,
      "metadata": {
        "id": "8xI85A6Qcyvd"
      },
      "outputs": [],
      "source": [
        "# Load the metadata\n",
        "metadata = pd.read_csv('archive/HAM10000_metadata.csv')"
      ]
    },
    {
      "cell_type": "code",
      "execution_count": 16,
      "metadata": {
        "colab": {
          "base_uri": "https://localhost:8080/",
          "height": 206
        },
        "id": "cqg0Ski3cyvd",
        "outputId": "312cd1a1-f58b-4d31-9c1a-e0347b9df4a4"
      },
      "outputs": [
        {
          "data": {
            "text/html": [
              "<div>\n",
              "<style scoped>\n",
              "    .dataframe tbody tr th:only-of-type {\n",
              "        vertical-align: middle;\n",
              "    }\n",
              "\n",
              "    .dataframe tbody tr th {\n",
              "        vertical-align: top;\n",
              "    }\n",
              "\n",
              "    .dataframe thead th {\n",
              "        text-align: right;\n",
              "    }\n",
              "</style>\n",
              "<table border=\"1\" class=\"dataframe\">\n",
              "  <thead>\n",
              "    <tr style=\"text-align: right;\">\n",
              "      <th></th>\n",
              "      <th>lesion_id</th>\n",
              "      <th>image_id</th>\n",
              "      <th>dx</th>\n",
              "      <th>dx_type</th>\n",
              "      <th>age</th>\n",
              "      <th>sex</th>\n",
              "      <th>localization</th>\n",
              "    </tr>\n",
              "  </thead>\n",
              "  <tbody>\n",
              "    <tr>\n",
              "      <th>0</th>\n",
              "      <td>HAM_0000118</td>\n",
              "      <td>ISIC_0027419</td>\n",
              "      <td>bkl</td>\n",
              "      <td>histo</td>\n",
              "      <td>80.0</td>\n",
              "      <td>male</td>\n",
              "      <td>scalp</td>\n",
              "    </tr>\n",
              "    <tr>\n",
              "      <th>1</th>\n",
              "      <td>HAM_0000118</td>\n",
              "      <td>ISIC_0025030</td>\n",
              "      <td>bkl</td>\n",
              "      <td>histo</td>\n",
              "      <td>80.0</td>\n",
              "      <td>male</td>\n",
              "      <td>scalp</td>\n",
              "    </tr>\n",
              "    <tr>\n",
              "      <th>2</th>\n",
              "      <td>HAM_0002730</td>\n",
              "      <td>ISIC_0026769</td>\n",
              "      <td>bkl</td>\n",
              "      <td>histo</td>\n",
              "      <td>80.0</td>\n",
              "      <td>male</td>\n",
              "      <td>scalp</td>\n",
              "    </tr>\n",
              "    <tr>\n",
              "      <th>3</th>\n",
              "      <td>HAM_0002730</td>\n",
              "      <td>ISIC_0025661</td>\n",
              "      <td>bkl</td>\n",
              "      <td>histo</td>\n",
              "      <td>80.0</td>\n",
              "      <td>male</td>\n",
              "      <td>scalp</td>\n",
              "    </tr>\n",
              "    <tr>\n",
              "      <th>4</th>\n",
              "      <td>HAM_0001466</td>\n",
              "      <td>ISIC_0031633</td>\n",
              "      <td>bkl</td>\n",
              "      <td>histo</td>\n",
              "      <td>75.0</td>\n",
              "      <td>male</td>\n",
              "      <td>ear</td>\n",
              "    </tr>\n",
              "  </tbody>\n",
              "</table>\n",
              "</div>"
            ],
            "text/plain": [
              "     lesion_id      image_id   dx dx_type   age   sex localization\n",
              "0  HAM_0000118  ISIC_0027419  bkl   histo  80.0  male        scalp\n",
              "1  HAM_0000118  ISIC_0025030  bkl   histo  80.0  male        scalp\n",
              "2  HAM_0002730  ISIC_0026769  bkl   histo  80.0  male        scalp\n",
              "3  HAM_0002730  ISIC_0025661  bkl   histo  80.0  male        scalp\n",
              "4  HAM_0001466  ISIC_0031633  bkl   histo  75.0  male          ear"
            ]
          },
          "execution_count": 16,
          "metadata": {},
          "output_type": "execute_result"
        }
      ],
      "source": [
        "metadata.head()"
      ]
    },
    {
      "cell_type": "code",
      "execution_count": 17,
      "metadata": {
        "colab": {
          "base_uri": "https://localhost:8080/"
        },
        "id": "fXPCKQWOcyvd",
        "outputId": "9f167a8c-5fc7-44d0-f577-78ec98f58ece"
      },
      "outputs": [
        {
          "data": {
            "text/plain": [
              "dx\n",
              "nv       6705\n",
              "mel      1113\n",
              "bkl      1099\n",
              "bcc       514\n",
              "akiec     327\n",
              "vasc      142\n",
              "df        115\n",
              "Name: count, dtype: int64"
            ]
          },
          "execution_count": 17,
          "metadata": {},
          "output_type": "execute_result"
        }
      ],
      "source": [
        "metadata['dx'].value_counts()"
      ]
    },
    {
      "cell_type": "code",
      "execution_count": 18,
      "metadata": {
        "colab": {
          "base_uri": "https://localhost:8080/"
        },
        "id": "TtG1OzXgcyvd",
        "outputId": "10b5a011-9367-4413-e729-4311456800f3"
      },
      "outputs": [
        {
          "name": "stdout",
          "output_type": "stream",
          "text": [
            "Number of rows in metadata: 10015\n",
            "Number of unique lesions: 7470\n"
          ]
        }
      ],
      "source": [
        "# There are more rows than unique lesions, so we can assume that there are multiple images for each lesion.\n",
        "unique_lesion_id = metadata['lesion_id'].unique()\n",
        "print(\"Number of rows in metadata:\", len(metadata))\n",
        "print('Number of unique lesions:', len(unique_lesion_id))"
      ]
    },
    {
      "cell_type": "code",
      "execution_count": 19,
      "metadata": {
        "colab": {
          "base_uri": "https://localhost:8080/"
        },
        "id": "k32uQPXUcyve",
        "outputId": "a5703647-0ced-4e43-e36b-b5277b274d44"
      },
      "outputs": [
        {
          "name": "stdout",
          "output_type": "stream",
          "text": [
            "dx\n",
            "nv       671\n",
            "mel      111\n",
            "bkl      110\n",
            "bcc       51\n",
            "akiec     33\n",
            "vasc      14\n",
            "df        12\n",
            "Name: count, dtype: int64\n",
            "(1002, 8)\n"
          ]
        }
      ],
      "source": [
        "# Perform train test split\n",
        "from sklearn.model_selection import train_test_split\n",
        "metadata['image_path'] = metadata['image_id'].apply(lambda x: os.path.join(target_folder, f\"{x}.jpg\"))\n",
        "train_data, test_data = train_test_split(metadata, random_state=17, stratify=metadata.dx, test_size=0.10)\n",
        "\n",
        "print(test_data['dx'].value_counts())\n",
        "print(test_data.shape)"
      ]
    },
    {
      "cell_type": "code",
      "execution_count": 20,
      "metadata": {
        "colab": {
          "base_uri": "https://localhost:8080/",
          "height": 206
        },
        "id": "cCt7OeLtcyve",
        "outputId": "a07ce775-870e-4861-f598-896d3759733c"
      },
      "outputs": [
        {
          "data": {
            "text/html": [
              "<div>\n",
              "<style scoped>\n",
              "    .dataframe tbody tr th:only-of-type {\n",
              "        vertical-align: middle;\n",
              "    }\n",
              "\n",
              "    .dataframe tbody tr th {\n",
              "        vertical-align: top;\n",
              "    }\n",
              "\n",
              "    .dataframe thead th {\n",
              "        text-align: right;\n",
              "    }\n",
              "</style>\n",
              "<table border=\"1\" class=\"dataframe\">\n",
              "  <thead>\n",
              "    <tr style=\"text-align: right;\">\n",
              "      <th></th>\n",
              "      <th>lesion_id</th>\n",
              "      <th>image_id</th>\n",
              "      <th>dx</th>\n",
              "      <th>dx_type</th>\n",
              "      <th>age</th>\n",
              "      <th>sex</th>\n",
              "      <th>localization</th>\n",
              "      <th>image_path</th>\n",
              "    </tr>\n",
              "  </thead>\n",
              "  <tbody>\n",
              "    <tr>\n",
              "      <th>0</th>\n",
              "      <td>HAM_0000118</td>\n",
              "      <td>ISIC_0027419</td>\n",
              "      <td>bkl</td>\n",
              "      <td>histo</td>\n",
              "      <td>80.0</td>\n",
              "      <td>male</td>\n",
              "      <td>scalp</td>\n",
              "      <td>archive/data\\ISIC_0027419.jpg</td>\n",
              "    </tr>\n",
              "    <tr>\n",
              "      <th>1</th>\n",
              "      <td>HAM_0000118</td>\n",
              "      <td>ISIC_0025030</td>\n",
              "      <td>bkl</td>\n",
              "      <td>histo</td>\n",
              "      <td>80.0</td>\n",
              "      <td>male</td>\n",
              "      <td>scalp</td>\n",
              "      <td>archive/data\\ISIC_0025030.jpg</td>\n",
              "    </tr>\n",
              "    <tr>\n",
              "      <th>2</th>\n",
              "      <td>HAM_0002730</td>\n",
              "      <td>ISIC_0026769</td>\n",
              "      <td>bkl</td>\n",
              "      <td>histo</td>\n",
              "      <td>80.0</td>\n",
              "      <td>male</td>\n",
              "      <td>scalp</td>\n",
              "      <td>archive/data\\ISIC_0026769.jpg</td>\n",
              "    </tr>\n",
              "    <tr>\n",
              "      <th>3</th>\n",
              "      <td>HAM_0002730</td>\n",
              "      <td>ISIC_0025661</td>\n",
              "      <td>bkl</td>\n",
              "      <td>histo</td>\n",
              "      <td>80.0</td>\n",
              "      <td>male</td>\n",
              "      <td>scalp</td>\n",
              "      <td>archive/data\\ISIC_0025661.jpg</td>\n",
              "    </tr>\n",
              "    <tr>\n",
              "      <th>4</th>\n",
              "      <td>HAM_0001466</td>\n",
              "      <td>ISIC_0031633</td>\n",
              "      <td>bkl</td>\n",
              "      <td>histo</td>\n",
              "      <td>75.0</td>\n",
              "      <td>male</td>\n",
              "      <td>ear</td>\n",
              "      <td>archive/data\\ISIC_0031633.jpg</td>\n",
              "    </tr>\n",
              "  </tbody>\n",
              "</table>\n",
              "</div>"
            ],
            "text/plain": [
              "     lesion_id      image_id   dx dx_type   age   sex localization  \\\n",
              "0  HAM_0000118  ISIC_0027419  bkl   histo  80.0  male        scalp   \n",
              "1  HAM_0000118  ISIC_0025030  bkl   histo  80.0  male        scalp   \n",
              "2  HAM_0002730  ISIC_0026769  bkl   histo  80.0  male        scalp   \n",
              "3  HAM_0002730  ISIC_0025661  bkl   histo  80.0  male        scalp   \n",
              "4  HAM_0001466  ISIC_0031633  bkl   histo  75.0  male          ear   \n",
              "\n",
              "                      image_path  \n",
              "0  archive/data\\ISIC_0027419.jpg  \n",
              "1  archive/data\\ISIC_0025030.jpg  \n",
              "2  archive/data\\ISIC_0026769.jpg  \n",
              "3  archive/data\\ISIC_0025661.jpg  \n",
              "4  archive/data\\ISIC_0031633.jpg  "
            ]
          },
          "execution_count": 20,
          "metadata": {},
          "output_type": "execute_result"
        }
      ],
      "source": [
        "metadata.head()"
      ]
    },
    {
      "cell_type": "code",
      "execution_count": 21,
      "metadata": {
        "id": "IEbYGcA3cyve"
      },
      "outputs": [],
      "source": [
        "train_data = train_data.set_index(\"image_id\")\n",
        "test_data = test_data.set_index(\"image_id\")\n",
        "\n",
        "train_id = list(train_data.index)\n",
        "test_id = list(test_data.index)"
      ]
    },
    {
      "cell_type": "code",
      "execution_count": 22,
      "metadata": {
        "id": "z342uWOScyve"
      },
      "outputs": [],
      "source": [
        "dirs = []\n",
        "\n",
        "# Create train and test directory\n",
        "train_dir = os.path.join('archive/data/', \"train\")\n",
        "dirs.append(train_dir)\n",
        "test_dir = os.path.join('archive/data/', \"test\")\n",
        "dirs.append(test_dir)\n",
        "\n",
        "# Create training subfolders for diagnoses\n",
        "train_nv = os.path.join(train_dir, \"nv\")\n",
        "dirs.append(train_nv)\n",
        "train_mel = os.path.join(train_dir, \"mel\")\n",
        "dirs.append(train_mel)\n",
        "train_bkl = os.path.join(train_dir, \"bkl\")\n",
        "dirs.append(train_bkl)\n",
        "train_bcc = os.path.join(train_dir, \"bcc\")\n",
        "dirs.append(train_bcc)\n",
        "train_akiec = os.path.join(train_dir, \"akiec\")\n",
        "dirs.append(train_akiec)\n",
        "train_vasc = os.path.join(train_dir, \"vasc\")\n",
        "dirs.append(train_vasc)\n",
        "train_df = os.path.join(train_dir, \"df\")\n",
        "dirs.append(train_df)\n",
        "\n",
        "# Create validation subfolders for diagnoses\n",
        "validation_nv = os.path.join(test_dir, \"nv\")\n",
        "dirs.append(validation_nv)\n",
        "validation_mel = os.path.join(test_dir, \"mel\")\n",
        "dirs.append(validation_mel)\n",
        "validation_bkl = os.path.join(test_dir, \"bkl\")\n",
        "dirs.append(validation_bkl)\n",
        "validation_bcc = os.path.join(test_dir, \"bcc\")\n",
        "dirs.append(validation_bcc)\n",
        "validation_akiec = os.path.join(test_dir, \"akiec\")\n",
        "dirs.append(validation_akiec)\n",
        "validation_vasc = os.path.join(test_dir, \"vasc\")\n",
        "dirs.append(validation_vasc)\n",
        "validation_df = os.path.join(test_dir, \"df\")\n",
        "dirs.append(validation_df)\n",
        "\n",
        "for directory in dirs:\n",
        "    if not os.path.exists(directory):\n",
        "        os.mkdir(directory)"
      ]
    },
    {
      "cell_type": "code",
      "execution_count": 23,
      "metadata": {
        "id": "__R6GRVtcyve"
      },
      "outputs": [],
      "source": [
        "# move images to train and test dirs\n",
        "target_folder = 'archive/data'\n",
        "files = os.listdir(target_folder)\n",
        "\n",
        "for image in train_id:\n",
        "    file_name = str(image + '.jpg')\n",
        "    label = train_data.loc[image,'dx']\n",
        "\n",
        "    if file_name in files:\n",
        "        src = os.path.join(target_folder, file_name)\n",
        "        dst = os.path.join(train_dir, label, file_name)\n",
        "        shutil.copyfile(src, dst)\n",
        "\n",
        "for image in test_id:\n",
        "\n",
        "    file_name = image + '.jpg'\n",
        "    label = test_data.loc[image,'dx']\n",
        "\n",
        "    if file_name in files:\n",
        "        src = os.path.join(target_folder, file_name)\n",
        "        dst = os.path.join(test_dir, label, file_name)\n",
        "        shutil.copyfile(src, dst)"
      ]
    },
    {
      "cell_type": "code",
      "execution_count": 25,
      "metadata": {},
      "outputs": [
        {
          "name": "stdout",
          "output_type": "stream",
          "text": [
            "Found 103 images belonging to 1 classes.\n"
          ]
        },
        {
          "name": "stderr",
          "output_type": "stream",
          "text": [
            "c:\\Users\\tayjo\\miniconda3\\envs\\akida\\Lib\\site-packages\\keras\\preprocessing\\image.py:1861: UserWarning: This ImageDataGenerator specifies `featurewise_center`, but it hasn't been fit on any training data. Fit it first by calling `.fit(numpy_data)`.\n",
            "  warnings.warn(\n",
            "c:\\Users\\tayjo\\miniconda3\\envs\\akida\\Lib\\site-packages\\keras\\preprocessing\\image.py:1871: UserWarning: This ImageDataGenerator specifies `featurewise_std_normalization`, but it hasn't been fit on any training data. Fit it first by calling `.fit(numpy_data)`.\n",
            "  warnings.warn(\n"
          ]
        },
        {
          "name": "stdout",
          "output_type": "stream",
          "text": [
            "Found 1002 images belonging to 1 classes.\n",
            "Found 989 images belonging to 1 classes.\n",
            "Found 463 images belonging to 1 classes.\n",
            "Found 294 images belonging to 1 classes.\n",
            "Found 128 images belonging to 1 classes.\n"
          ]
        }
      ],
      "source": [
        "from tensorflow.keras.preprocessing.image import ImageDataGenerator\n",
        "\n",
        "# Perform data augmentation\n",
        "class_names = [\"df\", \"mel\",\"bkl\", \"bcc\", \"akiec\", \"vasc\"]\n",
        "\n",
        "for d in class_names:\n",
        "    source_dir = 'archive/data/'\n",
        "    \n",
        "    aug_dir = os.path.join(source_dir,'aug_dir') \n",
        "    if not os.path.exists(aug_dir):\n",
        "        os.mkdir(aug_dir)\n",
        "    \n",
        "    img_dir = os.path.join(aug_dir, d)\n",
        "    if not os.path.exists(img_dir):\n",
        "        os.mkdir(img_dir)\n",
        "\n",
        "    img_class = d\n",
        "\n",
        "    img_list = os.listdir(source_dir + 'train/' + img_class)\n",
        "    \n",
        "    for i in img_list: \n",
        "        src = os.path.join(source_dir + 'train/' + img_class, i)\n",
        "        dst = os.path.join(img_dir,i)\n",
        "        shutil.copyfile(src, dst)\n",
        "\n",
        "\n",
        "    path = aug_dir\n",
        "    save_path = img_dir\n",
        "    \n",
        "    datagen = ImageDataGenerator(\n",
        "        rotation_range=90,\n",
        "        featurewise_center=True,\n",
        "        featurewise_std_normalization=True,\n",
        "        width_shift_range=0.2,\n",
        "        height_shift_range=0.2,\n",
        "        zoom_range=[0.8,1.0],\n",
        "        horizontal_flip=True,\n",
        "        vertical_flip=True,\n",
        "        brightness_range=(0.8,1.2),\n",
        "        fill_mode='reflect')\n",
        "    \n",
        "    batch_size = 50\n",
        "    \n",
        "    aug_datagen = datagen.flow_from_directory(path,\n",
        "                                           save_to_dir=save_path,\n",
        "                                           save_format='jpeg',\n",
        "                                            save_prefix='',\n",
        "                                            target_size=(224,224),\n",
        "                                              color_mode='rgb',\n",
        "                                            batch_size=batch_size, shuffle=False) #important Set Shuffle=False!\n",
        "    \n",
        "   \n",
        "    \n",
        "    num_wanted = 6000\n",
        "    \n",
        "    num_files = len(os.listdir(img_dir))\n",
        "    num_batches = int(np.ceil((num_wanted-num_files)/batch_size))\n",
        "\n",
        "\n",
        "    for i in range(0,num_batches):\n",
        "\n",
        "        imgs, labels = next(aug_datagen)\n",
        "    \n",
        "    img_list = sorted(img_list)\n",
        "    aug_list = os.listdir(img_dir)\n",
        "\n",
        "    for number,image in enumerate(img_list):\n",
        "        for filename in aug_list:\n",
        "            if f\"_{number}_\" in filename:\n",
        "                filename_new = image[5:12] + filename\n",
        "                os.rename(os.path.join(img_dir,filename), os.path.join(img_dir,filename_new))\n",
        "\n",
        "    for augfile in os.listdir(img_dir):\n",
        "        if augfile not in img_list:\n",
        "           shutil.move(img_dir + '/' + augfile, source_dir + 'train/' + img_class + '/' + augfile)\n",
        "\n",
        "    \n",
        "    shutil.rmtree(aug_dir)"
      ]
    },
    {
      "cell_type": "code",
      "execution_count": 15,
      "metadata": {
        "colab": {
          "base_uri": "https://localhost:8080/"
        },
        "id": "XjclvKxrcyve",
        "outputId": "14ea3396-8eed-41a3-e849-7542e74bb25b"
      },
      "outputs": [
        {
          "name": "stderr",
          "output_type": "stream",
          "text": [
            "2024-05-16 11:43:57.349093: I tensorflow/core/util/port.cc:110] oneDNN custom operations are on. You may see slightly different numerical results due to floating-point round-off errors from different computation orders. To turn them off, set the environment variable `TF_ENABLE_ONEDNN_OPTS=0`.\n",
            "2024-05-16 11:43:57.451327: I tensorflow/core/platform/cpu_feature_guard.cc:182] This TensorFlow binary is optimized to use available CPU instructions in performance-critical operations.\n",
            "To enable the following instructions: AVX2 AVX_VNNI FMA, in other operations, rebuild TensorFlow with the appropriate compiler flags.\n"
          ]
        },
        {
          "name": "stdout",
          "output_type": "stream",
          "text": [
            "Found 9013 images belonging to 7 classes.\n",
            "Found 1002 images belonging to 7 classes.\n"
          ]
        }
      ],
      "source": [
        "# scale images\n",
        "import tensorflow as tf\n",
        "from tensorflow.keras.preprocessing.image import ImageDataGenerator\n",
        "\n",
        "train_datagen = ImageDataGenerator(rescale=1.0/255.0)\n",
        "test_datagen = ImageDataGenerator(rescale=1.0/255.0)\n",
        "\n",
        "train_gen = train_datagen.flow_from_directory(\n",
        "    train_dir,\n",
        "    target_size=(224, 224),\n",
        "    batch_size=100,\n",
        "    class_mode='sparse',\n",
        ")\n",
        "\n",
        "test_gen = test_datagen.flow_from_directory(\n",
        "    test_dir,\n",
        "    target_size=(224, 224),\n",
        "    batch_size=100,\n",
        "    class_mode='sparse'\n",
        ")"
      ]
    },
    {
      "cell_type": "markdown",
      "metadata": {},
      "source": [
        "## Model Training"
      ]
    },
    {
      "cell_type": "code",
      "execution_count": 16,
      "metadata": {
        "colab": {
          "base_uri": "https://localhost:8080/"
        },
        "id": "eQASzthacyve",
        "outputId": "5302cd61-dc20-4ccf-80eb-10baa264765d"
      },
      "outputs": [
        {
          "name": "stderr",
          "output_type": "stream",
          "text": [
            "2024-05-16 11:44:04.002537: I tensorflow/compiler/xla/stream_executor/cuda/cuda_gpu_executor.cc:996] successful NUMA node read from SysFS had negative value (-1), but there must be at least one NUMA node, so returning NUMA node zero. See more at https://github.com/torvalds/linux/blob/v6.0/Documentation/ABI/testing/sysfs-bus-pci#L344-L355\n",
            "2024-05-16 11:44:04.011739: I tensorflow/compiler/xla/stream_executor/cuda/cuda_gpu_executor.cc:996] successful NUMA node read from SysFS had negative value (-1), but there must be at least one NUMA node, so returning NUMA node zero. See more at https://github.com/torvalds/linux/blob/v6.0/Documentation/ABI/testing/sysfs-bus-pci#L344-L355\n",
            "2024-05-16 11:44:04.011820: I tensorflow/compiler/xla/stream_executor/cuda/cuda_gpu_executor.cc:996] successful NUMA node read from SysFS had negative value (-1), but there must be at least one NUMA node, so returning NUMA node zero. See more at https://github.com/torvalds/linux/blob/v6.0/Documentation/ABI/testing/sysfs-bus-pci#L344-L355\n",
            "2024-05-16 11:44:04.012839: I tensorflow/compiler/xla/stream_executor/cuda/cuda_gpu_executor.cc:996] successful NUMA node read from SysFS had negative value (-1), but there must be at least one NUMA node, so returning NUMA node zero. See more at https://github.com/torvalds/linux/blob/v6.0/Documentation/ABI/testing/sysfs-bus-pci#L344-L355\n",
            "2024-05-16 11:44:04.012898: I tensorflow/compiler/xla/stream_executor/cuda/cuda_gpu_executor.cc:996] successful NUMA node read from SysFS had negative value (-1), but there must be at least one NUMA node, so returning NUMA node zero. See more at https://github.com/torvalds/linux/blob/v6.0/Documentation/ABI/testing/sysfs-bus-pci#L344-L355\n",
            "2024-05-16 11:44:04.012937: I tensorflow/compiler/xla/stream_executor/cuda/cuda_gpu_executor.cc:996] successful NUMA node read from SysFS had negative value (-1), but there must be at least one NUMA node, so returning NUMA node zero. See more at https://github.com/torvalds/linux/blob/v6.0/Documentation/ABI/testing/sysfs-bus-pci#L344-L355\n",
            "2024-05-16 11:44:04.068908: I tensorflow/compiler/xla/stream_executor/cuda/cuda_gpu_executor.cc:996] successful NUMA node read from SysFS had negative value (-1), but there must be at least one NUMA node, so returning NUMA node zero. See more at https://github.com/torvalds/linux/blob/v6.0/Documentation/ABI/testing/sysfs-bus-pci#L344-L355\n",
            "2024-05-16 11:44:04.068994: I tensorflow/compiler/xla/stream_executor/cuda/cuda_gpu_executor.cc:996] successful NUMA node read from SysFS had negative value (-1), but there must be at least one NUMA node, so returning NUMA node zero. See more at https://github.com/torvalds/linux/blob/v6.0/Documentation/ABI/testing/sysfs-bus-pci#L344-L355\n",
            "2024-05-16 11:44:04.069041: I tensorflow/compiler/xla/stream_executor/cuda/cuda_gpu_executor.cc:996] successful NUMA node read from SysFS had negative value (-1), but there must be at least one NUMA node, so returning NUMA node zero. See more at https://github.com/torvalds/linux/blob/v6.0/Documentation/ABI/testing/sysfs-bus-pci#L344-L355\n",
            "2024-05-16 11:44:04.069086: I tensorflow/core/common_runtime/gpu/gpu_device.cc:1635] Created device /job:localhost/replica:0/task:0/device:GPU:0 with 13563 MB memory:  -> device: 0, name: NVIDIA GeForce RTX 4080, pci bus id: 0000:01:00.0, compute capability: 8.9\n"
          ]
        },
        {
          "name": "stdout",
          "output_type": "stream",
          "text": [
            "Downloading data from https://data.brainchip.com/models/AkidaV2/akidanet/akidanet_imagenet_224_alpha_0.5.h5.\n",
            "5724224/5724224 [==============================] - 3s 1us/step\n",
            "Download complete.\n",
            "Model: \"akidanet_0.50_224_7\"\n",
            "_________________________________________________________________\n",
            " Layer (type)                Output Shape              Param #   \n",
            "=================================================================\n",
            " input (InputLayer)          [(None, 224, 224, 3)]     0         \n",
            "                                                                 \n",
            " rescaling (Rescaling)       (None, 224, 224, 3)       0         \n",
            "                                                                 \n",
            " conv_0 (Conv2D)             (None, 112, 112, 16)      432       \n",
            "                                                                 \n",
            " conv_0/BN (BatchNormalizati  (None, 112, 112, 16)     64        \n",
            " on)                                                             \n",
            "                                                                 \n",
            " conv_0/relu (ReLU)          (None, 112, 112, 16)      0         \n",
            "                                                                 \n",
            " conv_1 (Conv2D)             (None, 112, 112, 32)      4608      \n",
            "                                                                 \n",
            " conv_1/BN (BatchNormalizati  (None, 112, 112, 32)     128       \n",
            " on)                                                             \n",
            "                                                                 \n",
            " conv_1/relu (ReLU)          (None, 112, 112, 32)      0         \n",
            "                                                                 \n",
            " conv_2 (Conv2D)             (None, 56, 56, 64)        18432     \n",
            "                                                                 \n",
            " conv_2/BN (BatchNormalizati  (None, 56, 56, 64)       256       \n",
            " on)                                                             \n",
            "                                                                 \n",
            " conv_2/relu (ReLU)          (None, 56, 56, 64)        0         \n",
            "                                                                 \n",
            " conv_3 (Conv2D)             (None, 56, 56, 64)        36864     \n",
            "                                                                 \n",
            " conv_3/BN (BatchNormalizati  (None, 56, 56, 64)       256       \n",
            " on)                                                             \n",
            "                                                                 \n",
            " conv_3/relu (ReLU)          (None, 56, 56, 64)        0         \n",
            "                                                                 \n",
            " dw_separable_4 (DepthwiseCo  (None, 28, 28, 64)       576       \n",
            " nv2D)                                                           \n",
            "                                                                 \n",
            " pw_separable_4 (Conv2D)     (None, 28, 28, 128)       8192      \n",
            "                                                                 \n",
            " pw_separable_4/BN (BatchNor  (None, 28, 28, 128)      512       \n",
            " malization)                                                     \n",
            "                                                                 \n",
            " pw_separable_4/relu (ReLU)  (None, 28, 28, 128)       0         \n",
            "                                                                 \n",
            " dw_separable_5 (DepthwiseCo  (None, 28, 28, 128)      1152      \n",
            " nv2D)                                                           \n",
            "                                                                 \n",
            " pw_separable_5 (Conv2D)     (None, 28, 28, 128)       16384     \n",
            "                                                                 \n",
            " pw_separable_5/BN (BatchNor  (None, 28, 28, 128)      512       \n",
            " malization)                                                     \n",
            "                                                                 \n",
            " pw_separable_5/relu (ReLU)  (None, 28, 28, 128)       0         \n",
            "                                                                 \n",
            " dw_separable_6 (DepthwiseCo  (None, 14, 14, 128)      1152      \n",
            " nv2D)                                                           \n",
            "                                                                 \n",
            " pw_separable_6 (Conv2D)     (None, 14, 14, 256)       32768     \n",
            "                                                                 \n",
            " pw_separable_6/BN (BatchNor  (None, 14, 14, 256)      1024      \n",
            " malization)                                                     \n",
            "                                                                 \n",
            " pw_separable_6/relu (ReLU)  (None, 14, 14, 256)       0         \n",
            "                                                                 \n",
            " dw_separable_7 (DepthwiseCo  (None, 14, 14, 256)      2304      \n",
            " nv2D)                                                           \n",
            "                                                                 \n",
            " pw_separable_7 (Conv2D)     (None, 14, 14, 256)       65536     \n",
            "                                                                 \n",
            " pw_separable_7/BN (BatchNor  (None, 14, 14, 256)      1024      \n",
            " malization)                                                     \n",
            "                                                                 \n",
            " pw_separable_7/relu (ReLU)  (None, 14, 14, 256)       0         \n",
            "                                                                 \n",
            " dw_separable_8 (DepthwiseCo  (None, 14, 14, 256)      2304      \n",
            " nv2D)                                                           \n",
            "                                                                 \n",
            " pw_separable_8 (Conv2D)     (None, 14, 14, 256)       65536     \n",
            "                                                                 \n",
            " pw_separable_8/BN (BatchNor  (None, 14, 14, 256)      1024      \n",
            " malization)                                                     \n",
            "                                                                 \n",
            " pw_separable_8/relu (ReLU)  (None, 14, 14, 256)       0         \n",
            "                                                                 \n",
            " dw_separable_9 (DepthwiseCo  (None, 14, 14, 256)      2304      \n",
            " nv2D)                                                           \n",
            "                                                                 \n",
            " pw_separable_9 (Conv2D)     (None, 14, 14, 256)       65536     \n",
            "                                                                 \n",
            " pw_separable_9/BN (BatchNor  (None, 14, 14, 256)      1024      \n",
            " malization)                                                     \n",
            "                                                                 \n",
            " pw_separable_9/relu (ReLU)  (None, 14, 14, 256)       0         \n",
            "                                                                 \n",
            " dw_separable_10 (DepthwiseC  (None, 14, 14, 256)      2304      \n",
            " onv2D)                                                          \n",
            "                                                                 \n",
            " pw_separable_10 (Conv2D)    (None, 14, 14, 256)       65536     \n",
            "                                                                 \n",
            " pw_separable_10/BN (BatchNo  (None, 14, 14, 256)      1024      \n",
            " rmalization)                                                    \n",
            "                                                                 \n",
            " pw_separable_10/relu (ReLU)  (None, 14, 14, 256)      0         \n",
            "                                                                 \n",
            " dw_separable_11 (DepthwiseC  (None, 14, 14, 256)      2304      \n",
            " onv2D)                                                          \n",
            "                                                                 \n",
            " pw_separable_11 (Conv2D)    (None, 14, 14, 256)       65536     \n",
            "                                                                 \n",
            " pw_separable_11/BN (BatchNo  (None, 14, 14, 256)      1024      \n",
            " rmalization)                                                    \n",
            "                                                                 \n",
            " pw_separable_11/relu (ReLU)  (None, 14, 14, 256)      0         \n",
            "                                                                 \n",
            " dw_separable_12 (DepthwiseC  (None, 7, 7, 256)        2304      \n",
            " onv2D)                                                          \n",
            "                                                                 \n",
            " pw_separable_12 (Conv2D)    (None, 7, 7, 512)         131072    \n",
            "                                                                 \n",
            " pw_separable_12/BN (BatchNo  (None, 7, 7, 512)        2048      \n",
            " rmalization)                                                    \n",
            "                                                                 \n",
            " pw_separable_12/relu (ReLU)  (None, 7, 7, 512)        0         \n",
            "                                                                 \n",
            " dw_separable_13 (DepthwiseC  (None, 7, 7, 512)        4608      \n",
            " onv2D)                                                          \n",
            "                                                                 \n",
            " pw_separable_13 (Conv2D)    (None, 7, 7, 512)         262144    \n",
            "                                                                 \n",
            " pw_separable_13/BN (BatchNo  (None, 7, 7, 512)        2048      \n",
            " rmalization)                                                    \n",
            "                                                                 \n",
            " pw_separable_13/relu (ReLU)  (None, 7, 7, 512)        0         \n",
            "                                                                 \n",
            " pw_separable_13/global_avg   (None, 512)              0         \n",
            " (GlobalAveragePooling2D)                                        \n",
            "                                                                 \n",
            "=================================================================\n",
            "Total params: 871,856\n",
            "Trainable params: 865,872\n",
            "Non-trainable params: 5,984\n",
            "_________________________________________________________________\n"
          ]
        }
      ],
      "source": [
        "from akida_models import fetch_file, akidanet_imagenet\n",
        "\n",
        "IMG_SIZE = 224\n",
        "# CLASSES = metadata['dx'].unique()\n",
        "CLASSES = 7\n",
        "\n",
        "# Create a base model without top layers\n",
        "base_model = akidanet_imagenet(input_shape=(IMG_SIZE, IMG_SIZE, 3),\n",
        "                               classes=CLASSES,\n",
        "                               alpha=0.5,\n",
        "                               include_top=False,\n",
        "                               pooling='avg')\n",
        "\n",
        "# Get pretrained quantized weights and load them into the base model\n",
        "pretrained_weights = fetch_file(\n",
        "    origin=\"https://data.brainchip.com/models/AkidaV2/akidanet/akidanet_imagenet_224_alpha_0.5.h5\",\n",
        "    fname=\"akidanet_imagenet_224_alpha_0.5.h5\",\n",
        "    cache_subdir='models')\n",
        "\n",
        "base_model.load_weights(pretrained_weights, by_name=True)\n",
        "base_model.summary()"
      ]
    },
    {
      "cell_type": "code",
      "execution_count": 17,
      "metadata": {
        "colab": {
          "base_uri": "https://localhost:8080/"
        },
        "id": "PDjg0V4Bcyve",
        "outputId": "245523d1-3f32-452d-ded7-998c39900ae9"
      },
      "outputs": [
        {
          "name": "stdout",
          "output_type": "stream",
          "text": [
            "Model: \"akidanet_derma\"\n",
            "_________________________________________________________________\n",
            " Layer (type)                Output Shape              Param #   \n",
            "=================================================================\n",
            " input (InputLayer)          [(None, 224, 224, 3)]     0         \n",
            "                                                                 \n",
            " rescaling (Rescaling)       (None, 224, 224, 3)       0         \n",
            "                                                                 \n",
            " conv_0 (Conv2D)             (None, 112, 112, 16)      432       \n",
            "                                                                 \n",
            " conv_0/BN (BatchNormalizati  (None, 112, 112, 16)     64        \n",
            " on)                                                             \n",
            "                                                                 \n",
            " conv_0/relu (ReLU)          (None, 112, 112, 16)      0         \n",
            "                                                                 \n",
            " conv_1 (Conv2D)             (None, 112, 112, 32)      4608      \n",
            "                                                                 \n",
            " conv_1/BN (BatchNormalizati  (None, 112, 112, 32)     128       \n",
            " on)                                                             \n",
            "                                                                 \n",
            " conv_1/relu (ReLU)          (None, 112, 112, 32)      0         \n",
            "                                                                 \n",
            " conv_2 (Conv2D)             (None, 56, 56, 64)        18432     \n",
            "                                                                 \n",
            " conv_2/BN (BatchNormalizati  (None, 56, 56, 64)       256       \n",
            " on)                                                             \n",
            "                                                                 \n",
            " conv_2/relu (ReLU)          (None, 56, 56, 64)        0         \n",
            "                                                                 \n",
            " conv_3 (Conv2D)             (None, 56, 56, 64)        36864     \n",
            "                                                                 \n",
            " conv_3/BN (BatchNormalizati  (None, 56, 56, 64)       256       \n",
            " on)                                                             \n",
            "                                                                 \n",
            " conv_3/relu (ReLU)          (None, 56, 56, 64)        0         \n",
            "                                                                 \n",
            " dw_separable_4 (DepthwiseCo  (None, 28, 28, 64)       576       \n",
            " nv2D)                                                           \n",
            "                                                                 \n",
            " pw_separable_4 (Conv2D)     (None, 28, 28, 128)       8192      \n",
            "                                                                 \n",
            " pw_separable_4/BN (BatchNor  (None, 28, 28, 128)      512       \n",
            " malization)                                                     \n",
            "                                                                 \n",
            " pw_separable_4/relu (ReLU)  (None, 28, 28, 128)       0         \n",
            "                                                                 \n",
            " dw_separable_5 (DepthwiseCo  (None, 28, 28, 128)      1152      \n",
            " nv2D)                                                           \n",
            "                                                                 \n",
            " pw_separable_5 (Conv2D)     (None, 28, 28, 128)       16384     \n",
            "                                                                 \n",
            " pw_separable_5/BN (BatchNor  (None, 28, 28, 128)      512       \n",
            " malization)                                                     \n",
            "                                                                 \n",
            " pw_separable_5/relu (ReLU)  (None, 28, 28, 128)       0         \n",
            "                                                                 \n",
            " dw_separable_6 (DepthwiseCo  (None, 14, 14, 128)      1152      \n",
            " nv2D)                                                           \n",
            "                                                                 \n",
            " pw_separable_6 (Conv2D)     (None, 14, 14, 256)       32768     \n",
            "                                                                 \n",
            " pw_separable_6/BN (BatchNor  (None, 14, 14, 256)      1024      \n",
            " malization)                                                     \n",
            "                                                                 \n",
            " pw_separable_6/relu (ReLU)  (None, 14, 14, 256)       0         \n",
            "                                                                 \n",
            " dw_separable_7 (DepthwiseCo  (None, 14, 14, 256)      2304      \n",
            " nv2D)                                                           \n",
            "                                                                 \n",
            " pw_separable_7 (Conv2D)     (None, 14, 14, 256)       65536     \n",
            "                                                                 \n",
            " pw_separable_7/BN (BatchNor  (None, 14, 14, 256)      1024      \n",
            " malization)                                                     \n",
            "                                                                 \n",
            " pw_separable_7/relu (ReLU)  (None, 14, 14, 256)       0         \n",
            "                                                                 \n",
            " dw_separable_8 (DepthwiseCo  (None, 14, 14, 256)      2304      \n",
            " nv2D)                                                           \n",
            "                                                                 \n",
            " pw_separable_8 (Conv2D)     (None, 14, 14, 256)       65536     \n",
            "                                                                 \n",
            " pw_separable_8/BN (BatchNor  (None, 14, 14, 256)      1024      \n",
            " malization)                                                     \n",
            "                                                                 \n",
            " pw_separable_8/relu (ReLU)  (None, 14, 14, 256)       0         \n",
            "                                                                 \n",
            " dw_separable_9 (DepthwiseCo  (None, 14, 14, 256)      2304      \n",
            " nv2D)                                                           \n",
            "                                                                 \n",
            " pw_separable_9 (Conv2D)     (None, 14, 14, 256)       65536     \n",
            "                                                                 \n",
            " pw_separable_9/BN (BatchNor  (None, 14, 14, 256)      1024      \n",
            " malization)                                                     \n",
            "                                                                 \n",
            " pw_separable_9/relu (ReLU)  (None, 14, 14, 256)       0         \n",
            "                                                                 \n",
            " dw_separable_10 (DepthwiseC  (None, 14, 14, 256)      2304      \n",
            " onv2D)                                                          \n",
            "                                                                 \n",
            " pw_separable_10 (Conv2D)    (None, 14, 14, 256)       65536     \n",
            "                                                                 \n",
            " pw_separable_10/BN (BatchNo  (None, 14, 14, 256)      1024      \n",
            " rmalization)                                                    \n",
            "                                                                 \n",
            " pw_separable_10/relu (ReLU)  (None, 14, 14, 256)      0         \n",
            "                                                                 \n",
            " dw_separable_11 (DepthwiseC  (None, 14, 14, 256)      2304      \n",
            " onv2D)                                                          \n",
            "                                                                 \n",
            " pw_separable_11 (Conv2D)    (None, 14, 14, 256)       65536     \n",
            "                                                                 \n",
            " pw_separable_11/BN (BatchNo  (None, 14, 14, 256)      1024      \n",
            " rmalization)                                                    \n",
            "                                                                 \n",
            " pw_separable_11/relu (ReLU)  (None, 14, 14, 256)      0         \n",
            "                                                                 \n",
            " dw_separable_12 (DepthwiseC  (None, 7, 7, 256)        2304      \n",
            " onv2D)                                                          \n",
            "                                                                 \n",
            " pw_separable_12 (Conv2D)    (None, 7, 7, 512)         131072    \n",
            "                                                                 \n",
            " pw_separable_12/BN (BatchNo  (None, 7, 7, 512)        2048      \n",
            " rmalization)                                                    \n",
            "                                                                 \n",
            " pw_separable_12/relu (ReLU)  (None, 7, 7, 512)        0         \n",
            "                                                                 \n",
            " dw_separable_13 (DepthwiseC  (None, 7, 7, 512)        4608      \n",
            " onv2D)                                                          \n",
            "                                                                 \n",
            " pw_separable_13 (Conv2D)    (None, 7, 7, 512)         262144    \n",
            "                                                                 \n",
            " pw_separable_13/BN (BatchNo  (None, 7, 7, 512)        2048      \n",
            " rmalization)                                                    \n",
            "                                                                 \n",
            " pw_separable_13/relu (ReLU)  (None, 7, 7, 512)        0         \n",
            "                                                                 \n",
            " pw_separable_13/global_avg   (None, 512)              0         \n",
            " (GlobalAveragePooling2D)                                        \n",
            "                                                                 \n",
            " fc1 (Dense)                 (None, 512)               262656    \n",
            "                                                                 \n",
            " fc1/BN (BatchNormalization)  (None, 512)              2048      \n",
            "                                                                 \n",
            " fc1/relu (ReLU)             (None, 512)               0         \n",
            "                                                                 \n",
            " dropout_1 (Dropout)         (None, 512)               0         \n",
            "                                                                 \n",
            " predictions (Dense)         (None, 7)                 3591      \n",
            "                                                                 \n",
            " act_softmax (Activation)    (None, 7)                 0         \n",
            "                                                                 \n",
            " reshape (Reshape)           (None, 7)                 0         \n",
            "                                                                 \n",
            "=================================================================\n",
            "Total params: 1,140,151\n",
            "Trainable params: 1,133,143\n",
            "Non-trainable params: 7,008\n",
            "_________________________________________________________________\n"
          ]
        }
      ],
      "source": [
        "from keras import Model\n",
        "from keras.layers import Activation, Dropout, Reshape\n",
        "from akida_models.layer_blocks import dense_block\n",
        "\n",
        "x = base_model.output\n",
        "x = dense_block(x,\n",
        "                units=512,\n",
        "                name='fc1',\n",
        "                add_batchnorm=True,\n",
        "                relu_activation='ReLU7.5')\n",
        "x = Dropout(0.5, name='dropout_1')(x)\n",
        "x = dense_block(x,\n",
        "                units=CLASSES,\n",
        "                name='predictions',\n",
        "                add_batchnorm=False,\n",
        "                relu_activation=False)\n",
        "x = Activation('softmax', name='act_softmax')(x)\n",
        "x = Reshape((CLASSES,), name='reshape')(x)\n",
        "\n",
        "# Build the model\n",
        "model_keras = Model(base_model.input, x, name='akidanet_derma')\n",
        "\n",
        "model_keras.summary()"
      ]
    },
    {
      "cell_type": "code",
      "execution_count": 18,
      "metadata": {
        "colab": {
          "base_uri": "https://localhost:8080/",
          "height": 989
        },
        "id": "N5F5Y-Gqcyve",
        "outputId": "dcb1bd6f-72f2-49db-cc0c-d2b7f99f963e"
      },
      "outputs": [
        {
          "name": "stdout",
          "output_type": "stream",
          "text": [
            "Epoch 1/10\n"
          ]
        },
        {
          "name": "stderr",
          "output_type": "stream",
          "text": [
            "2024-05-16 11:44:53.870682: I tensorflow/core/common_runtime/executor.cc:1197] [/device:CPU:0] (DEBUG INFO) Executor start aborting (this does not indicate an error and you can ignore this message): INVALID_ARGUMENT: You must feed a value for placeholder tensor 'Placeholder/_0' with dtype int32\n",
            "\t [[{{node Placeholder/_0}}]]\n",
            "2024-05-16 11:44:55.664504: I tensorflow/compiler/xla/stream_executor/cuda/cuda_dnn.cc:424] Loaded cuDNN version 8600\n",
            "2024-05-16 11:44:56.359736: I tensorflow/compiler/xla/stream_executor/cuda/cuda_blas.cc:637] TensorFloat-32 will be used for the matrix multiplication. This will only be logged once.\n",
            "2024-05-16 11:44:56.609915: I tensorflow/compiler/xla/service/service.cc:169] XLA service 0x7e177cad3290 initialized for platform CUDA (this does not guarantee that XLA will be used). Devices:\n",
            "2024-05-16 11:44:56.609935: I tensorflow/compiler/xla/service/service.cc:177]   StreamExecutor device (0): NVIDIA GeForce RTX 4080, Compute Capability 8.9\n",
            "2024-05-16 11:44:56.623534: I tensorflow/compiler/mlir/tensorflow/utils/dump_mlir_util.cc:269] disabling MLIR crash reproducer, set env var `MLIR_CRASH_REPRODUCER_DIRECTORY` to enable.\n",
            "2024-05-16 11:44:56.741846: I ./tensorflow/compiler/jit/device_compiler.h:180] Compiled cluster using XLA!  This line is logged at most once for the lifetime of the process.\n"
          ]
        },
        {
          "name": "stdout",
          "output_type": "stream",
          "text": [
            "91/91 [==============================] - ETA: 0s - loss: 1.0702 - accuracy: 0.6869"
          ]
        },
        {
          "name": "stderr",
          "output_type": "stream",
          "text": [
            "2024-05-16 11:45:24.464573: I tensorflow/core/common_runtime/executor.cc:1197] [/device:CPU:0] (DEBUG INFO) Executor start aborting (this does not indicate an error and you can ignore this message): INVALID_ARGUMENT: You must feed a value for placeholder tensor 'Placeholder/_0' with dtype int32\n",
            "\t [[{{node Placeholder/_0}}]]\n"
          ]
        },
        {
          "name": "stdout",
          "output_type": "stream",
          "text": [
            "\b\b\b\b\b\b\b\b\b\b\b\b\b\b\b\b\b\b\b\b\b\b\b\b\b\b\b\b\b\b\b\b\b\b\b\b\b\b\b\b\b\b\b\b\b\b\b\b\b\b\b\b\b\b\b\b\b\b\b\b\b\b\b\b\b\b\b\b\b\b\b\b\b\b\b\b\b\b\b\b\b\b\r91/91 [==============================] - 34s 295ms/step - loss: 1.0702 - accuracy: 0.6869 - val_loss: 3.4463 - val_accuracy: 0.6697\n",
            "Epoch 2/10\n",
            "91/91 [==============================] - 26s 285ms/step - loss: 0.8599 - accuracy: 0.7495 - val_loss: 4.2658 - val_accuracy: 0.6697\n",
            "Epoch 3/10\n",
            "91/91 [==============================] - 26s 285ms/step - loss: 0.8396 - accuracy: 0.7536 - val_loss: 4.1300 - val_accuracy: 0.6697\n",
            "Epoch 4/10\n",
            "91/91 [==============================] - 26s 292ms/step - loss: 0.8552 - accuracy: 0.7451 - val_loss: 3.8672 - val_accuracy: 0.6697\n",
            "Epoch 5/10\n",
            "91/91 [==============================] - 26s 284ms/step - loss: 0.8439 - accuracy: 0.7493 - val_loss: 2.2263 - val_accuracy: 0.6707\n",
            "Epoch 6/10\n",
            "91/91 [==============================] - 27s 296ms/step - loss: 0.8390 - accuracy: 0.7490 - val_loss: 1.1535 - val_accuracy: 0.6926\n",
            "Epoch 7/10\n",
            "91/91 [==============================] - 27s 298ms/step - loss: 0.8392 - accuracy: 0.7512 - val_loss: 0.9088 - val_accuracy: 0.7415\n",
            "Epoch 8/10\n",
            "91/91 [==============================] - 27s 291ms/step - loss: 0.8522 - accuracy: 0.7463 - val_loss: 0.8479 - val_accuracy: 0.7545\n",
            "Epoch 9/10\n",
            "91/91 [==============================] - 27s 294ms/step - loss: 0.8373 - accuracy: 0.7497 - val_loss: 0.8314 - val_accuracy: 0.7525\n",
            "Epoch 10/10\n",
            "91/91 [==============================] - 27s 294ms/step - loss: 0.8501 - accuracy: 0.7460 - val_loss: 0.8279 - val_accuracy: 0.7505\n"
          ]
        },
        {
          "data": {
            "image/png": "[encoded data removed]",
            "text/plain": [
              "<Figure size 1200x500 with 2 Axes>"
            ]
          },
          "metadata": {},
          "output_type": "display_data"
        }
      ],
      "source": [
        "import tensorflow as tf\n",
        "from tensorflow.keras.optimizers import Adam\n",
        "from tensorflow.keras.losses import SparseCategoricalCrossentropy\n",
        "from tensorflow.keras.callbacks import ModelCheckpoint, EarlyStopping\n",
        "\n",
        "# Setting up the learning rate schedule\n",
        "initial_learning_rate = 1e-3\n",
        "final_learning_rate = 1e-5\n",
        "decay_steps = 10\n",
        "lr_schedule = tf.keras.optimizers.schedules.ExponentialDecay(\n",
        "    initial_learning_rate,\n",
        "    decay_steps,\n",
        "    decay_rate=(final_learning_rate / initial_learning_rate) ** (1 / decay_steps),\n",
        "    staircase=True)\n",
        "\n",
        "# Configuring the optimizer\n",
        "optimizer = Adam(learning_rate=lr_schedule)\n",
        "\n",
        "# Compiling the model\n",
        "model_keras.compile(\n",
        "    optimizer=optimizer,\n",
        "    loss=SparseCategoricalCrossentropy(),\n",
        "    metrics=['accuracy'])\n",
        "\n",
        "# Setting up callbacks for saving the model and early stopping\n",
        "checkpoint_cb = ModelCheckpoint(\n",
        "    'akidanet_derma_best.h5', save_best_only=True)\n",
        "early_stopping_cb = EarlyStopping(\n",
        "    patience=5, restore_best_weights=True)\n",
        "\n",
        "# Training the model\n",
        "history = model_keras.fit(\n",
        "    train_gen,\n",
        "    epochs=10,\n",
        "    validation_data=test_gen,\n",
        "    callbacks=[checkpoint_cb, early_stopping_cb])\n",
        "\n",
        "# Optionally, plot the training history\n",
        "import matplotlib.pyplot as plt\n",
        "\n",
        "plt.figure(figsize=(12, 5))\n",
        "plt.subplot(1, 2, 1)\n",
        "plt.plot(history.history['accuracy'], label='Training Accuracy')\n",
        "plt.plot(history.history['val_accuracy'], label='Validation Accuracy')\n",
        "plt.title('Accuracy over Epochs')\n",
        "plt.xlabel('Epoch')\n",
        "plt.ylabel('Accuracy')\n",
        "plt.legend()\n",
        "\n",
        "plt.subplot(1, 2, 2)\n",
        "plt.plot(history.history['loss'], label='Training Loss')\n",
        "plt.plot(history.history['val_loss'], label='Validation Loss')\n",
        "plt.title('Loss over Epochs')\n",
        "plt.xlabel('Epoch')\n",
        "plt.ylabel('Loss')\n",
        "plt.legend()\n",
        "plt.show()"
      ]
    },
    {
      "cell_type": "code",
      "execution_count": 19,
      "metadata": {
        "id": "2QzPQOyLcyve"
      },
      "outputs": [],
      "source": [
        "# Function to convert generator to tf.data.Dataset\n",
        "def format_example(image, label):\n",
        "    image = tf.cast(image, tf.float32)\n",
        "    image = tf.image.resize(image, (IMG_SIZE, IMG_SIZE))\n",
        "    return image, label\n",
        "\n",
        "# Create a Dataset from the generator\n",
        "train_dataset = tf.data.Dataset.from_generator(\n",
        "    lambda: train_gen,\n",
        "    output_signature=(\n",
        "        tf.TensorSpec(shape=(None, 224, 224, 3), dtype=tf.float32),\n",
        "        tf.TensorSpec(shape=(None,), dtype=tf.int32)\n",
        "    )\n",
        ")\n",
        "\n",
        "train_dataset = train_dataset.map(format_example, num_parallel_calls=tf.data.AUTOTUNE)\n",
        "\n",
        "# Define batch size and batch the dataset\n",
        "BATCH_SIZE = 32\n",
        "train_batches = train_dataset.unbatch().batch(BATCH_SIZE)"
      ]
    },
    {
      "cell_type": "markdown",
      "metadata": {},
      "source": [
        "## Quantize Model"
      ]
    },
    {
      "cell_type": "code",
      "execution_count": 20,
      "metadata": {
        "colab": {
          "base_uri": "https://localhost:8080/"
        },
        "id": "L7Je8qWHcyve",
        "outputId": "531ed6b0-856f-49d4-cdb0-e11f13dc67b9"
      },
      "outputs": [
        {
          "name": "stderr",
          "output_type": "stream",
          "text": [
            "/usr/local/lib/python3.8/dist-packages/quantizeml/models/quantize.py:98: UserWarning: 'act_softmax' of type <class 'keras.layers.core.activation.Activation'> is not supported to quantize, a Dequantizer is added before it and quantization will stop at this layer.\n",
            "  warnings.warn(f\"'{layer.name}' of type {layer.__class__} is not supported to \"\n",
            "2024-05-16 11:49:42.963208: I tensorflow/core/common_runtime/executor.cc:1197] [/device:CPU:0] (DEBUG INFO) Executor start aborting (this does not indicate an error and you can ignore this message): INVALID_ARGUMENT: You must feed a value for placeholder tensor 'Placeholder/_0' with dtype int32\n",
            "\t [[{{node Placeholder/_0}}]]\n"
          ]
        },
        {
          "name": "stdout",
          "output_type": "stream",
          "text": [
            "32/32 [==============================] - 3s 80ms/step\n",
            "32/32 [==============================] - 3s 84ms/step\n"
          ]
        }
      ],
      "source": [
        "from quantizeml.models import quantize, QuantizationParams, dump_config\n",
        "\n",
        "# Prepare a quantization scheme: first layer weights to 8-bit, other weights and activation to 4-bit\n",
        "qparams = QuantizationParams(input_weight_bits=8, weight_bits=4, activation_bits=4)\n",
        "\n",
        "# Quantize the model, using the 1024 calibration samples from the train set and calibrate over 2\n",
        "# epochs with a batch_size of 100.\n",
        "model_quantized = quantize(model_keras, qparams=qparams,\n",
        "                           samples=train_batches, epochs=2, batch_size=BATCH_SIZE, num_samples=1024)"
      ]
    },
    {
      "cell_type": "code",
      "execution_count": 31,
      "metadata": {
        "id": "bCp5tQLYcyvf"
      },
      "outputs": [],
      "source": [
        "test_dataset = tf.data.Dataset.from_generator(\n",
        "    lambda: test_gen,\n",
        "    output_signature=(\n",
        "        tf.TensorSpec(shape=(None, 224, 224, 3), dtype=tf.float32),\n",
        "        tf.TensorSpec(shape=(None,), dtype=tf.int32)\n",
        "    )\n",
        ")\n",
        "\n",
        "test_dataset = test_dataset.map(format_example, num_parallel_calls=tf.data.AUTOTUNE)\n",
        "\n",
        "# Define batch size and batch the dataset\n",
        "BATCH_SIZE = 32\n",
        "test_batches = test_dataset.unbatch().batch(BATCH_SIZE)"
      ]
    },
    {
      "cell_type": "code",
      "execution_count": 32,
      "metadata": {
        "colab": {
          "base_uri": "https://localhost:8080/"
        },
        "id": "R1ikc41CY_SS",
        "outputId": "e8174abf-bb56-4fab-a724-4d4e8eea19eb"
      },
      "outputs": [
        {
          "name": "stdout",
          "output_type": "stream",
          "text": [
            "(1002, 224, 224, 3)\n",
            "(1002,)\n"
          ]
        }
      ],
      "source": [
        "import numpy as np\n",
        "\n",
        "def generator_to_numpy(generator):\n",
        "    images_list = []\n",
        "    labels_list = []\n",
        "\n",
        "    # Iterate through the generator\n",
        "    for _ in range(len(generator)):\n",
        "        images, labels = generator.next()\n",
        "        images_list.append(images)\n",
        "        labels_list.append(labels)\n",
        "\n",
        "    # Concatenate lists into numpy arrays\n",
        "    x_test = np.concatenate(images_list, axis=0)\n",
        "    labels_test = np.concatenate(labels_list, axis=0)\n",
        "\n",
        "    return x_test, labels_test\n",
        "\n",
        "# Example usage with test_gen\n",
        "x_test, labels_test = generator_to_numpy(test_gen)\n",
        "\n",
        "# Ensure the shapes are correct\n",
        "print(x_test.shape)  # Should be (num_samples, 224, 224, 3)\n",
        "print(labels_test.shape)  # Should be (num_samples,)\n"
      ]
    },
    {
      "cell_type": "code",
      "execution_count": 33,
      "metadata": {
        "colab": {
          "base_uri": "https://localhost:8080/"
        },
        "id": "ElEHjD2baJca",
        "outputId": "fab08438-18c1-49d9-b173-7e6368a05c50"
      },
      "outputs": [
        {
          "name": "stderr",
          "output_type": "stream",
          "text": [
            "2024-05-16 11:58:59.792085: W tensorflow/core/grappler/optimizers/loop_optimizer.cc:907] Skipping loop optimization for Merge node with control input: akidanet_derma/conv_0/aligned_weight_quantizer/assert_less/Assert/AssertGuard/branch_executed/_25\n"
          ]
        },
        {
          "name": "stdout",
          "output_type": "stream",
          "text": [
            "11/11 [==============================] - 4s 61ms/step\n",
            "Keras inference on 1002 images took 4.44 s.\n",
            "\n",
            "Keras accuracy: 671/1002.\n"
          ]
        }
      ],
      "source": [
        "from timeit import default_timer as timer\n",
        "\n",
        "model_quantized.compile(metrics=['accuracy'])\n",
        "\n",
        "\n",
        "num_images = len(x_test)\n",
        "\n",
        "start = timer()\n",
        "potentials_keras = model_quantized.predict(x_test, batch_size=100)\n",
        "end = timer()\n",
        "print(f'Keras inference on {num_images} images took {end-start:.2f} s.\\n')\n",
        "\n",
        "preds_keras = np.squeeze(np.argmax(potentials_keras, 1))\n",
        "accuracy_keras = np.sum(np.equal(preds_keras, labels_test)) / num_images\n",
        "print(f\"Keras accuracy: {accuracy_keras*num_images:.0f}/{num_images}.\")"
      ]
    },
    {
      "cell_type": "code",
      "execution_count": 34,
      "metadata": {
        "id": "rH9dwWw8RSge"
      },
      "outputs": [],
      "source": [
        "model_quantized.save('model_quantized.h5')"
      ]
    },
    {
      "cell_type": "code",
      "execution_count": 35,
      "metadata": {
        "colab": {
          "base_uri": "https://localhost:8080/"
        },
        "id": "vg9v4oqlcyvf",
        "outputId": "fd01df0c-ac21-486f-e381-1d949a92a533"
      },
      "outputs": [
        {
          "name": "stdout",
          "output_type": "stream",
          "text": [
            "WARNING:tensorflow:5 out of the last 5 calls to <function NonTrackVariable.set_var at 0x7e127dff8160> triggered tf.function retracing. Tracing is expensive and the excessive number of tracings could be due to (1) creating @tf.function repeatedly in a loop, (2) passing tensors with different shapes, (3) passing Python objects instead of tensors. For (1), please define your @tf.function outside of the loop. For (2), @tf.function has reduce_retracing=True option that can avoid unnecessary retracing. For (3), please refer to https://www.tensorflow.org/guide/function#controlling_retracing and https://www.tensorflow.org/api_docs/python/tf/function for  more details.\n"
          ]
        },
        {
          "name": "stderr",
          "output_type": "stream",
          "text": [
            "/usr/local/lib/python3.8/dist-packages/cnn2snn/quantizeml/blocks.py:160: UserWarning: Conversion stops at layer predictions because of a dequantizer. The end of the model is ignored:\n",
            "___________________________________________________\n",
            "Layer (type)\n",
            "===================================================\n",
            "act_softmax (Activation)\n",
            "reshape (Reshape)\n",
            "===================================================\n",
            "\n",
            "  warnings.warn(\"Conversion stops\" + stop_layer_msg + \" because of a dequantizer. \"\n",
            "WARNING:tensorflow:5 out of the last 5 calls to <function NonTrackVariable.set_var at 0x7e127dff8160> triggered tf.function retracing. Tracing is expensive and the excessive number of tracings could be due to (1) creating @tf.function repeatedly in a loop, (2) passing tensors with different shapes, (3) passing Python objects instead of tensors. For (1), please define your @tf.function outside of the loop. For (2), @tf.function has reduce_retracing=True option that can avoid unnecessary retracing. For (3), please refer to https://www.tensorflow.org/guide/function#controlling_retracing and https://www.tensorflow.org/api_docs/python/tf/function for  more details.\n"
          ]
        },
        {
          "name": "stdout",
          "output_type": "stream",
          "text": [
            "WARNING:tensorflow:6 out of the last 6 calls to <function NonTrackVariable.set_var at 0x7e12e3fc0790> triggered tf.function retracing. Tracing is expensive and the excessive number of tracings could be due to (1) creating @tf.function repeatedly in a loop, (2) passing tensors with different shapes, (3) passing Python objects instead of tensors. For (1), please define your @tf.function outside of the loop. For (2), @tf.function has reduce_retracing=True option that can avoid unnecessary retracing. For (3), please refer to https://www.tensorflow.org/guide/function#controlling_retracing and https://www.tensorflow.org/api_docs/python/tf/function for  more details.\n"
          ]
        },
        {
          "name": "stderr",
          "output_type": "stream",
          "text": [
            "WARNING:tensorflow:6 out of the last 6 calls to <function NonTrackVariable.set_var at 0x7e12e3fc0790> triggered tf.function retracing. Tracing is expensive and the excessive number of tracings could be due to (1) creating @tf.function repeatedly in a loop, (2) passing tensors with different shapes, (3) passing Python objects instead of tensors. For (1), please define your @tf.function outside of the loop. For (2), @tf.function has reduce_retracing=True option that can avoid unnecessary retracing. For (3), please refer to https://www.tensorflow.org/guide/function#controlling_retracing and https://www.tensorflow.org/api_docs/python/tf/function for  more details.\n"
          ]
        }
      ],
      "source": [
        "import numpy as np\n",
        "from cnn2snn import convert\n",
        "\n",
        "model_akida = convert(model_quantized)\n"
      ]
    },
    {
      "cell_type": "code",
      "execution_count": 36,
      "metadata": {
        "colab": {
          "base_uri": "https://localhost:8080/"
        },
        "id": "pRhA4N6ra8X3",
        "outputId": "924a2912-03ed-4788-ed05-639c72a8ff8d"
      },
      "outputs": [
        {
          "name": "stdout",
          "output_type": "stream",
          "text": [
            "                 Model Summary                  \n",
            "________________________________________________\n",
            "Input shape    Output shape  Sequences  Layers\n",
            "================================================\n",
            "[224, 224, 3]  [1, 1, 7]     1          27    \n",
            "________________________________________________\n",
            "\n",
            "_____________________________________________________________________\n",
            "Layer (type)                       Output shape    Kernel shape    \n",
            "\n",
            "================== SW/conv_0-dequantizer (Software) =================\n",
            "\n",
            "conv_0 (InputConv2D)               [112, 112, 16]  (3, 3, 3, 16)   \n",
            "_____________________________________________________________________\n",
            "conv_1 (Conv2D)                    [112, 112, 32]  (3, 3, 16, 32)  \n",
            "_____________________________________________________________________\n",
            "conv_2 (Conv2D)                    [56, 56, 64]    (3, 3, 32, 64)  \n",
            "_____________________________________________________________________\n",
            "conv_3 (Conv2D)                    [56, 56, 64]    (3, 3, 64, 64)  \n",
            "_____________________________________________________________________\n",
            "dw_separable_4 (DepthwiseConv2D)   [28, 28, 64]    (3, 3, 64, 1)   \n",
            "_____________________________________________________________________\n",
            "pw_separable_4 (Conv2D)            [28, 28, 128]   (1, 1, 64, 128) \n",
            "_____________________________________________________________________\n",
            "dw_separable_5 (DepthwiseConv2D)   [28, 28, 128]   (3, 3, 128, 1)  \n",
            "_____________________________________________________________________\n",
            "pw_separable_5 (Conv2D)            [28, 28, 128]   (1, 1, 128, 128)\n",
            "_____________________________________________________________________\n",
            "dw_separable_6 (DepthwiseConv2D)   [14, 14, 128]   (3, 3, 128, 1)  \n",
            "_____________________________________________________________________\n",
            "pw_separable_6 (Conv2D)            [14, 14, 256]   (1, 1, 128, 256)\n",
            "_____________________________________________________________________\n",
            "dw_separable_7 (DepthwiseConv2D)   [14, 14, 256]   (3, 3, 256, 1)  \n",
            "_____________________________________________________________________\n",
            "pw_separable_7 (Conv2D)            [14, 14, 256]   (1, 1, 256, 256)\n",
            "_____________________________________________________________________\n",
            "dw_separable_8 (DepthwiseConv2D)   [14, 14, 256]   (3, 3, 256, 1)  \n",
            "_____________________________________________________________________\n",
            "pw_separable_8 (Conv2D)            [14, 14, 256]   (1, 1, 256, 256)\n",
            "_____________________________________________________________________\n",
            "dw_separable_9 (DepthwiseConv2D)   [14, 14, 256]   (3, 3, 256, 1)  \n",
            "_____________________________________________________________________\n",
            "pw_separable_9 (Conv2D)            [14, 14, 256]   (1, 1, 256, 256)\n",
            "_____________________________________________________________________\n",
            "dw_separable_10 (DepthwiseConv2D)  [14, 14, 256]   (3, 3, 256, 1)  \n",
            "_____________________________________________________________________\n",
            "pw_separable_10 (Conv2D)           [14, 14, 256]   (1, 1, 256, 256)\n",
            "_____________________________________________________________________\n",
            "dw_separable_11 (DepthwiseConv2D)  [14, 14, 256]   (3, 3, 256, 1)  \n",
            "_____________________________________________________________________\n",
            "pw_separable_11 (Conv2D)           [14, 14, 256]   (1, 1, 256, 256)\n",
            "_____________________________________________________________________\n",
            "dw_separable_12 (DepthwiseConv2D)  [7, 7, 256]     (3, 3, 256, 1)  \n",
            "_____________________________________________________________________\n",
            "pw_separable_12 (Conv2D)           [7, 7, 512]     (1, 1, 256, 512)\n",
            "_____________________________________________________________________\n",
            "dw_separable_13 (DepthwiseConv2D)  [7, 7, 512]     (3, 3, 512, 1)  \n",
            "_____________________________________________________________________\n",
            "pw_separable_13 (Conv2D)           [1, 1, 512]     (1, 1, 512, 512)\n",
            "_____________________________________________________________________\n",
            "fc1 (Dense2D)                      [1, 1, 512]     (512, 512)      \n",
            "_____________________________________________________________________\n",
            "predictions (Dense2D)              [1, 1, 7]       (512, 7)        \n",
            "_____________________________________________________________________\n",
            "dequantizer (Dequantizer)          [1, 1, 7]       N/A             \n",
            "_____________________________________________________________________\n"
          ]
        }
      ],
      "source": [
        "model_akida.summary()"
      ]
    },
    {
      "cell_type": "code",
      "execution_count": 64,
      "metadata": {
        "colab": {
          "base_uri": "https://localhost:8080/"
        },
        "id": "P4SB5kN_R-EX",
        "outputId": "5c9188b1-3bb5-4c0b-e1a6-cf0f5b271f1f"
      },
      "outputs": [
        {
          "name": "stdout",
          "output_type": "stream",
          "text": [
            "                 Model Summary                  \n",
            "________________________________________________\n",
            "Input shape    Output shape  Sequences  Layers\n",
            "================================================\n",
            "[224, 224, 3]  [1, 1, 7]     1          27    \n",
            "________________________________________________\n",
            "\n",
            "_____________________________________________________________________\n",
            "Layer (type)                       Output shape    Kernel shape    \n",
            "\n",
            "================== SW/conv_0-dequantizer (Software) =================\n",
            "\n",
            "conv_0 (InputConv2D)               [112, 112, 16]  (3, 3, 3, 16)   \n",
            "_____________________________________________________________________\n",
            "conv_1 (Conv2D)                    [112, 112, 32]  (3, 3, 16, 32)  \n",
            "_____________________________________________________________________\n",
            "conv_2 (Conv2D)                    [56, 56, 64]    (3, 3, 32, 64)  \n",
            "_____________________________________________________________________\n",
            "conv_3 (Conv2D)                    [56, 56, 64]    (3, 3, 64, 64)  \n",
            "_____________________________________________________________________\n",
            "dw_separable_4 (DepthwiseConv2D)   [28, 28, 64]    (3, 3, 64, 1)   \n",
            "_____________________________________________________________________\n",
            "pw_separable_4 (Conv2D)            [28, 28, 128]   (1, 1, 64, 128) \n",
            "_____________________________________________________________________\n",
            "dw_separable_5 (DepthwiseConv2D)   [28, 28, 128]   (3, 3, 128, 1)  \n",
            "_____________________________________________________________________\n",
            "pw_separable_5 (Conv2D)            [28, 28, 128]   (1, 1, 128, 128)\n",
            "_____________________________________________________________________\n",
            "dw_separable_6 (DepthwiseConv2D)   [14, 14, 128]   (3, 3, 128, 1)  \n",
            "_____________________________________________________________________\n",
            "pw_separable_6 (Conv2D)            [14, 14, 256]   (1, 1, 128, 256)\n",
            "_____________________________________________________________________\n",
            "dw_separable_7 (DepthwiseConv2D)   [14, 14, 256]   (3, 3, 256, 1)  \n",
            "_____________________________________________________________________\n",
            "pw_separable_7 (Conv2D)            [14, 14, 256]   (1, 1, 256, 256)\n",
            "_____________________________________________________________________\n",
            "dw_separable_8 (DepthwiseConv2D)   [14, 14, 256]   (3, 3, 256, 1)  \n",
            "_____________________________________________________________________\n",
            "pw_separable_8 (Conv2D)            [14, 14, 256]   (1, 1, 256, 256)\n",
            "_____________________________________________________________________\n",
            "dw_separable_9 (DepthwiseConv2D)   [14, 14, 256]   (3, 3, 256, 1)  \n",
            "_____________________________________________________________________\n",
            "pw_separable_9 (Conv2D)            [14, 14, 256]   (1, 1, 256, 256)\n",
            "_____________________________________________________________________\n",
            "dw_separable_10 (DepthwiseConv2D)  [14, 14, 256]   (3, 3, 256, 1)  \n",
            "_____________________________________________________________________\n",
            "pw_separable_10 (Conv2D)           [14, 14, 256]   (1, 1, 256, 256)\n",
            "_____________________________________________________________________\n",
            "dw_separable_11 (DepthwiseConv2D)  [14, 14, 256]   (3, 3, 256, 1)  \n",
            "_____________________________________________________________________\n",
            "pw_separable_11 (Conv2D)           [14, 14, 256]   (1, 1, 256, 256)\n",
            "_____________________________________________________________________\n",
            "dw_separable_12 (DepthwiseConv2D)  [7, 7, 256]     (3, 3, 256, 1)  \n",
            "_____________________________________________________________________\n",
            "pw_separable_12 (Conv2D)           [7, 7, 512]     (1, 1, 256, 512)\n",
            "_____________________________________________________________________\n",
            "dw_separable_13 (DepthwiseConv2D)  [7, 7, 512]     (3, 3, 512, 1)  \n",
            "_____________________________________________________________________\n",
            "pw_separable_13 (Conv2D)           [1, 1, 512]     (1, 1, 512, 512)\n",
            "_____________________________________________________________________\n",
            "fc1 (Dense2D)                      [1, 1, 512]     (512, 512)      \n",
            "_____________________________________________________________________\n",
            "predictions (Dense2D)              [1, 1, 7]       (512, 7)        \n",
            "_____________________________________________________________________\n",
            "dequantizer (Dequantizer)          [1, 1, 7]       N/A             \n",
            "_____________________________________________________________________\n"
          ]
        }
      ],
      "source": [
        "from tensorflow.keras.models import load_model\n",
        "from akida_models import load_model\n",
        "\n",
        "\n",
        "model_path = 'model_akida.fbz'\n",
        "model = load_model(model_path)\n",
        "\n",
        "model.summary()"
      ]
    },
    {
      "cell_type": "code",
      "execution_count": 49,
      "metadata": {
        "id": "kTQpG6TQ2V26"
      },
      "outputs": [],
      "source": [
        "model_akida.save('model_akida.fbz')"
      ]
    },
    {
      "cell_type": "code",
      "execution_count": 38,
      "metadata": {
        "colab": {
          "base_uri": "https://localhost:8080/"
        },
        "id": "-SM6BVn6bBEq",
        "outputId": "232d5726-1365-48c9-9eea-3d2c1ab7063f"
      },
      "outputs": [
        {
          "name": "stdout",
          "output_type": "stream",
          "text": [
            "Inference on 1002 images took 4.19 s.\n",
            "\n",
            "Accuracy: 671/1002.\n"
          ]
        }
      ],
      "source": [
        "# Check Model performance\n",
        "start = timer()\n",
        "accuracy_akida = model_akida.evaluate(x_test, labels_test)\n",
        "end = timer()\n",
        "print(f'Inference on {num_images} images took {end-start:.2f} s.\\n')\n",
        "print(f\"Accuracy: {accuracy_akida*num_images:.0f}/{num_images}.\")\n"
      ]
    },
    {
      "cell_type": "code",
      "execution_count": 65,
      "metadata": {
        "colab": {
          "base_uri": "https://localhost:8080/"
        },
        "id": "Ye3VoQishRAm",
        "outputId": "eddf1af8-8ecf-4500-db35-6cd0a6859271"
      },
      "outputs": [
        {
          "name": "stdout",
          "output_type": "stream",
          "text": [
            "Number of samples: 1002\n",
            "Number of samples per class in the test generator:\n",
            "akiec: 33\n",
            "bcc: 51\n",
            "bkl: 110\n",
            "df: 12\n",
            "mel: 111\n",
            "nv: 671\n",
            "vasc: 14\n"
          ]
        }
      ],
      "source": [
        "import numpy as np\n",
        "\n",
        "# Assuming test_gen is already defined\n",
        "\n",
        "# Get the class indices for each sample\n",
        "class_indices = test_gen.classes\n",
        "\n",
        "# Get the mapping from class names to indices\n",
        "class_indices_mapping = test_gen.class_indices\n",
        "\n",
        "# Create a reverse mapping from indices to class names\n",
        "index_to_class = {v: k for k, v in class_indices_mapping.items()}\n",
        "\n",
        "# Count the number of samples for each class\n",
        "class_counts = np.bincount(class_indices)\n",
        "\n",
        "# Print the number of samples for each class\n",
        "print(\"Number of samples:\", test_gen.samples)\n",
        "print(\"Number of samples per class in the test generator:\")\n",
        "for class_index, count in enumerate(class_counts):\n",
        "    class_name = index_to_class[class_index]\n",
        "    print(f\"{class_name}: {count}\")\n"
      ]
    },
    {
      "cell_type": "code",
      "execution_count": 66,
      "metadata": {
        "colab": {
          "base_uri": "https://localhost:8080/",
          "height": 408
        },
        "id": "U9xeFk0meWOC",
        "outputId": "7ef90e9d-2de6-4f10-8587-c2c58d1d6cb3"
      },
      "outputs": [
        {
          "name": "stdout",
          "output_type": "stream",
          "text": [
            "Akida outputs: [-5.5879674 -2.6575031 -1.4395865 -1.3195293 -6.0729647  9.164673\n",
            " -1.536442 ]\n",
            "True label: bkl\n",
            "Predicted label: nv\n"
          ]
        },
        {
          "data": {
            "image/png": "[encoded data removed]",
            "text/plain": [
              "<Figure size 800x400 with 2 Axes>"
            ]
          },
          "metadata": {},
          "output_type": "display_data"
        }
      ],
      "source": [
        "import matplotlib.pyplot as plt\n",
        "import matplotlib.lines as lines\n",
        "from akida_models.imagenet import preprocessing\n",
        "\n",
        "class_names = ['akiec', 'bcc', 'bkl', 'df', 'mel', 'nv', 'vasc']\n",
        "\n",
        "IMAGE_SIZE = 224\n",
        "NUM_CHANNELS = 3\n",
        "\n",
        "# Functions used to display the top5 results\n",
        "def get_top5(potentials, true_label):\n",
        "    \"\"\"\n",
        "    Returns the top 5 classes from the output potentials\n",
        "    \"\"\"\n",
        "    tmp_pots = potentials.copy()\n",
        "    top5 = []\n",
        "    min_val = np.min(tmp_pots)\n",
        "    for ii in range(5):\n",
        "        best = np.argmax(tmp_pots)\n",
        "        top5.append(best)\n",
        "        tmp_pots[best] = min_val\n",
        "\n",
        "    vals = np.zeros((6,))\n",
        "    vals[:5] = potentials[top5]\n",
        "\n",
        "    if true_label not in top5:\n",
        "        vals[5] = potentials[true_label]\n",
        "    else:\n",
        "        vals[5] = 0\n",
        "\n",
        "    vals /= np.max(vals)\n",
        "\n",
        "    class_name = []\n",
        "    for ii in range(5):\n",
        "        class_name.append(class_names[top5[ii]])\n",
        "    if true_label in top5:\n",
        "        class_name.append('')\n",
        "    else:\n",
        "        class_name.append(\n",
        "            class_names[true_label])\n",
        "\n",
        "    return top5, vals, class_name\n",
        "\n",
        "\n",
        "def adjust_spines(ax, spines):\n",
        "    for loc, spine in ax.spines.items():\n",
        "        if loc in spines:\n",
        "            spine.set_position(('outward', 10))  # outward by 10 points\n",
        "        else:\n",
        "            spine.set_color('none')  # don't draw spine\n",
        "    # turn off ticks where there is no spine\n",
        "    if 'left' in spines:\n",
        "        ax.yaxis.set_ticks_position('left')\n",
        "    else:\n",
        "        # no yaxis ticks\n",
        "        ax.yaxis.set_ticks([])\n",
        "    if 'bottom' in spines:\n",
        "        ax.xaxis.set_ticks_position('bottom')\n",
        "    else:\n",
        "        # no xaxis ticks\n",
        "        ax.xaxis.set_ticks([])\n",
        "\n",
        "\n",
        "def prepare_plots():\n",
        "    fig = plt.figure(figsize=(8, 4))\n",
        "    # Image subplot\n",
        "    ax0 = plt.subplot(1, 3, 1)\n",
        "    imgobj = ax0.imshow(np.zeros((IMAGE_SIZE, IMAGE_SIZE, NUM_CHANNELS), dtype=np.uint8))\n",
        "    ax0.set_axis_off()\n",
        "    # Top 5 results subplot\n",
        "    ax1 = plt.subplot(1, 2, 2)\n",
        "    bar_positions = (0, 1, 2, 3, 4, 6)\n",
        "    rects = ax1.barh(bar_positions, np.zeros((6,)), align='center', height=0.5)\n",
        "    plt.xlim(-0.2, 1.01)\n",
        "    ax1.set(xlim=(-0.2, 1.15), ylim=(-1.5, 12))\n",
        "    ax1.set_yticks(bar_positions)\n",
        "    ax1.invert_yaxis()\n",
        "    ax1.yaxis.set_ticks_position('left')\n",
        "    ax1.xaxis.set_ticks([])\n",
        "    adjust_spines(ax1, 'left')\n",
        "    ax1.add_line(lines.Line2D((0, 0), (-0.5, 6.5), color=(0.0, 0.0, 0.0)))\n",
        "    # Adjust Plot Positions\n",
        "    ax0.set_position([0.05, 0.055, 0.3, 0.9])\n",
        "    l1, b1, w1, h1 = ax1.get_position().bounds\n",
        "    ax1.set_position([l1 * 1.05, b1 + 0.09 * h1, w1, 0.8 * h1])\n",
        "    # Add title box\n",
        "    plt.figtext(0.5,\n",
        "                0.9,\n",
        "                \"Imagenet Classification by Akida\",\n",
        "                size=20,\n",
        "                ha=\"center\",\n",
        "                va=\"center\",\n",
        "                bbox=dict(boxstyle=\"round\",\n",
        "                          ec=(0.5, 0.5, 0.5),\n",
        "                          fc=(0.9, 0.9, 1.0)))\n",
        "\n",
        "    return fig, imgobj, ax1, rects\n",
        "\n",
        "\n",
        "def update_bars_chart(rects, vals, true_label):\n",
        "    counter = 0\n",
        "    for rect, h in zip(rects, yvals):\n",
        "        rect.set_width(h)\n",
        "        if counter < 5:\n",
        "            if top5[counter] == true_label:\n",
        "                if counter == 0:\n",
        "                    rect.set_facecolor((0.0, 1.0, 0.0))\n",
        "                else:\n",
        "                    rect.set_facecolor((0.0, 0.5, 0.0))\n",
        "            else:\n",
        "                rect.set_facecolor('gray')\n",
        "        elif counter == 5:\n",
        "            rect.set_facecolor('red')\n",
        "        counter += 1\n",
        "\n",
        "\n",
        "# Prepare plots\n",
        "fig, imgobj, ax1, rects = prepare_plots()\n",
        "\n",
        "# Get a random image\n",
        "img = np.random.randint(num_images)\n",
        "\n",
        "# Predict image class\n",
        "outputs_akida = model_akida.predict(np.expand_dims(x_test[img].astype(np.uint8), axis=0)).squeeze()\n",
        "\n",
        "# Get top 5 prediction labels and associated names\n",
        "true_label = labels_test[img]\n",
        "top5, yvals, class_name = get_top5(outputs_akida, true_label)\n",
        "\n",
        "print(\"Akida outputs:\", outputs_akida)\n",
        "print(\"True label:\", class_names[int(true_label)])\n",
        "print(\"Predicted label:\", class_names[np.argmax(outputs_akida)])\n",
        "\n",
        "# Draw Plots\n",
        "imgobj.set_data(x_test[img])\n",
        "ax1.set_yticklabels(class_name, rotation='horizontal', size=9)\n",
        "update_bars_chart(rects, yvals, true_label)\n",
        "fig.canvas.draw()\n",
        "plt.show()"
      ]
    }
  ],
  "metadata": {
    "colab": {
      "provenance": []
    },
    "kernelspec": {
      "display_name": "akida",
      "language": "python",
      "name": "python3"
    },
    "language_info": {
      "codemirror_mode": {
        "name": "ipython",
        "version": 3
      },
      "file_extension": ".py",
      "mimetype": "text/x-python",
      "name": "python",
      "nbconvert_exporter": "python",
      "pygments_lexer": "ipython3",
      "version": "3.11.9"
    }
  },
  "nbformat": 4,
  "nbformat_minor": 0
}
