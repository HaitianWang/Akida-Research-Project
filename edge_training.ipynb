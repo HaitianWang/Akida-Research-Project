{
  "cells": [
    {
      "cell_type": "markdown",
      "metadata": {
        "id": "SKc02-Uouq9e"
      },
      "source": [
        "Run with: sudo docker run --gpus all -it --rm -v $(pwd):/tf/notebooks -p 8888:8888 tensorflow/tensorflow:2.12.0-gpu-jupyter"
      ]
    },
    {
      "cell_type": "code",
      "execution_count": 1,
      "metadata": {
        "id": "cs5vpdauct_-"
      },
      "outputs": [
        {
          "name": "stderr",
          "output_type": "stream",
          "text": [
            "2024-10-16 08:53:04.027098: I tensorflow/core/util/port.cc:113] oneDNN custom operations are on. You may see slightly different numerical results due to floating-point round-off errors from different computation orders. To turn them off, set the environment variable `TF_ENABLE_ONEDNN_OPTS=0`.\n",
            "2024-10-16 08:53:04.235685: E external/local_xla/xla/stream_executor/cuda/cuda_dnn.cc:9261] Unable to register cuDNN factory: Attempting to register factory for plugin cuDNN when one has already been registered\n",
            "2024-10-16 08:53:04.235712: E external/local_xla/xla/stream_executor/cuda/cuda_fft.cc:607] Unable to register cuFFT factory: Attempting to register factory for plugin cuFFT when one has already been registered\n",
            "2024-10-16 08:53:04.265194: E external/local_xla/xla/stream_executor/cuda/cuda_blas.cc:1515] Unable to register cuBLAS factory: Attempting to register factory for plugin cuBLAS when one has already been registered\n",
            "2024-10-16 08:53:04.327444: I tensorflow/core/platform/cpu_feature_guard.cc:182] This TensorFlow binary is optimized to use available CPU instructions in performance-critical operations.\n",
            "To enable the following instructions: AVX2 AVX512F AVX512_VNNI AVX512_BF16 FMA, in other operations, rebuild TensorFlow with the appropriate compiler flags.\n",
            "2024-10-16 08:53:05.042494: W tensorflow/compiler/tf2tensorrt/utils/py_utils.cc:38] TF-TRT Warning: Could not find TensorRT\n",
            "2024-10-16 08:53:06.270020: I external/local_xla/xla/stream_executor/cuda/cuda_executor.cc:901] successful NUMA node read from SysFS had negative value (-1), but there must be at least one NUMA node, so returning NUMA node zero. See more at https://github.com/torvalds/linux/blob/v6.0/Documentation/ABI/testing/sysfs-bus-pci#L344-L355\n",
            "2024-10-16 08:53:06.420728: W tensorflow/core/common_runtime/gpu/gpu_device.cc:2256] Cannot dlopen some GPU libraries. Please make sure the missing libraries mentioned above are installed properly if you would like to use GPU. Follow the guide at https://www.tensorflow.org/install/gpu for how to download and setup the required libraries for your platform.\n",
            "Skipping registering GPU devices...\n"
          ]
        },
        {
          "name": "stdout",
          "output_type": "stream",
          "text": [
            " Akida version:  AkidaVersion.v1\n"
          ]
        }
      ],
      "source": [
        "# GB: Adding compatibility check\n",
        "import cnn2snn\n",
        "import akida as ak\n",
        "import os\n",
        "\n",
        "# Change Akida version\n",
        "os.environ[\"CNN2SNN_TARGET_AKIDA_VERSION\"] = \"v1\"\n",
        "\n",
        "# Double-check Avida version\n",
        "print(' Akida version: ', cnn2snn.get_akida_version())\n",
        "\n",
        "# # And HW compatibility?\n",
        "# myDevice = ak.devices()[0]\n",
        "# print(\"Device: \", myDevice.desc)\n",
        "# x = cnn2snn.check_model_compatibility(model=model_keras, device=myDevice)\n",
        "# print(\"Non compatibilities: \", x)"
      ]
    },
    {
      "cell_type": "code",
      "execution_count": 2,
      "metadata": {
        "_cell_guid": "b1076dfc-b9ad-4769-8c92-a6c4dae69d19",
        "_uuid": "8f2839f25d086af736a60e9eeb907d3b93b6e0e5",
        "execution": {
          "iopub.execute_input": "2024-07-14T11:11:26.998277Z",
          "iopub.status.busy": "2024-07-14T11:11:26.997934Z",
          "iopub.status.idle": "2024-07-14T11:11:40.284863Z",
          "shell.execute_reply": "2024-07-14T11:11:40.283826Z",
          "shell.execute_reply.started": "2024-07-14T11:11:26.998249Z"
        },
        "id": "pgCU3bPmwnMX",
        "trusted": true
      },
      "outputs": [],
      "source": [
        "import pandas as pd\n",
        "import numpy as np\n",
        "import tensorflow as tf\n",
        "import os\n",
        "from glob import glob\n",
        "from PIL import Image\n",
        "import shutil\n",
        "from tqdm import tqdm\n",
        "import itertools\n",
        "import matplotlib.pyplot as plt\n",
        "import warnings\n",
        "\n",
        "from IPython.display import clear_output\n",
        "\n",
        "from sklearn.preprocessing import LabelEncoder\n",
        "from sklearn.model_selection import train_test_split\n",
        "from sklearn.metrics import accuracy_score, confusion_matrix, classification_report\n",
        "\n",
        "from keras.utils import to_categorical\n",
        "from tensorflow.keras.models import Sequential, Model\n",
        "from tensorflow.keras.layers import Dense, Dropout, Flatten, BatchNormalization, Conv2D, MaxPooling2D\n",
        "from tensorflow.keras.optimizers import Adam\n",
        "from tensorflow.keras.callbacks import EarlyStopping, ReduceLROnPlateau\n",
        "from tensorflow.keras.utils import plot_model\n",
        "\n",
        "\n",
        "seed = (4,2)"
      ]
    },
    {
      "cell_type": "code",
      "execution_count": 3,
      "metadata": {},
      "outputs": [
        {
          "data": {
            "text/plain": [
              "'/home/22489437/Documents/GitHub/GENG5551-Akida-Chip'"
            ]
          },
          "execution_count": 3,
          "metadata": {},
          "output_type": "execute_result"
        }
      ],
      "source": [
        "# os.chdir('notebooks/Documents/GitHub/GENG5551-Akida-Chip')\n",
        "os.getcwd()"
      ]
    },
    {
      "cell_type": "code",
      "execution_count": 4,
      "metadata": {
        "execution": {
          "iopub.execute_input": "2024-07-14T11:12:11.369428Z",
          "iopub.status.busy": "2024-07-14T11:12:11.368608Z",
          "iopub.status.idle": "2024-07-14T11:12:11.396462Z",
          "shell.execute_reply": "2024-07-14T11:12:11.395611Z",
          "shell.execute_reply.started": "2024-07-14T11:12:11.369397Z"
        },
        "id": "4BD1p4ziwnMZ",
        "trusted": true
      },
      "outputs": [],
      "source": [
        "df = pd.read_csv('archive/HAM10000_metadata.csv')\n",
        "\n",
        "size = (64, 64)"
      ]
    },
    {
      "cell_type": "code",
      "execution_count": 5,
      "metadata": {
        "execution": {
          "iopub.execute_input": "2024-07-14T11:12:16.333902Z",
          "iopub.status.busy": "2024-07-14T11:12:16.333506Z",
          "iopub.status.idle": "2024-07-14T11:12:19.476161Z",
          "shell.execute_reply": "2024-07-14T11:12:19.475074Z",
          "shell.execute_reply.started": "2024-07-14T11:12:16.333875Z"
        },
        "id": "j4WxlNlgwnMZ",
        "trusted": true
      },
      "outputs": [],
      "source": [
        "base_dir = './archive'\n",
        "imageid_path_dict = {os.path.splitext(os.path.basename(x))[0]: x for x in glob(os.path.join(base_dir, '*', '*.jpg'))}"
      ]
    },
    {
      "cell_type": "code",
      "execution_count": 6,
      "metadata": {
        "execution": {
          "iopub.execute_input": "2024-07-14T11:13:52.431541Z",
          "iopub.status.busy": "2024-07-14T11:13:52.431152Z",
          "iopub.status.idle": "2024-07-14T11:16:49.279922Z",
          "shell.execute_reply": "2024-07-14T11:16:49.279044Z",
          "shell.execute_reply.started": "2024-07-14T11:13:52.431511Z"
        },
        "id": "u69ETG9YwnMZ",
        "trusted": true
      },
      "outputs": [],
      "source": [
        "df['path'] = df['image_id'].map(imageid_path_dict.get)\n",
        "df['image'] = df['path'].map(lambda x: np.asarray(Image.open(x).resize(size)))"
      ]
    },
    {
      "cell_type": "code",
      "execution_count": 7,
      "metadata": {
        "execution": {
          "iopub.execute_input": "2024-07-14T11:16:58.066731Z",
          "iopub.status.busy": "2024-07-14T11:16:58.066105Z",
          "iopub.status.idle": "2024-07-14T11:16:58.072803Z",
          "shell.execute_reply": "2024-07-14T11:16:58.071563Z",
          "shell.execute_reply.started": "2024-07-14T11:16:58.0667Z"
        },
        "id": "Pp4_aBAlwnMa",
        "trusted": true
      },
      "outputs": [],
      "source": [
        "df = df[['dx', 'image']]"
      ]
    },
    {
      "cell_type": "code",
      "execution_count": 8,
      "metadata": {
        "colab": {
          "base_uri": "https://localhost:8080/"
        },
        "execution": {
          "iopub.execute_input": "2024-07-14T11:17:14.972459Z",
          "iopub.status.busy": "2024-07-14T11:17:14.971691Z",
          "iopub.status.idle": "2024-07-14T11:17:14.985513Z",
          "shell.execute_reply": "2024-07-14T11:17:14.984473Z",
          "shell.execute_reply.started": "2024-07-14T11:17:14.972422Z"
        },
        "id": "ADGkiMzpwnMa",
        "outputId": "f7552619-934a-440f-9f46-38396c46a14c",
        "trusted": true
      },
      "outputs": [
        {
          "data": {
            "text/plain": [
              "dx\n",
              "nv       6705\n",
              "mel      1113\n",
              "bkl      1099\n",
              "bcc       514\n",
              "akiec     327\n",
              "vasc      142\n",
              "df        115\n",
              "Name: count, dtype: int64"
            ]
          },
          "execution_count": 8,
          "metadata": {},
          "output_type": "execute_result"
        }
      ],
      "source": [
        "df['dx'].value_counts()"
      ]
    },
    {
      "cell_type": "code",
      "execution_count": 9,
      "metadata": {
        "execution": {
          "iopub.execute_input": "2024-07-14T11:22:20.00322Z",
          "iopub.status.busy": "2024-07-14T11:22:20.002569Z",
          "iopub.status.idle": "2024-07-14T11:22:20.01042Z",
          "shell.execute_reply": "2024-07-14T11:22:20.009454Z",
          "shell.execute_reply.started": "2024-07-14T11:22:20.003182Z"
        },
        "id": "QU1YJ1y4wnMb",
        "trusted": true
      },
      "outputs": [],
      "source": [
        "df_nv = df[df['dx'] == 'nv']\n",
        "df_df = df[df['dx'] == 'df']\n",
        "vasc_df = df[df['dx'] == 'vasc']\n",
        "akiec_df = df[df['dx'] == 'akiec']\n",
        "bcc_df = df[df['dx'] == 'bcc']\n",
        "bkl_df = df[df['dx'] == 'bkl']\n",
        "mel_df = df[df['dx'] == 'mel']"
      ]
    },
    {
      "cell_type": "markdown",
      "metadata": {
        "id": "8FU_K6o1wnMc"
      },
      "source": [
        "# Data Augmentation"
      ]
    },
    {
      "cell_type": "code",
      "execution_count": 10,
      "metadata": {
        "execution": {
          "iopub.execute_input": "2024-07-14T11:22:54.791631Z",
          "iopub.status.busy": "2024-07-14T11:22:54.791236Z",
          "iopub.status.idle": "2024-07-14T11:22:54.796525Z",
          "shell.execute_reply": "2024-07-14T11:22:54.795597Z",
          "shell.execute_reply.started": "2024-07-14T11:22:54.7916Z"
        },
        "id": "ShRsBCaTwnMc",
        "trusted": true
      },
      "outputs": [],
      "source": [
        "def aug_brightness(img_arr):\n",
        "    aug_arr = tf.image.stateless_random_brightness(img_arr, 0.7, seed)\n",
        "    aur_arr = np.array(aug_arr)\n",
        "\n",
        "    return aug_arr"
      ]
    },
    {
      "cell_type": "code",
      "execution_count": 11,
      "metadata": {
        "execution": {
          "iopub.execute_input": "2024-07-14T11:22:57.663568Z",
          "iopub.status.busy": "2024-07-14T11:22:57.662577Z",
          "iopub.status.idle": "2024-07-14T11:22:57.669035Z",
          "shell.execute_reply": "2024-07-14T11:22:57.667993Z",
          "shell.execute_reply.started": "2024-07-14T11:22:57.663511Z"
        },
        "id": "bqkQ6cAJwnMc",
        "trusted": true
      },
      "outputs": [],
      "source": [
        "def aug_contrast(img_arr):\n",
        "    aug_arr = tf.image.stateless_random_contrast(img_arr, 0.2, 0.8, seed)\n",
        "    aur_arr = np.array(aug_arr)\n",
        "\n",
        "    return aug_arr"
      ]
    },
    {
      "cell_type": "code",
      "execution_count": 12,
      "metadata": {
        "execution": {
          "iopub.execute_input": "2024-07-14T11:23:06.947948Z",
          "iopub.status.busy": "2024-07-14T11:23:06.947607Z",
          "iopub.status.idle": "2024-07-14T11:23:06.952879Z",
          "shell.execute_reply": "2024-07-14T11:23:06.951846Z",
          "shell.execute_reply.started": "2024-07-14T11:23:06.947923Z"
        },
        "id": "uo1fjJ4cwnMd",
        "trusted": true
      },
      "outputs": [],
      "source": [
        "def aug_flip_left_right(img_arr):\n",
        "    aug_arr = tf.image.stateless_random_flip_left_right(img_arr, seed).numpy().tolist()\n",
        "    aur_arr = np.array(aug_arr)\n",
        "\n",
        "    return aug_arr"
      ]
    },
    {
      "cell_type": "code",
      "execution_count": 13,
      "metadata": {
        "execution": {
          "iopub.execute_input": "2024-07-14T11:23:10.108111Z",
          "iopub.status.busy": "2024-07-14T11:23:10.107669Z",
          "iopub.status.idle": "2024-07-14T11:23:10.113759Z",
          "shell.execute_reply": "2024-07-14T11:23:10.112872Z",
          "shell.execute_reply.started": "2024-07-14T11:23:10.108077Z"
        },
        "id": "lA4G1cbkwnMd",
        "trusted": true
      },
      "outputs": [],
      "source": [
        "def aug_flip_up_down(img_arr):\n",
        "    aug_arr = tf.image.stateless_random_flip_up_down(img_arr, seed).numpy().tolist()\n",
        "    aur_arr = np.array(aug_arr)\n",
        "\n",
        "    return aug_arr"
      ]
    },
    {
      "cell_type": "code",
      "execution_count": 14,
      "metadata": {
        "execution": {
          "iopub.execute_input": "2024-07-14T11:23:15.624189Z",
          "iopub.status.busy": "2024-07-14T11:23:15.623417Z",
          "iopub.status.idle": "2024-07-14T11:23:15.628921Z",
          "shell.execute_reply": "2024-07-14T11:23:15.627905Z",
          "shell.execute_reply.started": "2024-07-14T11:23:15.624157Z"
        },
        "id": "sfeQSADXwnMd",
        "trusted": true
      },
      "outputs": [],
      "source": [
        "def aug_hue(img_arr):\n",
        "    aug_arr = tf.image.stateless_random_hue(img_arr, 0.5, seed)\n",
        "    aur_arr = np.array(aug_arr)\n",
        "\n",
        "    return aug_arr"
      ]
    },
    {
      "cell_type": "code",
      "execution_count": 15,
      "metadata": {
        "execution": {
          "iopub.execute_input": "2024-07-14T11:23:20.615477Z",
          "iopub.status.busy": "2024-07-14T11:23:20.615145Z",
          "iopub.status.idle": "2024-07-14T11:23:20.62022Z",
          "shell.execute_reply": "2024-07-14T11:23:20.619162Z",
          "shell.execute_reply.started": "2024-07-14T11:23:20.615452Z"
        },
        "id": "HE5PIu81wnMd",
        "trusted": true
      },
      "outputs": [],
      "source": [
        "def aug_saturation(img_arr):\n",
        "    aug_arr = tf.image.stateless_random_saturation(img_arr, 0.1, 1, seed)\n",
        "    aur_arr = np.array(aug_arr)\n",
        "\n",
        "    return aug_arr"
      ]
    },
    {
      "cell_type": "code",
      "execution_count": 16,
      "metadata": {
        "execution": {
          "iopub.execute_input": "2024-07-14T11:23:24.009076Z",
          "iopub.status.busy": "2024-07-14T11:23:24.00836Z",
          "iopub.status.idle": "2024-07-14T11:23:24.013993Z",
          "shell.execute_reply": "2024-07-14T11:23:24.012835Z",
          "shell.execute_reply.started": "2024-07-14T11:23:24.009042Z"
        },
        "id": "CmisvnrpwnMd",
        "trusted": true
      },
      "outputs": [],
      "source": [
        "func_list = [aug_brightness, aug_contrast, aug_flip_left_right, aug_flip_up_down, aug_hue, aug_saturation]"
      ]
    },
    {
      "cell_type": "code",
      "execution_count": 17,
      "metadata": {
        "execution": {
          "iopub.execute_input": "2024-07-14T11:23:28.591816Z",
          "iopub.status.busy": "2024-07-14T11:23:28.591423Z",
          "iopub.status.idle": "2024-07-14T11:23:28.600004Z",
          "shell.execute_reply": "2024-07-14T11:23:28.59892Z",
          "shell.execute_reply.started": "2024-07-14T11:23:28.591787Z"
        },
        "id": "SQn1elL2wnMd",
        "trusted": true
      },
      "outputs": [],
      "source": [
        "def random_augmentation(images, dx, num_of_samples):\n",
        "    new_images = []\n",
        "    all_indices = []\n",
        "    while (len(new_images) < num_of_samples):\n",
        "        indices = np.random.randint(images.shape[0], size=6)\n",
        "        r = list(map(lambda x, y: x(y), func_list, images.iloc[indices]))\n",
        "        r = [np.array(tensor) for tensor in r]\n",
        "        new_images.extend(r)\n",
        "        all_indices.extend(indices)\n",
        "        clear_output(wait=True)\n",
        "        print(str(len(new_images)) + '/' + str(num_of_samples))\n",
        "\n",
        "    new_images = pd.DataFrame({'dx': dx, 'image': new_images})\n",
        "\n",
        "    return all_indices, new_images"
      ]
    },
    {
      "cell_type": "code",
      "execution_count": 18,
      "metadata": {
        "colab": {
          "base_uri": "https://localhost:8080/"
        },
        "execution": {
          "iopub.execute_input": "2024-07-14T11:23:34.265642Z",
          "iopub.status.busy": "2024-07-14T11:23:34.26487Z",
          "iopub.status.idle": "2024-07-14T11:23:38.730441Z",
          "shell.execute_reply": "2024-07-14T11:23:38.729518Z",
          "shell.execute_reply.started": "2024-07-14T11:23:34.265604Z"
        },
        "id": "3bQIfqL_wnMe",
        "outputId": "e3747bda-3e2f-464b-f11e-7e580f5a6452",
        "trusted": true
      },
      "outputs": [
        {
          "name": "stdout",
          "output_type": "stream",
          "text": [
            "702/700\n"
          ]
        }
      ],
      "source": [
        "df_images = df_df['image']\n",
        "df_indices, df_new_images = random_augmentation(df_images, 'df', 700)"
      ]
    },
    {
      "cell_type": "code",
      "execution_count": 19,
      "metadata": {
        "colab": {
          "base_uri": "https://localhost:8080/"
        },
        "execution": {
          "iopub.execute_input": "2024-07-14T11:23:39.994472Z",
          "iopub.status.busy": "2024-07-14T11:23:39.993624Z",
          "iopub.status.idle": "2024-07-14T11:23:44.058564Z",
          "shell.execute_reply": "2024-07-14T11:23:44.057604Z",
          "shell.execute_reply.started": "2024-07-14T11:23:39.994438Z"
        },
        "id": "AiqjRHb5wnMe",
        "outputId": "6bf6ccde-b612-4f91-b304-dc96bcf35c92",
        "trusted": true
      },
      "outputs": [
        {
          "name": "stdout",
          "output_type": "stream",
          "text": [
            "702/700\n"
          ]
        }
      ],
      "source": [
        "vasc_images = vasc_df['image']\n",
        "vasc_indices, vasc_new_images = random_augmentation(vasc_images, 'vasc', 700)"
      ]
    },
    {
      "cell_type": "code",
      "execution_count": 20,
      "metadata": {
        "colab": {
          "base_uri": "https://localhost:8080/"
        },
        "execution": {
          "iopub.execute_input": "2024-07-14T11:23:44.16862Z",
          "iopub.status.busy": "2024-07-14T11:23:44.168273Z",
          "iopub.status.idle": "2024-07-14T11:23:49.388822Z",
          "shell.execute_reply": "2024-07-14T11:23:49.387928Z",
          "shell.execute_reply.started": "2024-07-14T11:23:44.168594Z"
        },
        "id": "fXw-IK42wnMe",
        "outputId": "3f9e3199-01cb-4b85-d639-020d0c7838e1",
        "trusted": true
      },
      "outputs": [
        {
          "name": "stdout",
          "output_type": "stream",
          "text": [
            "1002/1000\n"
          ]
        }
      ],
      "source": [
        "akiec_images = akiec_df['image']\n",
        "akiec_indices, akiec_new_images = random_augmentation(akiec_images, 'akiec', 1000)"
      ]
    },
    {
      "cell_type": "code",
      "execution_count": 21,
      "metadata": {
        "colab": {
          "base_uri": "https://localhost:8080/"
        },
        "execution": {
          "iopub.execute_input": "2024-07-14T11:23:49.391122Z",
          "iopub.status.busy": "2024-07-14T11:23:49.390746Z",
          "iopub.status.idle": "2024-07-14T11:23:55.750791Z",
          "shell.execute_reply": "2024-07-14T11:23:55.749901Z",
          "shell.execute_reply.started": "2024-07-14T11:23:49.391089Z"
        },
        "id": "DnLmtxkHwnMe",
        "outputId": "f7abf7f3-9abb-4874-fe1f-37342ac6426b",
        "trusted": true
      },
      "outputs": [
        {
          "name": "stdout",
          "output_type": "stream",
          "text": [
            "1200/1200\n"
          ]
        }
      ],
      "source": [
        "bcc_images = bcc_df['image']\n",
        "bcc_indices, bcc_new_images = random_augmentation(bcc_images, 'bcc', 1200)"
      ]
    },
    {
      "cell_type": "code",
      "execution_count": 22,
      "metadata": {
        "colab": {
          "base_uri": "https://localhost:8080/"
        },
        "execution": {
          "iopub.execute_input": "2024-07-14T11:23:55.752905Z",
          "iopub.status.busy": "2024-07-14T11:23:55.752516Z",
          "iopub.status.idle": "2024-07-14T11:24:03.563221Z",
          "shell.execute_reply": "2024-07-14T11:24:03.562231Z",
          "shell.execute_reply.started": "2024-07-14T11:23:55.752878Z"
        },
        "id": "ihj_DzmEwnMe",
        "outputId": "fbc5b868-936f-47db-d2b9-f95aa213172a",
        "trusted": true
      },
      "outputs": [
        {
          "name": "stdout",
          "output_type": "stream",
          "text": [
            "1404/1400\n"
          ]
        }
      ],
      "source": [
        "bkl_images = bkl_df['image']\n",
        "bkl_indices, bkl_new_images = random_augmentation(bkl_images, 'bkl', 1400)"
      ]
    },
    {
      "cell_type": "code",
      "execution_count": 23,
      "metadata": {
        "colab": {
          "base_uri": "https://localhost:8080/"
        },
        "execution": {
          "iopub.execute_input": "2024-07-14T11:24:03.565124Z",
          "iopub.status.busy": "2024-07-14T11:24:03.564818Z",
          "iopub.status.idle": "2024-07-14T11:24:10.895651Z",
          "shell.execute_reply": "2024-07-14T11:24:10.894763Z",
          "shell.execute_reply.started": "2024-07-14T11:24:03.5651Z"
        },
        "id": "cfiO_s4bwnMe",
        "outputId": "21e46e67-7c02-4027-b3eb-f0e23057183d",
        "trusted": true
      },
      "outputs": [
        {
          "name": "stdout",
          "output_type": "stream",
          "text": [
            "1404/1400\n"
          ]
        }
      ],
      "source": [
        "mel_images = mel_df['image']\n",
        "mel_indices, mel_new_images = random_augmentation(mel_images, 'mel', 1400)"
      ]
    },
    {
      "cell_type": "code",
      "execution_count": 24,
      "metadata": {
        "execution": {
          "iopub.execute_input": "2024-07-14T11:24:13.777037Z",
          "iopub.status.busy": "2024-07-14T11:24:13.775994Z",
          "iopub.status.idle": "2024-07-14T11:24:13.789323Z",
          "shell.execute_reply": "2024-07-14T11:24:13.788326Z",
          "shell.execute_reply.started": "2024-07-14T11:24:13.776993Z"
        },
        "id": "rzo__t4HwnMe",
        "trusted": true
      },
      "outputs": [],
      "source": [
        "new_images_df = pd.concat([df_new_images, vasc_new_images, akiec_new_images, bcc_new_images, bkl_new_images, mel_new_images], axis=0).reset_index(drop=True)\n",
        "aug_df = pd.concat([df, new_images_df], axis=0).reset_index(drop=True)\n",
        "aug_df = aug_df.sample(frac=1).reset_index(drop=True)"
      ]
    },
    {
      "cell_type": "code",
      "execution_count": 25,
      "metadata": {
        "colab": {
          "base_uri": "https://localhost:8080/",
          "height": 269
        },
        "execution": {
          "iopub.execute_input": "2024-07-14T11:24:17.664334Z",
          "iopub.status.busy": "2024-07-14T11:24:17.663681Z",
          "iopub.status.idle": "2024-07-14T11:24:17.678019Z",
          "shell.execute_reply": "2024-07-14T11:24:17.677044Z",
          "shell.execute_reply.started": "2024-07-14T11:24:17.664305Z"
        },
        "id": "KVQ9XD6MwnMe",
        "outputId": "2097c3e9-701c-45ec-9019-f744eccf0bcd",
        "trusted": true
      },
      "outputs": [
        {
          "data": {
            "text/html": [
              "<div>\n",
              "<style scoped>\n",
              "    .dataframe tbody tr th:only-of-type {\n",
              "        vertical-align: middle;\n",
              "    }\n",
              "\n",
              "    .dataframe tbody tr th {\n",
              "        vertical-align: top;\n",
              "    }\n",
              "\n",
              "    .dataframe thead th {\n",
              "        text-align: right;\n",
              "    }\n",
              "</style>\n",
              "<table border=\"1\" class=\"dataframe\">\n",
              "  <thead>\n",
              "    <tr style=\"text-align: right;\">\n",
              "      <th></th>\n",
              "      <th>dx</th>\n",
              "      <th>count</th>\n",
              "    </tr>\n",
              "  </thead>\n",
              "  <tbody>\n",
              "    <tr>\n",
              "      <th>0</th>\n",
              "      <td>nv</td>\n",
              "      <td>6705</td>\n",
              "    </tr>\n",
              "    <tr>\n",
              "      <th>1</th>\n",
              "      <td>mel</td>\n",
              "      <td>2517</td>\n",
              "    </tr>\n",
              "    <tr>\n",
              "      <th>2</th>\n",
              "      <td>bkl</td>\n",
              "      <td>2503</td>\n",
              "    </tr>\n",
              "    <tr>\n",
              "      <th>3</th>\n",
              "      <td>bcc</td>\n",
              "      <td>1714</td>\n",
              "    </tr>\n",
              "    <tr>\n",
              "      <th>4</th>\n",
              "      <td>akiec</td>\n",
              "      <td>1329</td>\n",
              "    </tr>\n",
              "    <tr>\n",
              "      <th>5</th>\n",
              "      <td>vasc</td>\n",
              "      <td>844</td>\n",
              "    </tr>\n",
              "    <tr>\n",
              "      <th>6</th>\n",
              "      <td>df</td>\n",
              "      <td>817</td>\n",
              "    </tr>\n",
              "  </tbody>\n",
              "</table>\n",
              "</div>"
            ],
            "text/plain": [
              "      dx  count\n",
              "0     nv   6705\n",
              "1    mel   2517\n",
              "2    bkl   2503\n",
              "3    bcc   1714\n",
              "4  akiec   1329\n",
              "5   vasc    844\n",
              "6     df    817"
            ]
          },
          "execution_count": 25,
          "metadata": {},
          "output_type": "execute_result"
        }
      ],
      "source": [
        "pd.DataFrame(aug_df['dx'].value_counts()).reset_index()"
      ]
    },
    {
      "cell_type": "code",
      "execution_count": 26,
      "metadata": {
        "execution": {
          "iopub.execute_input": "2024-07-14T11:24:37.036415Z",
          "iopub.status.busy": "2024-07-14T11:24:37.035464Z",
          "iopub.status.idle": "2024-07-14T11:24:37.046503Z",
          "shell.execute_reply": "2024-07-14T11:24:37.045537Z",
          "shell.execute_reply.started": "2024-07-14T11:24:37.036379Z"
        },
        "id": "Ll14Wp7xwnMi",
        "trusted": true
      },
      "outputs": [],
      "source": [
        "labelEncoder = LabelEncoder()\n",
        "aug_df['label'] = labelEncoder.fit_transform(aug_df['dx'])"
      ]
    },
    {
      "cell_type": "code",
      "execution_count": 27,
      "metadata": {
        "execution": {
          "iopub.execute_input": "2024-07-14T11:24:58.891659Z",
          "iopub.status.busy": "2024-07-14T11:24:58.890486Z",
          "iopub.status.idle": "2024-07-14T11:24:59.866064Z",
          "shell.execute_reply": "2024-07-14T11:24:59.865084Z",
          "shell.execute_reply.started": "2024-07-14T11:24:58.891577Z"
        },
        "id": "nX2yciQMwnMj",
        "trusted": true
      },
      "outputs": [],
      "source": [
        "x = np.asarray(aug_df['image'].to_list())\n",
        "y = to_categorical(aug_df['label'], num_classes=7)\n",
        "\n",
        "x_train, x_test, y_train, y_test = train_test_split(x, y, test_size=.20, random_state=42, shuffle=True)"
      ]
    },
    {
      "cell_type": "code",
      "execution_count": 28,
      "metadata": {
        "colab": {
          "base_uri": "https://localhost:8080/"
        },
        "execution": {
          "iopub.execute_input": "2024-07-14T11:25:47.99311Z",
          "iopub.status.busy": "2024-07-14T11:25:47.992116Z",
          "iopub.status.idle": "2024-07-14T11:25:48.005626Z",
          "shell.execute_reply": "2024-07-14T11:25:48.004593Z",
          "shell.execute_reply.started": "2024-07-14T11:25:47.993067Z"
        },
        "id": "JVYfTEIownMj",
        "outputId": "ded4c6fe-4c20-447a-b3d8-1be3f9998adf",
        "trusted": true
      },
      "outputs": [
        {
          "name": "stdout",
          "output_type": "stream",
          "text": [
            "Training Set Class Distribution:\n",
            "0    1054\n",
            "1    1366\n",
            "2    2013\n",
            "3     672\n",
            "4    2044\n",
            "5    5317\n",
            "6     677\n",
            "Name: count, dtype: int64\n",
            "\n",
            "Testing Set Class Distribution:\n",
            "0     275\n",
            "1     348\n",
            "2     490\n",
            "3     145\n",
            "4     473\n",
            "5    1388\n",
            "6     167\n",
            "Name: count, dtype: int64\n"
          ]
        }
      ],
      "source": [
        "y_train_labels = np.argmax(y_train, axis=1)\n",
        "y_test_labels = np.argmax(y_test, axis=1)\n",
        "\n",
        "# Count the occurrences of each class in training and testing sets\n",
        "train_counts = pd.Series(y_train_labels).value_counts().sort_index()\n",
        "test_counts = pd.Series(y_test_labels).value_counts().sort_index()\n",
        "\n",
        "# Display the counts\n",
        "print(\"Training Set Class Distribution:\")\n",
        "print(train_counts)\n",
        "\n",
        "print(\"\\nTesting Set Class Distribution:\")\n",
        "print(test_counts)"
      ]
    },
    {
      "cell_type": "markdown",
      "metadata": {
        "id": "EsV9Z5d8wnMj"
      },
      "source": [
        "**SMOTE TECHNIQUE**"
      ]
    },
    {
      "cell_type": "code",
      "execution_count": 29,
      "metadata": {
        "execution": {
          "iopub.execute_input": "2024-07-14T11:27:36.592168Z",
          "iopub.status.busy": "2024-07-14T11:27:36.591757Z",
          "iopub.status.idle": "2024-07-14T11:27:36.824725Z",
          "shell.execute_reply": "2024-07-14T11:27:36.823896Z",
          "shell.execute_reply.started": "2024-07-14T11:27:36.59213Z"
        },
        "id": "-55aNUFGwnMj",
        "trusted": true
      },
      "outputs": [],
      "source": [
        "import numpy as np\n",
        "from sklearn.model_selection import train_test_split\n",
        "from imblearn.over_sampling import SMOTE"
      ]
    },
    {
      "cell_type": "code",
      "execution_count": 30,
      "metadata": {
        "execution": {
          "iopub.execute_input": "2024-07-14T11:27:39.987939Z",
          "iopub.status.busy": "2024-07-14T11:27:39.986795Z",
          "iopub.status.idle": "2024-07-14T11:27:40.569153Z",
          "shell.execute_reply": "2024-07-14T11:27:40.5682Z",
          "shell.execute_reply.started": "2024-07-14T11:27:39.987907Z"
        },
        "id": "l4jdqlbdwnMj",
        "trusted": true
      },
      "outputs": [],
      "source": [
        "# Assuming x_train, y_train, x_test, y_test are already defined\n",
        "x_train = np.array(x_train)\n",
        "y_train = np.array(y_train)\n",
        "x_test = np.array(x_test)\n",
        "y_test = np.array(y_test)\n"
      ]
    },
    {
      "cell_type": "code",
      "execution_count": 31,
      "metadata": {
        "execution": {
          "iopub.execute_input": "2024-07-14T11:28:04.784888Z",
          "iopub.status.busy": "2024-07-14T11:28:04.78422Z",
          "iopub.status.idle": "2024-07-14T11:28:04.789407Z",
          "shell.execute_reply": "2024-07-14T11:28:04.788328Z",
          "shell.execute_reply.started": "2024-07-14T11:28:04.784854Z"
        },
        "id": "-Dwk8bZewnMj",
        "trusted": true
      },
      "outputs": [],
      "source": [
        "x_train_reshaped = x_train.reshape(x_train.shape[0], -1)\n"
      ]
    },
    {
      "cell_type": "code",
      "execution_count": 32,
      "metadata": {
        "execution": {
          "iopub.execute_input": "2024-07-14T11:28:19.250769Z",
          "iopub.status.busy": "2024-07-14T11:28:19.250115Z",
          "iopub.status.idle": "2024-07-14T11:28:30.587157Z",
          "shell.execute_reply": "2024-07-14T11:28:30.586313Z",
          "shell.execute_reply.started": "2024-07-14T11:28:19.250737Z"
        },
        "id": "gGL2mRUpwnMj",
        "trusted": true
      },
      "outputs": [],
      "source": [
        "smote = SMOTE()\n",
        "x_train_smote, y_train_smote = smote.fit_resample(x_train_reshaped, y_train.argmax(axis=1))\n"
      ]
    },
    {
      "cell_type": "code",
      "execution_count": 33,
      "metadata": {
        "execution": {
          "iopub.execute_input": "2024-07-14T11:29:50.252167Z",
          "iopub.status.busy": "2024-07-14T11:29:50.25178Z",
          "iopub.status.idle": "2024-07-14T11:29:50.258936Z",
          "shell.execute_reply": "2024-07-14T11:29:50.257814Z",
          "shell.execute_reply.started": "2024-07-14T11:29:50.252139Z"
        },
        "id": "HWXltBwKwnMj",
        "trusted": true
      },
      "outputs": [],
      "source": [
        "x_train_smote = x_train_smote.reshape(x_train_smote.shape[0], 64, 64, 3)\n",
        "y_train_smote = tf.keras.utils.to_categorical(y_train_smote, num_classes=7)\n"
      ]
    },
    {
      "cell_type": "markdown",
      "metadata": {
        "id": "2VsBJTTZwnMk"
      },
      "source": [
        "# Model Edge Training"
      ]
    },
    {
      "cell_type": "code",
      "execution_count": 34,
      "metadata": {},
      "outputs": [],
      "source": [
        "os.environ[\"CNN2SNN_TARGET_AKIDA_VERSION\"] = \"v1\""
      ]
    },
    {
      "cell_type": "code",
      "execution_count": 91,
      "metadata": {},
      "outputs": [],
      "source": [
        "from akida_models import load_model\n",
        "\n",
        "\n",
        "model_path = 'model_akida.fbz'\n",
        "\n",
        "model_akida = load_model(model_path)"
      ]
    },
    {
      "cell_type": "code",
      "execution_count": 92,
      "metadata": {},
      "outputs": [],
      "source": [
        "# from tensorflow.keras.models import load_model\n",
        "\n",
        "# model_path = 'initial_model83.h5'\n",
        "# model = load_model(model_path)\n",
        "\n",
        "# model_quantized = cnn2snn.quantize(model,\n",
        "#                                    weight_quantization=4,\n",
        "#                                    activ_quantization=4,\n",
        "#                                    input_weight_quantization=8)\n",
        "\n",
        "# model_quantized = cnn2snn.quantize_layer(model_quantized, 'spike_generator/relu', 1)"
      ]
    },
    {
      "cell_type": "code",
      "execution_count": 93,
      "metadata": {},
      "outputs": [],
      "source": [
        "# from cnn2snn import convert\n",
        "\n",
        "# model_akida = convert(model_quantized)"
      ]
    },
    {
      "cell_type": "code",
      "execution_count": 94,
      "metadata": {},
      "outputs": [
        {
          "name": "stdout",
          "output_type": "stream",
          "text": [
            "                Model Summary                 \n",
            "______________________________________________\n",
            "Input shape  Output shape  Sequences  Layers\n",
            "==============================================\n",
            "[64, 64, 3]  [1, 1, 35]    1          13    \n",
            "______________________________________________\n",
            "\n",
            "___________________________________________________________________\n",
            "Layer (type)                    Output shape   Kernel shape      \n",
            "\n",
            "============== SW/conv2d-akida_edge_layer (Software) ==============\n",
            "\n",
            "conv2d (InputConv.)             [64, 64, 32]   (3, 3, 3, 32)     \n",
            "___________________________________________________________________\n",
            "conv2d_1 (Conv.)                [32, 32, 32]   (3, 3, 32, 32)    \n",
            "___________________________________________________________________\n",
            "conv2d_2 (Conv.)                [32, 32, 64]   (3, 3, 32, 64)    \n",
            "___________________________________________________________________\n",
            "conv2d_3 (Conv.)                [16, 16, 64]   (3, 3, 64, 64)    \n",
            "___________________________________________________________________\n",
            "conv2d_4 (Conv.)                [16, 16, 128]  (3, 3, 64, 128)   \n",
            "___________________________________________________________________\n",
            "conv2d_5 (Conv.)                [8, 8, 128]    (3, 3, 128, 128)  \n",
            "___________________________________________________________________\n",
            "conv2d_6 (Conv.)                [8, 8, 256]    (3, 3, 128, 256)  \n",
            "___________________________________________________________________\n",
            "conv2d_7 (Conv.)                [4, 4, 256]    (3, 3, 256, 256)  \n",
            "___________________________________________________________________\n",
            "separable_conv2d (Sep.Conv.)    [2, 2, 512]    (3, 3, 256, 1)    \n",
            "___________________________________________________________________\n",
            "                                               (1, 1, 256, 512)  \n",
            "___________________________________________________________________\n",
            "separable_conv2d_1 (Sep.Conv.)  [1, 1, 512]    (3, 3, 512, 1)    \n",
            "___________________________________________________________________\n",
            "                                               (1, 1, 512, 512)  \n",
            "___________________________________________________________________\n",
            "separable_conv2d_2 (Sep.Conv.)  [1, 1, 2048]   (3, 3, 512, 1)    \n",
            "___________________________________________________________________\n",
            "                                               (1, 1, 512, 2048) \n",
            "___________________________________________________________________\n",
            "spike_generator (Sep.Conv.)     [1, 1, 2048]   (3, 3, 2048, 1)   \n",
            "___________________________________________________________________\n",
            "                                               (1, 1, 2048, 2048)\n",
            "___________________________________________________________________\n",
            "akida_edge_layer (Fully.)       [1, 1, 35]     (1, 1, 2048, 35)  \n",
            "___________________________________________________________________\n"
          ]
        }
      ],
      "source": [
        "from akida import AkidaUnsupervised\n",
        "from akida import FullyConnected, SeparableConvolutional\n",
        "from cnn2snn import quantize_layer\n",
        "\n",
        "# Replace the last layer by a classification layer\n",
        "num_classes = 7\n",
        "num_neurons_per_class = 5\n",
        "num_weights = 512 # Refer to the bottom of working_cnn.ipynb for reason \n",
        "model_akida.pop_layer()\n",
        "\n",
        "layer_fc = FullyConnected(name='akida_edge_layer',\n",
        "                          units=num_classes * num_neurons_per_class,\n",
        "                          activation=False)\n",
        "model_akida.add(layer_fc)\n",
        "\n",
        "model_akida.summary()"
      ]
    },
    {
      "cell_type": "code",
      "execution_count": 95,
      "metadata": {},
      "outputs": [
        {
          "name": "stdout",
          "output_type": "stream",
          "text": [
            "                Model Summary                 \n",
            "______________________________________________\n",
            "Input shape  Output shape  Sequences  Layers\n",
            "==============================================\n",
            "[64, 64, 3]  [1, 1, 35]    1          13    \n",
            "______________________________________________\n",
            "\n",
            "___________________________________________________________________\n",
            "Layer (type)                    Output shape   Kernel shape      \n",
            "\n",
            "============== SW/conv2d-akida_edge_layer (Software) ==============\n",
            "\n",
            "conv2d (InputConv.)             [64, 64, 32]   (3, 3, 3, 32)     \n",
            "___________________________________________________________________\n",
            "conv2d_1 (Conv.)                [32, 32, 32]   (3, 3, 32, 32)    \n",
            "___________________________________________________________________\n",
            "conv2d_2 (Conv.)                [32, 32, 64]   (3, 3, 32, 64)    \n",
            "___________________________________________________________________\n",
            "conv2d_3 (Conv.)                [16, 16, 64]   (3, 3, 64, 64)    \n",
            "___________________________________________________________________\n",
            "conv2d_4 (Conv.)                [16, 16, 128]  (3, 3, 64, 128)   \n",
            "___________________________________________________________________\n",
            "conv2d_5 (Conv.)                [8, 8, 128]    (3, 3, 128, 128)  \n",
            "___________________________________________________________________\n",
            "conv2d_6 (Conv.)                [8, 8, 256]    (3, 3, 128, 256)  \n",
            "___________________________________________________________________\n",
            "conv2d_7 (Conv.)                [4, 4, 256]    (3, 3, 256, 256)  \n",
            "___________________________________________________________________\n",
            "separable_conv2d (Sep.Conv.)    [2, 2, 512]    (3, 3, 256, 1)    \n",
            "___________________________________________________________________\n",
            "                                               (1, 1, 256, 512)  \n",
            "___________________________________________________________________\n",
            "separable_conv2d_1 (Sep.Conv.)  [1, 1, 512]    (3, 3, 512, 1)    \n",
            "___________________________________________________________________\n",
            "                                               (1, 1, 512, 512)  \n",
            "___________________________________________________________________\n",
            "separable_conv2d_2 (Sep.Conv.)  [1, 1, 2048]   (3, 3, 512, 1)    \n",
            "___________________________________________________________________\n",
            "                                               (1, 1, 512, 2048) \n",
            "___________________________________________________________________\n",
            "spike_generator (Sep.Conv.)     [1, 1, 2048]   (3, 3, 2048, 1)   \n",
            "___________________________________________________________________\n",
            "                                               (1, 1, 2048, 2048)\n",
            "___________________________________________________________________\n",
            "akida_edge_layer (Fully.)       [1, 1, 35]     (1, 1, 2048, 35)  \n",
            "___________________________________________________________________\n",
            "\n",
            "\n",
            "              Learning Summary              \n",
            "____________________________________________\n",
            "Learning Layer    # Input Conn.  # Weights\n",
            "============================================\n",
            "akida_edge_layer  2048           512      \n",
            "____________________________________________\n"
          ]
        }
      ],
      "source": [
        "model_akida.compile(optimizer=AkidaUnsupervised(num_weights=num_weights,\n",
        "                                             num_classes=num_classes,\n",
        "                                             learning_competition=0.1))\n",
        "\n",
        "model_akida.summary()"
      ]
    },
    {
      "cell_type": "code",
      "execution_count": 96,
      "metadata": {},
      "outputs": [],
      "source": [
        "batch_size = 32\n",
        "# Convert x_train_smote to uint8 if needed\n",
        "x_train_smote = x_train_smote.astype(np.uint8)\n",
        "\n",
        "# Convert one-hot encoded y_train_smote to class indices (integer labels)\n",
        "y_train_smote_int = np.argmax(y_train_smote, axis=1).astype(np.int32)\n",
        "\n",
        "\n",
        "num_batches = int(np.ceil(x_train.shape[0] / batch_size))\n",
        "for i in range(num_batches):\n",
        "    s = slice(i * batch_size, (i + 1) * batch_size)\n",
        "    model_akida.fit(x_train_smote[s], y_train_smote_int[s])\n",
        "\n"
      ]
    },
    {
      "cell_type": "code",
      "execution_count": 97,
      "metadata": {},
      "outputs": [],
      "source": [
        "model_akida.save('model_edge_trained.fbz')"
      ]
    },
    {
      "cell_type": "code",
      "execution_count": 98,
      "metadata": {},
      "outputs": [
        {
          "name": "stdout",
          "output_type": "stream",
          "text": [
            "Predicted label: nv\n",
            "True label: df\n"
          ]
        }
      ],
      "source": [
        "from tensorflow.image import resize_with_crop_or_pad\n",
        "from time import time\n",
        "class_names = ['akiec', 'bcc', 'bkl', 'df', 'mel', 'nv', 'vasc']\n",
        "\n",
        "# Pick a random index from the training dataset\n",
        "random_index = np.random.randint(0, x_train_smote.shape[0])\n",
        "\n",
        "# Select the random image and its corresponding true label\n",
        "random_image = x_train_smote[random_index]\n",
        "true_label = np.argmax(y_train_smote[random_index])\n",
        "\n",
        "# Preprocess the random image (resize with padding to match input size of the model)\n",
        "padded_image = resize_with_crop_or_pad(random_image, 64, 64)\n",
        "\n",
        "# Get the predicted label from the model\n",
        "predicted_label = model_akida.predict_classes(np.expand_dims(padded_image, axis=0), num_classes=7)\n",
        "\n",
        "# Print the predicted and true labels\n",
        "print(f'Predicted label: {class_names[predicted_label[0]]}')\n",
        "print(f'True label: {class_names[true_label]}')"
      ]
    },
    {
      "cell_type": "code",
      "execution_count": 99,
      "metadata": {},
      "outputs": [],
      "source": [
        "# # Convert x_train_smote to uint8 if needed\n",
        "# x_test = x_test.astype(np.uint8)\n",
        "\n",
        "# # Convert one-hot encoded y_train_smote to class indices (integer labels)\n",
        "# # y_test_labels = np.argmax(y_test_labels, axis=1).astype(np.int32)\n",
        "\n",
        "# # Evaluate the model on the test dataset\n",
        "# predictions = np.zeros(x_test.shape[0])\n",
        "\n",
        "# # Loop through the training data and get predictions\n",
        "# for i in range(x_test.shape[0]):\n",
        "#     padded_image = resize_with_crop_or_pad(x_test[i], 64, 64)\n",
        "#     predictions[i] = model_akida.predict_classes(np.expand_dims(padded_image,\n",
        "#                                                              axis=0),\n",
        "#                                               num_classes=7)\n",
        "\n",
        "# # Get true labels in a flat format\n",
        "# true_labels = y_test_labels\n",
        "\n",
        "# # Calculate overall accuracy\n",
        "# accuracy = 100 * np.sum(predictions == true_labels) / len(true_labels)\n",
        "\n",
        "# print(f'Accuracy on the training data (SMOTE): {accuracy:.2f}%')"
      ]
    },
    {
      "cell_type": "markdown",
      "metadata": {},
      "source": [
        "# One-shot learning"
      ]
    },
    {
      "cell_type": "code",
      "execution_count": 44,
      "metadata": {},
      "outputs": [],
      "source": [
        "from akida_models import load_model\n",
        "\n",
        "model_akida = load_model('model_edge_trained_6.fbz')"
      ]
    },
    {
      "cell_type": "code",
      "execution_count": 35,
      "metadata": {},
      "outputs": [],
      "source": [
        "from PIL import Image\n",
        "import numpy as np \n",
        "import pandas as pd\n",
        "\n",
        "def load_and_convert_image(image_path, size=(64, 64)):\n",
        "    \"\"\"\n",
        "    Load an image from a given path, resize it, and convert it into a NumPy array.\n",
        "    \n",
        "    Parameters:\n",
        "    - image_path: str, path to the image file\n",
        "    - size: tuple, target size to resize the image (width, height)\n",
        "    \n",
        "    Returns:\n",
        "    - np.ndarray, the image as a NumPy array with shape (width, height, channels)\n",
        "    \"\"\"\n",
        "    # Open the image\n",
        "    img = Image.open(image_path)\n",
        "    \n",
        "    # Resize the image\n",
        "    img_resized = img.resize(size)\n",
        "    \n",
        "    # Convert the image to a NumPy array\n",
        "    img_array = np.asarray(img_resized)\n",
        "    \n",
        "    return img_array"
      ]
    },
    {
      "cell_type": "code",
      "execution_count": 46,
      "metadata": {},
      "outputs": [],
      "source": [
        "class_names = ['akiec', 'bcc', 'bkl', 'df', 'mel', 'nv', 'vasc']\n"
      ]
    },
    {
      "cell_type": "code",
      "execution_count": 47,
      "metadata": {},
      "outputs": [
        {
          "name": "stdout",
          "output_type": "stream",
          "text": [
            "Class 'seborrheic_k' added to the model. Total classes: 8\n"
          ]
        }
      ],
      "source": [
        "import os\n",
        "from tensorflow.image import resize_with_crop_or_pad\n",
        "\n",
        "\n",
        "# new_image_path = 'scar/ISIC_5147305.jpg'\n",
        "# label = 'scar'\n",
        "\n",
        "new_image_path = 'seborrheic_k/ISIC_1773560.jpg'\n",
        "label = 'seborrheic_k'\n",
        "model_akida.add_classes(1)\n",
        "\n",
        "for file in os.listdir('seborrheic_k/'):\n",
        "    image = load_and_convert_image(f\"seborrheic_k/{file}\")\n",
        "    image = np.expand_dims(image, axis=0)  \n",
        "    model_akida.fit(image, len(class_names))\n",
        "\n",
        "class_names.append(label)\n",
        "\n",
        "print(f\"Class '{label}' added to the model. Total classes: {len(class_names)}\")\n"
      ]
    },
    {
      "cell_type": "code",
      "execution_count": 48,
      "metadata": {},
      "outputs": [
        {
          "name": "stdout",
          "output_type": "stream",
          "text": [
            "Predicted label: seborrheic_k\n",
            "True label: seborrheic_k\n"
          ]
        }
      ],
      "source": [
        "image = load_and_convert_image(\"seborrheic_k/ISIC_8541813.jpg\")\n",
        "true_label = 7\n",
        "\n",
        "padded_image = resize_with_crop_or_pad(image, 64, 64)\n",
        "predicted_label = model_akida.predict_classes(np.expand_dims(padded_image, axis=0), num_classes=7)\n",
        "\n",
        "print(f'Predicted label: {class_names[predicted_label[0]]}')\n",
        "print(f'True label: {class_names[true_label]}')"
      ]
    },
    {
      "cell_type": "code",
      "execution_count": 49,
      "metadata": {},
      "outputs": [
        {
          "name": "stdout",
          "output_type": "stream",
          "text": [
            "Predicted label: akiec\n",
            "Predicted label: seborrheic_k\n",
            "Predicted label: seborrheic_k\n",
            "Predicted label: seborrheic_k\n",
            "Predicted label: seborrheic_k\n",
            "Predicted label: seborrheic_k\n",
            "Predicted label: seborrheic_k\n",
            "Predicted label: seborrheic_k\n",
            "Predicted label: seborrheic_k\n",
            "Predicted label: df\n",
            "Predicted label: seborrheic_k\n",
            "Predicted label: seborrheic_k\n",
            "Predicted label: seborrheic_k\n",
            "Predicted label: seborrheic_k\n",
            "Predicted label: seborrheic_k\n"
          ]
        }
      ],
      "source": [
        "for file in os.listdir('seborrheic_k/'):\n",
        "    image = load_and_convert_image(f\"seborrheic_k/{file}\")\n",
        "    true_label = 7\n",
        "\n",
        "    # Preprocess the random image (resize with padding to match input size of the model)\n",
        "    padded_image = resize_with_crop_or_pad(image, 64, 64)\n",
        "\n",
        "    # Get the predicted label from the model\n",
        "    predicted_label = model_akida.predict_classes(np.expand_dims(padded_image, axis=0), num_classes=7)\n",
        "\n",
        "    # Print the predicted and true labels\n",
        "    print(f'Predicted label: {class_names[predicted_label[0]]}')\n",
        "    # print(f'True label: {class_names[true_label]}')"
      ]
    },
    {
      "cell_type": "code",
      "execution_count": 36,
      "metadata": {},
      "outputs": [
        {
          "name": "stdout",
          "output_type": "stream",
          "text": [
            "Neurons: 1, Accuracy: 58.70%\n",
            "9/15, Accuracy: 60.00\n",
            "Neurons: 2, Accuracy: 59.71%\n",
            "12/15, Accuracy: 80.00\n",
            "Neurons: 3, Accuracy: 61.90%\n",
            "12/15, Accuracy: 80.00\n",
            "Neurons: 4, Accuracy: 60.10%\n",
            "14/15, Accuracy: 93.33\n",
            "Neurons: 5, Accuracy: 63.66%\n",
            "12/15, Accuracy: 80.00\n",
            "Neurons: 6, Accuracy: 62.69%\n",
            "13/15, Accuracy: 86.67\n",
            "Neurons: 7, Accuracy: 64.33%\n",
            "0/15, Accuracy: 0.00\n",
            "Neurons: 8, Accuracy: 67.41%\n",
            "6/15, Accuracy: 40.00\n",
            "Neurons: 9, Accuracy: 64.52%\n",
            "3/15, Accuracy: 20.00\n",
            "Neurons: 10, Accuracy: 63.09%\n",
            "2/15, Accuracy: 13.33\n",
            "Neurons: 11, Accuracy: 64.88%\n",
            "1/15, Accuracy: 6.67\n",
            "Neurons: 12, Accuracy: 66.22%\n",
            "3/15, Accuracy: 20.00\n",
            "Neurons: 13, Accuracy: 63.97%\n",
            "12/15, Accuracy: 80.00\n",
            "Neurons: 14, Accuracy: 64.06%\n",
            "0/15, Accuracy: 0.00\n",
            "Neurons: 15, Accuracy: 67.04%\n",
            "4/15, Accuracy: 26.67\n",
            "Neurons: 16, Accuracy: 65.03%\n",
            "4/15, Accuracy: 26.67\n",
            "Neurons: 17, Accuracy: 65.25%\n",
            "0/15, Accuracy: 0.00\n",
            "Neurons: 18, Accuracy: 65.98%\n",
            "1/15, Accuracy: 6.67\n",
            "Neurons: 19, Accuracy: 64.67%\n",
            "1/15, Accuracy: 6.67\n",
            "Neurons: 20, Accuracy: 66.59%\n",
            "8/15, Accuracy: 53.33\n",
            "Neurons: 21, Accuracy: 65.03%\n",
            "0/15, Accuracy: 0.00\n",
            "Neurons: 22, Accuracy: 66.65%\n",
            "0/15, Accuracy: 0.00\n",
            "Neurons: 23, Accuracy: 66.49%\n",
            "0/15, Accuracy: 0.00\n",
            "Neurons: 24, Accuracy: 67.95%\n",
            "0/15, Accuracy: 0.00\n",
            "Neurons: 25, Accuracy: 67.71%\n",
            "3/15, Accuracy: 20.00\n",
            "Neurons: 26, Accuracy: 66.92%\n",
            "2/15, Accuracy: 13.33\n",
            "Neurons: 27, Accuracy: 66.92%\n",
            "0/15, Accuracy: 0.00\n",
            "Neurons: 28, Accuracy: 67.47%\n",
            "0/15, Accuracy: 0.00\n",
            "Neurons: 29, Accuracy: 68.99%\n",
            "0/15, Accuracy: 0.00\n",
            "Neurons: 30, Accuracy: 68.02%\n",
            "0/15, Accuracy: 0.00\n",
            "Neurons: 31, Accuracy: 67.74%\n",
            "0/15, Accuracy: 0.00\n",
            "Neurons: 32, Accuracy: 68.78%\n",
            "0/15, Accuracy: 0.00\n",
            "Neurons: 33, Accuracy: 68.90%\n",
            "0/15, Accuracy: 0.00\n",
            "Neurons: 34, Accuracy: 68.11%\n",
            "1/15, Accuracy: 6.67\n",
            "Neurons: 35, Accuracy: 68.05%\n",
            "0/15, Accuracy: 0.00\n",
            "Neurons: 36, Accuracy: 69.23%\n",
            "0/15, Accuracy: 0.00\n",
            "Neurons: 37, Accuracy: 69.05%\n",
            "0/15, Accuracy: 0.00\n",
            "Neurons: 38, Accuracy: 69.11%\n",
            "0/15, Accuracy: 0.00\n",
            "Neurons: 39, Accuracy: 69.39%\n",
            "1/15, Accuracy: 6.67\n",
            "Neurons: 40, Accuracy: 69.20%\n",
            "0/15, Accuracy: 0.00\n",
            "Neurons: 41, Accuracy: 71.03%\n",
            "1/15, Accuracy: 6.67\n",
            "Neurons: 42, Accuracy: 71.06%\n",
            "0/15, Accuracy: 0.00\n",
            "Neurons: 43, Accuracy: 68.17%\n",
            "0/15, Accuracy: 0.00\n",
            "Neurons: 44, Accuracy: 68.99%\n",
            "1/15, Accuracy: 6.67\n",
            "Neurons: 45, Accuracy: 70.18%\n",
            "0/15, Accuracy: 0.00\n",
            "Neurons: 46, Accuracy: 70.63%\n",
            "0/15, Accuracy: 0.00\n",
            "Neurons: 47, Accuracy: 70.18%\n",
            "0/15, Accuracy: 0.00\n",
            "Neurons: 48, Accuracy: 69.54%\n",
            "5/15, Accuracy: 33.33\n",
            "Neurons: 49, Accuracy: 69.23%\n",
            "0/15, Accuracy: 0.00\n",
            "Neurons: 50, Accuracy: 70.48%\n",
            "0/15, Accuracy: 0.00\n"
          ]
        }
      ],
      "source": [
        "from akida_models import load_model\n",
        "from akida import AkidaUnsupervised\n",
        "from akida import FullyConnected, SeparableConvolutional\n",
        "from cnn2snn import quantize_layer\n",
        "import os\n",
        "from tensorflow.image import resize_with_crop_or_pad\n",
        "\n",
        "num_neurons = np.arange(1, 51)\n",
        "num_neurons2 = [100, 150, 200, 250, 300, 350, 400, 450, 500]\n",
        "merged_neurons = np.concatenate((num_neurons, num_neurons2))\n",
        "\n",
        "original_accuracy = []\n",
        "one_shot_accuracy = []\n",
        "\n",
        "\n",
        "for neuron in num_neurons:\n",
        "    # Load model \n",
        "    model_path = 'model_akida.fbz'\n",
        "    model_akida = load_model(model_path)\n",
        "\n",
        "    num_classes = 7\n",
        "    num_neurons_per_class = neuron\n",
        "    num_weights = 512 \n",
        "    model_akida.pop_layer()\n",
        "\n",
        "    layer_fc = FullyConnected(name='akida_edge_layer',\n",
        "                            units=num_classes * num_neurons_per_class,\n",
        "                            activation=False)\n",
        "    model_akida.add(layer_fc)\n",
        "\n",
        "    model_akida.compile(optimizer=AkidaUnsupervised(num_weights=num_weights,\n",
        "                                             num_classes=num_classes,\n",
        "                                             learning_competition=0.1))\n",
        "    \n",
        "    batch_size = 32\n",
        "    # Convert x_train_smote to uint8 if needed\n",
        "    x_train_smote = x_train_smote.astype(np.uint8)\n",
        "\n",
        "    # Convert one-hot encoded y_train_smote to class indices (integer labels)\n",
        "    y_train_smote_int = np.argmax(y_train_smote, axis=1).astype(np.int32)\n",
        "\n",
        "\n",
        "    num_batches = int(np.ceil(x_train.shape[0] / batch_size))\n",
        "    for i in range(num_batches):\n",
        "        s = slice(i * batch_size, (i + 1) * batch_size)\n",
        "        model_akida.fit(x_train_smote[s], y_train_smote_int[s])\n",
        "\n",
        "    model_akida.save(f\"models/edge_models/model_edge_trained_{neuron}.fbz\")\n",
        "\n",
        "    # Convert x_train_smote to uint8 if needed\n",
        "    x_test = x_test.astype(np.uint8)\n",
        "\n",
        "    # Evaluate the model on the test dataset\n",
        "    predictions = np.zeros(x_test.shape[0])\n",
        "\n",
        "    # Loop through the training data and get predictions\n",
        "    for i in range(x_test.shape[0]):\n",
        "        padded_image = resize_with_crop_or_pad(x_test[i], 64, 64)\n",
        "        predictions[i] = model_akida.predict_classes(np.expand_dims(padded_image,\n",
        "                                                                axis=0),\n",
        "                                                num_classes=7)\n",
        "\n",
        "    # Get true labels in a flat format\n",
        "    true_labels = y_test_labels\n",
        "\n",
        "    # Calculate overall accuracy\n",
        "    accuracy = 100 * np.sum(predictions == true_labels) / len(true_labels)\n",
        "\n",
        "    print(f'Neurons: {neuron}, Accuracy: {accuracy:.2f}%')\n",
        "    original_accuracy.append(accuracy)\n",
        "\n",
        "    \n",
        "    class_names = ['akiec', 'bcc', 'bkl', 'df', 'mel', 'nv', 'vasc']\n",
        "\n",
        "    label = 'seborrheic_k'\n",
        "    model_akida.add_classes(1)\n",
        "\n",
        "    for file in os.listdir('seborrheic_k/'):\n",
        "        image = load_and_convert_image(f\"seborrheic_k/{file}\")\n",
        "        image = np.expand_dims(image, axis=0)  \n",
        "        model_akida.fit(image, len(class_names))\n",
        "\n",
        "    class_names.append(label)\n",
        "\n",
        "    correct_predictions = 0\n",
        "    total_images = 0\n",
        "\n",
        "    for file in os.listdir('seborrheic_k/'):\n",
        "        image = load_and_convert_image(f\"seborrheic_k/{file}\")\n",
        "        true_label = 7  # Seborrheic keratosis corresponds to label 7\n",
        "\n",
        "        padded_image = resize_with_crop_or_pad(image, 64, 64)\n",
        "        predicted_label = model_akida.predict_classes(np.expand_dims(padded_image, axis=0), num_classes=7)\n",
        "\n",
        "        if predicted_label[0] == true_label:\n",
        "            correct_predictions += 1\n",
        "\n",
        "        total_images += 1\n",
        "\n",
        "    accuracy = correct_predictions / total_images if total_images > 0 else 0\n",
        "\n",
        "    print(f\"{correct_predictions}/{total_images}, Accuracy: {accuracy * 100:.2f}\")\n",
        "    one_shot_accuracy.append(accuracy)\n"
      ]
    },
    {
      "cell_type": "code",
      "execution_count": 43,
      "metadata": {},
      "outputs": [
        {
          "name": "stdout",
          "output_type": "stream",
          "text": [
            "9/15\n",
            "Neurons: 1, Before Accuracy: 57.91%, One-shot Accuracy: 60.00%, After Accuracy: 54.41%\n",
            "10/15\n",
            "Neurons: 2, Before Accuracy: 58.58%, One-shot Accuracy: 66.67%, After Accuracy: 57.46%\n",
            "11/15\n",
            "Neurons: 3, Before Accuracy: 60.23%, One-shot Accuracy: 73.33%, After Accuracy: 58.43%\n",
            "15/15\n",
            "Neurons: 4, Before Accuracy: 59.80%, One-shot Accuracy: 100.00%, After Accuracy: 58.13%\n",
            "12/15\n",
            "Neurons: 5, Before Accuracy: 61.29%, One-shot Accuracy: 80.00%, After Accuracy: 59.86%\n",
            "13/15\n",
            "Neurons: 6, Before Accuracy: 61.69%, One-shot Accuracy: 86.67%, After Accuracy: 60.65%\n",
            "0/15\n",
            "Neurons: 7, Before Accuracy: 64.46%, One-shot Accuracy: 0.00%, After Accuracy: 63.82%\n",
            "0/15\n",
            "Neurons: 8, Before Accuracy: 66.98%, One-shot Accuracy: 0.00%, After Accuracy: 66.52%\n",
            "0/15\n",
            "Neurons: 9, Before Accuracy: 64.49%, One-shot Accuracy: 0.00%, After Accuracy: 63.72%\n",
            "1/15\n",
            "Neurons: 10, Before Accuracy: 62.36%, One-shot Accuracy: 6.67%, After Accuracy: 61.72%\n",
            "4/15\n",
            "Neurons: 11, Before Accuracy: 64.85%, One-shot Accuracy: 26.67%, After Accuracy: 64.27%\n",
            "6/15\n",
            "Neurons: 12, Before Accuracy: 64.88%, One-shot Accuracy: 40.00%, After Accuracy: 64.49%\n",
            "11/15\n",
            "Neurons: 13, Before Accuracy: 63.57%, One-shot Accuracy: 73.33%, After Accuracy: 62.81%\n",
            "0/15\n",
            "Neurons: 14, Before Accuracy: 64.09%, One-shot Accuracy: 0.00%, After Accuracy: 63.54%\n",
            "0/15\n",
            "Neurons: 15, Before Accuracy: 66.16%, One-shot Accuracy: 0.00%, After Accuracy: 65.82%\n",
            "6/15\n",
            "Neurons: 16, Before Accuracy: 64.73%, One-shot Accuracy: 40.00%, After Accuracy: 64.39%\n",
            "0/15\n",
            "Neurons: 17, Before Accuracy: 65.03%, One-shot Accuracy: 0.00%, After Accuracy: 64.79%\n",
            "3/15\n",
            "Neurons: 18, Before Accuracy: 65.55%, One-shot Accuracy: 20.00%, After Accuracy: 65.16%\n",
            "2/15\n",
            "Neurons: 19, Before Accuracy: 64.24%, One-shot Accuracy: 13.33%, After Accuracy: 63.91%\n",
            "2/15\n",
            "Neurons: 20, Before Accuracy: 66.25%, One-shot Accuracy: 13.33%, After Accuracy: 65.89%\n",
            "0/15\n",
            "Neurons: 21, Before Accuracy: 65.37%, One-shot Accuracy: 0.00%, After Accuracy: 65.03%\n",
            "0/15\n",
            "Neurons: 22, Before Accuracy: 66.71%, One-shot Accuracy: 0.00%, After Accuracy: 66.37%\n",
            "0/15\n",
            "Neurons: 23, Before Accuracy: 67.10%, One-shot Accuracy: 0.00%, After Accuracy: 66.83%\n",
            "0/15\n",
            "Neurons: 24, Before Accuracy: 67.19%, One-shot Accuracy: 0.00%, After Accuracy: 67.04%\n",
            "0/15\n",
            "Neurons: 25, Before Accuracy: 67.99%, One-shot Accuracy: 0.00%, After Accuracy: 67.71%\n",
            "2/15\n",
            "Neurons: 26, Before Accuracy: 67.86%, One-shot Accuracy: 13.33%, After Accuracy: 67.56%\n",
            "0/15\n",
            "Neurons: 27, Before Accuracy: 68.44%, One-shot Accuracy: 0.00%, After Accuracy: 68.08%\n",
            "0/15\n",
            "Neurons: 28, Before Accuracy: 68.59%, One-shot Accuracy: 0.00%, After Accuracy: 68.41%\n",
            "0/15\n",
            "Neurons: 29, Before Accuracy: 69.17%, One-shot Accuracy: 0.00%, After Accuracy: 68.96%\n",
            "0/15\n",
            "Neurons: 30, Before Accuracy: 68.93%, One-shot Accuracy: 0.00%, After Accuracy: 68.56%\n",
            "2/15\n",
            "Neurons: 31, Before Accuracy: 67.53%, One-shot Accuracy: 13.33%, After Accuracy: 67.29%\n",
            "8/15\n",
            "Neurons: 32, Before Accuracy: 69.08%, One-shot Accuracy: 53.33%, After Accuracy: 68.78%\n",
            "0/15\n",
            "Neurons: 33, Before Accuracy: 69.05%, One-shot Accuracy: 0.00%, After Accuracy: 68.78%\n",
            "0/15\n",
            "Neurons: 34, Before Accuracy: 68.32%, One-shot Accuracy: 0.00%, After Accuracy: 68.11%\n",
            "0/15\n",
            "Neurons: 35, Before Accuracy: 67.92%, One-shot Accuracy: 0.00%, After Accuracy: 67.83%\n",
            "0/15\n",
            "Neurons: 36, Before Accuracy: 69.14%, One-shot Accuracy: 0.00%, After Accuracy: 68.99%\n",
            "0/15\n",
            "Neurons: 37, Before Accuracy: 69.39%, One-shot Accuracy: 0.00%, After Accuracy: 69.23%\n",
            "1/15\n",
            "Neurons: 38, Before Accuracy: 69.57%, One-shot Accuracy: 6.67%, After Accuracy: 69.35%\n",
            "0/15\n",
            "Neurons: 39, Before Accuracy: 69.45%, One-shot Accuracy: 0.00%, After Accuracy: 69.20%\n",
            "0/15\n",
            "Neurons: 40, Before Accuracy: 69.81%, One-shot Accuracy: 0.00%, After Accuracy: 69.66%\n",
            "2/15\n",
            "Neurons: 41, Before Accuracy: 71.03%, One-shot Accuracy: 13.33%, After Accuracy: 70.85%\n",
            "0/15\n",
            "Neurons: 42, Before Accuracy: 70.75%, One-shot Accuracy: 0.00%, After Accuracy: 70.60%\n",
            "0/15\n",
            "Neurons: 43, Before Accuracy: 69.45%, One-shot Accuracy: 0.00%, After Accuracy: 69.32%\n",
            "0/15\n",
            "Neurons: 44, Before Accuracy: 69.42%, One-shot Accuracy: 0.00%, After Accuracy: 69.20%\n",
            "0/15\n",
            "Neurons: 45, Before Accuracy: 70.45%, One-shot Accuracy: 0.00%, After Accuracy: 70.36%\n",
            "0/15\n",
            "Neurons: 46, Before Accuracy: 71.12%, One-shot Accuracy: 0.00%, After Accuracy: 70.94%\n",
            "0/15\n",
            "Neurons: 47, Before Accuracy: 70.88%, One-shot Accuracy: 0.00%, After Accuracy: 70.69%\n",
            "0/15\n",
            "Neurons: 48, Before Accuracy: 70.42%, One-shot Accuracy: 0.00%, After Accuracy: 70.27%\n",
            "0/15\n",
            "Neurons: 49, Before Accuracy: 70.21%, One-shot Accuracy: 0.00%, After Accuracy: 70.09%\n",
            "0/15\n",
            "Neurons: 50, Before Accuracy: 70.82%, One-shot Accuracy: 0.00%, After Accuracy: 70.72%\n"
          ]
        }
      ],
      "source": [
        "from akida_models import load_model\n",
        "from akida import AkidaUnsupervised\n",
        "from akida import FullyConnected, SeparableConvolutional\n",
        "from cnn2snn import quantize_layer\n",
        "import os\n",
        "from tensorflow.image import resize_with_crop_or_pad\n",
        "\n",
        "num_neurons = np.arange(1, 51)\n",
        "original_accuracy = []\n",
        "one_shot_accuracy = []\n",
        "seven_classes_accuracy = []\n",
        "\n",
        "for neuron in num_neurons:\n",
        "    # load model\n",
        "    file_path = f\"models/edge_models/model_edge_trained_{neuron}.fbz\"\n",
        "    model_akida = load_model(file_path)\n",
        "\n",
        "    class_names = ['akiec', 'bcc', 'bkl', 'df', 'mel', 'nv', 'vasc']\n",
        "\n",
        "    x_test = x_test.astype(np.uint8)\n",
        "\n",
        "    # Evaluate the model on the test dataset\n",
        "    predictions = np.zeros(x_test.shape[0])\n",
        "    # Loop through the training data and get predictions\n",
        "    for i in range(x_test.shape[0]):\n",
        "        padded_image = resize_with_crop_or_pad(x_test[i], 64, 64)\n",
        "        predictions[i] = model_akida.predict_classes(np.expand_dims(padded_image,\n",
        "                                                                axis=0),\n",
        "                                                num_classes=7)\n",
        "    # Get true labels in a flat format\n",
        "    true_labels = y_test_labels\n",
        "    # Calculate overall accuracy\n",
        "    before_accuracy = 100 * np.sum(predictions == true_labels) / len(true_labels)\n",
        "\n",
        "    original_accuracy.append(before_accuracy)\n",
        "\n",
        "    label = 'seborrheic_k'\n",
        "    model_akida.add_classes(1)\n",
        "\n",
        "    for file in os.listdir('seborrheic_k/'):\n",
        "        image = load_and_convert_image(f\"seborrheic_k/{file}\")\n",
        "        image = np.expand_dims(image, axis=0)  \n",
        "        model_akida.fit(image, len(class_names))\n",
        "\n",
        "    class_names.append(label)\n",
        "\n",
        "    correct_predictions = 0\n",
        "    total_images = 0\n",
        "\n",
        "    for file in os.listdir('seborrheic_k/'):\n",
        "        image = load_and_convert_image(f\"seborrheic_k/{file}\")\n",
        "        true_label = 7  # Seborrheic keratosis corresponds to label 7\n",
        "\n",
        "        padded_image = resize_with_crop_or_pad(image, 64, 64)\n",
        "        predicted_label = model_akida.predict_classes(np.expand_dims(padded_image, axis=0), num_classes=7)\n",
        "\n",
        "        if predicted_label[0] == true_label:\n",
        "            correct_predictions += 1\n",
        "\n",
        "        total_images += 1\n",
        "\n",
        "    sebk_accuracy = correct_predictions / total_images if total_images > 0 else 0\n",
        "\n",
        "    print(f\"{correct_predictions}/{total_images}\")\n",
        "    one_shot_accuracy.append(sebk_accuracy * 100)\n",
        "\n",
        "    # Evaluate the model on the test dataset\n",
        "    predictions = np.zeros(x_test.shape[0])\n",
        "    # Loop through the training data and get predictions\n",
        "    for i in range(x_test.shape[0]):\n",
        "        padded_image = resize_with_crop_or_pad(x_test[i], 64, 64)\n",
        "        predictions[i] = model_akida.predict_classes(np.expand_dims(padded_image,\n",
        "                                                                axis=0),\n",
        "                                                num_classes=8)\n",
        "    # Get true labels in a flat format\n",
        "    true_labels = y_test_labels\n",
        "    # Calculate overall accuracy\n",
        "    after_accuracy = 100 * np.sum(predictions == true_labels) / len(true_labels)\n",
        "\n",
        "    seven_classes_accuracy.append(after_accuracy)\n",
        "\n",
        "    print(f\"Neurons: {neuron}, Before Accuracy: {before_accuracy:.2f}%, One-shot Accuracy: {sebk_accuracy * 100:.2f}%, After Accuracy: {after_accuracy:.2f}%\")"
      ]
    },
    {
      "cell_type": "code",
      "execution_count": 45,
      "metadata": {},
      "outputs": [
        {
          "data": {
            "image/png": "[encoded data removed]",
            "text/plain": [
              "<Figure size 640x480 with 1 Axes>"
            ]
          },
          "metadata": {},
          "output_type": "display_data"
        }
      ],
      "source": [
        "import matplotlib.pyplot as plt\n",
        "import numpy as np\n",
        "\n",
        "# Assuming num_neurons is already defined\n",
        "num_neurons = np.arange(1, 51)\n",
        "\n",
        "# Plotting the accuracies\n",
        "plt.plot(num_neurons, original_accuracy, label='Test Accuracy before One-Shot Learning')\n",
        "plt.plot(num_neurons, one_shot_accuracy, label='One-shot Accuracy')\n",
        "plt.plot(num_neurons, seven_classes_accuracy, label='Test Accuracy after One-Shot Learning')\n",
        "\n",
        "plt.xlabel('Number of Neurons')\n",
        "plt.ylabel('Accuracy')\n",
        "plt.title('Accuracy vs Number of Neurons')\n",
        "plt.legend()\n",
        "plt.grid(True)\n",
        "\n",
        "# Show plot\n",
        "plt.show()"
      ]
    },
    {
      "cell_type": "code",
      "execution_count": 46,
      "metadata": {},
      "outputs": [
        {
          "data": {
            "text/plain": [
              "[57.912355447352404,\n",
              " 58.58186244674376,\n",
              " 60.225197808886186,\n",
              " 59.79914790018259,\n",
              " 61.29032258064516,\n",
              " 61.68594035301278,\n",
              " 64.45526475958613,\n",
              " 66.98113207547169,\n",
              " 64.48569689592209,\n",
              " 62.35544735240414,\n",
              " 64.85088253195374,\n",
              " 64.88131466828972,\n",
              " 63.57273280584297,\n",
              " 64.09007912355447,\n",
              " 66.15946439440049,\n",
              " 64.72915398660986,\n",
              " 65.03347534996956,\n",
              " 65.55082166768108,\n",
              " 64.24223980523433,\n",
              " 66.2507608034084,\n",
              " 65.36822884966524,\n",
              " 66.70724284844796,\n",
              " 67.10286062081558,\n",
              " 67.1941570298235,\n",
              " 67.98539257455873,\n",
              " 67.86366402921485,\n",
              " 68.4418746195983,\n",
              " 68.59403530127815,\n",
              " 69.17224589166159,\n",
              " 68.92878880097383,\n",
              " 67.52891052951917,\n",
              " 69.08094948265368,\n",
              " 69.0505173463177,\n",
              " 68.32014607425441,\n",
              " 67.9245283018868,\n",
              " 69.14181375532563,\n",
              " 69.38527084601338,\n",
              " 69.56786366402922,\n",
              " 69.44613511868533,\n",
              " 69.81132075471699,\n",
              " 71.02860620815581,\n",
              " 70.75471698113208,\n",
              " 69.44613511868533,\n",
              " 69.41570298234936,\n",
              " 70.45039561777237,\n",
              " 71.11990261716373,\n",
              " 70.87644552647596,\n",
              " 70.4199634814364,\n",
              " 70.2069385270846,\n",
              " 70.81558125380401]"
            ]
          },
          "execution_count": 46,
          "metadata": {},
          "output_type": "execute_result"
        }
      ],
      "source": [
        "original_accuracy"
      ]
    },
    {
      "cell_type": "code",
      "execution_count": 47,
      "metadata": {},
      "outputs": [
        {
          "data": {
            "text/plain": [
              "[60.0,\n",
              " 66.66666666666666,\n",
              " 73.33333333333333,\n",
              " 100.0,\n",
              " 80.0,\n",
              " 86.66666666666667,\n",
              " 0.0,\n",
              " 0.0,\n",
              " 0.0,\n",
              " 6.666666666666667,\n",
              " 26.666666666666668,\n",
              " 40.0,\n",
              " 73.33333333333333,\n",
              " 0.0,\n",
              " 0.0,\n",
              " 40.0,\n",
              " 0.0,\n",
              " 20.0,\n",
              " 13.333333333333334,\n",
              " 13.333333333333334,\n",
              " 0.0,\n",
              " 0.0,\n",
              " 0.0,\n",
              " 0.0,\n",
              " 0.0,\n",
              " 13.333333333333334,\n",
              " 0.0,\n",
              " 0.0,\n",
              " 0.0,\n",
              " 0.0,\n",
              " 13.333333333333334,\n",
              " 53.333333333333336,\n",
              " 0.0,\n",
              " 0.0,\n",
              " 0.0,\n",
              " 0.0,\n",
              " 0.0,\n",
              " 6.666666666666667,\n",
              " 0.0,\n",
              " 0.0,\n",
              " 13.333333333333334,\n",
              " 0.0,\n",
              " 0.0,\n",
              " 0.0,\n",
              " 0.0,\n",
              " 0.0,\n",
              " 0.0,\n",
              " 0.0,\n",
              " 0.0,\n",
              " 0.0]"
            ]
          },
          "execution_count": 47,
          "metadata": {},
          "output_type": "execute_result"
        }
      ],
      "source": [
        "one_shot_accuracy"
      ]
    },
    {
      "cell_type": "code",
      "execution_count": 48,
      "metadata": {},
      "outputs": [
        {
          "data": {
            "text/plain": [
              "[54.41265976871576,\n",
              " 57.45587340231284,\n",
              " 58.42970176506391,\n",
              " 58.1253804017042,\n",
              " 59.86001217285453,\n",
              " 60.651247717589776,\n",
              " 63.81618989653074,\n",
              " 66.52465003043214,\n",
              " 63.72489348752283,\n",
              " 61.71637248934875,\n",
              " 64.2726719415703,\n",
              " 64.48569689592209,\n",
              " 62.8119293974437,\n",
              " 63.542300669507,\n",
              " 65.82471089470481,\n",
              " 64.39440048691418,\n",
              " 64.79001825928181,\n",
              " 65.15520389531345,\n",
              " 63.90748630553865,\n",
              " 65.88557516737674,\n",
              " 65.03347534996956,\n",
              " 66.37248934875228,\n",
              " 66.82897139379185,\n",
              " 67.04199634814364,\n",
              " 67.711503347535,\n",
              " 67.55934266585514,\n",
              " 68.07668898356664,\n",
              " 68.41144248326232,\n",
              " 68.9592209373098,\n",
              " 68.56360316494218,\n",
              " 67.28545343883141,\n",
              " 68.77662811929397,\n",
              " 68.77662811929397,\n",
              " 68.10712111990262,\n",
              " 67.83323189287889,\n",
              " 68.98965307364577,\n",
              " 69.23311016433354,\n",
              " 69.35483870967742,\n",
              " 69.20267802799756,\n",
              " 69.65916007303713,\n",
              " 70.84601339013999,\n",
              " 70.60255629945222,\n",
              " 69.32440657334145,\n",
              " 69.20267802799756,\n",
              " 70.35909920876446,\n",
              " 70.9373097991479,\n",
              " 70.69385270846013,\n",
              " 70.26780279975654,\n",
              " 70.08520998174072,\n",
              " 70.7242848447961]"
            ]
          },
          "execution_count": 48,
          "metadata": {},
          "output_type": "execute_result"
        }
      ],
      "source": [
        "seven_classes_accuracy"
      ]
    },
    {
      "cell_type": "code",
      "execution_count": 49,
      "metadata": {},
      "outputs": [
        {
          "name": "stdout",
          "output_type": "stream",
          "text": [
            "2/15\n",
            "Neurons: 100, Before Accuracy: 73.49%, One-shot Accuracy: 13.33%, After Accuracy: 73.46%\n",
            "0/15\n",
            "Neurons: 150, Before Accuracy: 76.17%, One-shot Accuracy: 0.00%, After Accuracy: 76.14%\n",
            "0/15\n",
            "Neurons: 200, Before Accuracy: 74.92%, One-shot Accuracy: 0.00%, After Accuracy: 74.92%\n",
            "0/15\n",
            "Neurons: 250, Before Accuracy: 76.29%, One-shot Accuracy: 0.00%, After Accuracy: 76.20%\n",
            "0/15\n",
            "Neurons: 300, Before Accuracy: 75.75%, One-shot Accuracy: 0.00%, After Accuracy: 75.72%\n",
            "0/15\n",
            "Neurons: 350, Before Accuracy: 76.96%, One-shot Accuracy: 0.00%, After Accuracy: 76.96%\n",
            "0/15\n",
            "Neurons: 400, Before Accuracy: 77.24%, One-shot Accuracy: 0.00%, After Accuracy: 77.18%\n",
            "0/15\n",
            "Neurons: 450, Before Accuracy: 77.21%, One-shot Accuracy: 0.00%, After Accuracy: 77.21%\n",
            "0/15\n",
            "Neurons: 500, Before Accuracy: 77.75%, One-shot Accuracy: 0.00%, After Accuracy: 77.66%\n"
          ]
        }
      ],
      "source": [
        "from akida_models import load_model\n",
        "from akida import AkidaUnsupervised\n",
        "from akida import FullyConnected, SeparableConvolutional\n",
        "from cnn2snn import quantize_layer\n",
        "import os\n",
        "from tensorflow.image import resize_with_crop_or_pad\n",
        "\n",
        "num_neurons = [100, 150, 200, 250, 300, 350, 400, 450, 500]\n",
        "\n",
        "original_accuracy = []\n",
        "one_shot_accuracy = []\n",
        "seven_classes_accuracy = []\n",
        "\n",
        "\n",
        "for neuron in num_neurons:\n",
        "    # Load model \n",
        "    model_path = 'model_akida.fbz'\n",
        "    model_akida = load_model(model_path)\n",
        "\n",
        "    num_classes = 7\n",
        "    num_neurons_per_class = neuron\n",
        "    num_weights = 512 \n",
        "    model_akida.pop_layer()\n",
        "\n",
        "    layer_fc = FullyConnected(name='akida_edge_layer',\n",
        "                            units=num_classes * num_neurons_per_class,\n",
        "                            activation=False)\n",
        "    model_akida.add(layer_fc)\n",
        "\n",
        "    model_akida.compile(optimizer=AkidaUnsupervised(num_weights=num_weights,\n",
        "                                             num_classes=num_classes,\n",
        "                                             learning_competition=0.1))\n",
        "    \n",
        "    batch_size = 32\n",
        "    # Convert x_train_smote to uint8 if needed\n",
        "    x_train_smote = x_train_smote.astype(np.uint8)\n",
        "\n",
        "    # Convert one-hot encoded y_train_smote to class indices (integer labels)\n",
        "    y_train_smote_int = np.argmax(y_train_smote, axis=1).astype(np.int32)\n",
        "\n",
        "\n",
        "    num_batches = int(np.ceil(x_train.shape[0] / batch_size))\n",
        "    for i in range(num_batches):\n",
        "        s = slice(i * batch_size, (i + 1) * batch_size)\n",
        "        model_akida.fit(x_train_smote[s], y_train_smote_int[s])\n",
        "\n",
        "    model_akida.save(f\"models/hundred/model_edge_trained_{neuron}.fbz\")\n",
        "\n",
        "    # Convert x_train_smote to uint8 if needed\n",
        "    x_test = x_test.astype(np.uint8)\n",
        "\n",
        "    # Evaluate the model on the test dataset\n",
        "    predictions = np.zeros(x_test.shape[0])\n",
        "\n",
        "    # Loop through the training data and get predictions\n",
        "    for i in range(x_test.shape[0]):\n",
        "        padded_image = resize_with_crop_or_pad(x_test[i], 64, 64)\n",
        "        predictions[i] = model_akida.predict_classes(np.expand_dims(padded_image,\n",
        "                                                                axis=0),\n",
        "                                                num_classes=7)\n",
        "\n",
        "    # Get true labels in a flat format\n",
        "    true_labels = y_test_labels\n",
        "\n",
        "    # Calculate overall accuracy\n",
        "    before_accuracy = 100 * np.sum(predictions == true_labels) / len(true_labels)\n",
        "\n",
        "    original_accuracy.append(before_accuracy)\n",
        "\n",
        "    class_names = ['akiec', 'bcc', 'bkl', 'df', 'mel', 'nv', 'vasc']\n",
        "\n",
        "    label = 'seborrheic_k'\n",
        "    model_akida.add_classes(1)\n",
        "\n",
        "    for file in os.listdir('seborrheic_k/'):\n",
        "        image = load_and_convert_image(f\"seborrheic_k/{file}\")\n",
        "        image = np.expand_dims(image, axis=0)  \n",
        "        model_akida.fit(image, len(class_names))\n",
        "\n",
        "    class_names.append(label)\n",
        "\n",
        "    correct_predictions = 0\n",
        "    total_images = 0\n",
        "\n",
        "    for file in os.listdir('seborrheic_k/'):\n",
        "        image = load_and_convert_image(f\"seborrheic_k/{file}\")\n",
        "        true_label = 7  # Seborrheic keratosis corresponds to label 7\n",
        "\n",
        "        padded_image = resize_with_crop_or_pad(image, 64, 64)\n",
        "        predicted_label = model_akida.predict_classes(np.expand_dims(padded_image, axis=0), num_classes=7)\n",
        "\n",
        "        if predicted_label[0] == true_label:\n",
        "            correct_predictions += 1\n",
        "\n",
        "        total_images += 1\n",
        "\n",
        "    sebk_accuracy = correct_predictions / total_images if total_images > 0 else 0\n",
        "\n",
        "    print(f\"{correct_predictions}/{total_images}\")\n",
        "    one_shot_accuracy.append(sebk_accuracy * 100)\n",
        "\n",
        "    # Evaluate the model on the test dataset\n",
        "    predictions = np.zeros(x_test.shape[0])\n",
        "    # Loop through the training data and get predictions\n",
        "    for i in range(x_test.shape[0]):\n",
        "        padded_image = resize_with_crop_or_pad(x_test[i], 64, 64)\n",
        "        predictions[i] = model_akida.predict_classes(np.expand_dims(padded_image,\n",
        "                                                                axis=0),\n",
        "                                                num_classes=8)\n",
        "    # Get true labels in a flat format\n",
        "    true_labels = y_test_labels\n",
        "    # Calculate overall accuracy\n",
        "    after_accuracy = 100 * np.sum(predictions == true_labels) / len(true_labels)\n",
        "\n",
        "    seven_classes_accuracy.append(after_accuracy)\n",
        "\n",
        "    print(f\"Neurons: {neuron}, Before Accuracy: {before_accuracy:.2f}%, One-shot Accuracy: {sebk_accuracy * 100:.2f}%, After Accuracy: {after_accuracy:.2f}%\")"
      ]
    },
    {
      "cell_type": "code",
      "execution_count": 50,
      "metadata": {},
      "outputs": [
        {
          "data": {
            "image/png": "[encoded data removed]",
            "text/plain": [
              "<Figure size 640x480 with 1 Axes>"
            ]
          },
          "metadata": {},
          "output_type": "display_data"
        }
      ],
      "source": [
        "import matplotlib.pyplot as plt\n",
        "import numpy as np\n",
        "\n",
        "# Assuming num_neurons is already defined\n",
        "num_neurons = [100, 150, 200, 250, 300, 350, 400, 450, 500]\n",
        "\n",
        "# Plotting the accuracies\n",
        "plt.plot(num_neurons, original_accuracy, label='Test Accuracy before One-Shot Learning')\n",
        "plt.plot(num_neurons, one_shot_accuracy, label='One-shot Accuracy')\n",
        "plt.plot(num_neurons, seven_classes_accuracy, label='Test Accuracy after One-Shot Learning')\n",
        "\n",
        "plt.xlabel('Number of Neurons')\n",
        "plt.ylabel('Accuracy')\n",
        "plt.title('Accuracy vs Number of Neurons')\n",
        "plt.legend()\n",
        "plt.grid(True)\n",
        "\n",
        "# Show plot\n",
        "plt.show()"
      ]
    },
    {
      "cell_type": "code",
      "execution_count": 51,
      "metadata": {},
      "outputs": [
        {
          "name": "stdout",
          "output_type": "stream",
          "text": [
            "0/15\n",
            "Neurons: 550, Before Accuracy: 76.63%, One-shot Accuracy: 0.00%, After Accuracy: 76.54%\n",
            "0/15\n",
            "Neurons: 600, Before Accuracy: 76.26%, One-shot Accuracy: 0.00%, After Accuracy: 76.26%\n",
            "0/15\n",
            "Neurons: 650, Before Accuracy: 76.66%, One-shot Accuracy: 0.00%, After Accuracy: 76.66%\n",
            "0/15\n",
            "Neurons: 700, Before Accuracy: 76.75%, One-shot Accuracy: 0.00%, After Accuracy: 76.75%\n",
            "0/15\n",
            "Neurons: 750, Before Accuracy: 76.99%, One-shot Accuracy: 0.00%, After Accuracy: 76.90%\n",
            "0/15\n",
            "Neurons: 800, Before Accuracy: 76.78%, One-shot Accuracy: 0.00%, After Accuracy: 76.75%\n",
            "0/15\n",
            "Neurons: 850, Before Accuracy: 76.05%, One-shot Accuracy: 0.00%, After Accuracy: 76.02%\n",
            "0/15\n",
            "Neurons: 900, Before Accuracy: 76.90%, One-shot Accuracy: 0.00%, After Accuracy: 76.87%\n",
            "0/15\n",
            "Neurons: 950, Before Accuracy: 77.27%, One-shot Accuracy: 0.00%, After Accuracy: 77.21%\n",
            "0/15\n",
            "Neurons: 1000, Before Accuracy: 77.48%, One-shot Accuracy: 0.00%, After Accuracy: 77.39%\n"
          ]
        }
      ],
      "source": [
        "num_neurons = [550, 600, 650, 700, 750, 800, 850, 900, 950, 1000]\n",
        "\n",
        "\n",
        "for neuron in num_neurons:\n",
        "    # Load model \n",
        "    model_path = 'model_akida.fbz'\n",
        "    model_akida = load_model(model_path)\n",
        "\n",
        "    num_classes = 7\n",
        "    num_neurons_per_class = neuron\n",
        "    num_weights = 512 \n",
        "    model_akida.pop_layer()\n",
        "\n",
        "    layer_fc = FullyConnected(name='akida_edge_layer',\n",
        "                            units=num_classes * num_neurons_per_class,\n",
        "                            activation=False)\n",
        "    model_akida.add(layer_fc)\n",
        "\n",
        "    model_akida.compile(optimizer=AkidaUnsupervised(num_weights=num_weights,\n",
        "                                             num_classes=num_classes,\n",
        "                                             learning_competition=0.1))\n",
        "    \n",
        "    batch_size = 32\n",
        "    # Convert x_train_smote to uint8 if needed\n",
        "    x_train_smote = x_train_smote.astype(np.uint8)\n",
        "\n",
        "    # Convert one-hot encoded y_train_smote to class indices (integer labels)\n",
        "    y_train_smote_int = np.argmax(y_train_smote, axis=1).astype(np.int32)\n",
        "\n",
        "\n",
        "    num_batches = int(np.ceil(x_train.shape[0] / batch_size))\n",
        "    for i in range(num_batches):\n",
        "        s = slice(i * batch_size, (i + 1) * batch_size)\n",
        "        model_akida.fit(x_train_smote[s], y_train_smote_int[s])\n",
        "\n",
        "    model_akida.save(f\"models/hundred/model_edge_trained_{neuron}.fbz\")\n",
        "\n",
        "    # Convert x_train_smote to uint8 if needed\n",
        "    x_test = x_test.astype(np.uint8)\n",
        "\n",
        "    # Evaluate the model on the test dataset\n",
        "    predictions = np.zeros(x_test.shape[0])\n",
        "\n",
        "    # Loop through the training data and get predictions\n",
        "    for i in range(x_test.shape[0]):\n",
        "        padded_image = resize_with_crop_or_pad(x_test[i], 64, 64)\n",
        "        predictions[i] = model_akida.predict_classes(np.expand_dims(padded_image,\n",
        "                                                                axis=0),\n",
        "                                                num_classes=7)\n",
        "\n",
        "    # Get true labels in a flat format\n",
        "    true_labels = y_test_labels\n",
        "\n",
        "    # Calculate overall accuracy\n",
        "    before_accuracy = 100 * np.sum(predictions == true_labels) / len(true_labels)\n",
        "\n",
        "    original_accuracy.append(before_accuracy)\n",
        "\n",
        "    class_names = ['akiec', 'bcc', 'bkl', 'df', 'mel', 'nv', 'vasc']\n",
        "\n",
        "    label = 'seborrheic_k'\n",
        "    model_akida.add_classes(1)\n",
        "\n",
        "    for file in os.listdir('seborrheic_k/'):\n",
        "        image = load_and_convert_image(f\"seborrheic_k/{file}\")\n",
        "        image = np.expand_dims(image, axis=0)  \n",
        "        model_akida.fit(image, len(class_names))\n",
        "\n",
        "    class_names.append(label)\n",
        "\n",
        "    correct_predictions = 0\n",
        "    total_images = 0\n",
        "\n",
        "    for file in os.listdir('seborrheic_k/'):\n",
        "        image = load_and_convert_image(f\"seborrheic_k/{file}\")\n",
        "        true_label = 7  # Seborrheic keratosis corresponds to label 7\n",
        "\n",
        "        padded_image = resize_with_crop_or_pad(image, 64, 64)\n",
        "        predicted_label = model_akida.predict_classes(np.expand_dims(padded_image, axis=0), num_classes=7)\n",
        "\n",
        "        if predicted_label[0] == true_label:\n",
        "            correct_predictions += 1\n",
        "\n",
        "        total_images += 1\n",
        "\n",
        "    sebk_accuracy = correct_predictions / total_images if total_images > 0 else 0\n",
        "\n",
        "    print(f\"{correct_predictions}/{total_images}\")\n",
        "    one_shot_accuracy.append(sebk_accuracy * 100)\n",
        "\n",
        "    # Evaluate the model on the test dataset\n",
        "    predictions = np.zeros(x_test.shape[0])\n",
        "    # Loop through the training data and get predictions\n",
        "    for i in range(x_test.shape[0]):\n",
        "        padded_image = resize_with_crop_or_pad(x_test[i], 64, 64)\n",
        "        predictions[i] = model_akida.predict_classes(np.expand_dims(padded_image,\n",
        "                                                                axis=0),\n",
        "                                                num_classes=8)\n",
        "    # Get true labels in a flat format\n",
        "    true_labels = y_test_labels\n",
        "    # Calculate overall accuracy\n",
        "    after_accuracy = 100 * np.sum(predictions == true_labels) / len(true_labels)\n",
        "\n",
        "    seven_classes_accuracy.append(after_accuracy)\n",
        "\n",
        "    print(f\"Neurons: {neuron}, Before Accuracy: {before_accuracy:.2f}%, One-shot Accuracy: {sebk_accuracy * 100:.2f}%, After Accuracy: {after_accuracy:.2f}%\")"
      ]
    },
    {
      "cell_type": "code",
      "execution_count": 52,
      "metadata": {},
      "outputs": [
        {
          "data": {
            "image/png": "[encoded data removed]",
            "text/plain": [
              "<Figure size 640x480 with 1 Axes>"
            ]
          },
          "metadata": {},
          "output_type": "display_data"
        }
      ],
      "source": [
        "import matplotlib.pyplot as plt\n",
        "import numpy as np\n",
        "\n",
        "# Assuming num_neurons is already defined\n",
        "num_neurons = [100, 150, 200, 250, 300, 350, 400, 450, 500, 550, 600, 650, 700, 750, 800, 850, 900, 950, 1000]\n",
        "\n",
        "# Plotting the accuracies\n",
        "plt.plot(num_neurons, original_accuracy, label='Test Accuracy before One-Shot Learning')\n",
        "plt.plot(num_neurons, one_shot_accuracy, label='One-shot Accuracy')\n",
        "plt.plot(num_neurons, seven_classes_accuracy, label='Test Accuracy after One-Shot Learning')\n",
        "\n",
        "plt.xlabel('Number of Neurons')\n",
        "plt.ylabel('Accuracy')\n",
        "plt.title('Accuracy vs Number of Neurons')\n",
        "plt.legend()\n",
        "plt.grid(True)\n",
        "\n",
        "# Show plot\n",
        "plt.show()"
      ]
    },
    {
      "cell_type": "code",
      "execution_count": 53,
      "metadata": {},
      "outputs": [
        {
          "data": {
            "text/plain": [
              "[73.49360925136945,\n",
              " 76.17163724893487,\n",
              " 74.92391965916008,\n",
              " 76.29336579427876,\n",
              " 75.74558734023128,\n",
              " 76.96287279367012,\n",
              " 77.23676202069386,\n",
              " 77.20632988435788,\n",
              " 77.75410833840536,\n",
              " 76.62811929397444,\n",
              " 76.26293365794278,\n",
              " 76.65855143031041,\n",
              " 76.74984783931832,\n",
              " 76.99330493000609,\n",
              " 76.7802799756543,\n",
              " 76.04990870359099,\n",
              " 76.90200852099818,\n",
              " 77.26719415702982,\n",
              " 77.48021911138161]"
            ]
          },
          "execution_count": 53,
          "metadata": {},
          "output_type": "execute_result"
        }
      ],
      "source": [
        "original_accuracy"
      ]
    },
    {
      "cell_type": "code",
      "execution_count": 54,
      "metadata": {},
      "outputs": [
        {
          "data": {
            "text/plain": [
              "[13.333333333333334,\n",
              " 0.0,\n",
              " 0.0,\n",
              " 0.0,\n",
              " 0.0,\n",
              " 0.0,\n",
              " 0.0,\n",
              " 0.0,\n",
              " 0.0,\n",
              " 0.0,\n",
              " 0.0,\n",
              " 0.0,\n",
              " 0.0,\n",
              " 0.0,\n",
              " 0.0,\n",
              " 0.0,\n",
              " 0.0,\n",
              " 0.0,\n",
              " 0.0]"
            ]
          },
          "execution_count": 54,
          "metadata": {},
          "output_type": "execute_result"
        }
      ],
      "source": [
        "one_shot_accuracy"
      ]
    },
    {
      "cell_type": "code",
      "execution_count": 55,
      "metadata": {},
      "outputs": [
        {
          "data": {
            "text/plain": [
              "[73.46317711503347,\n",
              " 76.14120511259891,\n",
              " 74.92391965916008,\n",
              " 76.20206938527085,\n",
              " 75.7151552038953,\n",
              " 76.96287279367012,\n",
              " 77.17589774802191,\n",
              " 77.20632988435788,\n",
              " 77.66281192939745,\n",
              " 76.53682288496653,\n",
              " 76.26293365794278,\n",
              " 76.65855143031041,\n",
              " 76.74984783931832,\n",
              " 76.90200852099818,\n",
              " 76.74984783931832,\n",
              " 76.01947656725503,\n",
              " 76.8715763846622,\n",
              " 77.20632988435788,\n",
              " 77.3889227023737]"
            ]
          },
          "execution_count": 55,
          "metadata": {},
          "output_type": "execute_result"
        }
      ],
      "source": [
        "seven_classes_accuracy"
      ]
    },
    {
      "cell_type": "code",
      "execution_count": 56,
      "metadata": {},
      "outputs": [
        {
          "name": "stdout",
          "output_type": "stream",
          "text": [
            "0/15\n",
            "Neurons: 1500, Before Accuracy: 76.93%, One-shot Accuracy: 0.00%, After Accuracy: 76.84%\n",
            "0/15\n",
            "Neurons: 2000, Before Accuracy: 76.57%, One-shot Accuracy: 0.00%, After Accuracy: 76.48%\n",
            "0/15\n",
            "Neurons: 2500, Before Accuracy: 76.96%, One-shot Accuracy: 0.00%, After Accuracy: 76.93%\n",
            "0/15\n",
            "Neurons: 3000, Before Accuracy: 77.39%, One-shot Accuracy: 0.00%, After Accuracy: 77.30%\n",
            "0/15\n",
            "Neurons: 3500, Before Accuracy: 76.78%, One-shot Accuracy: 0.00%, After Accuracy: 76.75%\n",
            "0/15\n",
            "Neurons: 4000, Before Accuracy: 77.94%, One-shot Accuracy: 0.00%, After Accuracy: 77.94%\n",
            "0/15\n",
            "Neurons: 4500, Before Accuracy: 77.36%, One-shot Accuracy: 0.00%, After Accuracy: 77.33%\n",
            "0/15\n",
            "Neurons: 5000, Before Accuracy: 78.24%, One-shot Accuracy: 0.00%, After Accuracy: 78.18%\n"
          ]
        }
      ],
      "source": [
        "num_neurons = [1500, 2000, 2500, 3000, 3500, 4000, 4500, 5000]\n",
        "\n",
        "\n",
        "for neuron in num_neurons:\n",
        "    # Load model \n",
        "    model_path = 'model_akida.fbz'\n",
        "    model_akida = load_model(model_path)\n",
        "\n",
        "    num_classes = 7\n",
        "    num_neurons_per_class = neuron\n",
        "    num_weights = 512 \n",
        "    model_akida.pop_layer()\n",
        "\n",
        "    layer_fc = FullyConnected(name='akida_edge_layer',\n",
        "                            units=num_classes * num_neurons_per_class,\n",
        "                            activation=False)\n",
        "    model_akida.add(layer_fc)\n",
        "\n",
        "    model_akida.compile(optimizer=AkidaUnsupervised(num_weights=num_weights,\n",
        "                                             num_classes=num_classes,\n",
        "                                             learning_competition=0.1))\n",
        "    \n",
        "    batch_size = 32\n",
        "    # Convert x_train_smote to uint8 if needed\n",
        "    x_train_smote = x_train_smote.astype(np.uint8)\n",
        "\n",
        "    # Convert one-hot encoded y_train_smote to class indices (integer labels)\n",
        "    y_train_smote_int = np.argmax(y_train_smote, axis=1).astype(np.int32)\n",
        "\n",
        "\n",
        "    num_batches = int(np.ceil(x_train.shape[0] / batch_size))\n",
        "    for i in range(num_batches):\n",
        "        s = slice(i * batch_size, (i + 1) * batch_size)\n",
        "        model_akida.fit(x_train_smote[s], y_train_smote_int[s])\n",
        "\n",
        "    model_akida.save(f\"models/hundred/model_edge_trained_{neuron}.fbz\")\n",
        "\n",
        "    # Convert x_train_smote to uint8 if needed\n",
        "    x_test = x_test.astype(np.uint8)\n",
        "\n",
        "    # Evaluate the model on the test dataset\n",
        "    predictions = np.zeros(x_test.shape[0])\n",
        "\n",
        "    # Loop through the training data and get predictions\n",
        "    for i in range(x_test.shape[0]):\n",
        "        padded_image = resize_with_crop_or_pad(x_test[i], 64, 64)\n",
        "        predictions[i] = model_akida.predict_classes(np.expand_dims(padded_image,\n",
        "                                                                axis=0),\n",
        "                                                num_classes=7)\n",
        "\n",
        "    # Get true labels in a flat format\n",
        "    true_labels = y_test_labels\n",
        "\n",
        "    # Calculate overall accuracy\n",
        "    before_accuracy = 100 * np.sum(predictions == true_labels) / len(true_labels)\n",
        "\n",
        "    original_accuracy.append(before_accuracy)\n",
        "\n",
        "    class_names = ['akiec', 'bcc', 'bkl', 'df', 'mel', 'nv', 'vasc']\n",
        "\n",
        "    label = 'seborrheic_k'\n",
        "    model_akida.add_classes(1)\n",
        "\n",
        "    for file in os.listdir('seborrheic_k/'):\n",
        "        image = load_and_convert_image(f\"seborrheic_k/{file}\")\n",
        "        image = np.expand_dims(image, axis=0)  \n",
        "        model_akida.fit(image, len(class_names))\n",
        "\n",
        "    class_names.append(label)\n",
        "\n",
        "    correct_predictions = 0\n",
        "    total_images = 0\n",
        "\n",
        "    for file in os.listdir('seborrheic_k/'):\n",
        "        image = load_and_convert_image(f\"seborrheic_k/{file}\")\n",
        "        true_label = 7  # Seborrheic keratosis corresponds to label 7\n",
        "\n",
        "        padded_image = resize_with_crop_or_pad(image, 64, 64)\n",
        "        predicted_label = model_akida.predict_classes(np.expand_dims(padded_image, axis=0), num_classes=7)\n",
        "\n",
        "        if predicted_label[0] == true_label:\n",
        "            correct_predictions += 1\n",
        "\n",
        "        total_images += 1\n",
        "\n",
        "    sebk_accuracy = correct_predictions / total_images if total_images > 0 else 0\n",
        "\n",
        "    print(f\"{correct_predictions}/{total_images}\")\n",
        "    one_shot_accuracy.append(sebk_accuracy * 100)\n",
        "\n",
        "    # Evaluate the model on the test dataset\n",
        "    predictions = np.zeros(x_test.shape[0])\n",
        "    # Loop through the training data and get predictions\n",
        "    for i in range(x_test.shape[0]):\n",
        "        padded_image = resize_with_crop_or_pad(x_test[i], 64, 64)\n",
        "        predictions[i] = model_akida.predict_classes(np.expand_dims(padded_image,\n",
        "                                                                axis=0),\n",
        "                                                num_classes=8)\n",
        "    # Get true labels in a flat format\n",
        "    true_labels = y_test_labels\n",
        "    # Calculate overall accuracy\n",
        "    after_accuracy = 100 * np.sum(predictions == true_labels) / len(true_labels)\n",
        "\n",
        "    seven_classes_accuracy.append(after_accuracy)\n",
        "\n",
        "    print(f\"Neurons: {neuron}, Before Accuracy: {before_accuracy:.2f}%, One-shot Accuracy: {sebk_accuracy * 100:.2f}%, After Accuracy: {after_accuracy:.2f}%\")"
      ]
    },
    {
      "cell_type": "code",
      "execution_count": 57,
      "metadata": {},
      "outputs": [
        {
          "data": {
            "image/png": "[encoded data removed]",
            "text/plain": [
              "<Figure size 640x480 with 1 Axes>"
            ]
          },
          "metadata": {},
          "output_type": "display_data"
        }
      ],
      "source": [
        "import matplotlib.pyplot as plt\n",
        "import numpy as np\n",
        "\n",
        "# Assuming num_neurons is already defined\n",
        "num_neurons = [100, 150, 200, 250, 300, 350, 400, 450, 500, 550, 600, 650, 700, 750, 800, 850, 900, 950, 1000, 1500, 2000, 2500, 3000, 3500, 4000, 4500, 5000]\n",
        "\n",
        "# Plotting the accuracies\n",
        "plt.plot(num_neurons, original_accuracy, label='Test Accuracy before One-Shot Learning')\n",
        "plt.plot(num_neurons, one_shot_accuracy, label='One-shot Accuracy')\n",
        "plt.plot(num_neurons, seven_classes_accuracy, label='Test Accuracy after One-Shot Learning')\n",
        "\n",
        "plt.xlabel('Number of Neurons')\n",
        "plt.ylabel('Accuracy')\n",
        "plt.title('Accuracy vs Number of Neurons')\n",
        "plt.legend()\n",
        "plt.grid(True)\n",
        "\n",
        "# Show plot\n",
        "plt.show()"
      ]
    },
    {
      "cell_type": "code",
      "execution_count": 58,
      "metadata": {},
      "outputs": [
        {
          "data": {
            "text/plain": [
              "[73.49360925136945,\n",
              " 76.17163724893487,\n",
              " 74.92391965916008,\n",
              " 76.29336579427876,\n",
              " 75.74558734023128,\n",
              " 76.96287279367012,\n",
              " 77.23676202069386,\n",
              " 77.20632988435788,\n",
              " 77.75410833840536,\n",
              " 76.62811929397444,\n",
              " 76.26293365794278,\n",
              " 76.65855143031041,\n",
              " 76.74984783931832,\n",
              " 76.99330493000609,\n",
              " 76.7802799756543,\n",
              " 76.04990870359099,\n",
              " 76.90200852099818,\n",
              " 77.26719415702982,\n",
              " 77.48021911138161,\n",
              " 76.93244065733414,\n",
              " 76.5672550213025,\n",
              " 76.96287279367012,\n",
              " 77.3889227023737,\n",
              " 76.7802799756543,\n",
              " 77.93670115642118,\n",
              " 77.35849056603773,\n",
              " 78.24102251978088]"
            ]
          },
          "execution_count": 58,
          "metadata": {},
          "output_type": "execute_result"
        }
      ],
      "source": [
        "original_accuracy"
      ]
    },
    {
      "cell_type": "code",
      "execution_count": 59,
      "metadata": {},
      "outputs": [
        {
          "data": {
            "text/plain": [
              "[13.333333333333334,\n",
              " 0.0,\n",
              " 0.0,\n",
              " 0.0,\n",
              " 0.0,\n",
              " 0.0,\n",
              " 0.0,\n",
              " 0.0,\n",
              " 0.0,\n",
              " 0.0,\n",
              " 0.0,\n",
              " 0.0,\n",
              " 0.0,\n",
              " 0.0,\n",
              " 0.0,\n",
              " 0.0,\n",
              " 0.0,\n",
              " 0.0,\n",
              " 0.0,\n",
              " 0.0,\n",
              " 0.0,\n",
              " 0.0,\n",
              " 0.0,\n",
              " 0.0,\n",
              " 0.0,\n",
              " 0.0,\n",
              " 0.0]"
            ]
          },
          "execution_count": 59,
          "metadata": {},
          "output_type": "execute_result"
        }
      ],
      "source": [
        "one_shot_accuracy"
      ]
    },
    {
      "cell_type": "code",
      "execution_count": 60,
      "metadata": {},
      "outputs": [
        {
          "data": {
            "text/plain": [
              "[73.46317711503347,\n",
              " 76.14120511259891,\n",
              " 74.92391965916008,\n",
              " 76.20206938527085,\n",
              " 75.7151552038953,\n",
              " 76.96287279367012,\n",
              " 77.17589774802191,\n",
              " 77.20632988435788,\n",
              " 77.66281192939745,\n",
              " 76.53682288496653,\n",
              " 76.26293365794278,\n",
              " 76.65855143031041,\n",
              " 76.74984783931832,\n",
              " 76.90200852099818,\n",
              " 76.74984783931832,\n",
              " 76.01947656725503,\n",
              " 76.8715763846622,\n",
              " 77.20632988435788,\n",
              " 77.3889227023737,\n",
              " 76.84114424832623,\n",
              " 76.47595861229458,\n",
              " 76.93244065733414,\n",
              " 77.2976262933658,\n",
              " 76.74984783931832,\n",
              " 77.93670115642118,\n",
              " 77.32805842970177,\n",
              " 78.18015824710895]"
            ]
          },
          "execution_count": 60,
          "metadata": {},
          "output_type": "execute_result"
        }
      ],
      "source": [
        "seven_classes_accuracy"
      ]
    },
    {
      "cell_type": "code",
      "execution_count": 61,
      "metadata": {},
      "outputs": [],
      "source": [
        "original_otf = [57.912355447352404,\n",
        "58.58186244674376,\n",
        "60.225197808886186,\n",
        "59.79914790018259,\n",
        "61.29032258064516,\n",
        "61.68594035301278,\n",
        "64.45526475958613,\n",
        "66.98113207547169,\n",
        "64.48569689592209,\n",
        "62.35544735240414,\n",
        "64.85088253195374,\n",
        "64.88131466828972,\n",
        "63.57273280584297,\n",
        "64.09007912355447,\n",
        "66.15946439440049,\n",
        "64.72915398660986,\n",
        "65.03347534996956,\n",
        "65.55082166768108,\n",
        "64.24223980523433,\n",
        "66.2507608034084,\n",
        "65.36822884966524,\n",
        "66.70724284844796,\n",
        "67.10286062081558,\n",
        "67.1941570298235,\n",
        "67.98539257455873,\n",
        "67.86366402921485,\n",
        "68.4418746195983,\n",
        "68.59403530127815,\n",
        "69.17224589166159,\n",
        "68.92878880097383,\n",
        "67.52891052951917,\n",
        "69.08094948265368,\n",
        "69.0505173463177,\n",
        "68.32014607425441,\n",
        "67.9245283018868,\n",
        "69.14181375532563,\n",
        "69.38527084601338,\n",
        "69.56786366402922,\n",
        "69.44613511868533,\n",
        "69.81132075471699,\n",
        "71.02860620815581,\n",
        "70.75471698113208,\n",
        "69.44613511868533,\n",
        "69.41570298234936,\n",
        "70.45039561777237,\n",
        "71.11990261716373,\n",
        "70.87644552647596,\n",
        "70.4199634814364,\n",
        "70.2069385270846,\n",
        "70.81558125380401]\n",
        "\n",
        "\n",
        "seven_classes_otf = [54.41265976871576,\n",
        "57.45587340231284,\n",
        "58.42970176506391,\n",
        "58.1253804017042,\n",
        "59.86001217285453,\n",
        "60.651247717589776,\n",
        "63.81618989653074,\n",
        "66.52465003043214,\n",
        "63.72489348752283,\n",
        "61.71637248934875,\n",
        "64.2726719415703,\n",
        "64.48569689592209,\n",
        "62.8119293974437,\n",
        "63.542300669507,\n",
        "65.82471089470481,\n",
        "64.39440048691418,\n",
        "64.79001825928181,\n",
        "65.15520389531345,\n",
        "63.90748630553865,\n",
        "65.88557516737674,\n",
        "65.03347534996956,\n",
        "66.37248934875228,\n",
        "66.82897139379185,\n",
        "67.04199634814364,\n",
        "67.711503347535,\n",
        "67.55934266585514,\n",
        "68.07668898356664,\n",
        "68.41144248326232,\n",
        "68.9592209373098,\n",
        "68.56360316494218,\n",
        "67.28545343883141,\n",
        "68.77662811929397,\n",
        "68.77662811929397,\n",
        "68.10712111990262,\n",
        "67.83323189287889,\n",
        "68.98965307364577,\n",
        "69.23311016433354,\n",
        "69.35483870967742,\n",
        "69.20267802799756,\n",
        "69.65916007303713,\n",
        "70.84601339013999,\n",
        "70.60255629945222,\n",
        "69.32440657334145,\n",
        "69.20267802799756,\n",
        "70.35909920876446,\n",
        "70.9373097991479,\n",
        "70.69385270846013,\n",
        "70.26780279975654,\n",
        "70.08520998174072,\n",
        "70.7242848447961]"
      ]
    },
    {
      "cell_type": "code",
      "execution_count": 64,
      "metadata": {},
      "outputs": [],
      "source": [
        "merged_original = np.concatenate((original_otf, original_accuracy))\n",
        "merged_seven_class = np.concatenate((seven_classes_otf, seven_classes_accuracy))"
      ]
    },
    {
      "cell_type": "code",
      "execution_count": 67,
      "metadata": {},
      "outputs": [
        {
          "data": {
            "image/png": "[encoded data removed]",
            "text/plain": [
              "<Figure size 640x480 with 1 Axes>"
            ]
          },
          "metadata": {},
          "output_type": "display_data"
        }
      ],
      "source": [
        "import matplotlib.pyplot as plt\n",
        "import numpy as np\n",
        "\n",
        "# Assuming num_neurons is already defined\n",
        "num_neurons1 = np.arange(1, 51)\n",
        "num_neurons = [100, 150, 200, 250, 300, 350, 400, 450, 500, 550, 600, 650, 700, 750, 800, 850, 900, 950, 1000, 1500, 2000, 2500, 3000, 3500, 4000, 4500, 5000]\n",
        "merged_neurons = np.concatenate((num_neurons1, num_neurons))\n",
        "\n",
        "# Plotting the accuracies\n",
        "plt.plot(num_neurons, original_accuracy, label='Test Accuracy before One-Shot Learning')\n",
        "plt.plot(num_neurons, seven_classes_accuracy, label='Test Accuracy after One-Shot Learning')\n",
        "\n",
        "plt.xlabel('Number of Neurons')\n",
        "plt.ylabel('Accuracy')\n",
        "plt.title('Accuracy vs Number of Neurons')\n",
        "plt.legend()\n",
        "plt.grid(True)\n",
        "\n",
        "# Show plot\n",
        "plt.show()"
      ]
    }
  ],
  "metadata": {
    "colab": {
      "provenance": []
    },
    "kaggle": {
      "accelerator": "nvidiaTeslaT4",
      "dataSources": [
        {
          "datasetId": 54339,
          "sourceId": 104884,
          "sourceType": "datasetVersion"
        }
      ],
      "dockerImageVersionId": 30698,
      "isGpuEnabled": true,
      "isInternetEnabled": false,
      "language": "python",
      "sourceType": "notebook"
    },
    "kernelspec": {
      "display_name": "akida",
      "language": "python",
      "name": "python3"
    },
    "language_info": {
      "codemirror_mode": {
        "name": "ipython",
        "version": 3
      },
      "file_extension": ".py",
      "mimetype": "text/x-python",
      "name": "python",
      "nbconvert_exporter": "python",
      "pygments_lexer": "ipython3",
      "version": "3.11.10"
    }
  },
  "nbformat": 4,
  "nbformat_minor": 0
}
